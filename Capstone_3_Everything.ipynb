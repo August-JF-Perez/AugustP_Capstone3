{
 "cells": [
  {
   "cell_type": "markdown",
   "id": "f995b0d9-024a-45f5-9121-1714d95cc066",
   "metadata": {},
   "source": [
    "# August Perez Capstone Three Project:\n",
    "## Characterization of High Accident Situations\n",
    "\n",
    "Using neural networks / deep learning I plan on analyzing a conglomerate dataset to characterize what combined variables of road types, times, and conditions have the highest probability of a car accident occuring.\n",
    "\n",
    "### Goal\n",
    "Build models for characterization of locations with crash probability of >=80% (or top 10 if minimal quantity of >=80% crash probability)\n",
    "and an analysis of times, days of the week, and dates of the year with crash probability >=60% for the locations characterized.\n",
    "\n",
    "    Crash probability Thresholds chosen arbitrarily. For real-world application, each agency utilizing this needs to determine thresholds specific to their needs and capabilities.\n",
    "\n",
    "### Data source:\n",
    "Accidents in France from 2005 to 2016 (https://www.kaggle.com/datasets/ahmedlahlou/accidents-in-france-from-2005-to-2016/data)\n",
    "\n",
    "\n",
    "    \n",
    "#### About the dataset:\n",
    "- A collection of 5 datasets pertaining to car crashes in France from 2005 to 2016\n",
    "    - characteristics\n",
    "        - Details about each crash\n",
    "    - holidays\n",
    "        - Dates from 2005 to 2016 that are holidays\n",
    "    - places\n",
    "        - Details about accident locations\n",
    "    - users\n",
    "        - Details about persons involved in the accident\n",
    "    - vehicles\n",
    "        - Details about vehicles involved in the accident"
   ]
  },
  {
   "cell_type": "markdown",
   "id": "4c62479a-91eb-4c92-98c0-62701337c4ed",
   "metadata": {},
   "source": [
    "## Note on raw format cells:\n",
    "Converted to raw format so the code within the cell won't execute. Kept the cell because it may have use for looking back on it in the future even if it did not have use within this project."
   ]
  },
  {
   "cell_type": "markdown",
   "id": "f073a58a-6bc4-429b-a0d2-ee34f4a66742",
   "metadata": {
    "tags": []
   },
   "source": [
    "## Imports:"
   ]
  },
  {
   "cell_type": "code",
   "execution_count": 1,
   "id": "5f2d7a38-b6ec-4d01-96c2-ed0975edf772",
   "metadata": {
    "tags": []
   },
   "outputs": [],
   "source": [
    "# data manipulation and math\n",
    "\n",
    "import numpy as np\n",
    "import scipy as sp\n",
    "import scipy.stats as stats\n",
    "import pandas as pd\n",
    "pd.set_option('display.max_columns', None)\n",
    "pd.set_option('display.max_colwidth', None)\n",
    "import datetime as dt\n",
    "\n",
    "# plotting and visualization\n",
    "\n",
    "import matplotlib.pyplot as plt\n",
    "import seaborn as sns\n",
    "\n",
    "# modeling & pre-processing\n",
    "import itertools\n",
    "from sklearn.model_selection import train_test_split\n",
    "from sklearn.linear_model import LogisticRegression\n",
    "from sklearn.ensemble import RandomForestClassifier\n",
    "from sklearn.metrics import classification_report, confusion_matrix, accuracy_score\n",
    "from keras.models import Sequential\n",
    "from keras.layers import Dense\n",
    "\n",
    "#warnings\n",
    "import warnings\n",
    "warnings.simplefilter(action='ignore', category=FutureWarning)\n",
    "    #reminder code so I can ignore warnings for single code cells:\n",
    "        # warnings.filterwarnings('ignore')\n",
    "        # warnings.resetwarnings()\n",
    "\n",
    "%matplotlib inline\n"
   ]
  },
  {
   "cell_type": "markdown",
   "id": "25b2b6ae-3488-4785-82a5-f0f5a42664c4",
   "metadata": {},
   "source": [
    "### Set random seed for reproducability\n",
    "Note that this should not be done for models used in real-world applications"
   ]
  },
  {
   "cell_type": "code",
   "execution_count": 2,
   "id": "601adc55-2a7d-4c94-9568-2107398cc077",
   "metadata": {
    "tags": []
   },
   "outputs": [],
   "source": [
    "np.random.seed(9)"
   ]
  },
  {
   "cell_type": "markdown",
   "id": "8e839a9f-fce4-4fc4-b2c4-4578100f5df2",
   "metadata": {
    "tags": []
   },
   "source": [
    "## Load the data into a pandas df's"
   ]
  },
  {
   "cell_type": "markdown",
   "id": "40f8baa8-b9a7-4206-97f9-f30bc18368ff",
   "metadata": {
    "tags": []
   },
   "source": [
    "### Column Descriptions\n",
    "Large section. Suggested to keep collapsed."
   ]
  },
  {
   "cell_type": "markdown",
   "id": "2775e2df-61ac-4e9f-a1bc-d10572675f4c",
   "metadata": {
    "tags": []
   },
   "source": [
    "CARACTERISTICS :\n",
    "\n",
    "**Num_Acc** : Accident ID\n",
    "\n",
    "jour : Day of the accident\n",
    "\n",
    "mois : Month of the accident\n",
    "\n",
    "an : Year of the accident\n",
    "\n",
    "hrmn : Time of the accident in hour and minutes (hhmm)\n",
    "\n",
    "**lum** : Lighting : lighting conditions in which the accident occurred\n",
    "\n",
    "    1 - Full day\n",
    "\n",
    "    2 - Twilight or dawn\n",
    "\n",
    "    3 - Night without public lighting\n",
    "\n",
    "    4 - Night with public lighting not lit\n",
    "\n",
    "    5 - Night with public lighting on\n",
    "\n",
    "dep : Departmeent : INSEE Code (National Institute of Statistics and Economic Studies) of the departmeent followed\n",
    "by a 0 (201 Corse-du-Sud - 202 Haute-Corse)\n",
    "\n",
    "com : Municipality: The commune number is a code given by INSEE. The code has 3 numbers set to the right.\n",
    "\n",
    "**Localisation (agg)** :\n",
    "\n",
    "    1 - Out of agglomeration\n",
    "\n",
    "    2 - In built-up areas\n",
    "\n",
    "**int** : Type of Intersection :\n",
    "\n",
    "    1 - Out of intersection\n",
    "\n",
    "    2 - Intersection in X\n",
    "\n",
    "    3 - Intersection in T\n",
    "\n",
    "    4 - Intersection in Y\n",
    "\n",
    "    5 - Intersection with more than 4 branches\n",
    "\n",
    "    6 - Giratory\n",
    "\n",
    "    7 - Place\n",
    "\n",
    "    8 - Level crossing\n",
    "\n",
    "    9 - Other intersection\n",
    "\n",
    "**atm** : Atmospheric conditions:\n",
    "\n",
    "    1 - Normal\n",
    "\n",
    "    2 - Light rain\n",
    "\n",
    "    3 - Heavy rain\n",
    "\n",
    "    4 - Snow - hail\n",
    "\n",
    "    5 - Fog - smoke\n",
    "\n",
    "    6 - Strong wind - storm\n",
    "\n",
    "    7 - Dazzling weather\n",
    "\n",
    "    8 - Cloudy weather\n",
    "\n",
    "    9 - Other\n",
    "\n",
    "**col** : Type of collision:\n",
    "\n",
    "    1 - Two vehicles - frontal\n",
    "\n",
    "    2 - Two vehicles - from the rear\n",
    "\n",
    "    3 - Two vehicles - by the side\n",
    "\n",
    "    4 - Three vehicles and more - in chain\n",
    "\n",
    "    5 - Three or more vehicles - multiple collisions\n",
    "\n",
    "    6 - Other collision\n",
    "\n",
    "    7 - Without collision\n",
    "\n",
    "adr : Postal address: variable filled in for accidents occurring in built-up areas\n",
    "\n",
    "gps : GPS coding: 1 originator character:\n",
    "\n",
    "    M = Métropole\n",
    "\n",
    "    A = Antilles (Martinique or Guadeloupe)\n",
    "\n",
    "    G = Guyane\n",
    "\n",
    "    R = Réunion\n",
    "\n",
    "    Y = Mayotte\n",
    "\n",
    "Geographic coordinates in decimal degrees:\n",
    "\n",
    "    lat : Latitude\n",
    "\n",
    "    long : Longitude\n",
    "\n",
    "Places:\n",
    "\n",
    "Num_Acc : Accident ID\n",
    "\n",
    "**catr** : Category of road:\n",
    "\n",
    "    1 - Highway\n",
    "\n",
    "    2 - National Road\n",
    "\n",
    "    3 - Departmental Road\n",
    "\n",
    "    4 - Communal Way\n",
    "\n",
    "    5 - Off public network\n",
    "\n",
    "    6 - Parking lot open to public traffic\n",
    "\n",
    "    9 - other\n",
    "\n",
    "voie : Road Number\n",
    "\n",
    "V1: Numeric index of the route number (example: 2 bis, 3 ter etc.)\n",
    "\n",
    "V2: Letter alphanumeric index of the road\n",
    "\n",
    "**circ**: Traffic regime:\n",
    "\n",
    "    1 - One way\n",
    "\n",
    "    2 - Bidirectional\n",
    "\n",
    "    3 - Separated carriageways\n",
    "\n",
    "    4 - With variable assignment channels\n",
    "\n",
    "**nbv**: Total number of traffic lanes\n",
    "\n",
    "**vosp**: Indicates the existence of a reserved lane, regardless of whether or not the accident occurs on that lane.\n",
    "\n",
    "    1 - Bike path\n",
    "\n",
    "    2 - Cycle Bank\n",
    "\n",
    "    3 - Reserved channel\n",
    "\n",
    "**Prof**: Longitudinal profile describes the gradient of the road at the accident site\n",
    "\n",
    "    1 - Dish\n",
    "\n",
    "    2 - Slope\n",
    "\n",
    "    3 - Hilltop\n",
    "\n",
    "    4- Hill bottom\n",
    "\n",
    "pr: Home PR number (upstream terminal number)\n",
    "\n",
    "pr1: Distance in meters to the PR (relative to the upstream terminal)\n",
    "\n",
    "**plan**: Drawing in plan:\n",
    "\n",
    "    1 - Straight part\n",
    "\n",
    "    2 - Curved on the left\n",
    "\n",
    "    3 - Curved right\n",
    "\n",
    "    4 - In \"S\"\n",
    "\n",
    "**lartpc**: Central solid land width (TPC) if there is\n",
    "\n",
    "**larrout**: Width of the roadway assigned to vehicle traffic are not included the emergency stop strips,\n",
    "CPRs and parking spaces\n",
    "\n",
    "**surf**: surface condition\n",
    "\n",
    "    1 - normal\n",
    "\n",
    "    2 - wet\n",
    "\n",
    "    3 - puddles\n",
    "\n",
    "    4 - flooded\n",
    "\n",
    "    5 - snow\n",
    "\n",
    "    6 - mud\n",
    "\n",
    "    7 - icy\n",
    "\n",
    "    8 - fat - oil\n",
    "\n",
    "    9 - other\n",
    "\n",
    "**infra**: Development - Infrastructure:\n",
    "\n",
    "    1 - Underground - tunnel\n",
    "\n",
    "    2 - Bridge - autopont\n",
    "\n",
    "    3 - Exchanger or connection brace\n",
    "\n",
    "    4 - Railway\n",
    "\n",
    "    5 - Carrefour arranged\n",
    "\n",
    "    6 - Pedestrian area\n",
    "\n",
    "    7 - Toll zone\n",
    "\n",
    "**situ**: Situation of the accident:\n",
    "\n",
    "    1 - On the road\n",
    "\n",
    "    2 - On emergency stop band\n",
    "\n",
    "    3 - On the verge\n",
    "\n",
    "    4 - On the sidewalk\n",
    "\n",
    "    5 - On bike path\n",
    "\n",
    "env1: school point: near a school\n",
    "\n",
    "USERS:\n",
    "\n",
    "Acc_number: Accident identifier.\n",
    "\n",
    "Num_Veh: Identification of the vehicle taken back for each user occupying this vehicle (including pedestrians who are\n",
    "attached to the vehicles that hit them)\n",
    "\n",
    "place: Allows to locate the place occupied in the vehicle by the user at the time of the accident\n",
    "\n",
    "catu: User category:\n",
    "\n",
    "    1 - Driver\n",
    "\n",
    "    2 - Passenger\n",
    "\n",
    "    3 - Pedestrian\n",
    "\n",
    "    4 - Pedestrian in rollerblade or scooter\n",
    "\n",
    "grav: Severity of the accident: The injured users are classified into three categories of victims plus the uninjured\n",
    "\n",
    "    1 - Unscathed\n",
    "\n",
    "    2 - Killed\n",
    "\n",
    "    3 - Hospitalized wounded\n",
    "\n",
    "    4 - Light injury\n",
    "\n",
    "sex: Sex of the user\n",
    "\n",
    "    1 - Male\n",
    "\n",
    "    2 - Female\n",
    "\n",
    "Year_on: Year of birth of the user\n",
    "\n",
    "trip: Reason for traveling at the time of the accident:\n",
    "\n",
    "    1 - Home - work\n",
    "\n",
    "    2 - Home - school\n",
    "\n",
    "    3 - Shopping - Shopping\n",
    "\n",
    "    4 - Professional use\n",
    "\n",
    "    5 - Promenade - leisure\n",
    "\n",
    "    9 - Other\n",
    "\n",
    "secu: on 2 characters:\n",
    "the first concerns the existence of a safety equipment\n",
    "\n",
    "    1 - Belt\n",
    "\n",
    "    2 - Helmet\n",
    "\n",
    "    3 - Children's device\n",
    "\n",
    "    4 - Reflective equipment\n",
    "\n",
    "    9 - Other\n",
    "\n",
    "the second is the use of Safety Equipment\n",
    "\n",
    "    1 - Yes\n",
    "\n",
    "    2 - No\n",
    "\n",
    "    3 - Not determinable\n",
    "\n",
    "locp: Location of the pedestrian:\n",
    "\n",
    "On pavement:\n",
    "\n",
    "    1 - A + 50 m from the pedestrian crossing\n",
    "\n",
    "    2 - A - 50 m from the pedestrian crossing\n",
    "\n",
    "On pedestrian crossing:\n",
    "\n",
    "    3 - Without light signaling\n",
    "\n",
    "    4 - With light signaling\n",
    "\n",
    "Various:\n",
    "\n",
    "    5 - On the sidewalk\n",
    "\n",
    "    6 - On the verge\n",
    "\n",
    "    7 - On refuge or BAU\n",
    "\n",
    "    8 - On against aisle\n",
    "\n",
    "actp: Action of the pedestrian:\n",
    "\n",
    "Moving\n",
    "\n",
    "    0 - not specified or not applicable\n",
    "\n",
    "    1 - Meaning bumping vehicle\n",
    "\n",
    "    2 - Opposite direction of the vehicle\n",
    "    Various\n",
    "\n",
    "    3 - Crossing\n",
    "\n",
    "    4 - Masked\n",
    "\n",
    "    5 - Playing - running\n",
    "\n",
    "    6 - With animal\n",
    "\n",
    "    9 - Other\n",
    "\n",
    "etatp: This variable is used to specify whether the injured pedestrian was alone or not\n",
    "\n",
    "    1 - Only\n",
    "\n",
    "    2 - Accompanied\n",
    "\n",
    "    3 - In a group\n",
    "\n",
    "VEHICLES:\n",
    "\n",
    "Num_Acc\n",
    "Accident ID\n",
    "\n",
    "Num_Veh\n",
    "Identification of the vehicle taken back for each user occupying this vehicle (including pedestrians who are\n",
    "attached to vehicles that hit them) - alphanumeric code\n",
    "\n",
    "GP\n",
    "Flow direction :\n",
    "\n",
    "    1 - PK or PR or increasing postal address number\n",
    "\n",
    "    2 - PK or PR or descending postal address number\n",
    "\n",
    "CATV\n",
    "Category of vehicle:\n",
    "\n",
    "    01 - Bicycle\n",
    "\n",
    "    02 - Moped <50cm3\n",
    "\n",
    "    03 - Cart (Quadricycle with bodied motor) (formerly \"cart or motor tricycle\")\n",
    "\n",
    "    04 - Not used since 2006 (registered scooter)\n",
    "\n",
    "    05 - Not used since 2006 (motorcycle)\n",
    "\n",
    "    06 - Not used since 2006 (side-car)\n",
    "\n",
    "    07 - VL only\n",
    "\n",
    "    08 - Not used category (VL + caravan)\n",
    "\n",
    "    09 - Not used category (VL + trailer)\n",
    "\n",
    "    10 - VU only 1,5T <= GVW <= 3,5T with or without trailer (formerly VU only 1,5T <= GVW <= 3,5T)\n",
    "\n",
    "    11 - Most used since 2006 (VU (10) + caravan)\n",
    "\n",
    "    12 - Most used since 2006 (VU (10) + trailer)\n",
    "\n",
    "    13 - PL only 3,5T\n"
   ]
  },
  {
   "cell_type": "markdown",
   "id": "716d5daf-9d02-4dc1-a20b-81409ac45541",
   "metadata": {},
   "source": [
    "### Characteristics Data"
   ]
  },
  {
   "cell_type": "code",
   "execution_count": 3,
   "id": "6c9d13ff-8c94-4f63-9a73-9ed27a03a03a",
   "metadata": {
    "tags": []
   },
   "outputs": [
    {
     "name": "stdout",
     "output_type": "stream",
     "text": [
      "<_io.TextIOWrapper name='Datasets_cap3\\\\characteristics.csv' mode='r' encoding='cp1252'>\n"
     ]
    }
   ],
   "source": [
    "#AP: To get encoding of the csv since it's not the default (because French source of data)\n",
    "with open(r'Datasets_cap3\\characteristics.csv') as f:\n",
    "    print(f)"
   ]
  },
  {
   "cell_type": "code",
   "execution_count": 4,
   "id": "b570e9e6-55db-4f2f-8b60-900caf6a5f77",
   "metadata": {
    "tags": []
   },
   "outputs": [],
   "source": [
    "df_char = pd.read_csv(r'Datasets_cap3\\characteristics.csv', skip_blank_lines=True, encoding='cp1252', encoding_errors='ignore', low_memory=False)"
   ]
  },
  {
   "cell_type": "code",
   "execution_count": 5,
   "id": "ce467481-985e-4ffe-b026-4a7f1666ef84",
   "metadata": {},
   "outputs": [
    {
     "name": "stdout",
     "output_type": "stream",
     "text": [
      "839985\n"
     ]
    }
   ],
   "source": [
    "#AP: Should have 839,985 rows, based on looking at csv\n",
    "print(len(df_char))"
   ]
  },
  {
   "cell_type": "markdown",
   "id": "c1d6783a-b883-4f5e-99ec-5426764f98cf",
   "metadata": {
    "tags": []
   },
   "source": [
    "### holidays Data"
   ]
  },
  {
   "cell_type": "code",
   "execution_count": 6,
   "id": "dd585fb3-6004-4b54-a659-f3c5d65eb66f",
   "metadata": {},
   "outputs": [
    {
     "name": "stdout",
     "output_type": "stream",
     "text": [
      "<_io.TextIOWrapper name='Datasets_cap3\\\\holidays.csv' mode='r' encoding='cp1252'>\n"
     ]
    }
   ],
   "source": [
    "#AP: To get encoding of the csv since it's not the default (because French source of data)\n",
    "with open(r'Datasets_cap3\\holidays.csv') as f:\n",
    "    print(f)"
   ]
  },
  {
   "cell_type": "code",
   "execution_count": 7,
   "id": "7cf05bd4-7e48-4576-909c-5d5c5f75d5a3",
   "metadata": {
    "tags": []
   },
   "outputs": [],
   "source": [
    "df_holiday = pd.read_csv(r'Datasets_cap3\\holidays.csv', skip_blank_lines=True, encoding='cp1252', encoding_errors='ignore', low_memory=False)"
   ]
  },
  {
   "cell_type": "code",
   "execution_count": 8,
   "id": "6b6c68aa-d414-464b-85f9-3ce805e6d43b",
   "metadata": {
    "tags": []
   },
   "outputs": [
    {
     "name": "stdout",
     "output_type": "stream",
     "text": [
      "132\n"
     ]
    }
   ],
   "source": [
    "#AP: Should have 132 rows, based on looking at csv\n",
    "print(len(df_holiday))"
   ]
  },
  {
   "cell_type": "markdown",
   "id": "582e31b9-9bbb-42c3-b14f-2cbef79ff0de",
   "metadata": {},
   "source": [
    "### places Data"
   ]
  },
  {
   "cell_type": "code",
   "execution_count": 9,
   "id": "deb104b8-fba4-4839-a6e8-d7fff9a180ed",
   "metadata": {},
   "outputs": [
    {
     "name": "stdout",
     "output_type": "stream",
     "text": [
      "<_io.TextIOWrapper name='Datasets_cap3\\\\places.csv' mode='r' encoding='cp1252'>\n"
     ]
    }
   ],
   "source": [
    "#AP: To get encoding of the csv since it's not the default (because French source of data)\n",
    "with open(r'Datasets_cap3\\places.csv') as f:\n",
    "    print(f)"
   ]
  },
  {
   "cell_type": "code",
   "execution_count": 10,
   "id": "aea9f957-fbc8-47d3-94b1-421ce5a7ae94",
   "metadata": {
    "tags": []
   },
   "outputs": [],
   "source": [
    "df_places = pd.read_csv(r'Datasets_cap3\\places.csv', skip_blank_lines=True, encoding='cp1252', encoding_errors='ignore', low_memory=False)"
   ]
  },
  {
   "cell_type": "code",
   "execution_count": 11,
   "id": "18015ba8-8a5e-4994-b8e9-a8d6845c2813",
   "metadata": {
    "tags": []
   },
   "outputs": [
    {
     "name": "stdout",
     "output_type": "stream",
     "text": [
      "839985\n"
     ]
    }
   ],
   "source": [
    "#AP: Should have 839,985 rows, based on looking at csv\n",
    "print(len(df_places))"
   ]
  },
  {
   "cell_type": "markdown",
   "id": "4c526bc3-9e03-4ce1-977c-1ed616b694ba",
   "metadata": {},
   "source": [
    "### users Data\n",
    "\n",
    "Had to rename file to 'crash_users.csv' from 'users.csv'because of unicode escape character error"
   ]
  },
  {
   "cell_type": "code",
   "execution_count": null,
   "id": "75e57163-7f8c-4677-9e66-7c762fbdcfa5",
   "metadata": {},
   "outputs": [
    {
     "name": "stdout",
     "output_type": "stream",
     "text": [
      "<_io.TextIOWrapper name='Datasets_cap3\\\\crash_users.csv' mode='r' encoding='cp1252'>\n"
     ]
    }
   ],
   "source": [
    "#AP: To get encoding of the csv since it's not the default (because French source of data)\n",
    "with open(r'Datasets_cap3\\crash_users.csv') as f:\n",
    "    print(f)"
   ]
  },
  {
   "cell_type": "code",
   "execution_count": null,
   "id": "175ef1fd-8575-4ce7-ae4a-476d502a875b",
   "metadata": {
    "tags": []
   },
   "outputs": [],
   "source": [
    "df_users = pd.read_csv(r'Datasets_cap3\\crash_users.csv', skip_blank_lines=True, encoding='cp1252', encoding_errors='ignore', low_memory=False)"
   ]
  },
  {
   "cell_type": "code",
   "execution_count": null,
   "id": "3b0756d8-b491-436d-b375-71291c7198c0",
   "metadata": {
    "tags": []
   },
   "outputs": [],
   "source": [
    "#AP: Should have about 1.88 million rows, based on kaggle stats\n",
    "print(len(df_users))"
   ]
  },
  {
   "cell_type": "markdown",
   "id": "fed524b9-0690-4c39-8acb-d2df27416cd1",
   "metadata": {},
   "source": [
    "### vehicles Data\n",
    "\n",
    "Had to rename file to 'crash_vehicles.csv' from 'ehicles.csv'because of unicode character error"
   ]
  },
  {
   "cell_type": "markdown",
   "id": "f16d826f-055a-426a-8c42-7405109d15f6",
   "metadata": {},
   "source": [
    "AP: **Not using this dataset**. Research into each of the features suggests to me that they would not be beneficial in characterizing crash locations for purposes of predicting where they might occur.\n",
    "\n",
    "If investigation into this data is needed, convert the cells back to code cells (currently as Raw so the code doesn't execute)"
   ]
  },
  {
   "cell_type": "raw",
   "id": "2381c3e0-35fd-4158-a982-cd35c9602f92",
   "metadata": {},
   "source": [
    "# AP: To get encoding of the csv since it's not the default (because French source of data)\n",
    "with open(r'Datasets_cap3\\crash_vehicles.csv') as f:\n",
    "    print(f)"
   ]
  },
  {
   "cell_type": "raw",
   "id": "3baa6a63-dd3d-4864-aa0b-2f2cef2ed721",
   "metadata": {
    "tags": []
   },
   "source": [
    "df_vehicles = pd.read_csv(r'Datasets_cap3\\crash_vehicles.csv', skip_blank_lines=True, encoding='cp1252', encoding_errors='ignore', low_memory=False)"
   ]
  },
  {
   "cell_type": "raw",
   "id": "51a51f4d-8f78-410e-b03c-a4bf709b9774",
   "metadata": {
    "tags": []
   },
   "source": [
    "#AP: Should have about 1.43 million rows, based on kaggle stats\n",
    "print(len(df_vehicles))"
   ]
  },
  {
   "cell_type": "markdown",
   "id": "10b85ee7-1ded-4759-8b23-3d093dfdd4bb",
   "metadata": {},
   "source": [
    "# Data Wrangling"
   ]
  },
  {
   "cell_type": "markdown",
   "id": "0e1e8810-2679-46ff-9f20-153e91e46120",
   "metadata": {},
   "source": [
    "**Data Wrangling Steps:** (Unordered list)\n",
    "\n",
    "- Naming conventions (cols & values)\n",
    "- Outliers\n",
    "- nulls\n",
    "    - Check for null replacements (i.e. \"99\", \"0\", etc.)\n",
    "- duplicates\n",
    "- Value consistency\n",
    "- "
   ]
  },
  {
   "cell_type": "markdown",
   "id": "17c68351-c73b-4d25-bb4b-e2719c6d40cb",
   "metadata": {},
   "source": [
    "DF var names:\n",
    "- df_char\n",
    "    - (characteristics)\n",
    "- df_holiday\n",
    "    - (holidays)\n",
    "- df_places\n",
    "    - (places)\n",
    "- df_users\n",
    "    - (users)\n",
    "- df_vehicles\n",
    "    - (vehicles)"
   ]
  },
  {
   "cell_type": "markdown",
   "id": "84e45748-1d91-4f8b-8bac-b1dee68d495a",
   "metadata": {
    "tags": []
   },
   "source": [
    "## Initial Exploration"
   ]
  },
  {
   "cell_type": "code",
   "execution_count": null,
   "id": "47f2bb52-b00a-4bef-b89b-5d609efd9a2a",
   "metadata": {},
   "outputs": [],
   "source": [
    "df_char.head()"
   ]
  },
  {
   "cell_type": "code",
   "execution_count": null,
   "id": "04b4f188-1cd1-48cf-8087-7d194dcd30ab",
   "metadata": {
    "tags": []
   },
   "outputs": [],
   "source": [
    "df_char.info()"
   ]
  },
  {
   "cell_type": "code",
   "execution_count": null,
   "id": "1971e335-8e61-43c1-85f2-be9852d2d8da",
   "metadata": {},
   "outputs": [],
   "source": [
    "df_holiday.head()"
   ]
  },
  {
   "cell_type": "code",
   "execution_count": null,
   "id": "4d447491-7b29-4d38-b8a5-cec3c598b09c",
   "metadata": {},
   "outputs": [],
   "source": [
    "df_holiday.info()"
   ]
  },
  {
   "cell_type": "code",
   "execution_count": null,
   "id": "882af140-b219-4174-9a38-bf835ebacf91",
   "metadata": {},
   "outputs": [],
   "source": [
    "df_places.head()"
   ]
  },
  {
   "cell_type": "code",
   "execution_count": null,
   "id": "97e28605-d5b0-4a29-be32-0bb138b2f873",
   "metadata": {
    "tags": []
   },
   "outputs": [],
   "source": [
    "df_places.info()"
   ]
  },
  {
   "cell_type": "code",
   "execution_count": null,
   "id": "7327a12a-db75-4f0c-8334-2b1559492d61",
   "metadata": {
    "tags": []
   },
   "outputs": [],
   "source": [
    "df_users.head()"
   ]
  },
  {
   "cell_type": "code",
   "execution_count": null,
   "id": "0bf20ef1-265e-42b0-9451-e6ea853fd440",
   "metadata": {
    "tags": []
   },
   "outputs": [],
   "source": [
    "df_users.info()"
   ]
  },
  {
   "cell_type": "raw",
   "id": "17aed0c1-bf9c-402f-9939-cd19fc480f2e",
   "metadata": {
    "tags": []
   },
   "source": [
    "df_vehicles.head()"
   ]
  },
  {
   "cell_type": "raw",
   "id": "2f3e32be-780c-43f0-9c40-2ccaf5595fac",
   "metadata": {
    "tags": []
   },
   "source": [
    "df_vehicles.info()"
   ]
  },
  {
   "cell_type": "markdown",
   "id": "18ec6697-34c1-4284-82ed-a55942b0dafb",
   "metadata": {
    "tags": []
   },
   "source": [
    "## Naming conventions\n",
    "cols & values\n",
    "\n",
    "For clarity & some translation from French\n",
    "\n",
    "Making new col names with orginal appended at end (for my own ease when referring to dataset documentation)"
   ]
  },
  {
   "cell_type": "markdown",
   "id": "72a0e9f2-588a-4bcc-8222-870fe31a2d8e",
   "metadata": {},
   "source": [
    "### df_char"
   ]
  },
  {
   "cell_type": "code",
   "execution_count": null,
   "id": "88b45be2-78d7-4d3a-8a9f-ec7ca878b081",
   "metadata": {
    "tags": []
   },
   "outputs": [],
   "source": [
    "df_char.head(2)"
   ]
  },
  {
   "cell_type": "code",
   "execution_count": null,
   "id": "a164ae64-f03e-4474-aeb4-8c47b10dde49",
   "metadata": {
    "tags": []
   },
   "outputs": [],
   "source": [
    "df_char.rename({'Num_Acc' : 'acc_id',\n",
    "                'an' : 'year_an',\n",
    "                'mois' : 'month_mois',\n",
    "                'jour' : 'day_jour',\n",
    "                'hrmn' : 'hrmn',\n",
    "                'lum' : 'luminosity_lum',\n",
    "                'agg' : 'built_up_agg',\n",
    "                'int' : 'intersection_type_int',\n",
    "                'atm' : 'weather_atm',\n",
    "                'col' : 'collision_type_col',\n",
    "                'adr' : 'address_drop',\n",
    "                'gps' : 'gps_drop',\n",
    "                'lat' : 'latitude_drop',\n",
    "                'long' : 'longitude_drop',\n",
    "                'dep' : 'dep_drop',\n",
    "                'com' : 'commune_num_drop'},\n",
    "               axis=1, inplace=True)\n",
    "df_char.head(2)"
   ]
  },
  {
   "cell_type": "markdown",
   "id": "19c09637-9c86-4646-8294-c706d7667338",
   "metadata": {},
   "source": [
    "### df_holiday"
   ]
  },
  {
   "cell_type": "code",
   "execution_count": null,
   "id": "3145d058-cb6a-430a-acbe-91f5d00ddfd2",
   "metadata": {
    "tags": []
   },
   "outputs": [],
   "source": [
    "df_holiday.head(2)"
   ]
  },
  {
   "cell_type": "code",
   "execution_count": null,
   "id": "ee9a2295-ed1b-4ce9-8855-74c39485f714",
   "metadata": {
    "tags": []
   },
   "outputs": [],
   "source": [
    "list(df_holiday.holiday.unique())"
   ]
  },
  {
   "cell_type": "markdown",
   "id": "c3946c1f-a8b5-4795-9a74-290ca68ab16c",
   "metadata": {},
   "source": [
    "#AP: Note that these are French holidays, keeping since this dataset is about French crashes"
   ]
  },
  {
   "cell_type": "code",
   "execution_count": null,
   "id": "5b7cbc4c-07e3-4467-94c8-7fd4003f67cd",
   "metadata": {
    "tags": []
   },
   "outputs": [],
   "source": [
    "df_holiday.rename({'ds' : 'date'}, axis=1, inplace=True)\n",
    "print(list(df_holiday.columns))"
   ]
  },
  {
   "cell_type": "markdown",
   "id": "5e1b3a0d-2e7e-4bc1-bbab-c981d48d47e9",
   "metadata": {},
   "source": [
    "### df_places"
   ]
  },
  {
   "cell_type": "code",
   "execution_count": null,
   "id": "69d9d28e-1453-419d-bc5d-4669947fb45b",
   "metadata": {
    "tags": []
   },
   "outputs": [],
   "source": [
    "df_places.sample(2)"
   ]
  },
  {
   "cell_type": "code",
   "execution_count": null,
   "id": "2dbea439-d3ea-475c-93a8-8745028e0616",
   "metadata": {},
   "outputs": [],
   "source": [
    "df_places.env1.value_counts()"
   ]
  },
  {
   "cell_type": "code",
   "execution_count": null,
   "id": "f27f6917-cc4a-45f4-aa7a-865df9768bd0",
   "metadata": {
    "tags": []
   },
   "outputs": [],
   "source": [
    "df_places.rename({'Num_Acc' : 'acc_id',\n",
    "                  'catr' : 'road_category_catr',\n",
    "                  'voie' : 'road_num_drop',\n",
    "                  'v1' : 'v1_drop',\n",
    "                  'v2' : 'v2_drop',\n",
    "                  'circ' : 'road_type_circ',\n",
    "                  'nbv' : 'lane_count_nbv',\n",
    "                  'vosp' : 'reserved_lane_type_vosp',\n",
    "                  'prof' : 'road_slope_prof',\n",
    "                  'pr' : 'pr_drop',\n",
    "                  'pr1' : 'pr1_drop',\n",
    "                  'plan' : 'road_curvature_plan',\n",
    "                  'lartpc' : 'central_sep_width_lartpc',\n",
    "                  'larrout' : 'road_width_larrout',\n",
    "                  'surf' : 'surface_cond_surf',\n",
    "                  'infra' : 'infrastructure_infra',\n",
    "                  'situ' : 'crash_location_situ',\n",
    "                  'env1' : 'env1_drop'}, axis=1, inplace=True)\n",
    "print(list(df_places.columns))"
   ]
  },
  {
   "cell_type": "code",
   "execution_count": null,
   "id": "b5fade5c-6c77-4bc5-beb4-9498377c23cf",
   "metadata": {},
   "outputs": [],
   "source": [
    "df_places.head(2)"
   ]
  },
  {
   "cell_type": "markdown",
   "id": "85bb0446-3d17-429a-bc87-c85cdc37e5be",
   "metadata": {},
   "source": [
    "dropping env1 because values don't make sense and no var of that name in documentation from French Gov.t"
   ]
  },
  {
   "cell_type": "markdown",
   "id": "e0c8b893-cb54-432b-85fe-50d55b40e556",
   "metadata": {},
   "source": [
    "### df_users"
   ]
  },
  {
   "cell_type": "code",
   "execution_count": null,
   "id": "c4808061-eee6-4703-9b3c-e43e10b58480",
   "metadata": {
    "tags": []
   },
   "outputs": [],
   "source": [
    "df_users.head(2)"
   ]
  },
  {
   "cell_type": "code",
   "execution_count": null,
   "id": "910f005f-d8b2-4d04-80d6-6336305bccd9",
   "metadata": {
    "scrolled": true,
    "tags": []
   },
   "outputs": [],
   "source": [
    "df_users.rename({'Num_Acc' : 'acc_id',\n",
    "                 'num_veh' : 'num_veh_drop',\n",
    "                 'place' : 'place_in_veh_place',\n",
    "                 'catu' : 'person_cat_catu',\n",
    "                 'grav' : 'injury_severity_grav',\n",
    "                 'sexe' : 'sexe_drop',\n",
    "                 'trajet' : 'travel_reason_trajet',\n",
    "                 'secu' : 'secu_drop',\n",
    "                 'locp' : 'ped_location_locp',\n",
    "                 'actp' : 'ped_action_actp',\n",
    "                 'etatp' : 'ped_group_etatp',\n",
    "                 'an_nais' : 'an_nais_drop'}, axis=1, inplace=True)\n",
    "print(list(df_users.columns))"
   ]
  },
  {
   "cell_type": "code",
   "execution_count": null,
   "id": "9a77e047-d797-44e0-8b2e-24889678e52d",
   "metadata": {},
   "outputs": [],
   "source": [
    "df_users.head(2)"
   ]
  },
  {
   "cell_type": "markdown",
   "id": "5be879a6-24c5-4971-b089-c513326ac330",
   "metadata": {},
   "source": [
    "### df_vehicles\n",
    "This data won't be used in this project.\n",
    "\n",
    "Keeping code for possible back reference"
   ]
  },
  {
   "cell_type": "raw",
   "id": "5a34cc55-b344-45b0-8623-0fa6942b27ba",
   "metadata": {
    "jupyter": {
     "source_hidden": true
    },
    "tags": []
   },
   "source": [
    "df_vehicles.head(2)"
   ]
  },
  {
   "cell_type": "raw",
   "id": "aba5da0c-07c9-41a3-afe2-0fad8c4dcaa6",
   "metadata": {
    "jupyter": {
     "source_hidden": true
    },
    "tags": []
   },
   "source": [
    "df_vehicles.rename({'Num_Acc' : 'acc_id',\n",
    "                    'num_veh' : 'num_veh_drop',\n",
    "                    'catv' : 'vehicle_cat_catv',\n",
    "                    'senc' : 'senc_drop',\n",
    "                    'obs' : 'obj_hit_fixed_obs',\n",
    "                    'obsm' : 'obj_hit_moving_obsm',\n",
    "                    'choc' : 'choc_drop',\n",
    "                    'manv' : 'manv_drop',\n",
    "                    'occutc' : 'occutc_drop'}, axis=1, inplace=True)\n",
    "print(list(df_vehicles.columns))"
   ]
  },
  {
   "cell_type": "raw",
   "id": "63d2272b-0a58-4af9-a94d-9e7d61e9c1ea",
   "metadata": {
    "jupyter": {
     "source_hidden": true
    },
    "tags": []
   },
   "source": [
    "df_vehicles.head(2)"
   ]
  },
  {
   "cell_type": "markdown",
   "id": "78c97411-495f-44e3-adf8-6bbca87c17c2",
   "metadata": {},
   "source": [
    "## Drop unneeded cols\n",
    "\n",
    "Dropping cols that I am reasonably sure **would not benefit characterization of accident locations or date/time analysis** for the use of preemptively deploying resources/personnel\n",
    "\n",
    "ex. year of birth may have an effect on probability of a crash but agencies are unable to pre-screen drivers before they get on the road or determine the exact route the driver will take"
   ]
  },
  {
   "cell_type": "code",
   "execution_count": null,
   "id": "e504bf86-f1ad-4b01-a6cd-f74f654ee8ce",
   "metadata": {
    "tags": []
   },
   "outputs": [],
   "source": [
    "df_char.drop(['commune_num_drop', 'address_drop', 'gps_drop', 'latitude_drop', 'longitude_drop', 'dep_drop'], axis=1, inplace=True, errors= 'ignore')\n",
    "print(list(df_char.columns))"
   ]
  },
  {
   "cell_type": "code",
   "execution_count": null,
   "id": "2e2cb00a-0e64-4c45-b340-d724533414eb",
   "metadata": {
    "tags": []
   },
   "outputs": [],
   "source": [
    "df_places.drop(['road_num_drop', 'v1_drop', 'v2_drop', 'pr_drop', 'pr1_drop', 'env1_drop'], axis=1, inplace=True, errors= 'ignore')\n",
    "print(list(df_places.columns))"
   ]
  },
  {
   "cell_type": "code",
   "execution_count": null,
   "id": "9a79f9d8-c302-4bdf-9aa1-4e2ac174c9a6",
   "metadata": {
    "tags": []
   },
   "outputs": [],
   "source": [
    "df_users.drop(['sexe_drop', 'secu_drop', 'an_nais_drop', 'num_veh_drop'], axis=1, inplace=True, errors= 'ignore')\n",
    "print(list(df_users.columns))"
   ]
  },
  {
   "cell_type": "raw",
   "id": "5324d9b4-a0dd-42bc-8efa-b18a21f2f7f9",
   "metadata": {
    "tags": []
   },
   "source": [
    "df_vehicles.drop(['senc_drop', 'occutc_drop', 'choc_drop', 'manv_drop', 'num_veh_drop'], axis=1, inplace=True)\n",
    "print(list(df_vehicles.columns))"
   ]
  },
  {
   "cell_type": "code",
   "execution_count": null,
   "id": "8679181c-c921-428e-a0e8-d4c0ffd23dc7",
   "metadata": {},
   "outputs": [],
   "source": [
    "print('Percent of total rows where ped location unspecified or not applicable')\n",
    "print(round(df_users.ped_location_locp.value_counts(dropna=False).sort_index()[0] / len(df_users), 2) * 100, '%')"
   ]
  },
  {
   "cell_type": "markdown",
   "id": "91101e74-f28a-4cea-835e-32d18bf5a826",
   "metadata": {},
   "source": [
    "With about 92% of df_user rows with value of 0 (unspecified ped location), this col is not helpful for location characterization\n",
    "\n",
    "**dropping col**"
   ]
  },
  {
   "cell_type": "code",
   "execution_count": null,
   "id": "cc815e7c-6f16-4067-bcec-271297986cd5",
   "metadata": {},
   "outputs": [],
   "source": [
    "df_users.ped_group_etatp.value_counts(dropna=False).sort_index()"
   ]
  },
  {
   "cell_type": "code",
   "execution_count": null,
   "id": "05be6ee1-993a-4887-a749-eb632ce04fea",
   "metadata": {},
   "outputs": [],
   "source": [
    "print(round(df_users.ped_group_etatp.value_counts(dropna=False).sort_index()[0] / len(df_users), 2) * 100, '%')"
   ]
  },
  {
   "cell_type": "markdown",
   "id": "23f48aff-7728-43ba-8095-f7e9529926e5",
   "metadata": {},
   "source": [
    "With about 92% of df_user rows with value of 0 (unspecified ped location), this col is not helpful for location characterization\n",
    "\n",
    "**dropping col**"
   ]
  },
  {
   "cell_type": "code",
   "execution_count": null,
   "id": "f958f39a-1631-47ae-8398-3c2d031eb6b2",
   "metadata": {},
   "outputs": [],
   "source": [
    "df_users.drop(axis=1, inplace=True, errors= 'ignore', labels=['place_in_veh_place', 'travel_reason_trajet', 'ped_location_locp', 'ped_action_actp', 'ped_group_etatp'])\n",
    "list(df_users.columns)"
   ]
  },
  {
   "cell_type": "markdown",
   "id": "4667d647-3853-49e3-9261-85b68d7aad03",
   "metadata": {},
   "source": [
    "## Merge df's where possible\n",
    "Making it easier to manage the data"
   ]
  },
  {
   "cell_type": "code",
   "execution_count": null,
   "id": "ae672f87-5f62-4ed6-b19b-4ba878595081",
   "metadata": {
    "tags": []
   },
   "outputs": [],
   "source": [
    "print('Row count of each df:')\n",
    "for df in [df_char, df_holiday, df_places, df_users,\n",
    "           # df_vehicles\n",
    "          ]:\n",
    "    print(len(df))"
   ]
  },
  {
   "cell_type": "markdown",
   "id": "aecc9a91-d46a-438d-8b0a-b96098d5ebaa",
   "metadata": {},
   "source": [
    "#AP: df_char & df_places have same row count, look into if they actually match"
   ]
  },
  {
   "cell_type": "markdown",
   "id": "44589d0f-15dc-4906-8dbe-9d7d941db848",
   "metadata": {
    "tags": []
   },
   "source": [
    "#AP: Explore 'acc_id' col to make sure it's actually unique per accident"
   ]
  },
  {
   "cell_type": "code",
   "execution_count": null,
   "id": "158b6d73-7b87-425e-90d5-b61eb871ae24",
   "metadata": {
    "tags": []
   },
   "outputs": [],
   "source": [
    "match_acc_id = df_char[df_char.acc_id == df_places.acc_id].acc_id\n",
    "no_match_acc_id = df_char[df_char.acc_id != df_places.acc_id].acc_id"
   ]
  },
  {
   "cell_type": "code",
   "execution_count": null,
   "id": "416bf62c-c0c3-4c26-bb65-9ce84dfa002e",
   "metadata": {
    "tags": []
   },
   "outputs": [],
   "source": [
    "print(len(match_acc_id))\n",
    "print(len(no_match_acc_id))"
   ]
  },
  {
   "cell_type": "markdown",
   "id": "b3880220-74b0-4372-872c-93e47dfef768",
   "metadata": {},
   "source": [
    "#AP: accident ID's seem to match. Joining the tables."
   ]
  },
  {
   "cell_type": "code",
   "execution_count": null,
   "id": "e8bcfc14-fe6e-4ff4-9540-31dda26a0f4f",
   "metadata": {
    "tags": []
   },
   "outputs": [],
   "source": [
    "df_char_place = df_char.merge(df_places, on='acc_id', how='inner')"
   ]
  },
  {
   "cell_type": "code",
   "execution_count": null,
   "id": "cfe7ed52-dc2c-48dd-9d83-0cef5ba2a558",
   "metadata": {
    "tags": []
   },
   "outputs": [],
   "source": [
    "print('df_char:\\n', list(df_char.columns))\n",
    "print()\n",
    "print('df_places:\\n', list(df_places.columns))\n",
    "print()\n",
    "print(list(df_char_place.columns))\n",
    "print()\n",
    "print('row count:', len(df_char_place))"
   ]
  },
  {
   "cell_type": "markdown",
   "id": "5663a2d7-2d7c-499c-a291-e3e7e11b29dc",
   "metadata": {
    "jp-MarkdownHeadingCollapsed": true,
    "tags": []
   },
   "source": [
    "### Explore df_vehicles to try & merge\n",
    "It has a acc_id col but more rows than df_char_place. Want to see if I can reduce row count to match.\n",
    "\n",
    "**This project doesn't need specific vehicle info**"
   ]
  },
  {
   "cell_type": "raw",
   "id": "297d9b1a-f419-4581-a186-28cc20bbf518",
   "metadata": {},
   "source": [
    "df_vehicles.head(25)"
   ]
  },
  {
   "cell_type": "raw",
   "id": "293d1c41-2b88-425d-8681-01a8a1c74039",
   "metadata": {},
   "source": [
    "len(df_vehicles)"
   ]
  },
  {
   "cell_type": "raw",
   "id": "ab073f75-77ed-47f9-847a-8fed66f6dc2d",
   "metadata": {},
   "source": [
    "df_vehicles.acc_id.nunique(dropna=False)"
   ]
  },
  {
   "cell_type": "markdown",
   "id": "2181c503-7466-4209-b93c-3f5d4152a1ee",
   "metadata": {},
   "source": [
    "The count of unique acc_id's seem to match. Now to see if plausible to aggregate so row counts match"
   ]
  },
  {
   "cell_type": "raw",
   "id": "ebea2d3b-66bc-43e7-8d9d-f75c3a70ea47",
   "metadata": {},
   "source": [
    "df_vehicles.vehicle_cat_catv.value_counts().sort_index()"
   ]
  },
  {
   "cell_type": "markdown",
   "id": "315e3527-1ab1-4559-90c4-26b0dc51c8d5",
   "metadata": {},
   "source": [
    "Dropping vehicle_cat_catv col since multiple labels unused since 2006 present (in this 2005-2016 dataset)"
   ]
  },
  {
   "cell_type": "raw",
   "id": "67df385c-9c54-4890-a9c4-61002e780bc8",
   "metadata": {},
   "source": [
    "df_vehicles.obj_hit_fixed_obs.value_counts(dropna=False).sort_index()"
   ]
  },
  {
   "cell_type": "markdown",
   "id": "721d282c-9038-4b8d-ae42-0b09efac3cd8",
   "metadata": {},
   "source": [
    "AP: **Researching deeper into each of the features in the vehicles df, they do not seem that they would be helpful in characterizing where accidents occur for the purposes of predicting where they would occur.**\n",
    "\n",
    "Converting df_vehicles cells to raw so the code doesn't run and errors are avoided"
   ]
  },
  {
   "cell_type": "markdown",
   "id": "f09610e8-f5f1-4919-90e4-c3b61400c954",
   "metadata": {},
   "source": [
    "### Explore df_users to try & merge\n",
    "\n",
    "There are multiple people per crash, trying to see if there is a way to group by acc_id in a way that doesn't loose quality of data."
   ]
  },
  {
   "cell_type": "code",
   "execution_count": null,
   "id": "ca8768d1-ccb7-43d0-b1eb-85af4fe87e3f",
   "metadata": {},
   "outputs": [],
   "source": [
    "df_users.head(10)"
   ]
  },
  {
   "cell_type": "code",
   "execution_count": null,
   "id": "e9c8908a-fdbc-4304-b453-f58183592361",
   "metadata": {},
   "outputs": [],
   "source": [
    "len(df_users)"
   ]
  },
  {
   "cell_type": "code",
   "execution_count": null,
   "id": "a9119e5d-ff9f-4528-aed9-f9ad76a781b2",
   "metadata": {},
   "outputs": [],
   "source": [
    "df_users.acc_id.nunique(dropna=False)"
   ]
  },
  {
   "cell_type": "markdown",
   "id": "e87f9c77-843b-49a8-9ba6-556b57ea05a9",
   "metadata": {},
   "source": [
    "____\n",
    "person_cat_catu col"
   ]
  },
  {
   "cell_type": "code",
   "execution_count": null,
   "id": "4e9a3fb5-0917-4b7a-8452-09c62956132a",
   "metadata": {},
   "outputs": [],
   "source": [
    "df_users.person_cat_catu.value_counts(dropna=False).sort_index()"
   ]
  },
  {
   "cell_type": "markdown",
   "id": "f95b5117-1a45-4b0c-9933-1f0f661067a9",
   "metadata": {},
   "source": [
    "AP: Note: There should only be values 1, 2, or 3 for this col. There are 3267 rows with value of 4."
   ]
  },
  {
   "cell_type": "markdown",
   "id": "33112a4f-9a77-49f1-9551-3759bf05521a",
   "metadata": {},
   "source": [
    "**AP Note: Possible to create col to denote whether pedestrian present or not (0 : No or 1 : Yes). Presence of persons in vehicle is assumed since dataset is about vehicle crashes.**\n",
    "\n",
    "Also possible to create col for count of persons involved. This could help agencies decide how much resources/personnel to deploy to the area in relation to how many people they expect to treat. This is currently outside the scope of the project."
   ]
  },
  {
   "cell_type": "markdown",
   "id": "f3803fc8-6764-439d-9324-6cae2f0a1773",
   "metadata": {},
   "source": [
    "____\n",
    "injury_severity_grav col"
   ]
  },
  {
   "cell_type": "code",
   "execution_count": null,
   "id": "f3fb49c3-520f-4347-8c0f-5b2be79e00fc",
   "metadata": {},
   "outputs": [],
   "source": [
    "df_users.injury_severity_grav.value_counts(dropna=False).sort_index()"
   ]
  },
  {
   "cell_type": "markdown",
   "id": "2690e0aa-5909-48f3-8c46-ed97b492b739",
   "metadata": {},
   "source": [
    "AP: Possible to create col that ranks severity of the accident based on total injuries. Would likely subtract 1 from each value in col (since 1 represents unharmed, converting it to zero would keep the final score more easily understood). A higher score would mean more severe accident in terms of people harmed, requiring more resources from the agency to deal with\n",
    "\n",
    "This could also potentially be used as a tie breaker between locations with equal accident probabilities"
   ]
  },
  {
   "cell_type": "markdown",
   "id": "a7e9bd65-70a1-440e-9389-3fce38a15c46",
   "metadata": {},
   "source": [
    "#### Create cols for aggregation"
   ]
  },
  {
   "cell_type": "code",
   "execution_count": null,
   "id": "b7bab7e1-c3ec-4d55-aecc-76b95f309834",
   "metadata": {},
   "outputs": [],
   "source": [
    "df_users.head()"
   ]
  },
  {
   "cell_type": "code",
   "execution_count": null,
   "id": "872985f2-8ec3-40f2-a437-9ee1fb45bc09",
   "metadata": {},
   "outputs": [],
   "source": [
    "df_users.info()"
   ]
  },
  {
   "cell_type": "code",
   "execution_count": null,
   "id": "bdc58470-90da-4aba-a437-286b733fa345",
   "metadata": {},
   "outputs": [],
   "source": [
    "#AP: Double check for any nulls\n",
    "df_users.isnull().sum()"
   ]
  },
  {
   "cell_type": "markdown",
   "id": "469f9ea0-7830-4753-a644-61c9410371ee",
   "metadata": {},
   "source": [
    "____\n",
    "from person_cat_catu, create col to denote 0 (No) or 1 (Yes) for pedestrian"
   ]
  },
  {
   "cell_type": "code",
   "execution_count": null,
   "id": "05635304-858b-4b72-8086-344aca1c4d83",
   "metadata": {},
   "outputs": [],
   "source": [
    "df_users.person_cat_catu.value_counts().sort_index()"
   ]
  },
  {
   "cell_type": "markdown",
   "id": "55dfe5ca-24e3-4ec6-bafa-8c077dbc28af",
   "metadata": {},
   "source": [
    "Value of 3 represents pedestrian. Want to replace 3 with 1 & all other values with 0"
   ]
  },
  {
   "cell_type": "code",
   "execution_count": null,
   "id": "3aa5dc5a-ee6d-422e-b854-a1d4fde40565",
   "metadata": {},
   "outputs": [],
   "source": [
    "df_users['ped_present'] = df_users.person_cat_catu.replace({1:0, 2:0, 3:1, 4:0})"
   ]
  },
  {
   "cell_type": "code",
   "execution_count": null,
   "id": "615f390c-62d5-4f7e-851a-dced845ce735",
   "metadata": {},
   "outputs": [],
   "source": [
    "#AP: Check whether I Created col correctly\n",
    "print(df_users[df_users['person_cat_catu']==3].sample(5))\n",
    "print()\n",
    "print(df_users[df_users['person_cat_catu'].isin([1,2,4])].sample(5))"
   ]
  },
  {
   "cell_type": "markdown",
   "id": "12879fc1-366b-4b0e-bcbd-d865e33488c8",
   "metadata": {},
   "source": [
    "Now when I group by the acc_id col, I can just sum up the pedestrians (ped_present) and use that as needed in future analysis."
   ]
  },
  {
   "cell_type": "markdown",
   "id": "9a5fc944-62ae-43b0-8eb5-2b5c18760ffa",
   "metadata": {},
   "source": [
    "____\n",
    "~from injury_severity_grav, create col to denote accident severity based on injuries~\n",
    "\n",
    "~First to create col with each value reduced by 1.~\n",
    "\n",
    "~Durring grouping/aggregation, can add the adjusted values together to get an accident severity score.~"
   ]
  },
  {
   "cell_type": "raw",
   "id": "d6070098-8f27-4e31-9348-f83b84a5b726",
   "metadata": {},
   "source": [
    "df_users['injury_severity_adj_grav'] = df_users['injury_severity_grav'] -1"
   ]
  },
  {
   "cell_type": "raw",
   "id": "8efd5c8c-3dde-4e82-8adc-b5923981566b",
   "metadata": {},
   "source": [
    "df_users[['injury_severity_grav', 'injury_severity_adj_grav']].sample(5)"
   ]
  },
  {
   "cell_type": "markdown",
   "id": "c3a7189f-4a3c-45bf-a2d5-7820a9e4f9bf",
   "metadata": {},
   "source": [
    "### Create grouped/aggregated df for merging into the main df"
   ]
  },
  {
   "cell_type": "code",
   "execution_count": null,
   "id": "a95acb3a-be1b-43da-a86b-3235f141ea1c",
   "metadata": {},
   "outputs": [],
   "source": [
    "df_users_agg = df_users[['acc_id', 'ped_present'#,\n",
    "                         #'injury_severity_adj_grav'\n",
    "                        ]].groupby(by='acc_id', sort=False, dropna=False, as_index=False).sum()"
   ]
  },
  {
   "cell_type": "code",
   "execution_count": null,
   "id": "4b90090b-04cf-4511-9ab6-bba098155d26",
   "metadata": {},
   "outputs": [],
   "source": [
    "df_users_agg.head(15)"
   ]
  },
  {
   "cell_type": "code",
   "execution_count": null,
   "id": "c5f2d0b0-2143-4951-a0df-2ac64ad15388",
   "metadata": {},
   "outputs": [],
   "source": [
    "df_users.head(15)"
   ]
  },
  {
   "cell_type": "code",
   "execution_count": null,
   "id": "d49ac148-3de9-429c-a713-442bb0186f5f",
   "metadata": {},
   "outputs": [],
   "source": [
    "df_users_agg.ped_present.value_counts(dropna=False).sort_index()"
   ]
  },
  {
   "cell_type": "raw",
   "id": "b169afaa-56fd-48fd-9543-73b7787876f5",
   "metadata": {},
   "source": [
    "df_users_agg.injury_severity_adj_grav.value_counts().sort_index()"
   ]
  },
  {
   "cell_type": "code",
   "execution_count": null,
   "id": "775c65b2-4cf2-4fb4-a725-c1251aeeb94f",
   "metadata": {},
   "outputs": [],
   "source": [
    "len(df_users_agg)"
   ]
  },
  {
   "cell_type": "markdown",
   "id": "e8d28f61-90ca-4e40-b92b-507fa5290aaf",
   "metadata": {},
   "source": [
    "~Change col name of ped_present to ped_count for clarity~\n",
    "\n",
    "~Change col name of injury_severity_adj_grav to injury_count for clarity~"
   ]
  },
  {
   "cell_type": "raw",
   "id": "95da44b4-156f-4d6f-a159-a826899426cb",
   "metadata": {},
   "source": [
    "df_users_agg.rename(columns={'ped_present':'ped_count',\n",
    "                             #'injury_severity_adj_grav':'injury_count'\n",
    "                            }, inplace=True)\n",
    "df_users_agg.head()"
   ]
  },
  {
   "cell_type": "markdown",
   "id": "2a06aa28-c220-4b32-817f-24944d4051fb",
   "metadata": {},
   "source": [
    "AP: Everything seems in place for merging df_users_agg into the main df"
   ]
  },
  {
   "cell_type": "markdown",
   "id": "33210a04-5c72-4f8a-95b2-9de4babe4e32",
   "metadata": {},
   "source": [
    "### Merge users data into main df"
   ]
  },
  {
   "cell_type": "code",
   "execution_count": null,
   "id": "bcdd3fbb-4fb8-4c65-85b1-660db3939f80",
   "metadata": {},
   "outputs": [],
   "source": [
    "df_main = df_char_place.merge(df_users_agg, on='acc_id', how='inner')"
   ]
  },
  {
   "cell_type": "code",
   "execution_count": null,
   "id": "fd999349-4d34-4818-a4d5-1f4456a97db3",
   "metadata": {},
   "outputs": [],
   "source": [
    "print('df_char_place row count:', len(df_char_place))\n",
    "print()\n",
    "print('df_users_agg row count:', len(df_users_agg))\n",
    "print()\n",
    "print('df_main row count:', len(df_main))"
   ]
  },
  {
   "cell_type": "code",
   "execution_count": null,
   "id": "7d6fc9b3-1f42-4cac-aad4-8184d3d736d9",
   "metadata": {},
   "outputs": [],
   "source": [
    "df_main.head(10)"
   ]
  },
  {
   "cell_type": "code",
   "execution_count": null,
   "id": "b299090a-2bd6-4392-a78f-aa595edd6743",
   "metadata": {},
   "outputs": [],
   "source": [
    "len(df_main)"
   ]
  },
  {
   "cell_type": "markdown",
   "id": "bb089810-39b3-4118-a626-ef572dc1db7d",
   "metadata": {},
   "source": [
    "## Create df_main cols for holiday & yes/no if holiday\n",
    "\n",
    "Both to analyze if holidays have more accidents and also analyze which holidays have increased accidents."
   ]
  },
  {
   "cell_type": "code",
   "execution_count": null,
   "id": "67b705af-51aa-4c87-a8d5-75958b728d85",
   "metadata": {},
   "outputs": [],
   "source": [
    "df_holiday.head(12) #because 11 holidays"
   ]
  },
  {
   "cell_type": "code",
   "execution_count": null,
   "id": "9b8c6812-326f-4ea5-8fde-238c82860a28",
   "metadata": {},
   "outputs": [],
   "source": [
    "df_holiday.info()"
   ]
  },
  {
   "cell_type": "code",
   "execution_count": null,
   "id": "922ab648-eee4-4948-9540-ba32f6f08edf",
   "metadata": {},
   "outputs": [],
   "source": [
    "# Convert to datetime\n",
    "df_holiday['date'] = pd.to_datetime(df_holiday['date'])"
   ]
  },
  {
   "cell_type": "code",
   "execution_count": null,
   "id": "e1e629a0-3b1a-4edd-b7ae-541463c80c15",
   "metadata": {},
   "outputs": [],
   "source": [
    "df_holiday.info()"
   ]
  },
  {
   "cell_type": "code",
   "execution_count": null,
   "id": "f81ea129-fee4-49b4-923d-18f1c7f338e9",
   "metadata": {},
   "outputs": [],
   "source": [
    "df_holiday.holiday.value_counts()"
   ]
  },
  {
   "cell_type": "markdown",
   "id": "6ffdfde0-d2dc-48e6-b607-fbaa505d960e",
   "metadata": {},
   "source": [
    "____\n",
    "## Create a 'date' col in datetime dtype"
   ]
  },
  {
   "cell_type": "code",
   "execution_count": null,
   "id": "fc952510-e657-4b90-8ccd-2e88c32c3798",
   "metadata": {},
   "outputs": [],
   "source": [
    "df_main['hour'] = df_main['hrmn'] // 100\n",
    "df_main['minute'] = df_main['hrmn'] % 100"
   ]
  },
  {
   "cell_type": "code",
   "execution_count": null,
   "id": "725b9338-9234-4b97-89c1-882de3b98811",
   "metadata": {},
   "outputs": [],
   "source": [
    "df_main[['hrmn', 'hour', 'minute']].head()"
   ]
  },
  {
   "cell_type": "code",
   "execution_count": null,
   "id": "6cdc3800-96bd-489a-bc39-592cd74b377d",
   "metadata": {},
   "outputs": [],
   "source": [
    "df_main['date'] = pd.to_datetime(df_main[['year_an', 'month_mois', 'day_jour', 'hour', 'minute']]\n",
    "                                 .rename(columns={'year_an': 'year', 'month_mois': 'month', 'day_jour': 'day'})\n",
    "                                 .assign(year=lambda x: x['year']+2000))"
   ]
  },
  {
   "cell_type": "code",
   "execution_count": null,
   "id": "60c90418-8ca8-4063-a929-f661642851c0",
   "metadata": {},
   "outputs": [],
   "source": [
    "df_main[['year_an',\n",
    " 'month_mois',\n",
    " 'day_jour','hour',\n",
    " 'minute','date']].head()"
   ]
  },
  {
   "cell_type": "code",
   "execution_count": null,
   "id": "d92d193f-b0bc-4524-8f22-ef7e2e6c495c",
   "metadata": {},
   "outputs": [],
   "source": [
    "df_main.dtypes"
   ]
  },
  {
   "cell_type": "markdown",
   "id": "4b597e9d-9ae9-4550-b1d7-0bc4054e8c5b",
   "metadata": {},
   "source": [
    "#### Round to the nearest hour\n",
    "\n",
    "- Reasoning:\n",
    "    - moving personnel & resources to a location requires enough time and effort that only having them manage that location for minutes is not worth it\n",
    "    - Car accidents are almost always never coordinated to occur within minute ranges"
   ]
  },
  {
   "cell_type": "code",
   "execution_count": null,
   "id": "779af6d0-9178-4de2-affa-fc84850f5111",
   "metadata": {},
   "outputs": [],
   "source": [
    "df_main['date'] = df_main['date'].dt.round('h')"
   ]
  },
  {
   "cell_type": "code",
   "execution_count": null,
   "id": "8c3b8cca-b6de-4c0f-927d-4e0feb67e46e",
   "metadata": {},
   "outputs": [],
   "source": [
    "df_main[['date']].head()"
   ]
  },
  {
   "cell_type": "markdown",
   "id": "541f73e7-01f7-41e0-9284-4ede3a0ab0ff",
   "metadata": {},
   "source": [
    "#### Adjust 'hour' col to the new rounded hours\n",
    "\n",
    "In order to use later for analysis on time of day"
   ]
  },
  {
   "cell_type": "code",
   "execution_count": null,
   "id": "6580e2d6-e211-449f-a61a-4192ce0d6e44",
   "metadata": {},
   "outputs": [],
   "source": [
    "df_main['hour'] = df_main['date'].dt.hour"
   ]
  },
  {
   "cell_type": "code",
   "execution_count": null,
   "id": "6c8a474d-5d44-40b6-9fd6-195236304813",
   "metadata": {},
   "outputs": [],
   "source": [
    "df_main['hour'].head()"
   ]
  },
  {
   "cell_type": "markdown",
   "id": "35613832-7aba-48e7-a7ef-8beab93cadad",
   "metadata": {},
   "source": [
    "#### Drop the cols year_an, month_mois, day_jour, & hrmn\n",
    "\n",
    "Unneeded now"
   ]
  },
  {
   "cell_type": "code",
   "execution_count": null,
   "id": "27a0a29a-2be6-453b-bec0-8274b545152e",
   "metadata": {},
   "outputs": [],
   "source": [
    "df_main.drop(['year_an', 'month_mois', 'day_jour', 'hrmn', 'minute'], errors='ignore', axis=1, inplace=True)\n",
    "print(df_main.columns)"
   ]
  },
  {
   "cell_type": "markdown",
   "id": "339773e7-8e8b-48df-93c9-cb4515ca6d1c",
   "metadata": {},
   "source": [
    "### Create day_of_week col\n",
    "\n",
    "This will later get converted with pd.get_dummies along with other categorical cols"
   ]
  },
  {
   "cell_type": "code",
   "execution_count": null,
   "id": "59ad8dd2-7ef8-436c-a83a-e0d0836fcb8d",
   "metadata": {},
   "outputs": [],
   "source": [
    "df_main['day_of_week'] = df_main['date'].dt.day_name()"
   ]
  },
  {
   "cell_type": "code",
   "execution_count": null,
   "id": "1df21996-0b72-4187-85a6-5423b3ce0af4",
   "metadata": {},
   "outputs": [],
   "source": [
    "df_main[['date','day_of_week']].head(10)"
   ]
  },
  {
   "cell_type": "markdown",
   "id": "ab5928c1-c051-409d-a6f6-62c5f73f882e",
   "metadata": {},
   "source": [
    "### Create bool weekend\n",
    "~& weekday cols~ Would just be inverses of each other, keeping is_weekend col"
   ]
  },
  {
   "cell_type": "code",
   "execution_count": null,
   "id": "8076836a-4961-49a9-aa76-555a7d5a3c67",
   "metadata": {},
   "outputs": [],
   "source": [
    "df_main[\"is_weekend\"] = df_main['date'].dt.day_name().isin(['Saturday', 'Sunday'])"
   ]
  },
  {
   "cell_type": "raw",
   "id": "a0a86748-37ac-4742-93c6-d54d78598de1",
   "metadata": {},
   "source": [
    "df_main[\"is_weekday\"] = ~df_main['date'].dt.day_name().isin(['Saturday', 'Sunday'])"
   ]
  },
  {
   "cell_type": "code",
   "execution_count": null,
   "id": "19c7a872-b0ef-4398-8150-79eac3f4e74b",
   "metadata": {},
   "outputs": [],
   "source": [
    "df_main[['date','day_of_week','is_weekend'\n",
    "         #\"is_weekday\"\n",
    "        ]].head(10)"
   ]
  },
  {
   "cell_type": "markdown",
   "id": "4d8bb6ff-1e87-44c2-b953-e502a09a34ff",
   "metadata": {},
   "source": [
    "____\n",
    "### Create a col 'is_holiday'\n",
    "of 0/1 (No, Yes) for whether or not it's a holiday."
   ]
  },
  {
   "cell_type": "code",
   "execution_count": null,
   "id": "ee308a2e-4467-4e38-a22f-99c779d15b85",
   "metadata": {},
   "outputs": [],
   "source": [
    "df_main['is_holiday'] = df_main['date'].isin(df_holiday['date'])"
   ]
  },
  {
   "cell_type": "code",
   "execution_count": null,
   "id": "4a494d70-9248-4706-aaa6-51cd5df187e8",
   "metadata": {},
   "outputs": [],
   "source": [
    "df_main[['date', 'is_holiday']].sample(10)"
   ]
  },
  {
   "cell_type": "code",
   "execution_count": null,
   "id": "5149ec38-b499-42db-bd37-94c7a0d20629",
   "metadata": {},
   "outputs": [],
   "source": [
    "len(df_main)"
   ]
  },
  {
   "cell_type": "markdown",
   "id": "2ca53ee9-e90d-4ea3-bf61-618e2a5720ba",
   "metadata": {},
   "source": [
    "____\n",
    "### Create a col 'holiday' for noting which holiday is is.\n",
    "\n",
    "AP: **Holding off on this nice-to-have for now.**\n",
    "\n",
    "Can't currently figure out why an extra couple hundred rows are created when merging df_holidays & df_main.\n",
    "\n",
    "\n",
    "For non-holidays, input value 'common_day'"
   ]
  },
  {
   "cell_type": "raw",
   "id": "836c402a-b056-4c14-bf91-0adb73df50a8",
   "metadata": {},
   "source": [
    "#Match date order to df_main\n",
    "df_holiday = df_holiday.sort_values(by='date', ascending=False).reset_index(drop=True)\n",
    "df_holiday.head(11)"
   ]
  },
  {
   "cell_type": "raw",
   "id": "86e482c0-5de1-4ad4-b9aa-d7626d592776",
   "metadata": {},
   "source": [
    "len(df_holiday)"
   ]
  },
  {
   "cell_type": "raw",
   "id": "8734f5ed-c709-409e-9e53-9844862ea43d",
   "metadata": {},
   "source": [
    "df_test = df_main.merge(df_holiday, on='date', how='outer').sort_values(by='acc_id', ascending=False).reset_index(drop=True)"
   ]
  },
  {
   "cell_type": "raw",
   "id": "24b2796a-8736-4b14-a0d7-101b22856ead",
   "metadata": {},
   "source": [
    "df_main.sort_values(by='acc_id', ascending=False).head(2)"
   ]
  },
  {
   "cell_type": "raw",
   "id": "ec7f74ca-a2fe-4005-a38c-5a5dca6cf216",
   "metadata": {},
   "source": [
    "df_test.head(2)"
   ]
  },
  {
   "cell_type": "raw",
   "id": "d91fa9a8-e878-4cb7-a025-20a30f5cdf80",
   "metadata": {},
   "source": [
    "len(df_main)"
   ]
  },
  {
   "cell_type": "raw",
   "id": "1cbb9dd9-9519-425b-a5fa-7bfcb5bc3cb1",
   "metadata": {},
   "source": [
    "len(df_test)"
   ]
  },
  {
   "cell_type": "raw",
   "id": "c1d6aca0-f8a8-4993-8176-04498e0c6664",
   "metadata": {},
   "source": [
    "max([len(df_main), len(df_test)]) - min([len(df_main), len(df_test)])"
   ]
  },
  {
   "cell_type": "markdown",
   "id": "434a9e59-ddac-40ca-be43-b64629f331be",
   "metadata": {},
   "source": [
    "## Test - Duplicate Values"
   ]
  },
  {
   "cell_type": "code",
   "execution_count": null,
   "id": "87694b11-5bd6-4421-85d6-41abadf73a33",
   "metadata": {},
   "outputs": [],
   "source": [
    "df_main[df_main.duplicated(keep=False)].sort_values(by='date')"
   ]
  },
  {
   "cell_type": "code",
   "execution_count": null,
   "id": "79a38e19-fcf7-42ce-8eab-7d19d7bdfb8f",
   "metadata": {},
   "outputs": [],
   "source": []
  },
  {
   "cell_type": "markdown",
   "id": "a961e0ba-0604-45ef-992e-4ff03114f0cd",
   "metadata": {},
   "source": [
    "## Check for nulls"
   ]
  },
  {
   "cell_type": "code",
   "execution_count": null,
   "id": "1b3e8841-b8a3-4bfc-8a6c-a72f8bcd7a86",
   "metadata": {},
   "outputs": [],
   "source": [
    "df_main.isnull().sum().sort_values(ascending=False)"
   ]
  },
  {
   "cell_type": "markdown",
   "id": "2c7b8212-68fd-4466-9236-f9ef2ea6b20a",
   "metadata": {},
   "source": [
    "____\n",
    "Count total rows with any null"
   ]
  },
  {
   "cell_type": "code",
   "execution_count": null,
   "id": "ee4db9b8-7941-40c4-97b7-1158328b4e33",
   "metadata": {},
   "outputs": [],
   "source": [
    "null_row_count = df_main.isnull().any(axis=1).sum()\n",
    "total_row_count = len(df_main)\n",
    "\n",
    "print('null_row_count:', null_row_count)\n",
    "print()\n",
    "print('total_row_count:', total_row_count)\n",
    "print()\n",
    "print('Percent of rows with nulls:', round((null_row_count / total_row_count)*100, 2), '%')"
   ]
  },
  {
   "cell_type": "markdown",
   "id": "993f503b-5801-459f-8b3a-eb238f99b35a",
   "metadata": {},
   "source": [
    "**I am comfortable with dropping these rows since they account for < 1.32% of total rows in the df**"
   ]
  },
  {
   "cell_type": "markdown",
   "id": "1412873f-adef-4086-b731-daceaba4b13c",
   "metadata": {},
   "source": [
    "### Drop rows with any nulls"
   ]
  },
  {
   "cell_type": "code",
   "execution_count": null,
   "id": "e5e27c34-ab4a-406e-9475-0600afd1cf4b",
   "metadata": {},
   "outputs": [],
   "source": [
    "df_main.dropna(ignore_index=True, inplace=True)"
   ]
  },
  {
   "cell_type": "code",
   "execution_count": null,
   "id": "ed859260-6b53-486b-8dc1-44c83677c8c3",
   "metadata": {},
   "outputs": [],
   "source": [
    "df_main.isnull().sum().sort_values(ascending=False)"
   ]
  },
  {
   "cell_type": "code",
   "execution_count": null,
   "id": "a01a98c0-5b8b-470b-a6c6-75605e21805a",
   "metadata": {},
   "outputs": [],
   "source": [
    "null_row_count_2 = df_main.isnull().any(axis=1).sum()\n",
    "total_row_count_2 = len(df_main)\n",
    "\n",
    "print('null_row_count:', null_row_count_2)\n",
    "print()\n",
    "print('total_row_count:', total_row_count_2)\n",
    "print()\n",
    "print('Percent of rows with nulls:', round((null_row_count_2 / total_row_count_2)*100, 2), '%')"
   ]
  },
  {
   "cell_type": "markdown",
   "id": "90f8e37f-d642-4da0-acbb-6da8ee1d29a0",
   "metadata": {},
   "source": [
    "## Check dtypes\n",
    "Convert if/when needed.\n",
    "\n",
    "Need to input the strings for the categorical's since some can get fairly specific (ex. intersection type)\n",
    "\n",
    "Planned to later use pd.get_dummies for the categorical features"
   ]
  },
  {
   "cell_type": "code",
   "execution_count": null,
   "id": "27390c1c-c672-4857-bafa-d089532d9f25",
   "metadata": {},
   "outputs": [],
   "source": [
    "df_main.dtypes"
   ]
  },
  {
   "cell_type": "markdown",
   "id": "fe6d7e5a-0a1e-475a-ac3b-b3950ee8c90a",
   "metadata": {},
   "source": [
    "AP: cols to convert:\n",
    "\n",
    "- Categorical cols : create dicts in order to map numerical vals to the strings they represent. Then use get_dummies.\n",
    "    - The train of thought here is making it easier to determine the specific characteristics of the crash locations rather than get a collection of numbers and try to translate them into words (ex. value of 3 for intersection type translates to T-intersection)\n",
    "- float64 cols : convert to int64 (no col uses decimals)"
   ]
  },
  {
   "cell_type": "code",
   "execution_count": null,
   "id": "8cba3c11-b2a2-4a12-bd00-5d6cc41c94e7",
   "metadata": {},
   "outputs": [],
   "source": [
    "df_main.head()"
   ]
  },
  {
   "cell_type": "markdown",
   "id": "97709bc2-b1ca-41c3-b0c9-3e2f8aaf22e2",
   "metadata": {},
   "source": [
    "### Categorical Cols"
   ]
  },
  {
   "cell_type": "markdown",
   "id": "c5308135-e748-4c43-8628-9417a2551dcf",
   "metadata": {},
   "source": [
    "#### replace the strings for the categories in the categorical cols"
   ]
  },
  {
   "cell_type": "code",
   "execution_count": null,
   "id": "02f2f3b3-9d20-438b-ad3f-d03710658224",
   "metadata": {},
   "outputs": [],
   "source": [
    "df_main.replace(inplace=True, to_replace = {'luminosity_lum' : {1 : 'lum_full_day', 2 : 'lum_twighlight', 3 : 'lum_night_no_light', 4 : 'lum_night_no_light', 5 : 'lum_night_yes_light'},\n",
    "    'built_up_agg' : {1 : False, 2 : True},\n",
    "    'intersection_type_int' : {0 : 'other', 1 : 'out_of_intersection', 2 : 'x_intersection', 3 : 't_intersection', 4 : 'y_intersection', 5 : '4+_intersection', 6 : 'roundabout', 7 : 'place', 8 : 'level_crossing', 9 : 'other'},\n",
    "    'weather_atm' : {1 : 'normal', 2 : 'rain_light', 3 : 'rain_heavy', 4 : 'snow_hail', 5 : 'fog_smoke', 6 : 'storm', 7 : 'dazzling', 8 : 'cloudy', 9 : 'other'},\n",
    "    'collision_type_col' : {1 : 'two_cars_frontal', 2 : 'two_cars_rear', 3 : 'two_cars_side', 4 : 'three+_chain', 5 : 'three+_multiple', 6 : 'other', 7 : 'no_collision'},\n",
    "    'road_category_catr' : {1 : 'autoroutes ', 2 : 'national_road', 3 : 'departmental_road', 4 : 'municipal_road', 5 : 'off_public_network', 6 : 'parking_lot', 9 : 'other'},\n",
    "    'road_type_circ' : {0.0 : 'other', 1 : 'one_way', 2 : 'two_way', 3 : 'seperated_carriageway', 4 : 'variable_assignment'},\n",
    "    'reserved_lane_type_vosp' : {0.0 : 'no_reserved_lane', 1 : 'bike_path', 2 : 'bike_parking', 3 : 'reserved_lane'},\n",
    "    'road_slope_prof' : {0.0 : 'other', 1 : 'dish', 2 : 'slope', 3 : 'hill_top', 4 : 'hill_bottom'},\n",
    "    'road_curvature_plan' : {0.0 : 'other', 1 : 'straight', 2 : 'curve_left', 3 : 'curve_right', 4 : 's_shape'},\n",
    "    'surface_cond_surf' : {0.0 : 'other', 1 : 'dry', 2 : 'wet', 3 : 'puddles', 4 : 'flooded', 5 : 'snow', 6 : 'mud', 7 : 'ice', 8 : 'oil', 9 : 'other'},\n",
    "    'infrastructure_infra' : {0.0 : 'none', 1 : 'tunnel', 2 : 'bridge', 3 : 'interchange', 4 : 'railway', 5 : 'carrefour_arranged', 6 : 'pedestrian_area', 7 : 'toll_zone'},\n",
    "    'crash_location_situ' : {0.0 : 'none', 1 : 'road', 2 : 'emergency_stop_lane', 3 : 'verge', 4 : 'sidewalk', 5 : 'bike_path'}})"
   ]
  },
  {
   "cell_type": "code",
   "execution_count": null,
   "id": "a8540ccb-7a1b-41a1-91db-bf258a56c80c",
   "metadata": {},
   "outputs": [],
   "source": [
    "df_main.sample(5)"
   ]
  },
  {
   "cell_type": "markdown",
   "id": "42f7a7eb-d423-4b87-b0c1-e0379136dc7e",
   "metadata": {},
   "source": [
    "##### check for any missed values\n",
    "collapsed since large output"
   ]
  },
  {
   "cell_type": "code",
   "execution_count": null,
   "id": "f0ecb8da-4f80-4507-af9a-9cb7d6b84161",
   "metadata": {},
   "outputs": [],
   "source": [
    "#check for any missed values\n",
    "cat_cols = ['luminosity_lum', 'built_up_agg', 'intersection_type_int', 'weather_atm', 'collision_type_col',\n",
    "            'road_category_catr', 'road_type_circ', 'reserved_lane_type_vosp', 'road_slope_prof', 'road_curvature_plan',\n",
    "            'surface_cond_surf', 'infrastructure_infra', 'crash_location_situ', 'day_of_week']\n",
    "for col in cat_cols:\n",
    "    print(df_main[col].value_counts(dropna=False))\n",
    "    print()"
   ]
  },
  {
   "cell_type": "markdown",
   "id": "2249035c-66af-4828-a5e3-794463a71e57",
   "metadata": {},
   "source": [
    "#### convert to 'category' type"
   ]
  },
  {
   "cell_type": "code",
   "execution_count": null,
   "id": "20c96284-c7e8-4fed-9094-bee7ad692baf",
   "metadata": {},
   "outputs": [],
   "source": [
    "df_main[cat_cols] = df_main[cat_cols].astype('category')"
   ]
  },
  {
   "cell_type": "code",
   "execution_count": null,
   "id": "b2f09f95-2626-44de-8a28-c2c0281d5a4a",
   "metadata": {},
   "outputs": [],
   "source": [
    "df_main.dtypes"
   ]
  },
  {
   "cell_type": "markdown",
   "id": "11b6267d-591d-471e-b4a7-6518f11ef427",
   "metadata": {},
   "source": [
    "____\n",
    "### Numerical Cols"
   ]
  },
  {
   "cell_type": "code",
   "execution_count": null,
   "id": "b833c298-7906-45bf-8448-307cf969263f",
   "metadata": {},
   "outputs": [],
   "source": [
    "num_cols = ['lane_count_nbv', 'central_sep_width_lartpc', 'road_width_larrout']\n",
    "#Not including any engineered features"
   ]
  },
  {
   "cell_type": "code",
   "execution_count": null,
   "id": "b4298628-f790-4aca-8590-f40a1f4e8b33",
   "metadata": {},
   "outputs": [],
   "source": [
    "df_main[num_cols].dtypes"
   ]
  },
  {
   "cell_type": "code",
   "execution_count": null,
   "id": "628c4544-411d-4bd0-a54d-483db70c14a9",
   "metadata": {},
   "outputs": [],
   "source": [
    "#Check for any values that actually use decimals (meaning the col shouldn't be turned into 'int' type)\n",
    "for col in num_cols:\n",
    "    df_floats = df_main[[col]] % 1 != 0\n",
    "    print(df_floats[[col]].sum())\n",
    "    print()"
   ]
  },
  {
   "cell_type": "markdown",
   "id": "889db492-574b-48e4-bb8a-5aa5ff86e15f",
   "metadata": {},
   "source": [
    "Convert to 'int' type"
   ]
  },
  {
   "cell_type": "code",
   "execution_count": null,
   "id": "95b384b1-20c9-474d-86e4-a7430e8860eb",
   "metadata": {},
   "outputs": [],
   "source": [
    "df_main[num_cols] = df_main[num_cols].astype('int')\n",
    "df_main[num_cols].dtypes"
   ]
  },
  {
   "cell_type": "markdown",
   "id": "2bcfdc0f-1fdc-41b7-8060-1c239df12010",
   "metadata": {},
   "source": [
    "~### Convert ped_present to bool~\n",
    "\n",
    "I learned that int type with 0 & 1 is easier for models in general than bool True/False"
   ]
  },
  {
   "cell_type": "raw",
   "id": "947e69a8-19e5-4c63-a91f-80bfe7cb731e",
   "metadata": {
    "tags": []
   },
   "source": [
    "df_main['ped_present'] = df_main['ped_present'].astype('bool')\n",
    "df_main['ped_present'].dtype"
   ]
  },
  {
   "cell_type": "markdown",
   "id": "ad71ae02-526f-44c5-9145-edc9b20a0766",
   "metadata": {},
   "source": [
    "## Check num_cols for value consistency & expected ranges\n",
    "cat_cols already ensured & checked when I manually replaced the strings for them above."
   ]
  },
  {
   "cell_type": "code",
   "execution_count": null,
   "id": "a870746d-9d5d-4c46-a65f-8538889657a0",
   "metadata": {},
   "outputs": [],
   "source": [
    "df_main[num_cols].info()"
   ]
  },
  {
   "cell_type": "code",
   "execution_count": null,
   "id": "cf05146e-5878-4d31-8086-bb7392ebbcf5",
   "metadata": {},
   "outputs": [],
   "source": [
    "df_main[num_cols].nunique()"
   ]
  },
  {
   "cell_type": "markdown",
   "id": "6e81a896-501b-43f9-8f90-951221c1cd84",
   "metadata": {},
   "source": [
    "AP: that's a suspsiciously high count of unique values for number of road lanes\n",
    "\n",
    "The width cols also seem to have an unexpectedly high count of unique values. It is France and I could just be unfamiliar with their road standards."
   ]
  },
  {
   "cell_type": "markdown",
   "id": "5d21470c-a33b-45bc-8eac-8c47a90c62e4",
   "metadata": {
    "tags": []
   },
   "source": [
    "### lane_count_nbv check"
   ]
  },
  {
   "cell_type": "code",
   "execution_count": null,
   "id": "cdbb2971-bdc5-4bbc-9b9c-803717880cc3",
   "metadata": {},
   "outputs": [],
   "source": [
    "#AP: df.value_counts() since 53 seems manageable for viewing\n",
    "\n",
    "#df_main['lane_count_nbv'].value_counts().sort_values(ascending=False)\n",
    "\n",
    "df_main['lane_count_nbv'].value_counts().sort_index()"
   ]
  },
  {
   "cell_type": "markdown",
   "id": "d80d696b-f007-4cd4-a78b-b143e5ef5164",
   "metadata": {},
   "source": [
    "AP: There **shouldn't be zero lanes for a road** AND the **most lanes I could find for French roads is 8** (from wikipedia & thouroughly exploring google maps)\n",
    "\n",
    "Zero lanes could be for non-road crashes, needs investigation"
   ]
  },
  {
   "cell_type": "code",
   "execution_count": null,
   "id": "84487906-855d-43eb-934d-777286d962f3",
   "metadata": {},
   "outputs": [],
   "source": [
    "len(df_main)"
   ]
  },
  {
   "cell_type": "code",
   "execution_count": null,
   "id": "169c1958-cea0-40f8-8e2d-75b8fd636e99",
   "metadata": {},
   "outputs": [],
   "source": [
    "#Count of rows with lanes =0 or >8\n",
    "#and percent of total rows\n",
    "print('Count of rows with lanes =0 or >8: ', ((df_main['lane_count_nbv'] == 0) | (df_main['lane_count_nbv'] > 8)).sum())\n",
    "print('Percent of total rows: ', round((((df_main['lane_count_nbv'] == 0) | (df_main['lane_count_nbv'] > 8)).sum() / len(df_main)) * 100, 2), '%')"
   ]
  },
  {
   "cell_type": "code",
   "execution_count": null,
   "id": "b177e36d-39a9-4b1a-9624-149a2b7f595e",
   "metadata": {},
   "outputs": [],
   "source": [
    "# count of rows with zero lanes (it's listed in value_counts but I like to see it isolated)\n",
    "print('count rows of 0 lanes: ', (df_main['lane_count_nbv'] == 0).sum())\n",
    "print('Percent: ', round(((df_main['lane_count_nbv'] == 0).sum() / len(df_main)) * 100, 2), '%')"
   ]
  },
  {
   "cell_type": "code",
   "execution_count": null,
   "id": "e822396c-3eaf-4772-a76f-c6ff0e309939",
   "metadata": {},
   "outputs": [],
   "source": [
    "# count of rows above 8 lanes\n",
    "print('rows with >8 lanes: ', (df_main['lane_count_nbv'] > 8).sum())\n",
    "print('Percent: ', round(((df_main['lane_count_nbv'] > 8).sum() / len(df_main)) * 100, 2), '%')"
   ]
  },
  {
   "cell_type": "markdown",
   "id": "ad2d1960-2861-4d71-a9d1-77fa2802cd29",
   "metadata": {},
   "source": [
    "Is there a specific road type that maybe I can attribute high & 0 lanes too?"
   ]
  },
  {
   "cell_type": "code",
   "execution_count": null,
   "id": "24d6169e-9608-4dc4-9da6-c872549147a5",
   "metadata": {
    "tags": []
   },
   "outputs": [],
   "source": [
    "df_main.plot(kind='scatter', x='road_category_catr', y='lane_count_nbv')\n",
    "plt.xticks(rotation=10)\n",
    "plt.axhline(y=0, color='r', linestyle='--')\n",
    "plt.axhline(y=8, color='r', linestyle='--')\n",
    "plt.show()\n",
    "\n",
    "#AP: added horizontal lines for y=0 (min lanes) & y=8 (max lanes I'll allow)"
   ]
  },
  {
   "cell_type": "markdown",
   "id": "457dd44c-862e-459f-ac1b-ef1a493828d7",
   "metadata": {},
   "source": [
    "No specific road type I can inveestigate for high or 0 lane count."
   ]
  },
  {
   "cell_type": "code",
   "execution_count": null,
   "id": "41466c69-97af-4406-a7c8-cc9a9e9e5441",
   "metadata": {},
   "outputs": [],
   "source": [
    "sns.scatterplot(data=df_main, x=df_main['date'].dt.year, y=df_main['lane_count_nbv'])\n",
    "plt.axhline(y=0, color='r', linestyle='--')\n",
    "plt.axhline(y=8, color='r', linestyle='--')\n",
    "plt.show()"
   ]
  },
  {
   "cell_type": "markdown",
   "id": "e478c69f-f0e3-44a0-aa1c-25cfa8c1dd4d",
   "metadata": {},
   "source": [
    "~2008 & ealier have the high values. Check to see the range of values for 2009 & later in order to figure out what I could replace the high values with~\n",
    "\n",
    "Will be dropping rows with >8 lanes, accounts for <0.5% of total data"
   ]
  },
  {
   "cell_type": "markdown",
   "id": "e1ae341b-e9d9-4eac-b4b6-7679b49c44be",
   "metadata": {},
   "source": [
    "**AP: Seems that there's a 2017 year, probably just have to drop that single row**\n",
    "#### Drop 2017 row"
   ]
  },
  {
   "cell_type": "code",
   "execution_count": null,
   "id": "f90d595c-4f9a-4ae3-a987-7dccd0c72b1f",
   "metadata": {
    "tags": []
   },
   "outputs": [],
   "source": [
    "df_main[df_main['date'].dt.year == 2017].index"
   ]
  },
  {
   "cell_type": "code",
   "execution_count": null,
   "id": "a08b5c9f-bade-47e5-8bce-05f539a238f9",
   "metadata": {
    "tags": []
   },
   "outputs": [],
   "source": [
    "df_main.drop(df_main[df_main['date'].dt.year == 2017].index, inplace=True)"
   ]
  },
  {
   "cell_type": "code",
   "execution_count": null,
   "id": "152f31e5-d6b1-4d42-b0dc-b3bf6bb29f69",
   "metadata": {
    "tags": []
   },
   "outputs": [],
   "source": [
    "df_main[df_main['date'].dt.year == 2017].index"
   ]
  },
  {
   "cell_type": "markdown",
   "id": "d454cd0f-eaaf-4604-bfe8-5aadf8649fb1",
   "metadata": {},
   "source": [
    "~AP: Starting at 2009, I want to see what the max value for lane count is~"
   ]
  },
  {
   "cell_type": "markdown",
   "id": "8f4be12a-679b-4ab3-92eb-5295212ec885",
   "metadata": {},
   "source": [
    "#### Drop rows with >8 lanes"
   ]
  },
  {
   "cell_type": "markdown",
   "id": "1c47c845-beb8-431e-a87c-c44a8272f101",
   "metadata": {},
   "source": [
    "converting prior used cells to raw so they don't eecute and I can keep the code for later reference.|"
   ]
  },
  {
   "cell_type": "raw",
   "id": "722c3753-db11-4847-a4bf-0a26136a0068",
   "metadata": {
    "jupyter": {
     "source_hidden": true
    },
    "tags": []
   },
   "source": [
    "#df_main[(df_main['date'].dt.year >= 2009) & (df_main['date'].dt.year <= 2016)][['date', 'lane_count_nbv']].sort_values(ascending=False, by='lane_count_nbv').head(15)\n",
    "\n",
    "df_main[(df_main['date'].dt.year >= 2009) & (df_main['date'].dt.year <= 2016)][['date', 'lane_count_nbv']].groupby(by=df_main['date'].dt.year).describe(include='int')"
   ]
  },
  {
   "cell_type": "raw",
   "id": "da98aaa2-ade7-42d6-96bf-7aad04c810b8",
   "metadata": {
    "jupyter": {
     "source_hidden": true
    },
    "tags": []
   },
   "source": [
    "df_main[df_main['date'].dt.year == 2009][['lane_count_nbv']].value_counts().sort_index(ascending=True)"
   ]
  },
  {
   "cell_type": "markdown",
   "id": "6013fbbb-fe29-4da6-827f-e1d2719cc15e",
   "metadata": {
    "tags": []
   },
   "source": [
    "~What kind of locations are these high number lanes?~"
   ]
  },
  {
   "cell_type": "raw",
   "id": "690f2de8-ee3d-48d6-949b-851b8397ed5d",
   "metadata": {
    "jupyter": {
     "source_hidden": true
    },
    "tags": []
   },
   "source": [
    "df_main[(df_main['date'].dt.year == 2009) & (df_main['lane_count_nbv'] > 6)][[\n",
    "    'lane_count_nbv', 'built_up_agg', 'intersection_type_int', 'road_category_catr', 'road_type_circ','infrastructure_infra']].sort_values(\n",
    "    by='lane_count_nbv', ascending=False)"
   ]
  },
  {
   "cell_type": "raw",
   "id": "f3175fa1-2ced-457c-8412-8efb8b6c5db2",
   "metadata": {
    "jupyter": {
     "source_hidden": true
    },
    "tags": []
   },
   "source": [
    "for col in ['built_up_agg', 'intersection_type_int', 'road_category_catr', 'road_type_circ', 'infrastructure_infra']:\n",
    "    sns.scatterplot(data=df_main, y='lane_count_nbv', x=col)\n",
    "    plt.xticks(rotation=45)\n",
    "    plt.show()"
   ]
  },
  {
   "cell_type": "code",
   "execution_count": null,
   "id": "70a79c7a-18b9-443a-91cb-f82474cda025",
   "metadata": {},
   "outputs": [],
   "source": [
    "df_main.drop(df_main[df_main['lane_count_nbv'] > 8].index, axis=0, inplace=True)"
   ]
  },
  {
   "cell_type": "code",
   "execution_count": null,
   "id": "f5ec4e9b-193b-4a38-be86-db90fe4da4a3",
   "metadata": {},
   "outputs": [],
   "source": [
    "df_main['lane_count_nbv'].value_counts(dropna=False).sort_index()"
   ]
  },
  {
   "cell_type": "markdown",
   "id": "453b2c71-1019-452c-b0e6-654d35482df6",
   "metadata": {},
   "source": [
    "AP: It is unclear (even from official documentation) whether lanes include ramps for highways. I am deciding to leave this as is."
   ]
  },
  {
   "cell_type": "markdown",
   "id": "de17bb16-2708-4ef7-94a1-49ac78c41c5f",
   "metadata": {},
   "source": [
    "#### Check zero lane roads"
   ]
  },
  {
   "cell_type": "code",
   "execution_count": null,
   "id": "d13b522d-4bfb-4017-bd17-4e49268e56d2",
   "metadata": {},
   "outputs": [],
   "source": [
    "df_main[df_main['lane_count_nbv'] == 0].sample(5)"
   ]
  },
  {
   "cell_type": "markdown",
   "id": "0627ba37-1a6d-48dd-97a5-99266c24713d",
   "metadata": {},
   "source": [
    "Plot value counts for cols corresponding to road type characteristics for lanes = 0"
   ]
  },
  {
   "cell_type": "code",
   "execution_count": null,
   "id": "3128063e-19af-4904-a8e3-1843bc46d76f",
   "metadata": {},
   "outputs": [],
   "source": [
    "for col in ['built_up_agg', 'intersection_type_int', 'road_category_catr', 'road_type_circ', 'reserved_lane_type_vosp', 'central_sep_width_lartpc', 'road_width_larrout', 'infrastructure_infra']:\n",
    "    print(df_main[df_main['lane_count_nbv'] == 0][col].value_counts().sort_values(ascending=False))\n",
    "    print()"
   ]
  },
  {
   "cell_type": "code",
   "execution_count": null,
   "id": "b8fa6c3b-1e28-490b-8937-2ee81f559156",
   "metadata": {},
   "outputs": [],
   "source": [
    "#warnings.filterwarnings('ignore')\n",
    "\n",
    "columns_to_plot = ['built_up_agg', 'intersection_type_int', 'road_category_catr', 'road_type_circ', 'reserved_lane_type_vosp', 'central_sep_width_lartpc', 'road_width_larrout', 'infrastructure_infra', 'crash_location_situ']\n",
    "n_cols = len(columns_to_plot)\n",
    "fig, axes = plt.subplots(nrows=5, ncols=2, figsize=(10, 10), layout=\"constrained\")\n",
    "axes = axes.flatten()\n",
    "\n",
    "for i, col in enumerate(columns_to_plot):\n",
    "    sns.histplot(df_main[col], ax=axes[i])\n",
    "    axes[i].set_title(col)\n",
    "    #axes[i].set_xlabel('')  # Remove x-axis labels for clarity if needed\n",
    "    #xes[i].set_ylabel('')\n",
    "    axes[i].tick_params(axis='x', labelrotation=15, labelsize=7)\n",
    "#plt.tight_layout()\n",
    "plt.show()\n",
    "\n",
    "#warnings.resetwarnings()"
   ]
  },
  {
   "cell_type": "markdown",
   "id": "dbbe9347-2c4c-412c-bed6-1d7645bde424",
   "metadata": {},
   "source": [
    "Majority characteristics for 0-lane roads:\n",
    "- In built up areas\n",
    "    - (built_up_agg = True)\n",
    "- Out of intersection\n",
    "    - intersection_type_int = out_of_intersection\n",
    "    - Implies either off a road or on stretch of road without intersection\n",
    "- municipal road type & departmental road\n",
    "    - road_category_catr = municipal_road OR departmental_road\n",
    "    - essentially a county road\n",
    "    - departmental road is essentially a toll-free highway\n",
    "- Two way road\n",
    "    - road_type_circ = two_way\n",
    "- No reserved lane\n",
    "    - reserved_lane_type_vosp = no_reserved_lane\n",
    "- no central separator in road\n",
    "    - central_sep_width_lartpc = 0\n",
    "- Majority of roads have a width of 0\n",
    "    - road_width_larrout = 0\n",
    "    - Strongly suggests this feature as the next to investigate for consistent and expected values\n",
    "- No infrastructure\n",
    "    - infrastructure_infra = none"
   ]
  },
  {
   "cell_type": "markdown",
   "id": "64fcc939-185c-4483-8c61-211c372c07ba",
   "metadata": {},
   "source": [
    "**Plan for replacing 0's :**\n",
    "\n",
    "base it off of road_desc_cols (that I'll create below)"
   ]
  },
  {
   "cell_type": "code",
   "execution_count": null,
   "id": "8ecea15e-c395-438b-8620-2b260bb69456",
   "metadata": {
    "tags": []
   },
   "outputs": [],
   "source": [
    "df_main[df_main['lane_count_nbv']==0]['lane_count_nbv'].value_counts(dropna=False).sort_index()"
   ]
  },
  {
   "cell_type": "code",
   "execution_count": null,
   "id": "b550e700-e757-4607-82cf-0fab3e918343",
   "metadata": {
    "tags": []
   },
   "outputs": [],
   "source": [
    "road_desc_cols = ['built_up_agg', 'intersection_type_int', 'road_category_catr', 'road_type_circ', 'reserved_lane_type_vosp', 'infrastructure_infra', 'crash_location_situ']"
   ]
  },
  {
   "cell_type": "code",
   "execution_count": null,
   "id": "db260a56-618b-48b3-9bab-88a85d5faadd",
   "metadata": {
    "tags": []
   },
   "outputs": [],
   "source": [
    "warnings.filterwarnings('ignore')\n",
    "\n",
    "for col in road_desc_cols:\n",
    "    sns.histplot(data=df_main[df_main['lane_count_nbv']==0][[col]], x=df_main[df_main['lane_count_nbv']==0][col])\n",
    "    plt.title(col)\n",
    "    plt.xticks(rotation=15)\n",
    "    plt.figure(figsize=(6,3))\n",
    "    plt.show\n",
    "\n",
    "warnings.resetwarnings()"
   ]
  },
  {
   "cell_type": "code",
   "execution_count": null,
   "id": "7af0fd69-f448-49cc-8292-79da368af834",
   "metadata": {},
   "outputs": [],
   "source": [
    "df_main.loc[(df_main['lane_count_nbv'] == 0) &\n",
    "    (df_main['road_type_circ'] == 'one_way') & \n",
    "    (df_main['road_category_catr'] == 'municipal_road'),\n",
    "    'lane_count_nbv'\n",
    "] = 1"
   ]
  },
  {
   "cell_type": "code",
   "execution_count": null,
   "id": "f57a0f4e-8376-48bc-8904-47d3ef6d032e",
   "metadata": {
    "tags": []
   },
   "outputs": [],
   "source": [
    "df_main[df_main['lane_count_nbv']==0]['lane_count_nbv'].value_counts(dropna=False).sort_index()"
   ]
  },
  {
   "cell_type": "code",
   "execution_count": null,
   "id": "fdb6248d-a50d-4cca-9a76-c58e48f12381",
   "metadata": {
    "tags": []
   },
   "outputs": [],
   "source": [
    "df_main[df_main['lane_count_nbv']==0]['crash_location_situ'].value_counts()"
   ]
  },
  {
   "cell_type": "code",
   "execution_count": null,
   "id": "0707ae36-484f-4fae-8713-0f6261db44b9",
   "metadata": {},
   "outputs": [],
   "source": [
    "#duplicates check\n",
    "\n",
    "df_main[df_main.duplicated(keep=False)].sort_values(by='date')"
   ]
  },
  {
   "cell_type": "code",
   "execution_count": null,
   "id": "808e8236-5987-40e6-a3be-394ff82d5080",
   "metadata": {},
   "outputs": [],
   "source": [
    "df_main.loc[(df_main['lane_count_nbv'] == 0) &\n",
    "    ((df_main['road_category_catr'] == 'autoroutes') |\n",
    "        (~df_main['road_category_catr'].isin(['other', 'parking_lot'])) |\n",
    "        (df_main['road_type_circ']!='other') |\n",
    "        (df_main['intersection_type_int']!='other') |\n",
    "        (df_main['reserved_lane_type_vosp']!='no_reserved_lane') |\n",
    "        (df_main['central_sep_width_lartpc'] != 0) |\n",
    "        (df_main['road_slope_prof'] != 'other') |\n",
    "        (df_main['road_curvature_plan'] != 'other') |\n",
    "        (~df_main['infrastructure_infra'].isin(['none', 'pedestrian_area', 'railway'])) |\n",
    "        (~df_main['crash_location_situ'].isin(['none', 'bike_path']))\n",
    "    ),'lane_count_nbv'\n",
    "    ] = 2"
   ]
  },
  {
   "cell_type": "code",
   "execution_count": null,
   "id": "74796071-8c9c-4d73-a540-1f0b26b40f65",
   "metadata": {
    "tags": []
   },
   "outputs": [],
   "source": [
    "#Ensure 0 lanes for applicable situations (i.e. parking lots)\n",
    "#make sure not to add 0 lane observations. Noticed that \n",
    "df_main.loc[(df_main['lane_count_nbv'] != 0) & \n",
    "    (df_main['road_category_catr'] == 'parking_lot'),\n",
    "    'lane_count_nbv'\n",
    "    ] = 0"
   ]
  },
  {
   "cell_type": "code",
   "execution_count": null,
   "id": "495a7902-241e-4d6c-ac61-603cf228d620",
   "metadata": {
    "tags": []
   },
   "outputs": [],
   "source": [
    "df_main[df_main['lane_count_nbv']==0]['lane_count_nbv'].value_counts(dropna=False).sort_index()"
   ]
  },
  {
   "cell_type": "markdown",
   "id": "4d4be4fd-764a-4bad-9bb3-f4762560d3c6",
   "metadata": {},
   "source": [
    "Plot distributions of vals for 0 lanes:"
   ]
  },
  {
   "cell_type": "code",
   "execution_count": null,
   "id": "ab89935c-0970-4f99-b26c-5cca8b57b010",
   "metadata": {
    "tags": []
   },
   "outputs": [],
   "source": [
    "warnings.filterwarnings('ignore')\n",
    "\n",
    "for col in road_desc_cols:\n",
    "    sns.histplot(data=df_main[df_main['lane_count_nbv']==0][[col]], x=df_main[df_main['lane_count_nbv']==0][col])\n",
    "    plt.title(col)\n",
    "    plt.xticks(rotation=25)\n",
    "    plt.figure(figsize=(6,3))\n",
    "    plt.show\n",
    "    \n",
    "warnings.resetwarnings()"
   ]
  },
  {
   "cell_type": "markdown",
   "id": "2b7ff925-42f8-4a6e-8352-998ce24cbd32",
   "metadata": {},
   "source": [
    "Still some rows where lanes shouldn't be zero"
   ]
  },
  {
   "cell_type": "code",
   "execution_count": null,
   "id": "f6e4506d-a2c1-4b2f-a203-3205b8b5d7b0",
   "metadata": {},
   "outputs": [],
   "source": [
    "for col in road_desc_cols:\n",
    "    print(df_main[df_main['lane_count_nbv']==0][col].value_counts(dropna=False))\n",
    "    print()"
   ]
  },
  {
   "cell_type": "markdown",
   "id": "2eec7c5f-be65-45de-b4ad-8a4f0fe5caff",
   "metadata": {},
   "source": [
    "Where should not be 0 lanes: (& how many lanes can be reasonably & minimally expected)\n",
    "\n",
    "- intersection_type_int\n",
    "    - x_intersection\n",
    "        - 2\n",
    "    - t_intersection\n",
    "        - 2\n",
    "    - roundabout\n",
    "        - 1\n",
    "    - 4+_intersection\n",
    "        - 2\n",
    "    - y_intersection\n",
    "        - 2\n",
    "    - level_crossing\n",
    "        - 1\n",
    "- road_type_circ\n",
    "    - two_way\n",
    "        - 2\n",
    "    - one_way\n",
    "        - 1\n",
    "    - variable_assignment\n",
    "        - 1\n",
    "    - seperated_carriageway\n",
    "        - 2\n",
    "- reserved_lane_type_vosp\n",
    "    - reserved_lane\n",
    "        - 1\n",
    "- infrastructure_infra\n",
    "    - tunnel\n",
    "        - 1\n",
    "    - carrefour_arranged\n",
    "        - 2\n",
    "    - bridge\n",
    "        - 1\n",
    "    - interchange\n",
    "        - 2\n",
    "    - toll_zone\n",
    "        - 1\n",
    "- crash_location_situ\n",
    "    - road\n",
    "        - 2 (reason: most roads are two lane (two-way))\n",
    "    - verge\n",
    "        - 1\n",
    "    - emergency_stop_lane\n",
    "        - 2"
   ]
  },
  {
   "cell_type": "code",
   "execution_count": null,
   "id": "83735312-f571-4ed1-aae0-0ea27109e8f2",
   "metadata": {},
   "outputs": [],
   "source": [
    "#changing one-by-one\n",
    "\n",
    "#intersection_type_int 2 lanes\n",
    "df_main.loc[(df_main['lane_count_nbv'] == 0) &\n",
    "    (df_main['intersection_type_int'].isin(['x_intersection', 't_intersection', '4+_intersection', 'y_intersection']))\n",
    "    , 'lane_count_nbv'] = 2\n",
    "\n",
    "#intersection_type_int 1 lane\n",
    "df_main.loc[(df_main['lane_count_nbv'] == 0) &\n",
    "    (df_main['intersection_type_int'].isin(['roundabout', 'level_crossing']))\n",
    "    , 'lane_count_nbv'] = 1\n",
    "\n",
    "#road_type_circ 2 lanes\n",
    "df_main.loc[(df_main['lane_count_nbv'] == 0) &\n",
    "    (df_main['road_type_circ'].isin(['two_way', 'seperated_carriageway']))\n",
    "    , 'lane_count_nbv'] = 2\n",
    "\n",
    "#road_type_circ 1 lane\n",
    "df_main.loc[(df_main['lane_count_nbv'] == 0) &\n",
    "    (df_main['road_type_circ'].isin(['one_way', 'variable_assignment']))\n",
    "    , 'lane_count_nbv'] = 1\n",
    "\n",
    "#reserved_lane_type_vosp 1 lane\n",
    "df_main.loc[(df_main['lane_count_nbv'] == 0) &\n",
    "    (df_main['reserved_lane_type_vosp'].isin(['reserved_lane']))\n",
    "    , 'lane_count_nbv'] = 1\n",
    "\n",
    "#infrastructure_infra 2 lanes\n",
    "df_main.loc[(df_main['lane_count_nbv'] == 0) &\n",
    "    (df_main['infrastructure_infra'].isin(['carrefour_arrange', 'interchange']))\n",
    "    , 'lane_count_nbv'] = 2\n",
    "\n",
    "#infrastructure_infra 1 lane\n",
    "df_main.loc[(df_main['lane_count_nbv'] == 0) &\n",
    "    (df_main['infrastructure_infra'].isin(['tunnel', 'bridge', 'toll_zone']))\n",
    "    , 'lane_count_nbv'] = 1\n",
    "\n",
    "#crash_location_situ 2 lanes\n",
    "df_main.loc[(df_main['lane_count_nbv'] == 0) &\n",
    "    (df_main['crash_location_situ'].isin(['road', 'emergency_stop_lane']))\n",
    "    , 'lane_count_nbv'] = 2\n",
    "\n",
    "#crash_location_situ 1 lane\n",
    "df_main.loc[(df_main['lane_count_nbv'] == 0) & \n",
    "    (df_main['crash_location_situ'].isin(['verge']))\n",
    "    , 'lane_count_nbv'] = 2"
   ]
  },
  {
   "cell_type": "code",
   "execution_count": null,
   "id": "c695f904-2b4b-493b-81c9-e80f5f96e3a2",
   "metadata": {},
   "outputs": [],
   "source": [
    "for col in road_desc_cols:\n",
    "    print(df_main[df_main['lane_count_nbv']==0][col].value_counts(dropna=False))\n",
    "    print()"
   ]
  },
  {
   "cell_type": "markdown",
   "id": "5f17f859-84c7-4876-a1c1-e7df5937bcd4",
   "metadata": {},
   "source": [
    "That puts the lane crisis to bed\n",
    "___"
   ]
  },
  {
   "cell_type": "markdown",
   "id": "52432aab-141a-4b25-b687-6de547d6c936",
   "metadata": {},
   "source": [
    "### central_sep_width_lartpc check\n",
    "\n",
    "The presence of a separator should be enough rather that the actual width in meters.\n",
    "\n",
    "**Plan on adding a ~bool col of True/False~ int type (0/1) for presence of separator, then dropping this col**"
   ]
  },
  {
   "cell_type": "code",
   "execution_count": null,
   "id": "5e0da411-72f4-4de9-a018-2081203ef458",
   "metadata": {
    "tags": []
   },
   "outputs": [],
   "source": [
    "print(df_main['central_sep_width_lartpc'].value_counts())\n",
    "df_main['central_sep_width_lartpc'].hist()"
   ]
  },
  {
   "cell_type": "markdown",
   "id": "31a16e61-06da-4b22-97ab-a802489dec40",
   "metadata": {},
   "source": [
    "#### Create ~bool~ int (0/1) col for sep_present"
   ]
  },
  {
   "cell_type": "code",
   "execution_count": null,
   "id": "56cafde2-3233-43d9-a3ab-b767a358201b",
   "metadata": {},
   "outputs": [],
   "source": [
    "df_main['sep_present'] = df_main['central_sep_width_lartpc'] == 0"
   ]
  },
  {
   "cell_type": "code",
   "execution_count": null,
   "id": "8b969a44-2f18-44ac-8539-75b28cbe20b0",
   "metadata": {},
   "outputs": [],
   "source": [
    "print(df_main[['sep_present']].dtypes)\n",
    "df_main[['sep_present']].head(8)"
   ]
  },
  {
   "cell_type": "code",
   "execution_count": null,
   "id": "1d0b6280-4a73-4d34-b374-0cf27ddd31e2",
   "metadata": {},
   "outputs": [],
   "source": [
    "df_main['sep_present'] = df_main['sep_present'].astype('int')"
   ]
  },
  {
   "cell_type": "code",
   "execution_count": null,
   "id": "0eeda6e6-abb8-402a-b4c2-8cd42e984522",
   "metadata": {},
   "outputs": [],
   "source": [
    "print(df_main[['sep_present']].dtypes)\n",
    "df_main[['sep_present']].head(8)"
   ]
  },
  {
   "cell_type": "markdown",
   "id": "c6c068a7-4f86-4a44-a63a-5544a27d477e",
   "metadata": {},
   "source": [
    "#### Drop central_sep_width_lartpc col"
   ]
  },
  {
   "cell_type": "code",
   "execution_count": null,
   "id": "c728f6ff-324b-4c4b-bd6f-acee09dca48d",
   "metadata": {},
   "outputs": [],
   "source": [
    "df_main.drop('central_sep_width_lartpc', axis=1, inplace=True)"
   ]
  },
  {
   "cell_type": "code",
   "execution_count": null,
   "id": "4a57c77f-e32e-4b3a-b81c-77f09d4e0d4e",
   "metadata": {},
   "outputs": [],
   "source": [
    "'central_sep_width_lartpc' in df_main.columns"
   ]
  },
  {
   "cell_type": "code",
   "execution_count": null,
   "id": "cfba14b0-c984-4c9e-ba18-e1cae746a2db",
   "metadata": {},
   "outputs": [],
   "source": [
    "df_main['sep_present'].value_counts()"
   ]
  },
  {
   "cell_type": "markdown",
   "id": "4660f8d6-71ae-4800-96d3-250ab4d874f5",
   "metadata": {},
   "source": [
    "### road_width_larrout check"
   ]
  },
  {
   "cell_type": "code",
   "execution_count": null,
   "id": "ddd330f6-b3e3-4e63-852f-93825ca88f5a",
   "metadata": {},
   "outputs": [],
   "source": [
    "print(df_main['road_width_larrout'].value_counts().sort_index())\n",
    "print('\\nnunique:',df_main['road_width_larrout'].nunique())\n",
    "df_main['road_width_larrout'].hist()"
   ]
  },
  {
   "cell_type": "code",
   "execution_count": null,
   "id": "8878b6c8-8f64-44d4-8b3f-70d83b285358",
   "metadata": {},
   "outputs": [],
   "source": [
    "len(df_main[df_main['road_width_larrout'] > 0])"
   ]
  },
  {
   "cell_type": "markdown",
   "id": "5475d8e9-e25f-42ed-9789-575077ee671e",
   "metadata": {},
   "source": [
    "##### **Dropping col**\n",
    "\n",
    "Dropping based on usefullness of knowing width of the road for purpose of knowing where to send personnel & resources. The width of the road is not normally easily known, especially ot readily available during emergency situtations."
   ]
  },
  {
   "cell_type": "code",
   "execution_count": null,
   "id": "cfd7d3a1-b063-45ce-8775-7379ebf9c63b",
   "metadata": {},
   "outputs": [],
   "source": [
    "df_main.drop('road_width_larrout', axis=1, inplace=True)"
   ]
  },
  {
   "cell_type": "code",
   "execution_count": null,
   "id": "e571c51f-d365-4c0d-8386-c5d245625710",
   "metadata": {},
   "outputs": [],
   "source": [
    "'road_width_larrout' in df_main.columns"
   ]
  },
  {
   "cell_type": "markdown",
   "id": "a347172d-e783-440e-a1c4-1c567237120e",
   "metadata": {},
   "source": [
    "## Drop more columns\n",
    "\n",
    "- acc_id\n",
    "- collision_type_col\n",
    "    - would be useful if predicting severity of crash. Currently just interested in if specific location or conditions would have high crash probability\n",
    "- crash_location_situ\n",
    "    - post-crash info. would be potentially useful if predicting severity of crash."
   ]
  },
  {
   "cell_type": "code",
   "execution_count": null,
   "id": "32a9cb3e-68dc-4a35-9eed-0a19a1b2306a",
   "metadata": {},
   "outputs": [],
   "source": [
    "df_main.drop(columns=['acc_id', 'collision_type_col', 'crash_location_situ'], inplace=True)"
   ]
  },
  {
   "cell_type": "code",
   "execution_count": null,
   "id": "4d4aa6cb-306d-4640-b647-d8030383c07d",
   "metadata": {},
   "outputs": [],
   "source": [
    "for col in ['acc_id', 'collision_type_col', 'crash_location_situ']:\n",
    "    print(f'{col} col in df_main: {col in df_main.columns}')"
   ]
  },
  {
   "cell_type": "code",
   "execution_count": null,
   "id": "67bf52d4-f40d-4fdd-bc36-d98c8d26fcce",
   "metadata": {},
   "outputs": [],
   "source": [
    "##reset index, mostly as a just-in-case. Looks fine from doing df.head(), just want to be sure\n",
    "df_main.reset_index(drop=True, inplace=True)"
   ]
  },
  {
   "cell_type": "code",
   "execution_count": null,
   "id": "272e9e04-888d-492a-ae20-62b126e02e61",
   "metadata": {},
   "outputs": [],
   "source": [
    "df_main.tail()"
   ]
  },
  {
   "cell_type": "markdown",
   "id": "54089f4c-b760-467b-bbd8-4bb652d7baf5",
   "metadata": {},
   "source": [
    "## convert to int type\n",
    "\n",
    "Bools &\n",
    "\n",
    "['hour', sep_present, & lane_count_nbv] from int32 to int64 just for consistency"
   ]
  },
  {
   "cell_type": "code",
   "execution_count": null,
   "id": "5c16e60c-fc61-4f36-b5f6-b7f4791ad57b",
   "metadata": {},
   "outputs": [],
   "source": [
    "df_main.dtypes"
   ]
  },
  {
   "cell_type": "code",
   "execution_count": null,
   "id": "d47fe367-c456-45ca-892c-024a2e8a8ebf",
   "metadata": {},
   "outputs": [],
   "source": [
    "#'hour', 'sep_present', & 'lane_count_nbv' cols\n",
    "\n",
    "df_main[['hour', 'sep_present', 'lane_count_nbv']] = df_main[['hour', 'sep_present', 'lane_count_nbv']].astype('int64')\n",
    "print(df_main[['hour', 'sep_present', 'lane_count_nbv']].dtypes)"
   ]
  },
  {
   "cell_type": "code",
   "execution_count": null,
   "id": "025249f4-2314-4f86-a303-c37ebad58f10",
   "metadata": {},
   "outputs": [],
   "source": [
    "#is_weekend & is_holiday cols\n",
    "\n",
    "df_main[['is_weekend', 'is_holiday']] = df_main[['is_weekend', 'is_holiday']].astype('int64')\n",
    "print(df_main[['is_weekend', 'is_holiday']].dtypes)"
   ]
  },
  {
   "cell_type": "markdown",
   "id": "1d311fef-4375-47bf-a1ef-60ae68c874ef",
   "metadata": {},
   "source": [
    "## A check before doing Full EDA"
   ]
  },
  {
   "cell_type": "code",
   "execution_count": null,
   "id": "ce58cce5-bef8-43e0-aecd-97ae0436a7c5",
   "metadata": {},
   "outputs": [],
   "source": [
    "df_main.head()"
   ]
  },
  {
   "cell_type": "code",
   "execution_count": null,
   "id": "5c38daa0-2c3c-46ea-905b-c492bfd74367",
   "metadata": {},
   "outputs": [],
   "source": [
    "df_main.info()"
   ]
  },
  {
   "cell_type": "markdown",
   "id": "923bd16c-bf90-4487-9fe6-6b24ffb3c934",
   "metadata": {},
   "source": [
    "## Reorder cols to group by general theme\n",
    "Easier for me to mentally parse.\n",
    "\n",
    "Themes such as \"road description\", \"driving conditions\", \"weather condition\", \"temporal description\""
   ]
  },
  {
   "cell_type": "code",
   "execution_count": null,
   "id": "c44eb851-c858-4f5b-8286-7a0c8e81af2e",
   "metadata": {},
   "outputs": [],
   "source": [
    "df_main = df_main[[\n",
    "    #road desc.\n",
    "    'road_category_catr', 'road_type_circ', 'intersection_type_int', 'lane_count_nbv', 'reserved_lane_type_vosp', 'sep_present', 'built_up_agg', 'road_slope_prof', 'road_curvature_plan', 'infrastructure_infra',\n",
    "    #driving cond.\n",
    "    'surface_cond_surf', 'ped_present',\n",
    "    #weather\n",
    "    'weather_atm', 'luminosity_lum',\n",
    "    #Temporal\n",
    "    'date', 'hour', 'day_of_week', 'is_weekend', 'is_holiday']]\n",
    "\n",
    "#make lists of col names for each group (less typing for future me)\n",
    "desc_road = ['road_category_catr', 'road_type_circ', 'intersection_type_int', 'lane_count_nbv', 'reserved_lane_type_vosp', 'sep_present', 'built_up_agg', 'road_slope_prof', 'road_curvature_plan', 'infrastructure_infra']\n",
    "desc_driving = ['surface_cond_surf', 'ped_present']\n",
    "desc_weather = ['weather_atm', 'luminosity_lum']\n",
    "desc_time = ['date', 'hour', 'day_of_week', 'is_weekend', 'is_holiday']"
   ]
  },
  {
   "cell_type": "code",
   "execution_count": null,
   "id": "80db9076-a7fb-4f22-bdca-636f809271fc",
   "metadata": {},
   "outputs": [],
   "source": [
    "#make sure I didn't miss any\n",
    "print(len(desc_driving + desc_road + desc_time + desc_weather))\n",
    "print(len(df_main.columns))"
   ]
  },
  {
   "cell_type": "code",
   "execution_count": null,
   "id": "29f9a08c-c44a-41b7-afdd-2d6ea0a2559b",
   "metadata": {},
   "outputs": [],
   "source": [
    "df_main.head(2)"
   ]
  },
  {
   "cell_type": "markdown",
   "id": "eb2cadf2-55ed-46ab-b937-a06d23afcb92",
   "metadata": {},
   "source": [
    "# EDA"
   ]
  },
  {
   "cell_type": "markdown",
   "id": "21533e32-cbe8-4005-84f0-95ddd917e726",
   "metadata": {},
   "source": [
    "Hypotheses:\n",
    "- majority of crashes occur for:\n",
    "    - conditions:\n",
    "        - no light\n",
    "        - bad weather (heavy rain, storm)\n",
    "        - common slippery surface conditions (ice, snowy, wet)\n",
    "    - road types:\n",
    "        - built-up\n",
    "        - out_of_intersection\n",
    "        - Municipal road type\n",
    "        - two-way road\n",
    "    - Time conditions\n",
    "        - weekends & holidays"
   ]
  },
  {
   "cell_type": "code",
   "execution_count": null,
   "id": "5f45fb56-e17f-406b-986e-9125eca2b0f7",
   "metadata": {},
   "outputs": [],
   "source": [
    "df_main.head()"
   ]
  },
  {
   "cell_type": "code",
   "execution_count": null,
   "id": "b3dda774-71f3-4140-bea5-6efbce2012c0",
   "metadata": {},
   "outputs": [],
   "source": [
    "df_main.info()"
   ]
  },
  {
   "cell_type": "markdown",
   "id": "c0650667-97a0-46b1-a933-27fd507891ae",
   "metadata": {},
   "source": [
    "## Summary Stats"
   ]
  },
  {
   "cell_type": "code",
   "execution_count": null,
   "id": "4ea5470f-f2cf-48b2-bdd6-cf8e200ae50f",
   "metadata": {},
   "outputs": [],
   "source": [
    "#road description\n",
    "df_main[desc_road].describe(include='all')"
   ]
  },
  {
   "cell_type": "code",
   "execution_count": null,
   "id": "d469a819-8db6-4e7e-8441-732eecc8c575",
   "metadata": {},
   "outputs": [],
   "source": [
    "#desc_driving\n",
    "df_main[desc_driving].describe(include='all')"
   ]
  },
  {
   "cell_type": "code",
   "execution_count": null,
   "id": "c47044e5-d169-40bc-9c7f-a803d9332c33",
   "metadata": {},
   "outputs": [],
   "source": [
    "#desc_weather\n",
    "df_main[desc_weather].describe(include='all')"
   ]
  },
  {
   "cell_type": "code",
   "execution_count": null,
   "id": "6e6de297-6614-46f8-87c7-4ea508189a9d",
   "metadata": {},
   "outputs": [],
   "source": [
    "#desc_time\n",
    "df_main[desc_time].describe(include='all')"
   ]
  },
  {
   "cell_type": "markdown",
   "id": "67410bd1-48a5-4a48-b74c-937bdeb050e2",
   "metadata": {},
   "source": [
    "## Single Feature Distributions"
   ]
  },
  {
   "cell_type": "markdown",
   "id": "dd42045e-4a1d-4429-ac6f-f5339ce3d7cf",
   "metadata": {},
   "source": [
    "road description"
   ]
  },
  {
   "cell_type": "code",
   "execution_count": null,
   "id": "f2aecd0a-d89c-4e73-8f62-03fbfb382dbf",
   "metadata": {},
   "outputs": [],
   "source": [
    "warnings.filterwarnings('ignore')\n",
    "\n",
    "#added percentage annotations\n",
    "fig, axes = plt.subplots(5, 2, layout='tight', figsize=(10, 15))\n",
    "axes = axes.flatten()\n",
    "\n",
    "for ax, col in zip(axes, desc_road):\n",
    "    if df_main[col].dtype == 'category' or df_main[col].dtype == 'bool':\n",
    "        df_main[col].value_counts().plot(kind='bar', ax=ax, include_bool=True)\n",
    "\n",
    "        total = df_main[col].count()\n",
    "        for p in ax.patches:\n",
    "            height = p.get_height()\n",
    "            percent = 100 * height / total\n",
    "            ax.annotate(f'{percent:.1f}%', \n",
    "                        (p.get_x() + p.get_width() / 2, height), \n",
    "                        ha='center', va='center', \n",
    "                        xytext=(0, 5), \n",
    "                        textcoords='offset points')\n",
    "\n",
    "    else:\n",
    "        df_main[col].plot(kind='hist', ax=ax)\n",
    "            #note: sns.histplot was having 4 lanes as highest proportion, switched to pandas/matplotlib syntax\n",
    "        counts, bins = np.histogram(df_main[col], bins='auto')\n",
    "        total = counts.sum()\n",
    "        bin_centers = 0.5 * (bins[:-1] + bins[1:])\n",
    "        for center, count in zip(bin_centers, counts):\n",
    "            percent = 100 * count / total\n",
    "            ax.annotate(f'{percent:.1f}%', \n",
    "                        (center, count), \n",
    "                        ha='center', va='bottom', \n",
    "                        xytext=(0, 5), \n",
    "                        textcoords='offset points')\n",
    "\n",
    "    ax.set_title(f'Distribution of {col}')\n",
    "    ax.set_xlabel(col)\n",
    "    ax.set_ylabel('Frequency')\n",
    "    ax.set_xticklabels(ax.get_xticklabels(), rotation=15)\n",
    "    ax.yaxis.grid(True)\n",
    "\n",
    "plt.show()\n",
    "\n",
    "warnings.resetwarnings()"
   ]
  },
  {
   "cell_type": "markdown",
   "id": "662636a8-ff06-4578-9689-8b0361d66784",
   "metadata": {},
   "source": [
    "**Observations:**\n",
    "\n",
    "- municipal & departmental roads have majority of crashes\n",
    "- two way roads\n",
    "- out of intersection\n",
    "    - can imply off road as well as parts of road between intersections\n",
    "- 2 lane roads\n",
    "- no reserved lane\n",
    "    - follows that municipal roads don't usually have a reserved lane\n",
    "- separator is commonly present (separating opposite traffic direction)\n",
    "- Commonly in built up areas\n",
    "    - ex. within a city rather than in the country-side\n",
    "- dish road slope\n",
    "    - i.e. a valley between 2 hills\n",
    "- straight roads are where majority of crashes occur\n",
    "    - Makes sense based on assumption that majority of road length is straight (would require deeper research to verify)\n",
    "    - Previously thought that 's_shape' would have higher proportion\n",
    "- no infrastructure present for most crashes"
   ]
  },
  {
   "cell_type": "markdown",
   "id": "e978dabf-ed98-46aa-9254-ee6f88da63cb",
   "metadata": {},
   "source": [
    "desc_driving"
   ]
  },
  {
   "cell_type": "code",
   "execution_count": null,
   "id": "ed077508-260d-4aea-86cb-749a6f55c5e1",
   "metadata": {},
   "outputs": [],
   "source": [
    "warnings.filterwarnings('ignore')\n",
    "\n",
    "#added percentage annotations\n",
    "fig, axes = plt.subplots(nrows=1, ncols=2, layout='constrained', figsize=(8, 4))\n",
    "\n",
    "for ax, col in zip(axes, desc_driving):\n",
    "    df_main[col].value_counts().plot(kind='bar', ax=ax, include_bool=True)\n",
    "\n",
    "    total = df_main[col].count()\n",
    "    for p in ax.patches:\n",
    "        height = p.get_height()\n",
    "        percent = 100 * height / total\n",
    "        ax.annotate(f'{percent:.1f}%', \n",
    "                    (p.get_x() + p.get_width() / 2, height), \n",
    "                    ha='center', va='center', \n",
    "                    xytext=(0, 5), \n",
    "                    textcoords='offset points')\n",
    "\n",
    "    ax.set_title(f'Distribution of {col}')\n",
    "    ax.set_xlabel(col)\n",
    "    ax.set_ylabel('Frequency')\n",
    "    ax.set_xticklabels(ax.get_xticklabels(), rotation=20)\n",
    "    ax.yaxis.grid(True)\n",
    "\n",
    "plt.show()\n",
    "\n",
    "warnings.resetwarnings()"
   ]
  },
  {
   "cell_type": "markdown",
   "id": "11894a6b-95f6-488c-8d9c-9bd277ca1c90",
   "metadata": {},
   "source": [
    "**Observations:**\n",
    "\n",
    "- Dry roads are most common with wet road surfaces being a distant second ('other' being even more distant third)\n",
    "    - Makes sense as dry conditions are extremely common compared to any other\n",
    "- Pedestrians are not commonly present in a crash"
   ]
  },
  {
   "cell_type": "markdown",
   "id": "3c64d4ff-e07d-4bff-8226-b2184b72512f",
   "metadata": {},
   "source": [
    "desc_weather"
   ]
  },
  {
   "cell_type": "code",
   "execution_count": null,
   "id": "727f48da-1d78-4930-838a-d1b653294c49",
   "metadata": {},
   "outputs": [],
   "source": [
    "warnings.filterwarnings('ignore')\n",
    "\n",
    "#added percentage annotations\n",
    "fig, axes = plt.subplots(nrows=1, ncols=2, layout='constrained', figsize=(8, 4))\n",
    "\n",
    "for ax, col in zip(axes, desc_weather):\n",
    "    df_main[col].value_counts().plot(kind='bar', ax=ax, include_bool=True)\n",
    "\n",
    "    total = df_main[col].count()\n",
    "    for p in ax.patches:\n",
    "        height = p.get_height()\n",
    "        percent = 100 * height / total\n",
    "        ax.annotate(f'{percent:.1f}%', \n",
    "                    (p.get_x() + p.get_width() / 2, height), \n",
    "                    ha='center', va='center', \n",
    "                    xytext=(0, 5), \n",
    "                    textcoords='offset points')\n",
    "\n",
    "    ax.set_title(f'Distribution of {col}')\n",
    "    ax.set_xlabel(col)\n",
    "    ax.set_ylabel('Frequency')\n",
    "    ax.set_xticklabels(ax.get_xticklabels(), rotation=20)\n",
    "    ax.yaxis.grid(True)\n",
    "\n",
    "plt.show()\n",
    "\n",
    "warnings.resetwarnings()"
   ]
  },
  {
   "cell_type": "markdown",
   "id": "e0115c8b-0ee1-4ba8-90b3-6c7a7e441cfc",
   "metadata": {},
   "source": [
    "**Observations:**\n",
    "\n",
    "- Majority is 'normal' weather\n",
    "    - implying reasonable sunshine for visibility, sparse cloud cover, and no percipitation\n",
    "- light rain is distant second weather condition for crashes\n",
    "- full daylight is present for majority of crashes\n",
    "    - Indicates that crash occured during day time\n",
    "        - (time-series plots below show most crashes occur between 8am-7pm) (sunset time varies through the year but avg's after 7pm (https://sunrise-sunset.org/france))\n",
    "    - Makes sense as 'normal' weather is most common\n",
    "- night time with artificial lighting is distantly second most common for crashes\n",
    "    - Original expectation was that less lighting (lum_night_no_light or lum_twighlight) would be in greater proportion"
   ]
  },
  {
   "cell_type": "markdown",
   "id": "0967d52f-4624-4f76-9b05-d48773669c22",
   "metadata": {},
   "source": [
    "desc_time"
   ]
  },
  {
   "cell_type": "code",
   "execution_count": null,
   "id": "4103d56b-c217-4e49-a382-490f2bd12488",
   "metadata": {},
   "outputs": [],
   "source": [
    "warnings.filterwarnings('ignore')\n",
    "\n",
    "#added percentage annotations\n",
    "fig, axes = plt.subplots(nrows=3, ncols=2, layout='constrained', figsize=(12, 10))\n",
    "axes = axes.flatten()\n",
    "\n",
    "for ax, col in zip(axes, desc_time):\n",
    "    if col == 'date':\n",
    "        monthly_counts = df_main.set_index('date')\n",
    "        monthly_counts = monthly_counts.resample('M').size()\n",
    "        monthly_counts.plot(ax=ax)\n",
    "        #df_main.set_index('date')[col].resample('M').size().plot(ax=ax)\n",
    "        ax.set_title(f'Monthly Trend of Records')\n",
    "        ax.set_xlabel('Date')\n",
    "        ax.set_ylabel('Count')\n",
    "\n",
    "    elif col == 'hour':\n",
    "        sns.histplot(df_main[col], bins=24, ax=ax)\n",
    "\n",
    "        counts, bins = np.histogram(df_main[col], bins=24)\n",
    "        total = counts.sum()\n",
    "        bin_centers = 0.5 * (bins[:-1] + bins[1:])\n",
    "        for center, count in zip(bin_centers, counts):\n",
    "            percent = 100 * count / total\n",
    "            ax.annotate(f'{percent:.1f}%', \n",
    "                        (center, count), \n",
    "                        ha='center', va='bottom', \n",
    "                        xytext=(0, 5), \n",
    "                        textcoords='offset points')\n",
    "\n",
    "\n",
    "    elif df_main[col].dtype == 'category' or df_main[col].dtype == 'bool':\n",
    "        df_main[col].value_counts().plot(kind='bar', ax=ax, include_bool=True)\n",
    "\n",
    "        total = df_main[col].count()\n",
    "        for p in ax.patches:\n",
    "            height = p.get_height()\n",
    "            percent = 100 * height / total\n",
    "            ax.annotate(f'{percent:.1f}%', \n",
    "                        (p.get_x() + p.get_width() / 2, height), \n",
    "                        ha='center', va='center', \n",
    "                        xytext=(0, 5), \n",
    "                        textcoords='offset points')\n",
    "\n",
    "    else:\n",
    "        df_main[col].plot(kind='hist', ax=ax)\n",
    "\n",
    "        counts, bins = np.histogram(df_main[col], bins='auto')\n",
    "        total = counts.sum()\n",
    "        bin_centers = 0.5 * (bins[:-1] + bins[1:])\n",
    "        for center, count in zip(bin_centers, counts):\n",
    "            percent = 100 * count / total\n",
    "            ax.annotate(f'{percent:.1f}%', \n",
    "                        (center, count), \n",
    "                        ha='center', va='bottom', \n",
    "                        xytext=(0, 5), \n",
    "                        textcoords='offset points')\n",
    "\n",
    "    ax.set_title(f'Distribution of {col}')\n",
    "    ax.set_xlabel(col)\n",
    "    ax.set_ylabel('Frequency')\n",
    "    ax.set_xticklabels(ax.get_xticklabels(), rotation=20)\n",
    "    ax.yaxis.grid(True)\n",
    "\n",
    "plt.show()\n",
    "\n",
    "warnings.resetwarnings()"
   ]
  },
  {
   "cell_type": "markdown",
   "id": "b4c81ee8-c5cf-4979-ba85-a7b3a34a9e66",
   "metadata": {},
   "source": [
    "**Observations:**\n",
    "\n",
    "- (Time-series check) Crashes seem to be declining in a linear fashion over the years\n",
    "- Time frame for elevated crashes is 8am - 7pm\n",
    "    - Peak at 6pm\n",
    "    - (sunset time varies through the year but avg's after 7pm (https://sunrise-sunset.org/france))\n",
    "- Friday has the most crashes\n",
    "    - Sunday has least amount of crashes\n",
    "    - rest of days are near even in proportion (monday is slightly less but not by a lot)\n",
    "- Not usually a weekend for crashes\n",
    "    - Makes sense as friday is most common crash day\n",
    "    - And that weekdays are more common than weekends\n",
    "- Super majority of crashes on non-holidays\n",
    "    - Makes sense as holidays are not common (especially with only looking at 11 days out of the 365 day year)"
   ]
  },
  {
   "cell_type": "markdown",
   "id": "b01eef56-9b81-43b0-ab0d-cd9b1ff9a785",
   "metadata": {},
   "source": [
    "## Bivariate Analysis"
   ]
  },
  {
   "cell_type": "markdown",
   "id": "be8b0aab-a02f-4156-babd-3a69007745ab",
   "metadata": {},
   "source": [
    "### Categorical-Categorical Feature Relationships"
   ]
  },
  {
   "cell_type": "markdown",
   "id": "5de93857-12bd-4e8e-8372-285bc51c2402",
   "metadata": {},
   "source": [
    "#### Chi-Square Test for Independence\n",
    "**Outputing only p-values != 0** since it'd be quite a lot of output otherwise\n",
    "\n",
    "If p-value = 0 then that denotes statistical significance of the difference of actual & expected, strongly suggesting a relationship between the two features"
   ]
  },
  {
   "cell_type": "markdown",
   "id": "fb66171b-3cdd-450a-9456-6c242523e180",
   "metadata": {},
   "source": [
    "___\n",
    "desc_road"
   ]
  },
  {
   "cell_type": "code",
   "execution_count": null,
   "id": "4c1c0243-963c-4ae6-943f-acc05ca20741",
   "metadata": {},
   "outputs": [],
   "source": [
    "print(desc_road)"
   ]
  },
  {
   "cell_type": "code",
   "execution_count": null,
   "id": "6a01580a-8e69-48d0-b32d-085f9272f97c",
   "metadata": {},
   "outputs": [],
   "source": [
    "for col1 in desc_road:\n",
    "    for col2 in desc_road:\n",
    "        if (df_main[col].dtype == 'category') | (df_main[col].dtype == 'bool'):\n",
    "            if col1 != col2:\n",
    "                contingency_table = pd.crosstab(df_main[col1], df_main[col2])\n",
    "                chi2, p, dof, expected = stats.chi2_contingency(contingency_table)\n",
    "                if p != 0 :\n",
    "                    print(f'Chi-Square Test for {col1} vs {col2}: Chi2 = {chi2:.2f}, p-value = {p}')"
   ]
  },
  {
   "cell_type": "markdown",
   "id": "18726ab5-b2b0-42eb-88ed-e3f9bdcb6c69",
   "metadata": {},
   "source": [
    "Output has p-values at essentially 0, much less than 0.05 for the commonly used significance level.\n",
    "\n",
    "**Each feature in listed in desc_road has a statistically significant relationship to each other**"
   ]
  },
  {
   "cell_type": "markdown",
   "id": "a2111aa8-fc9a-49bd-8bff-a3055f2cec33",
   "metadata": {},
   "source": [
    "___\n",
    "desc_driving"
   ]
  },
  {
   "cell_type": "code",
   "execution_count": null,
   "id": "7669a58e-e795-419d-88d8-a8694346e5c6",
   "metadata": {},
   "outputs": [],
   "source": [
    "print(desc_driving)"
   ]
  },
  {
   "cell_type": "code",
   "execution_count": null,
   "id": "e7a297f0-7d50-4b3d-92f7-6bb09c88c689",
   "metadata": {},
   "outputs": [],
   "source": [
    "for col1 in desc_driving:\n",
    "    for col2 in desc_driving:\n",
    "        if (df_main[col].dtype == 'category') | (df_main[col].dtype == 'bool'):\n",
    "            if col1 != col2:\n",
    "                contingency_table = pd.crosstab(df_main[col1], df_main[col2])\n",
    "                chi2, p, dof, expected = stats.chi2_contingency(contingency_table)\n",
    "                if p != 0 :\n",
    "                    print(f'Chi-Square Test for {col1} vs {col2}: Chi2 = {chi2:.2f}, p-value = {p}')"
   ]
  },
  {
   "cell_type": "markdown",
   "id": "01cbb00c-cd0a-4572-8657-71705fc3a997",
   "metadata": {},
   "source": [
    "Output has p-values at essentially 0, much less than 0.05 for the commonly used significance level.\n",
    "\n",
    "**Each feature in listed in desc_driving has a statistically significant relationship to each other**"
   ]
  },
  {
   "cell_type": "markdown",
   "id": "76f264e0-72e5-4fb8-aa6d-555aa182d4ac",
   "metadata": {},
   "source": [
    "___\n",
    "desc_weather"
   ]
  },
  {
   "cell_type": "code",
   "execution_count": null,
   "id": "b93f8475-dfab-4c7a-8aa8-36ffdff45546",
   "metadata": {},
   "outputs": [],
   "source": [
    "print(desc_weather)"
   ]
  },
  {
   "cell_type": "code",
   "execution_count": null,
   "id": "74ad3b65-7856-45ea-97cc-d31e812f1837",
   "metadata": {},
   "outputs": [],
   "source": [
    "for col1 in desc_weather:\n",
    "    for col2 in desc_weather:\n",
    "        if (df_main[col].dtype == 'category') | (df_main[col].dtype == 'bool'):\n",
    "            if col1 != col2:\n",
    "                contingency_table = pd.crosstab(df_main[col1], df_main[col2])\n",
    "                chi2, p, dof, expected = stats.chi2_contingency(contingency_table)\n",
    "                if p != 0 :\n",
    "                    print(f'Chi-Square Test for {col1} vs {col2}: Chi2 = {chi2:.2f}, p-value = {p}')"
   ]
  },
  {
   "cell_type": "markdown",
   "id": "7097311a-6768-4cb0-9e8f-a758cc611769",
   "metadata": {},
   "source": [
    "No output with p-values != 0.\n",
    "\n",
    "**Each feature in listed in desc_weather has a statistically significant relationship to each other**"
   ]
  },
  {
   "cell_type": "markdown",
   "id": "83795b80-9c83-4bba-924c-38d35c9b347b",
   "metadata": {},
   "source": [
    "___\n",
    "desc_time"
   ]
  },
  {
   "cell_type": "code",
   "execution_count": null,
   "id": "4a8dd499-377f-471b-b6ec-ad9a1169853c",
   "metadata": {},
   "outputs": [],
   "source": [
    "print(desc_time)"
   ]
  },
  {
   "cell_type": "code",
   "execution_count": null,
   "id": "85c33d2b-4ea4-41b6-b232-73ca35f2c2e0",
   "metadata": {},
   "outputs": [],
   "source": [
    "for col1 in desc_time:\n",
    "    for col2 in desc_time:\n",
    "        if (df_main[col].dtype == 'category') | (df_main[col].dtype == 'bool'):\n",
    "            if col1 != col2:\n",
    "                contingency_table = pd.crosstab(df_main[col1], df_main[col2])\n",
    "                chi2, p, dof, expected = stats.chi2_contingency(contingency_table)\n",
    "                if p != 0 :\n",
    "                    print(f'Chi-Square Test for {col1} vs {col2}: Chi2 = {chi2:.2f}, p-value = {p}')"
   ]
  },
  {
   "cell_type": "markdown",
   "id": "21f1c3e5-964b-4df2-87eb-f12e3da57f69",
   "metadata": {},
   "source": [
    "No relationship:\n",
    "- is_weekend & is_holiday\n",
    "\n",
    "All other features have a relationship"
   ]
  },
  {
   "cell_type": "markdown",
   "id": "2b825a5a-b78e-42b5-a700-2161c7535912",
   "metadata": {},
   "source": [
    "### Categorical - Numerical Relationships\n",
    "\n",
    "Essentially a check that 0 lane roads were handled correctly. Since lanes col is only actual numerical col (hour is int type but is essentially ordered categorical)\n",
    "\n",
    "Converting cells to raw to not execute the code."
   ]
  },
  {
   "cell_type": "markdown",
   "id": "4ef88751-8278-4474-b88e-8fd70d592833",
   "metadata": {},
   "source": [
    "___\n",
    "desc_road"
   ]
  },
  {
   "cell_type": "code",
   "execution_count": null,
   "id": "c45a179b-dfd3-4cc2-8dfb-74e293bea804",
   "metadata": {
    "tags": []
   },
   "outputs": [],
   "source": [
    "print(desc_road)"
   ]
  },
  {
   "cell_type": "raw",
   "id": "3bd05240-a86e-412d-917d-9d78d81128a6",
   "metadata": {
    "collapsed": true,
    "jupyter": {
     "outputs_hidden": true
    },
    "tags": []
   },
   "source": [
    "warnings.filterwarnings('ignore')\n",
    "\n",
    "for cat_col in desc_road:\n",
    "    if df_main[cat_col].dtype == 'category' or df_main[cat_col].dtype == 'bool':\n",
    "        sns.violinplot(x=cat_col, y='lane_count_nbv', data=df_main)\n",
    "\n",
    "        plt.title(f'violin plot of Lane Count by {cat_col}')\n",
    "        plt.xticks(rotation=20)\n",
    "        plt.show()\n",
    "        \n",
    "warnings.resetwarnings()"
   ]
  },
  {
   "cell_type": "markdown",
   "id": "d09e7b1a-d934-4e11-b23a-c916658c6965",
   "metadata": {},
   "source": [
    "___\n",
    "desc_driving"
   ]
  },
  {
   "cell_type": "code",
   "execution_count": null,
   "id": "d94fe23c-58a8-45fc-9077-d71f2d8bc9ef",
   "metadata": {
    "tags": []
   },
   "outputs": [],
   "source": [
    "print(desc_driving)"
   ]
  },
  {
   "cell_type": "raw",
   "id": "636813f3-30bb-4b1b-8b2b-6b14b5764d53",
   "metadata": {
    "tags": []
   },
   "source": [
    "warnings.filterwarnings('ignore')\n",
    "\n",
    "for cat_col in desc_driving:\n",
    "    if df_main[cat_col].dtype == 'category' or df_main[cat_col].dtype == 'bool':\n",
    "        sns.violinplot(x=cat_col, y='lane_count_nbv', data=df_main)\n",
    "\n",
    "        plt.title(f'violin plot of Lane Count by {cat_col}')\n",
    "        plt.xticks(rotation=20)\n",
    "        plt.show()\n",
    "        \n",
    "warnings.resetwarnings()"
   ]
  },
  {
   "cell_type": "markdown",
   "id": "7620b768-fb8c-49eb-8db9-1c09f2fa137b",
   "metadata": {},
   "source": [
    "___\n",
    "desc_weather"
   ]
  },
  {
   "cell_type": "code",
   "execution_count": null,
   "id": "2bf48fc9-2a3e-4bd7-86c2-030c9c66a3df",
   "metadata": {},
   "outputs": [],
   "source": [
    "print(desc_weather)"
   ]
  },
  {
   "cell_type": "raw",
   "id": "71bf44ff-1e7a-4957-8fe7-34718505201b",
   "metadata": {},
   "source": [
    "warnings.filterwarnings('ignore')\n",
    "\n",
    "for cat_col in desc_weather:\n",
    "    if df_main[cat_col].dtype == 'category' or df_main[cat_col].dtype == 'bool':\n",
    "        sns.violinplot(x=cat_col, y='lane_count_nbv', data=df_main)\n",
    "\n",
    "        plt.title(f'violin plot of Lane Count by {cat_col}')\n",
    "        plt.xticks(rotation=20)\n",
    "        plt.show()\n",
    "        \n",
    "warnings.resetwarnings()"
   ]
  },
  {
   "cell_type": "markdown",
   "id": "bc84831f-712d-47a3-bc2d-3b02a45cf85a",
   "metadata": {},
   "source": [
    "___\n",
    "desc_time"
   ]
  },
  {
   "cell_type": "code",
   "execution_count": null,
   "id": "d586a82e-794b-40d9-a8a3-447b47915b2c",
   "metadata": {
    "tags": []
   },
   "outputs": [],
   "source": [
    "print(desc_time)"
   ]
  },
  {
   "cell_type": "raw",
   "id": "ded319da-f19d-40b6-90fd-417935e484a2",
   "metadata": {},
   "source": [
    "warnings.filterwarnings('ignore')\n",
    "\n",
    "for cat_col in desc_time:\n",
    "    if df_main[cat_col].dtype == 'category' or df_main[cat_col].dtype == 'bool':\n",
    "        sns.violinplot(x=cat_col, y='lane_count_nbv', data=df_main)\n",
    "\n",
    "        plt.title(f'violin plot of Lane Count by {cat_col}')\n",
    "        plt.xticks(rotation=20)\n",
    "        plt.show()\n",
    "        \n",
    "warnings.resetwarnings()"
   ]
  },
  {
   "cell_type": "markdown",
   "id": "5ca0d237-e3bb-46fd-9616-2fa387e710c2",
   "metadata": {},
   "source": [
    "## Observations Summary"
   ]
  },
  {
   "cell_type": "markdown",
   "id": "252b367a-2d8c-4508-bd9e-1cf53a997ee1",
   "metadata": {},
   "source": [
    "- Crashes seem to be declining in a linear fashion over the years\n",
    "\n",
    "Road Characteristics:\n",
    "- Municipal (local) roads account for about 50% of crashes\n",
    "    - highways (departmental, national, autoroutes) account for about 47% of crashes\n",
    "- ~64% of crashes occur on two-way roads\n",
    "- ~72% of crashes occur outside any intersection\n",
    "    - Proving a starting hypothesis wrong\n",
    "- ~84% of crashes have a separator present (separating bi-directional roads)\n",
    "- ~69% occur in built-up areas (ex. within towns or cities)\n",
    "- ~76% occur on dish shaped stretches of road\n",
    "    - low point between two higher points (ex. \\_/)\n",
    "- ~76% occur on straight strethces of road\n",
    "- ~89% occur away from road infrastructure (such as toll zones or bridges)\n",
    "\n",
    "Driving Conditions:\n",
    "- ~78% occur with a dry road\n",
    "- ~83% occur with no pedestrians present\n",
    "\n",
    "Weather Conditions:\n",
    "- ~81% of crashes occur during normal weather (light out, sparse clouds, no precipitation)\n",
    "    - ~10% occur during rain\n",
    "- ~69% occur during the day\n",
    "    - ~17% occur at night with artificial lighting\n",
    "    - Disproves starting hypothesis that more crashes occur with minimized light\n",
    "\n",
    "Time Conditions:\n",
    "- Hour of day range for elevated crashes:\n",
    "    - 8am-7pm\n",
    "    - peak at 6pm (10.4%)\n",
    "- Friday is most common day of week at 16.7%\n",
    "    - Other days (except Sunday) hover around 14%\n",
    "    - Sunday about 12%\n",
    "- Crashes usually occur on weekdays\n",
    "- Almost no crashes occur on a holiday\n",
    "\n",
    "Bivariate Relationships:\n",
    "- All features related to each other within themed groups except:\n",
    "    - weekends and holidays\n",
    "- Makes sense as presence of road characteristics are usually dependent on others"
   ]
  },
  {
   "cell_type": "markdown",
   "id": "40fbb0d4-9e01-4156-809e-36e0b396ab26",
   "metadata": {},
   "source": [
    "# Next Steps"
   ]
  },
  {
   "cell_type": "markdown",
   "id": "a969df75-bebd-44c0-95dd-2e44150705bd",
   "metadata": {},
   "source": [
    "- Encode categorical features with pd.get_dummies in next notebook. (one-hot)\n",
    "- Split off 'date' col when analyzing actual locations\n",
    "    - Use it for doing time-series analysis\n",
    "- Create col ('loc_num') to categorize each possible combo of all features\n",
    "    - numbered 1 through n for each unique feature combo\n",
    "- Use loc_num to synthetically create non-crash observations\n",
    "    - Allows for model to be used for supervised classification of Yes/No for a crash\n",
    "    - Need to label True/False for crash too\n",
    "- Start off the modeling phase with logistic regression\n",
    "    - Can get coeff's for each feature for how much it effects True/False for crash\n",
    "- Make neural network model for predicting crash\n",
    "- Time-series analysis (?)"
   ]
  },
  {
   "cell_type": "markdown",
   "id": "24e8ee9c-9725-4889-b633-cd684747a1ae",
   "metadata": {},
   "source": [
    "# Export df as csv\n",
    "convert back to code cell if needed"
   ]
  },
  {
   "cell_type": "raw",
   "id": "f7b921bd-6108-48ad-b2a1-5f51d895b37b",
   "metadata": {},
   "source": [
    "df_main.to_csv('df_main.csv', index=False)"
   ]
  },
  {
   "cell_type": "markdown",
   "id": "4ab77238-17ff-42b5-a4a0-e3b27f7622c1",
   "metadata": {},
   "source": [
    "# Pre-Processing"
   ]
  },
  {
   "cell_type": "markdown",
   "id": "3ee5cdf5-0cc7-4347-8363-4a24e1204938",
   "metadata": {},
   "source": [
    "Planned Steps: (tentative plan)\n",
    "\n",
    "- Create dummy or indicator features for categorical variables\n",
    "    - Plan on pd.get_dummies to one-hot encode\n",
    "- Create 'crash' col\n",
    "    - if crash then 1, if not crash then 2\n",
    "    - As df is currently, every row gets crash=1\n",
    "- Artificially create crash=0 observations\n",
    "    - Will need to create a matrix of all the possible combos of features then assign crash=0 to those combos not found in the starting df\n",
    "- ~Standardize the magnitude of numeric features~\n",
    "    - No numeric/continuous features in data (all categorical in nature)\n",
    "- Split into testing and training datasets"
   ]
  },
  {
   "cell_type": "code",
   "execution_count": null,
   "id": "6c18fafb-0698-449d-b289-e2691395b331",
   "metadata": {},
   "outputs": [],
   "source": [
    "print(df_main.info())\n",
    "df_main.head()"
   ]
  },
  {
   "cell_type": "markdown",
   "id": "256a92f6-2e97-4ef8-b264-edce883f99b2",
   "metadata": {},
   "source": [
    "## Drop date col\n",
    "will be helpful for time analysis later, already extracted info from date/time that seems most helpful for characterizing crash locations"
   ]
  },
  {
   "cell_type": "code",
   "execution_count": null,
   "id": "eb5360f9-56fc-497c-9565-5e908bc0a943",
   "metadata": {},
   "outputs": [],
   "source": [
    "df_main2 = df_main.drop(columns='date')"
   ]
  },
  {
   "cell_type": "code",
   "execution_count": null,
   "id": "2a114f8f-0ff9-4936-a3a8-92a5b7334777",
   "metadata": {},
   "outputs": [],
   "source": [
    "'date' in df_main2.columns"
   ]
  },
  {
   "cell_type": "markdown",
   "id": "bfb5ef48-869e-4563-a65b-dcedd015fb0e",
   "metadata": {},
   "source": [
    "## Convert all cols to category\n",
    "(so pd.get_dummies works the way I intend)"
   ]
  },
  {
   "cell_type": "code",
   "execution_count": null,
   "id": "def44a50-6259-45ec-8c33-18bffb5d2724",
   "metadata": {},
   "outputs": [],
   "source": [
    "df_main2.info()"
   ]
  },
  {
   "cell_type": "code",
   "execution_count": null,
   "id": "1c98dfa0-e8c0-4951-b2eb-047cac885d4b",
   "metadata": {},
   "outputs": [],
   "source": [
    "df_main2[df_main2.select_dtypes('int64').columns] = df_main2[df_main2.select_dtypes('int64').columns].astype('category')\n",
    "\n",
    "\n",
    "print(df_main2.info())"
   ]
  },
  {
   "cell_type": "markdown",
   "id": "75b298a2-967e-4201-809c-0830e471cfcd",
   "metadata": {},
   "source": [
    "## Dummy creation"
   ]
  },
  {
   "cell_type": "code",
   "execution_count": null,
   "id": "7c40c63c-d706-4729-b3bb-d5ce2f47baa3",
   "metadata": {},
   "outputs": [],
   "source": [
    "df_dummies = pd.get_dummies(df_main2)"
   ]
  },
  {
   "cell_type": "code",
   "execution_count": null,
   "id": "0b195649-2d95-4702-8956-6b6fc93db808",
   "metadata": {},
   "outputs": [],
   "source": [
    "print(df_dummies.info())\n",
    "df_dummies.head()"
   ]
  },
  {
   "cell_type": "markdown",
   "id": "fccc298b-b3c6-41f2-9d57-aa0037c25d58",
   "metadata": {},
   "source": [
    "## Create 'crash' col\n",
    "\n",
    "    To denote whether crash occured or not.\n",
    "    Every row will have crash=1\n",
    "    plan on creating crash=0 rows based on feature combos not already present in the dataset"
   ]
  },
  {
   "cell_type": "code",
   "execution_count": null,
   "id": "d789c842-9603-4c85-9c7a-56b8968b04f0",
   "metadata": {},
   "outputs": [],
   "source": [
    "df_dummies['crash'] = 1"
   ]
  },
  {
   "cell_type": "code",
   "execution_count": null,
   "id": "d03a733f-ab5e-4302-87da-92c24f0f0612",
   "metadata": {},
   "outputs": [],
   "source": [
    "df_dummies.info()"
   ]
  },
  {
   "cell_type": "code",
   "execution_count": null,
   "id": "0e506814-8485-4afd-a0ff-cf4c041c2e94",
   "metadata": {},
   "outputs": [],
   "source": [
    "df_dummies.head()"
   ]
  },
  {
   "cell_type": "markdown",
   "id": "2ab572ec-f414-47c5-a87f-27914ccc179f",
   "metadata": {},
   "source": [
    "# Artificial crash=0 observations\n",
    "- create a matrix of all the possible feature combos\n",
    "- for each combo that does not already appear in df_dummies, assign crash=0"
   ]
  },
  {
   "cell_type": "markdown",
   "id": "329738b4-a431-4eda-be0f-ecdd5ef2e4c8",
   "metadata": {},
   "source": [
    "## Generate all possible combinations of features"
   ]
  },
  {
   "cell_type": "code",
   "execution_count": null,
   "id": "a3e27212-f89b-4c45-951d-19ef4bcf964a",
   "metadata": {},
   "outputs": [],
   "source": [
    "feat_cols = df_dummies.columns[:-1]  # Exclude the target variable 'crash'\n",
    "print('crash' in feat_cols)"
   ]
  },
  {
   "cell_type": "raw",
   "id": "fe78c2b6-1cde-450d-93fd-50ff05d8b7d7",
   "metadata": {},
   "source": [
    "#this makes 2^127 combos, too much memory usage\n",
    "\n",
    "#Generate all possible combos of features using itertools.product\n",
    "    # Each feature can be 0 or 1, so create a product of [0, 1] repeated num_feats times\n",
    "all_comboss = pd.DataFrame(itertools.product([0, 1], repeat=len(feat_cols)), columns=feat_cols)"
   ]
  },
  {
   "cell_type": "markdown",
   "id": "ecec451c-645b-4507-932e-5338e25eaf64",
   "metadata": {},
   "source": [
    "### get feature combos already present"
   ]
  },
  {
   "cell_type": "code",
   "execution_count": null,
   "id": "1ba55095-0d39-47bf-9bc6-2948674c8afa",
   "metadata": {},
   "outputs": [],
   "source": [
    "len(df_dummies)"
   ]
  },
  {
   "cell_type": "code",
   "execution_count": null,
   "id": "d10b2ff9-decd-4773-b2f4-af57fa06f5c1",
   "metadata": {},
   "outputs": [],
   "source": [
    "unique_combos = df_dummies[feat_cols].drop_duplicates()\n",
    "print(f\"Number of unique combinations in df_dummies: {unique_combos.shape[0]}\")"
   ]
  },
  {
   "cell_type": "markdown",
   "id": "dba96181-99bc-494c-9356-59e2a0a457f9",
   "metadata": {},
   "source": [
    "### Randomly generate crash=0 combos up to len(unique_combos)"
   ]
  },
  {
   "cell_type": "code",
   "execution_count": null,
   "id": "d88d15ea-07d9-469d-b2f5-c9fd318d5776",
   "metadata": {},
   "outputs": [],
   "source": [
    "def generate_random_combos(num_combos, num_features):\n",
    "    return np.random.randint(2, size=(num_combos, num_features))"
   ]
  },
  {
   "cell_type": "code",
   "execution_count": null,
   "id": "ed5b8062-bf2d-4da6-b308-418cc67d3c51",
   "metadata": {},
   "outputs": [],
   "source": [
    "# Number of new combinations to generate\n",
    "num_new_combos = len(unique_combos)"
   ]
  },
  {
   "cell_type": "code",
   "execution_count": null,
   "id": "3bb27be9-a500-4a49-85bd-769bd4f18b78",
   "metadata": {},
   "outputs": [],
   "source": [
    "# Generate random combinations\n",
    "random_combos = generate_random_combos(num_new_combos, len(feat_cols))\n",
    "random_combos_df = pd.DataFrame(random_combos, columns=feat_cols)"
   ]
  },
  {
   "cell_type": "code",
   "execution_count": null,
   "id": "a4060fbc-0368-491c-a212-2fd92774061d",
   "metadata": {},
   "outputs": [],
   "source": [
    "# Check for uniqueness\n",
    "unique_random_combos = random_combos_df.drop_duplicates()\n",
    "print(f\"Number of unique random combinations generated: {unique_random_combos.shape[0]}\")"
   ]
  },
  {
   "cell_type": "markdown",
   "id": "30be7ad3-b4db-4ce1-ad4d-6414eceeb776",
   "metadata": {},
   "source": [
    "### Ensure New Combos are Unique"
   ]
  },
  {
   "cell_type": "code",
   "execution_count": null,
   "id": "81167e34-b11f-41f8-9529-a56573184cff",
   "metadata": {},
   "outputs": [],
   "source": [
    "merged_combos = unique_random_combos.merge(unique_combos, how='left', indicator=True)\n",
    "missing_combos = merged_combos[merged_combos['_merge'] == 'left_only'].drop('_merge', axis=1)\n",
    "print(f\"Number of valid new combinations: {missing_combos.shape[0]}\")"
   ]
  },
  {
   "cell_type": "markdown",
   "id": "62aa9555-85b1-422d-96b5-fa4378a2c89d",
   "metadata": {},
   "source": [
    "### Set crash=0 for missing_combos"
   ]
  },
  {
   "cell_type": "code",
   "execution_count": null,
   "id": "9b761723-e433-4109-b230-9ec53874a7f5",
   "metadata": {},
   "outputs": [],
   "source": [
    "missing_combos['crash'] = 0\n",
    "missing_combos['crash'].value_counts()"
   ]
  },
  {
   "cell_type": "markdown",
   "id": "cd809de3-85c6-4751-b0f4-fac4c6b68425",
   "metadata": {},
   "source": [
    "### resample missing_combos before merging to balance the classes\n",
    "With replacement\n",
    "\n",
    "**Reasoning**: actual data has >400k unique crash locations with enough duplicates (or more) to have >800k observatons. A random sample of non-crash location combos then resampliing to balance the classes would better reflect reality than simply assuming no crashes will ever occur for all combos that aren't present in the data already"
   ]
  },
  {
   "cell_type": "code",
   "execution_count": null,
   "id": "cadf149d-d29a-42c3-bea0-f240096aa494",
   "metadata": {},
   "outputs": [],
   "source": [
    "missing_combos = missing_combos.sample(n=len(df_dummies), random_state=9, replace=True)"
   ]
  },
  {
   "cell_type": "code",
   "execution_count": null,
   "id": "b9b4516a-ad1c-4e3c-adc0-c2ecb8e2e103",
   "metadata": {},
   "outputs": [],
   "source": [
    "print(len(df_dummies))\n",
    "print(len(missing_combos))"
   ]
  },
  {
   "cell_type": "markdown",
   "id": "1c01341d-9400-4683-8843-5d9f46ac083f",
   "metadata": {},
   "source": [
    "### Merge data"
   ]
  },
  {
   "cell_type": "code",
   "execution_count": null,
   "id": "76885154-25ff-426b-aca7-2170de91549f",
   "metadata": {},
   "outputs": [],
   "source": [
    "df_balanced = pd.concat([df_dummies, missing_combos], ignore_index=True)\n",
    "print(f\"Shape of the extended DataFrame: {df_balanced.shape}\")\n",
    "\n",
    "# Verify the distribution of 'crash' values\n",
    "print(df_balanced['crash'].value_counts())"
   ]
  },
  {
   "cell_type": "markdown",
   "id": "bedc9b5e-bade-45bf-a6a7-6b93426d712e",
   "metadata": {},
   "source": [
    "## Train & Test data split"
   ]
  },
  {
   "cell_type": "code",
   "execution_count": null,
   "id": "c36a2249-110a-4fae-aada-2e854cfb49b5",
   "metadata": {},
   "outputs": [],
   "source": [
    "X = df_balanced.drop(columns=['crash'])\n",
    "y = df_balanced['crash']\n",
    "\n",
    "X_train, X_test, y_train, y_test = train_test_split(X, y, test_size=0.2, random_state=42, stratify=y)"
   ]
  },
  {
   "cell_type": "code",
   "execution_count": null,
   "id": "c37eb5cb-9b00-473b-9a0a-387dd07fa5ba",
   "metadata": {},
   "outputs": [],
   "source": [
    "print(f\"Shape of X_train: {X_train.shape}\")\n",
    "print(f\"Shape of X_test: {X_test.shape}\")\n",
    "print(f\"Shape of y_train: {y_train.shape}\")\n",
    "print(f\"Shape of y_test: {y_test.shape}\")\n",
    "print()\n",
    "print(f'80% of total rows: {len(X) * 0.8}')\n",
    "print(f'20% of total rows: {len(X) * 0.2}')"
   ]
  },
  {
   "cell_type": "code",
   "execution_count": null,
   "id": "bdbc364a-26e8-40ea-84ae-2aae3f1fcf3a",
   "metadata": {},
   "outputs": [],
   "source": [
    "# Verify the proportions of 'crash' values in the splits\n",
    "print(f\"Training set distribution:\\n{y_train.value_counts(normalize=True)}\")\n",
    "print(f\"Test set distribution:\\n{y_test.value_counts(normalize=True)}\")"
   ]
  },
  {
   "cell_type": "markdown",
   "id": "9c6eb252-f951-4f94-8761-b5edc8b7b0a6",
   "metadata": {},
   "source": [
    "# Models"
   ]
  },
  {
   "cell_type": "markdown",
   "id": "714b512c-a241-41f2-897a-b37ec37a4549",
   "metadata": {},
   "source": [
    "## Logistic Regression"
   ]
  },
  {
   "cell_type": "code",
   "execution_count": null,
   "id": "5fc16d06-4e59-456e-93db-98d604d882f3",
   "metadata": {},
   "outputs": [],
   "source": [
    "log_reg = LogisticRegression(random_state=9)\n",
    "log_reg.fit(X_train, y_train)"
   ]
  },
  {
   "cell_type": "code",
   "execution_count": null,
   "id": "3498e73a-6779-432b-91f3-ed0e2278c4bd",
   "metadata": {},
   "outputs": [],
   "source": [
    "y_pred_log_reg = log_reg.predict(X_test)"
   ]
  },
  {
   "cell_type": "code",
   "execution_count": null,
   "id": "31015469-e6e4-4c00-88ad-7ee161e5af24",
   "metadata": {},
   "outputs": [],
   "source": [
    "print(\"Logistic Regression Classification Report:\\n\", classification_report(y_test, y_pred_log_reg))\n",
    "\n",
    "print('confusion_matrix:\\n', confusion_matrix(y_test, y_pred_log_reg))\n",
    "\n",
    "print()\n",
    "print(\"Logistic Regression Accuracy:\", accuracy_score(y_test, y_pred_log_reg))"
   ]
  },
  {
   "cell_type": "markdown",
   "id": "845f216c-6ea7-46e9-8d9c-bfcb9e2cd5fc",
   "metadata": {},
   "source": [
    "## Random Forest"
   ]
  },
  {
   "cell_type": "code",
   "execution_count": null,
   "id": "7002401f-6010-437a-90aa-15a128a657de",
   "metadata": {},
   "outputs": [],
   "source": [
    "rf_clf = RandomForestClassifier(random_state=9)\n",
    "rf_clf.fit(X_train, y_train)"
   ]
  },
  {
   "cell_type": "code",
   "execution_count": null,
   "id": "446892a5-7393-47bf-96c0-99fdb6ee07d0",
   "metadata": {},
   "outputs": [],
   "source": [
    "y_pred_rf = rf_clf.predict(X_test)"
   ]
  },
  {
   "cell_type": "code",
   "execution_count": null,
   "id": "11f6f1ce-ca14-48ea-9263-993ca6eeba77",
   "metadata": {},
   "outputs": [],
   "source": [
    "print(\"Random Forest Classification Report:\\n\", classification_report(y_test, y_pred_rf))\n",
    "\n",
    "print('confusion_matrix:\\n', confusion_matrix(y_test, y_pred_rf))\n",
    "\n",
    "print()\n",
    "print(\"Random Forest Accuracy:\", accuracy_score(y_test, y_pred_rf))"
   ]
  },
  {
   "cell_type": "markdown",
   "id": "cd9c214a-7539-475f-8019-ebbb8c3604c5",
   "metadata": {},
   "source": [
    "**Note: Not worth the time to plot ROC curve or Precision-Recall Curve since all scores essentially 1**"
   ]
  },
  {
   "cell_type": "markdown",
   "id": "08fdecc1-a83e-4f8f-8cdd-a9135517ed9f",
   "metadata": {},
   "source": [
    "## Feature Importances "
   ]
  },
  {
   "cell_type": "markdown",
   "id": "9c5d6fbe-d675-41aa-8df6-f3b3cf04dcb4",
   "metadata": {},
   "source": [
    "### from Logistic Regression\n",
    "extract the feature coefficients"
   ]
  },
  {
   "cell_type": "code",
   "execution_count": null,
   "id": "7bdde41c-3547-442c-84be-29b43289398d",
   "metadata": {},
   "outputs": [],
   "source": [
    "log_reg_feature_importances = pd.DataFrame({\n",
    "    'feature': X_train.columns,\n",
    "    'importance': log_reg.coef_[0]\n",
    "}).sort_values(by='importance', ascending=False)"
   ]
  },
  {
   "cell_type": "code",
   "execution_count": null,
   "id": "b1f63e60-422e-4970-b084-7edd75c8b08e",
   "metadata": {},
   "outputs": [],
   "source": [
    "print(\"Top 10 Logistic Regression Feature Importances:\\n\", log_reg_feature_importances)"
   ]
  },
  {
   "cell_type": "code",
   "execution_count": null,
   "id": "ce3812de-02c5-4fd3-a619-1fec976199ef",
   "metadata": {},
   "outputs": [],
   "source": [
    "# Sort the absolute value of the coefficients\n",
    "log_reg_feature_importances['abs_importance'] = log_reg_feature_importances['importance'].abs()\n",
    "log_reg_feature_importances = log_reg_feature_importances.sort_values(by='abs_importance', ascending=False)\n",
    "\n",
    "# Selecting the top 10 features by magnitude\n",
    "top_10_log_reg_features = log_reg_feature_importances.head(10).drop(columns=['abs_importance'])\n",
    "\n",
    "print(\"Top 10 Logistic Regression Feature Importances:\\n\", top_10_log_reg_features)"
   ]
  },
  {
   "cell_type": "code",
   "execution_count": null,
   "id": "4d95acba-434e-4cc6-be88-739501b2ff2d",
   "metadata": {},
   "outputs": [],
   "source": [
    "print(\"Logistic Regression Feature Importances:\\n\", log_reg_feature_importances)"
   ]
  },
  {
   "cell_type": "markdown",
   "id": "2358510a-b7e6-4724-a069-e27b73a46764",
   "metadata": {},
   "source": [
    "### from Random Forest"
   ]
  },
  {
   "cell_type": "code",
   "execution_count": null,
   "id": "9a945899-6679-49db-9fe9-cb8d0592d9f1",
   "metadata": {},
   "outputs": [],
   "source": [
    "rf_feature_importances = pd.DataFrame({\n",
    "    'Feature': X_train.columns,\n",
    "    'Importance': rf_clf.feature_importances_\n",
    "}).sort_values(by='Importance', ascending=False)"
   ]
  },
  {
   "cell_type": "code",
   "execution_count": null,
   "id": "756923c3-124d-4af2-a487-24d268b279aa",
   "metadata": {},
   "outputs": [],
   "source": [
    "print(\"Top 10 Random Forest Feature Importances:\\n\", rf_feature_importances.head(10))"
   ]
  },
  {
   "cell_type": "markdown",
   "id": "e5e02328-eee9-4fdd-a392-1ce95a2ff338",
   "metadata": {},
   "source": [
    "Quote about feature importances from both models:\n",
    "\n",
    "    \"Logistic Regression highlights features that have the strongest linear relationship with the target,\n",
    "    while Random Forest emphasizes features that are most effective at splitting the data to reduce impurity, potentially capturing more complex patterns and interactions.\""
   ]
  },
  {
   "cell_type": "code",
   "execution_count": null,
   "id": "00dc14c5-92b7-462e-9ceb-fc66003ae86b",
   "metadata": {},
   "outputs": [],
   "source": [
    "threshold = 0.01  # Adjust this threshold as necessary\n",
    "filtered_importances = rf_feature_importances[rf_feature_importances['Importance'] > threshold]\n",
    "\n",
    "plt.figure(figsize=(8, 6))\n",
    "plt.title(\"Random Forest Feature Importances\")\n",
    "plt.barh(filtered_importances['Feature'], filtered_importances['Importance'], align=\"center\")\n",
    "plt.xlabel('Importance')\n",
    "plt.ylabel('Features')\n",
    "plt.xlim(0, 0.10)#np.max(filtered_importances['Importance']) + 0.05)  # set to 0.10 for better visualization\n",
    "plt.gca().invert_yaxis()\n",
    "plt.show()"
   ]
  },
  {
   "cell_type": "markdown",
   "id": "1275fb2e-b56f-4f0d-9f14-bc4b3c5d249e",
   "metadata": {},
   "source": [
    "## Neural Network"
   ]
  },
  {
   "cell_type": "code",
   "execution_count": null,
   "id": "54e7d9a8-9de1-4b28-8f43-b467e4e569d1",
   "metadata": {},
   "outputs": [],
   "source": [
    "X_train = X_train.astype(int)\n",
    "X_test = X_test.astype(int)"
   ]
  },
  {
   "cell_type": "code",
   "execution_count": null,
   "id": "85338022-c721-4dae-8c97-790b51739cfa",
   "metadata": {},
   "outputs": [],
   "source": [
    "def create_nn_model(input_dim):\n",
    "    nn_model = Sequential()\n",
    "    nn_model.add(Input(shape=(input_dim,)))\n",
    "    nn_model.add(Dense(64, activation='relu'))\n",
    "    nn_model.add(Dropout(0.5))\n",
    "    nn_model.add(Dense(32, activation='relu'))\n",
    "    nn_model.add(Dropout(0.5))\n",
    "    nn_model.add(Dense(1, activation='sigmoid'))\n",
    "    \n",
    "    nn_model.compile(optimizer='adam', loss='binary_crossentropy', metrics=['accuracy'])\n",
    "    return nn_model"
   ]
  },
  {
   "cell_type": "code",
   "execution_count": null,
   "id": "e3058a73-c667-4c58-8fb5-66ce6a7ba6f6",
   "metadata": {},
   "outputs": [],
   "source": [
    "input_dim = X_train.shape[1]\n",
    "nn_model = create_nn_model(input_dim)"
   ]
  },
  {
   "cell_type": "code",
   "execution_count": null,
   "id": "f6c97d07-076f-48ed-bada-2d25b25cb151",
   "metadata": {},
   "outputs": [],
   "source": [
    "early_stopping = EarlyStopping(monitor='val_loss', patience=5, restore_best_weights=True)"
   ]
  },
  {
   "cell_type": "code",
   "execution_count": null,
   "id": "1a038d55-52e7-41e3-b8a3-0c3f20b112e4",
   "metadata": {},
   "outputs": [],
   "source": [
    "history = nn_model.fit(X_train, y_train, \n",
    "                       epochs=50, \n",
    "                       batch_size=32, \n",
    "                       validation_split=0.2, \n",
    "                       callbacks=[early_stopping],\n",
    "                       verbose=1)"
   ]
  },
  {
   "cell_type": "code",
   "execution_count": null,
   "id": "5d4d787f-552b-4095-8662-ff8e943f42a6",
   "metadata": {},
   "outputs": [],
   "source": [
    "y_pred_proba = nn_model.predict(X_test)\n",
    "y_pred = (y_pred_proba > 0.5).astype(int)"
   ]
  },
  {
   "cell_type": "code",
   "execution_count": null,
   "id": "608661cf-db48-47bd-ae73-235552661cfe",
   "metadata": {},
   "outputs": [],
   "source": [
    "# Classification report and confusion matrix\n",
    "print(\"Classification Report:\\n\", classification_report(y_test, y_pred))\n",
    "print(\"Confusion Matrix:\\n\", confusion_matrix(y_test, y_pred))"
   ]
  },
  {
   "cell_type": "code",
   "execution_count": null,
   "id": "59053ba1-548f-446a-a9e0-0cec66427068",
   "metadata": {},
   "outputs": [],
   "source": [
    "# Plot training & validation loss values\n",
    "plt.plot(history.history['loss'], label='Train Loss')\n",
    "plt.plot(history.history['val_loss'], label='Validation Loss')\n",
    "plt.title('Model Loss')\n",
    "plt.xlabel('Epoch')\n",
    "plt.ylabel('Loss')\n",
    "plt.legend(loc='upper right')\n",
    "plt.show()"
   ]
  },
  {
   "cell_type": "code",
   "execution_count": null,
   "id": "97eef5c9-964a-4cff-abda-37a4ee469b72",
   "metadata": {},
   "outputs": [],
   "source": [
    "# Plot training & validation accuracy values\n",
    "plt.plot(history.history['accuracy'], label='Train Accuracy')\n",
    "plt.plot(history.history['val_accuracy'], label='Validation Accuracy')\n",
    "plt.title('Model Accuracy')\n",
    "plt.xlabel('Epoch')\n",
    "plt.ylabel('Accuracy')\n",
    "plt.legend(loc='lower right')\n",
    "plt.show()"
   ]
  },
  {
   "cell_type": "code",
   "execution_count": null,
   "id": "b115c777-f194-4b0b-9baf-2e737dc8716a",
   "metadata": {},
   "outputs": [],
   "source": []
  },
  {
   "cell_type": "code",
   "execution_count": null,
   "id": "54db12a7-97e9-48ca-b769-71d10d1d5097",
   "metadata": {},
   "outputs": [],
   "source": []
  },
  {
   "cell_type": "code",
   "execution_count": null,
   "id": "378f93a1-56f1-4b04-8d72-84c5c51816fc",
   "metadata": {},
   "outputs": [],
   "source": []
  },
  {
   "cell_type": "code",
   "execution_count": null,
   "id": "f6f39be5-e6ed-4e43-93bb-c02d60de2722",
   "metadata": {},
   "outputs": [],
   "source": []
  },
  {
   "cell_type": "code",
   "execution_count": null,
   "id": "133b8a6e-e557-4584-8a3e-d8acbed25052",
   "metadata": {},
   "outputs": [],
   "source": []
  }
 ],
 "metadata": {
  "kernelspec": {
   "display_name": "Python 3 (ipykernel)",
   "language": "python",
   "name": "python3"
  },
  "language_info": {
   "codemirror_mode": {
    "name": "ipython",
    "version": 3
   },
   "file_extension": ".py",
   "mimetype": "text/x-python",
   "name": "python",
   "nbconvert_exporter": "python",
   "pygments_lexer": "ipython3",
   "version": "3.12.3"
  }
 },
 "nbformat": 4,
 "nbformat_minor": 5
}
