{
 "cells": [
  {
   "cell_type": "markdown",
   "id": "f995b0d9-024a-45f5-9121-1714d95cc066",
   "metadata": {},
   "source": [
    "# August Perez Capstone Three Project:\n",
    "## Characterization of High Accident Situations\n",
    "\n",
    "Using neural networks / deep learning I plan on analyzing a conglomerate dataset to characterize what combined variables of road types, times, and conditions have the highest probability of a car accident occuring.\n",
    "\n",
    "### Goal\n",
    "Build models for characterization of locations with crash probability of >=80% (or top 10 if minimal quantity of >=80% crash probability)\n",
    "and an analysis of times, days of the week, and dates of the year with crash probability >=60% for the locations characterized.\n",
    "\n",
    "    Crash probability Thresholds chosen arbitrarily. For real-world application, each agency utilizing this needs to determine thresholds specific to their needs and capabilities.\n",
    "\n",
    "### Data source:\n",
    "Accidents in France from 2005 to 2016 (https://www.kaggle.com/datasets/ahmedlahlou/accidents-in-france-from-2005-to-2016/data)\n",
    "\n",
    "\n",
    "    \n",
    "#### About the dataset:\n",
    "- A collection of 5 datasets pertaining to car crashes in France from 2005 to 2016\n",
    "    - characteristics\n",
    "        - Details about each crash\n",
    "    - holidays\n",
    "        - Dates from 2005 to 2016 that are holidays\n",
    "    - places\n",
    "        - Details about accident locations\n",
    "    - users\n",
    "        - Details about persons involved in the accident\n",
    "    - vehicles\n",
    "        - Details about vehicles involved in the accident"
   ]
  },
  {
   "cell_type": "markdown",
   "id": "f073a58a-6bc4-429b-a0d2-ee34f4a66742",
   "metadata": {
    "tags": []
   },
   "source": [
    "## Imports:"
   ]
  },
  {
   "cell_type": "code",
   "execution_count": 1,
   "id": "5f2d7a38-b6ec-4d01-96c2-ed0975edf772",
   "metadata": {
    "tags": []
   },
   "outputs": [],
   "source": [
    "%matplotlib inline\n",
    "\n",
    "# data manipulation and math\n",
    "\n",
    "import numpy as np\n",
    "import scipy as sp\n",
    "import pandas as pd\n",
    "pd.set_option('display.max_columns', None)\n",
    "pd.set_option('display.max_colwidth', None)\n",
    "\n",
    "# plotting and visualization\n",
    "\n",
    "import matplotlib.pyplot as plt\n",
    "import seaborn as sns\n",
    "\n",
    "# modeling & pre-processing\n",
    "    #commenting out since not necessary for this part of the project\n",
    "#    import sklearn.model_selection\n",
    "#    from sklearn.model_selection import train_test_split\n",
    "#    from sklearn.model_selection import KFold\n",
    "#    import sklearn.preprocessing\n",
    "#    import sklearn.metrics"
   ]
  },
  {
   "cell_type": "code",
   "execution_count": 2,
   "id": "af6d1db0-e674-4e71-8096-72eaf1c91879",
   "metadata": {},
   "outputs": [],
   "source": [
    "plt.rcParams['figure.figsize'] = [8,8]"
   ]
  },
  {
   "cell_type": "markdown",
   "id": "25b2b6ae-3488-4785-82a5-f0f5a42664c4",
   "metadata": {},
   "source": [
    "### Set random seed for reproducability\n",
    "Note that this should not be done for models used in real-world applications"
   ]
  },
  {
   "cell_type": "code",
   "execution_count": 3,
   "id": "601adc55-2a7d-4c94-9568-2107398cc077",
   "metadata": {
    "tags": []
   },
   "outputs": [],
   "source": [
    "np.random.seed(9)"
   ]
  },
  {
   "cell_type": "markdown",
   "id": "8e839a9f-fce4-4fc4-b2c4-4578100f5df2",
   "metadata": {
    "tags": []
   },
   "source": [
    "## Load the data into a pandas df's"
   ]
  },
  {
   "cell_type": "markdown",
   "id": "40f8baa8-b9a7-4206-97f9-f30bc18368ff",
   "metadata": {
    "tags": []
   },
   "source": [
    "### Column Descriptions\n",
    "Large section. Suggested to keep collapsed."
   ]
  },
  {
   "cell_type": "markdown",
   "id": "2775e2df-61ac-4e9f-a1bc-d10572675f4c",
   "metadata": {},
   "source": [
    "CARACTERISTICS :\n",
    "\n",
    "Num_Acc : Accident ID\n",
    "\n",
    "jour : Day of the accident\n",
    "\n",
    "mois : Month of the accident\n",
    "\n",
    "an : Year of the accident\n",
    "\n",
    "hrmn : Time of the accident in hour and minutes (hhmm)\n",
    "\n",
    "lum : Lighting : lighting conditions in which the accident occurred\n",
    "\n",
    "    1 - Full day\n",
    "\n",
    "    2 - Twilight or dawn\n",
    "\n",
    "    3 - Night without public lighting\n",
    "\n",
    "    4 - Night with public lighting not lit\n",
    "\n",
    "    5 - Night with public lighting on\n",
    "\n",
    "dep : Departmeent : INSEE Code (National Institute of Statistics and Economic Studies) of the departmeent followed\n",
    "by a 0 (201 Corse-du-Sud - 202 Haute-Corse)\n",
    "\n",
    "com : Municipality: The commune number is a code given by INSEE. The code has 3 numbers set to the right.\n",
    "\n",
    "Localisation :\n",
    "\n",
    "    1 - Out of agglomeration\n",
    "\n",
    "    2 - In built-up areas\n",
    "\n",
    "int : Type of Intersection :\n",
    "\n",
    "    1 - Out of intersection\n",
    "\n",
    "    2 - Intersection in X\n",
    "\n",
    "    3 - Intersection in T\n",
    "\n",
    "    4 - Intersection in Y\n",
    "\n",
    "    5 - Intersection with more than 4 branches\n",
    "\n",
    "    6 - Giratory\n",
    "\n",
    "    7 - Place\n",
    "\n",
    "    8 - Level crossing\n",
    "\n",
    "    9 - Other intersection\n",
    "\n",
    "atm : Atmospheric conditions:\n",
    "\n",
    "    1 - Normal\n",
    "\n",
    "    2 - Light rain\n",
    "\n",
    "    3 - Heavy rain\n",
    "\n",
    "    4 - Snow - hail\n",
    "\n",
    "    5 - Fog - smoke\n",
    "\n",
    "    6 - Strong wind - storm\n",
    "\n",
    "    7 - Dazzling weather\n",
    "\n",
    "    8 - Cloudy weather\n",
    "\n",
    "    9 - Other\n",
    "\n",
    "col : Type of collision:\n",
    "\n",
    "    1 - Two vehicles - frontal\n",
    "\n",
    "    2 - Two vehicles - from the rear\n",
    "\n",
    "    3 - Two vehicles - by the side\n",
    "\n",
    "    4 - Three vehicles and more - in chain\n",
    "\n",
    "    5 - Three or more vehicles - multiple collisions\n",
    "\n",
    "    6 - Other collision\n",
    "\n",
    "    7 - Without collision\n",
    "\n",
    "adr : Postal address: variable filled in for accidents occurring in built-up areas\n",
    "\n",
    "gps : GPS coding: 1 originator character:\n",
    "\n",
    "    M = Métropole\n",
    "\n",
    "    A = Antilles (Martinique or Guadeloupe)\n",
    "\n",
    "    G = Guyane\n",
    "\n",
    "    R = Réunion\n",
    "\n",
    "    Y = Mayotte\n",
    "\n",
    "Geographic coordinates in decimal degrees:\n",
    "\n",
    "    lat : Latitude\n",
    "\n",
    "    long : Longitude\n",
    "\n",
    "Places:\n",
    "\n",
    "Num_Acc : Accident ID\n",
    "\n",
    "catr : Category of road:\n",
    "\n",
    "    1 - Highway\n",
    "\n",
    "    2 - National Road\n",
    "\n",
    "    3 - Departmental Road\n",
    "\n",
    "    4 - Communal Way\n",
    "\n",
    "    5 - Off public network\n",
    "\n",
    "    6 - Parking lot open to public traffic\n",
    "\n",
    "    9 - other\n",
    "\n",
    "voie : Road Number\n",
    "\n",
    "V1: Numeric index of the route number (example: 2 bis, 3 ter etc.)\n",
    "\n",
    "V2: Letter alphanumeric index of the road\n",
    "\n",
    "circ: Traffic regime:\n",
    "\n",
    "    1 - One way\n",
    "\n",
    "    2 - Bidirectional\n",
    "\n",
    "    3 - Separated carriageways\n",
    "\n",
    "    4 - With variable assignment channels\n",
    "\n",
    "nbv: Total number of traffic lanes\n",
    "\n",
    "vosp: Indicates the existence of a reserved lane, regardless of whether or not the accident occurs on that lane.\n",
    "\n",
    "    1 - Bike path\n",
    "\n",
    "    2 - Cycle Bank\n",
    "\n",
    "    3 - Reserved channel\n",
    "\n",
    "Prof: Longitudinal profile describes the gradient of the road at the accident site\n",
    "\n",
    "    1 - Dish\n",
    "\n",
    "    2 - Slope\n",
    "\n",
    "    3 - Hilltop\n",
    "\n",
    "    4- Hill bottom\n",
    "\n",
    "pr: Home PR number (upstream terminal number)\n",
    "\n",
    "pr1: Distance in meters to the PR (relative to the upstream terminal)\n",
    "\n",
    "plan: Drawing in plan:\n",
    "\n",
    "    1 - Straight part\n",
    "\n",
    "    2 - Curved on the left\n",
    "\n",
    "    3 - Curved right\n",
    "\n",
    "    4 - In \"S\"\n",
    "\n",
    "lartpc: Central solid land width (TPC) if there is\n",
    "\n",
    "larrout: Width of the roadway assigned to vehicle traffic are not included the emergency stop strips,\n",
    "CPRs and parking spaces\n",
    "\n",
    "surf: surface condition\n",
    "\n",
    "    1 - normal\n",
    "\n",
    "    2 - wet\n",
    "\n",
    "    3 - puddles\n",
    "\n",
    "    4 - flooded\n",
    "\n",
    "    5 - snow\n",
    "\n",
    "    6 - mud\n",
    "\n",
    "    7 - icy\n",
    "\n",
    "    8 - fat - oil\n",
    "\n",
    "    9 - other\n",
    "\n",
    "infra: Development - Infrastructure:\n",
    "\n",
    "    1 - Underground - tunnel\n",
    "\n",
    "    2 - Bridge - autopont\n",
    "\n",
    "    3 - Exchanger or connection brace\n",
    "\n",
    "    4 - Railway\n",
    "\n",
    "    5 - Carrefour arranged\n",
    "\n",
    "    6 - Pedestrian area\n",
    "\n",
    "    7 - Toll zone\n",
    "\n",
    "situ: Situation of the accident:\n",
    "\n",
    "    1 - On the road\n",
    "\n",
    "    2 - On emergency stop band\n",
    "\n",
    "    3 - On the verge\n",
    "\n",
    "    4 - On the sidewalk\n",
    "\n",
    "    5 - On bike path\n",
    "\n",
    "env1: school point: near a school\n",
    "\n",
    "USERS:\n",
    "\n",
    "Acc_number: Accident identifier.\n",
    "\n",
    "Num_Veh: Identification of the vehicle taken back for each user occupying this vehicle (including pedestrians who are\n",
    "attached to the vehicles that hit them)\n",
    "\n",
    "place: Allows to locate the place occupied in the vehicle by the user at the time of the accident\n",
    "\n",
    "catu: User category:\n",
    "\n",
    "    1 - Driver\n",
    "\n",
    "    2 - Passenger\n",
    "\n",
    "    3 - Pedestrian\n",
    "\n",
    "    4 - Pedestrian in rollerblade or scooter\n",
    "\n",
    "grav: Severity of the accident: The injured users are classified into three categories of victims plus the uninjured\n",
    "\n",
    "    1 - Unscathed\n",
    "\n",
    "    2 - Killed\n",
    "\n",
    "    3 - Hospitalized wounded\n",
    "\n",
    "    4 - Light injury\n",
    "\n",
    "sex: Sex of the user\n",
    "\n",
    "    1 - Male\n",
    "\n",
    "    2 - Female\n",
    "\n",
    "Year_on: Year of birth of the user\n",
    "\n",
    "trip: Reason for traveling at the time of the accident:\n",
    "\n",
    "    1 - Home - work\n",
    "\n",
    "    2 - Home - school\n",
    "\n",
    "    3 - Shopping - Shopping\n",
    "\n",
    "    4 - Professional use\n",
    "\n",
    "    5 - Promenade - leisure\n",
    "\n",
    "    9 - Other\n",
    "\n",
    "secu: on 2 characters:\n",
    "the first concerns the existence of a safety equipment\n",
    "\n",
    "    1 - Belt\n",
    "\n",
    "    2 - Helmet\n",
    "\n",
    "    3 - Children's device\n",
    "\n",
    "    4 - Reflective equipment\n",
    "\n",
    "    9 - Other\n",
    "\n",
    "the second is the use of Safety Equipment\n",
    "\n",
    "    1 - Yes\n",
    "\n",
    "    2 - No\n",
    "\n",
    "    3 - Not determinable\n",
    "\n",
    "locp: Location of the pedestrian:\n",
    "\n",
    "On pavement:\n",
    "\n",
    "    1 - A + 50 m from the pedestrian crossing\n",
    "\n",
    "    2 - A - 50 m from the pedestrian crossing\n",
    "\n",
    "On pedestrian crossing:\n",
    "\n",
    "    3 - Without light signaling\n",
    "\n",
    "    4 - With light signaling\n",
    "\n",
    "Various:\n",
    "\n",
    "    5 - On the sidewalk\n",
    "\n",
    "    6 - On the verge\n",
    "\n",
    "    7 - On refuge or BAU\n",
    "\n",
    "    8 - On against aisle\n",
    "\n",
    "actp: Action of the pedestrian:\n",
    "\n",
    "Moving\n",
    "\n",
    "    0 - not specified or not applicable\n",
    "\n",
    "    1 - Meaning bumping vehicle\n",
    "\n",
    "    2 - Opposite direction of the vehicle\n",
    "    Various\n",
    "\n",
    "    3 - Crossing\n",
    "\n",
    "    4 - Masked\n",
    "\n",
    "    5 - Playing - running\n",
    "\n",
    "    6 - With animal\n",
    "\n",
    "    9 - Other\n",
    "\n",
    "etatp: This variable is used to specify whether the injured pedestrian was alone or not\n",
    "\n",
    "    1 - Only\n",
    "\n",
    "    2 - Accompanied\n",
    "\n",
    "    3 - In a group\n",
    "\n",
    "VEHICLES:\n",
    "\n",
    "Num_Acc\n",
    "Accident ID\n",
    "\n",
    "Num_Veh\n",
    "Identification of the vehicle taken back for each user occupying this vehicle (including pedestrians who are\n",
    "attached to vehicles that hit them) - alphanumeric code\n",
    "\n",
    "GP\n",
    "Flow direction :\n",
    "\n",
    "    1 - PK or PR or increasing postal address number\n",
    "\n",
    "    2 - PK or PR or descending postal address number\n",
    "\n",
    "CATV\n",
    "Category of vehicle:\n",
    "\n",
    "    01 - Bicycle\n",
    "\n",
    "    02 - Moped <50cm3\n",
    "\n",
    "    03 - Cart (Quadricycle with bodied motor) (formerly \"cart or motor tricycle\")\n",
    "\n",
    "    04 - Not used since 2006 (registered scooter)\n",
    "\n",
    "    05 - Not used since 2006 (motorcycle)\n",
    "\n",
    "    06 - Not used since 2006 (side-car)\n",
    "\n",
    "    07 - VL only\n",
    "\n",
    "    08 - Not used category (VL + caravan)\n",
    "\n",
    "    09 - Not used category (VL + trailer)\n",
    "\n",
    "    10 - VU only 1,5T <= GVW <= 3,5T with or without trailer (formerly VU only 1,5T <= GVW <= 3,5T)\n",
    "\n",
    "    11 - Most used since 2006 (VU (10) + caravan)\n",
    "\n",
    "    12 - Most used since 2006 (VU (10) + trailer)\n",
    "\n",
    "    13 - PL only 3,5T\n"
   ]
  },
  {
   "cell_type": "markdown",
   "id": "716d5daf-9d02-4dc1-a20b-81409ac45541",
   "metadata": {},
   "source": [
    "### Characteristics Data"
   ]
  },
  {
   "cell_type": "code",
   "execution_count": 4,
   "id": "6c9d13ff-8c94-4f63-9a73-9ed27a03a03a",
   "metadata": {
    "tags": []
   },
   "outputs": [
    {
     "name": "stdout",
     "output_type": "stream",
     "text": [
      "<_io.TextIOWrapper name='Datasets_cap3\\\\characteristics.csv' mode='r' encoding='cp1252'>\n"
     ]
    }
   ],
   "source": [
    "#AP: To get encoding of the csv since it's not the default (because French source of data)\n",
    "with open(r'Datasets_cap3\\characteristics.csv') as f:\n",
    "    print(f)"
   ]
  },
  {
   "cell_type": "code",
   "execution_count": 5,
   "id": "b570e9e6-55db-4f2f-8b60-900caf6a5f77",
   "metadata": {
    "tags": []
   },
   "outputs": [],
   "source": [
    "df_char = pd.read_csv(r'Datasets_cap3\\characteristics.csv', skip_blank_lines=True, encoding='cp1252', encoding_errors='ignore', low_memory=False)"
   ]
  },
  {
   "cell_type": "code",
   "execution_count": 6,
   "id": "ce467481-985e-4ffe-b026-4a7f1666ef84",
   "metadata": {},
   "outputs": [
    {
     "name": "stdout",
     "output_type": "stream",
     "text": [
      "839985\n"
     ]
    }
   ],
   "source": [
    "#AP: Should have 839,985 rows, based on looking at csv\n",
    "print(len(df_char))"
   ]
  },
  {
   "cell_type": "markdown",
   "id": "c1d6783a-b883-4f5e-99ec-5426764f98cf",
   "metadata": {
    "tags": []
   },
   "source": [
    "### holidays Data"
   ]
  },
  {
   "cell_type": "code",
   "execution_count": 7,
   "id": "dd585fb3-6004-4b54-a659-f3c5d65eb66f",
   "metadata": {},
   "outputs": [
    {
     "name": "stdout",
     "output_type": "stream",
     "text": [
      "<_io.TextIOWrapper name='Datasets_cap3\\\\holidays.csv' mode='r' encoding='cp1252'>\n"
     ]
    }
   ],
   "source": [
    "#AP: To get encoding of the csv since it's not the default (because French source of data)\n",
    "with open(r'Datasets_cap3\\holidays.csv') as f:\n",
    "    print(f)"
   ]
  },
  {
   "cell_type": "code",
   "execution_count": 8,
   "id": "7cf05bd4-7e48-4576-909c-5d5c5f75d5a3",
   "metadata": {
    "tags": []
   },
   "outputs": [],
   "source": [
    "df_holiday = pd.read_csv(r'Datasets_cap3\\holidays.csv', skip_blank_lines=True, encoding='cp1252', encoding_errors='ignore', low_memory=False)"
   ]
  },
  {
   "cell_type": "code",
   "execution_count": 9,
   "id": "6b6c68aa-d414-464b-85f9-3ce805e6d43b",
   "metadata": {
    "tags": []
   },
   "outputs": [
    {
     "name": "stdout",
     "output_type": "stream",
     "text": [
      "132\n"
     ]
    }
   ],
   "source": [
    "#AP: Should have 132 rows, based on looking at csv\n",
    "print(len(df_holiday))"
   ]
  },
  {
   "cell_type": "markdown",
   "id": "582e31b9-9bbb-42c3-b14f-2cbef79ff0de",
   "metadata": {},
   "source": [
    "### places Data"
   ]
  },
  {
   "cell_type": "code",
   "execution_count": 10,
   "id": "deb104b8-fba4-4839-a6e8-d7fff9a180ed",
   "metadata": {},
   "outputs": [
    {
     "name": "stdout",
     "output_type": "stream",
     "text": [
      "<_io.TextIOWrapper name='Datasets_cap3\\\\places.csv' mode='r' encoding='cp1252'>\n"
     ]
    }
   ],
   "source": [
    "#AP: To get encoding of the csv since it's not the default (because French source of data)\n",
    "with open(r'Datasets_cap3\\places.csv') as f:\n",
    "    print(f)"
   ]
  },
  {
   "cell_type": "code",
   "execution_count": 11,
   "id": "aea9f957-fbc8-47d3-94b1-421ce5a7ae94",
   "metadata": {
    "tags": []
   },
   "outputs": [],
   "source": [
    "df_places = pd.read_csv(r'Datasets_cap3\\places.csv', skip_blank_lines=True, encoding='cp1252', encoding_errors='ignore', low_memory=False)"
   ]
  },
  {
   "cell_type": "code",
   "execution_count": 12,
   "id": "18015ba8-8a5e-4994-b8e9-a8d6845c2813",
   "metadata": {
    "tags": []
   },
   "outputs": [
    {
     "name": "stdout",
     "output_type": "stream",
     "text": [
      "839985\n"
     ]
    }
   ],
   "source": [
    "#AP: Should have 839,985 rows, based on looking at csv\n",
    "print(len(df_places))"
   ]
  },
  {
   "cell_type": "markdown",
   "id": "4c526bc3-9e03-4ce1-977c-1ed616b694ba",
   "metadata": {},
   "source": [
    "### users Data\n",
    "\n",
    "Had to rename file to 'crash_users.csv' from 'users.csv'because of unicode escape character error"
   ]
  },
  {
   "cell_type": "code",
   "execution_count": 13,
   "id": "75e57163-7f8c-4677-9e66-7c762fbdcfa5",
   "metadata": {},
   "outputs": [
    {
     "name": "stdout",
     "output_type": "stream",
     "text": [
      "<_io.TextIOWrapper name='Datasets_cap3\\\\crash_users.csv' mode='r' encoding='cp1252'>\n"
     ]
    }
   ],
   "source": [
    "#AP: To get encoding of the csv since it's not the default (because French source of data)\n",
    "with open(r'Datasets_cap3\\crash_users.csv') as f:\n",
    "    print(f)"
   ]
  },
  {
   "cell_type": "code",
   "execution_count": 14,
   "id": "175ef1fd-8575-4ce7-ae4a-476d502a875b",
   "metadata": {
    "tags": []
   },
   "outputs": [],
   "source": [
    "df_users = pd.read_csv(r'Datasets_cap3\\crash_users.csv', skip_blank_lines=True, encoding='cp1252', encoding_errors='ignore', low_memory=False)"
   ]
  },
  {
   "cell_type": "code",
   "execution_count": 15,
   "id": "3b0756d8-b491-436d-b375-71291c7198c0",
   "metadata": {
    "tags": []
   },
   "outputs": [
    {
     "name": "stdout",
     "output_type": "stream",
     "text": [
      "1876005\n"
     ]
    }
   ],
   "source": [
    "#AP: Should have about 1.88 million rows, based on kaggle stats\n",
    "print(len(df_users))"
   ]
  },
  {
   "cell_type": "markdown",
   "id": "fed524b9-0690-4c39-8acb-d2df27416cd1",
   "metadata": {},
   "source": [
    "### vehicles Data\n",
    "\n",
    "Had to rename file to 'crash_vehicles.csv' from 'ehicles.csv'because of unicode character error"
   ]
  },
  {
   "cell_type": "markdown",
   "id": "f16d826f-055a-426a-8c42-7405109d15f6",
   "metadata": {},
   "source": [
    "AP: Not using this dataset. Research into each of the features suggests to me that they would not be beneficial in characterizing crash locations for purposes of predicting where they might occur.\n",
    "\n",
    "If investigation into this data is needed, convert the cells back to code cells (currently as Raw so the code doesn't execute)"
   ]
  },
  {
   "cell_type": "raw",
   "id": "2381c3e0-35fd-4158-a982-cd35c9602f92",
   "metadata": {},
   "source": [
    "# AP: To get encoding of the csv since it's not the default (because French source of data)\n",
    "with open(r'Datasets_cap3\\crash_vehicles.csv') as f:\n",
    "    print(f)"
   ]
  },
  {
   "cell_type": "raw",
   "id": "3baa6a63-dd3d-4864-aa0b-2f2cef2ed721",
   "metadata": {
    "tags": []
   },
   "source": [
    "df_vehicles = pd.read_csv(r'Datasets_cap3\\crash_vehicles.csv', skip_blank_lines=True, encoding='cp1252', encoding_errors='ignore', low_memory=False)"
   ]
  },
  {
   "cell_type": "raw",
   "id": "51a51f4d-8f78-410e-b03c-a4bf709b9774",
   "metadata": {
    "tags": []
   },
   "source": [
    "#AP: Should have about 1.43 million rows, based on kaggle stats\n",
    "print(len(df_vehicles))"
   ]
  },
  {
   "cell_type": "markdown",
   "id": "10b85ee7-1ded-4759-8b23-3d093dfdd4bb",
   "metadata": {},
   "source": [
    "# Data Wrangling"
   ]
  },
  {
   "cell_type": "markdown",
   "id": "17c68351-c73b-4d25-bb4b-e2719c6d40cb",
   "metadata": {},
   "source": [
    "DF var names:\n",
    "- df_char\n",
    "    - (characteristics)\n",
    "- df_holiday\n",
    "    - (holidays)\n",
    "- df_places\n",
    "    - (places)\n",
    "- df_users\n",
    "    - (users)\n",
    "- df_vehicles\n",
    "    - (vehicles)"
   ]
  },
  {
   "cell_type": "markdown",
   "id": "84e45748-1d91-4f8b-8bac-b1dee68d495a",
   "metadata": {
    "tags": []
   },
   "source": [
    "## Initial Exploration"
   ]
  },
  {
   "cell_type": "code",
   "execution_count": 16,
   "id": "47f2bb52-b00a-4bef-b89b-5d609efd9a2a",
   "metadata": {},
   "outputs": [
    {
     "data": {
      "text/html": [
       "<div>\n",
       "<style scoped>\n",
       "    .dataframe tbody tr th:only-of-type {\n",
       "        vertical-align: middle;\n",
       "    }\n",
       "\n",
       "    .dataframe tbody tr th {\n",
       "        vertical-align: top;\n",
       "    }\n",
       "\n",
       "    .dataframe thead th {\n",
       "        text-align: right;\n",
       "    }\n",
       "</style>\n",
       "<table border=\"1\" class=\"dataframe\">\n",
       "  <thead>\n",
       "    <tr style=\"text-align: right;\">\n",
       "      <th></th>\n",
       "      <th>Num_Acc</th>\n",
       "      <th>an</th>\n",
       "      <th>mois</th>\n",
       "      <th>jour</th>\n",
       "      <th>hrmn</th>\n",
       "      <th>lum</th>\n",
       "      <th>agg</th>\n",
       "      <th>int</th>\n",
       "      <th>atm</th>\n",
       "      <th>col</th>\n",
       "      <th>com</th>\n",
       "      <th>adr</th>\n",
       "      <th>gps</th>\n",
       "      <th>lat</th>\n",
       "      <th>long</th>\n",
       "      <th>dep</th>\n",
       "    </tr>\n",
       "  </thead>\n",
       "  <tbody>\n",
       "    <tr>\n",
       "      <th>0</th>\n",
       "      <td>201600000001</td>\n",
       "      <td>16</td>\n",
       "      <td>2</td>\n",
       "      <td>1</td>\n",
       "      <td>1445</td>\n",
       "      <td>1</td>\n",
       "      <td>2</td>\n",
       "      <td>1</td>\n",
       "      <td>8.0</td>\n",
       "      <td>3.0</td>\n",
       "      <td>5.0</td>\n",
       "      <td>46, rue Sonneville</td>\n",
       "      <td>M</td>\n",
       "      <td>0.0</td>\n",
       "      <td>0</td>\n",
       "      <td>590</td>\n",
       "    </tr>\n",
       "    <tr>\n",
       "      <th>1</th>\n",
       "      <td>201600000002</td>\n",
       "      <td>16</td>\n",
       "      <td>3</td>\n",
       "      <td>16</td>\n",
       "      <td>1800</td>\n",
       "      <td>1</td>\n",
       "      <td>2</td>\n",
       "      <td>6</td>\n",
       "      <td>1.0</td>\n",
       "      <td>6.0</td>\n",
       "      <td>5.0</td>\n",
       "      <td>1a rue du cimetière</td>\n",
       "      <td>M</td>\n",
       "      <td>0.0</td>\n",
       "      <td>0</td>\n",
       "      <td>590</td>\n",
       "    </tr>\n",
       "    <tr>\n",
       "      <th>2</th>\n",
       "      <td>201600000003</td>\n",
       "      <td>16</td>\n",
       "      <td>7</td>\n",
       "      <td>13</td>\n",
       "      <td>1900</td>\n",
       "      <td>1</td>\n",
       "      <td>1</td>\n",
       "      <td>1</td>\n",
       "      <td>1.0</td>\n",
       "      <td>6.0</td>\n",
       "      <td>11.0</td>\n",
       "      <td>NaN</td>\n",
       "      <td>M</td>\n",
       "      <td>0.0</td>\n",
       "      <td>0</td>\n",
       "      <td>590</td>\n",
       "    </tr>\n",
       "    <tr>\n",
       "      <th>3</th>\n",
       "      <td>201600000004</td>\n",
       "      <td>16</td>\n",
       "      <td>8</td>\n",
       "      <td>15</td>\n",
       "      <td>1930</td>\n",
       "      <td>2</td>\n",
       "      <td>2</td>\n",
       "      <td>1</td>\n",
       "      <td>7.0</td>\n",
       "      <td>3.0</td>\n",
       "      <td>477.0</td>\n",
       "      <td>52 rue victor hugo</td>\n",
       "      <td>M</td>\n",
       "      <td>0.0</td>\n",
       "      <td>0</td>\n",
       "      <td>590</td>\n",
       "    </tr>\n",
       "    <tr>\n",
       "      <th>4</th>\n",
       "      <td>201600000005</td>\n",
       "      <td>16</td>\n",
       "      <td>12</td>\n",
       "      <td>23</td>\n",
       "      <td>1100</td>\n",
       "      <td>1</td>\n",
       "      <td>2</td>\n",
       "      <td>3</td>\n",
       "      <td>1.0</td>\n",
       "      <td>3.0</td>\n",
       "      <td>11.0</td>\n",
       "      <td>rue Joliot curie</td>\n",
       "      <td>M</td>\n",
       "      <td>0.0</td>\n",
       "      <td>0</td>\n",
       "      <td>590</td>\n",
       "    </tr>\n",
       "  </tbody>\n",
       "</table>\n",
       "</div>"
      ],
      "text/plain": [
       "        Num_Acc  an  mois  jour  hrmn  lum  agg  int  atm  col    com  \\\n",
       "0  201600000001  16     2     1  1445    1    2    1  8.0  3.0    5.0   \n",
       "1  201600000002  16     3    16  1800    1    2    6  1.0  6.0    5.0   \n",
       "2  201600000003  16     7    13  1900    1    1    1  1.0  6.0   11.0   \n",
       "3  201600000004  16     8    15  1930    2    2    1  7.0  3.0  477.0   \n",
       "4  201600000005  16    12    23  1100    1    2    3  1.0  3.0   11.0   \n",
       "\n",
       "                   adr gps  lat long  dep  \n",
       "0   46, rue Sonneville   M  0.0    0  590  \n",
       "1  1a rue du cimetière   M  0.0    0  590  \n",
       "2                  NaN   M  0.0    0  590  \n",
       "3   52 rue victor hugo   M  0.0    0  590  \n",
       "4     rue Joliot curie   M  0.0    0  590  "
      ]
     },
     "execution_count": 16,
     "metadata": {},
     "output_type": "execute_result"
    }
   ],
   "source": [
    "df_char.head()"
   ]
  },
  {
   "cell_type": "code",
   "execution_count": 17,
   "id": "04b4f188-1cd1-48cf-8087-7d194dcd30ab",
   "metadata": {
    "tags": []
   },
   "outputs": [
    {
     "name": "stdout",
     "output_type": "stream",
     "text": [
      "<class 'pandas.core.frame.DataFrame'>\n",
      "RangeIndex: 839985 entries, 0 to 839984\n",
      "Data columns (total 16 columns):\n",
      " #   Column   Non-Null Count   Dtype  \n",
      "---  ------   --------------   -----  \n",
      " 0   Num_Acc  839985 non-null  int64  \n",
      " 1   an       839985 non-null  int64  \n",
      " 2   mois     839985 non-null  int64  \n",
      " 3   jour     839985 non-null  int64  \n",
      " 4   hrmn     839985 non-null  int64  \n",
      " 5   lum      839985 non-null  int64  \n",
      " 6   agg      839985 non-null  int64  \n",
      " 7   int      839985 non-null  int64  \n",
      " 8   atm      839930 non-null  float64\n",
      " 9   col      839974 non-null  float64\n",
      " 10  com      839983 non-null  float64\n",
      " 11  adr      699443 non-null  object \n",
      " 12  gps      366226 non-null  object \n",
      " 13  lat      362471 non-null  float64\n",
      " 14  long     362467 non-null  object \n",
      " 15  dep      839985 non-null  int64  \n",
      "dtypes: float64(4), int64(9), object(3)\n",
      "memory usage: 102.5+ MB\n"
     ]
    }
   ],
   "source": [
    "df_char.info()"
   ]
  },
  {
   "cell_type": "code",
   "execution_count": 18,
   "id": "1971e335-8e61-43c1-85f2-be9852d2d8da",
   "metadata": {},
   "outputs": [
    {
     "data": {
      "text/html": [
       "<div>\n",
       "<style scoped>\n",
       "    .dataframe tbody tr th:only-of-type {\n",
       "        vertical-align: middle;\n",
       "    }\n",
       "\n",
       "    .dataframe tbody tr th {\n",
       "        vertical-align: top;\n",
       "    }\n",
       "\n",
       "    .dataframe thead th {\n",
       "        text-align: right;\n",
       "    }\n",
       "</style>\n",
       "<table border=\"1\" class=\"dataframe\">\n",
       "  <thead>\n",
       "    <tr style=\"text-align: right;\">\n",
       "      <th></th>\n",
       "      <th>ds</th>\n",
       "      <th>holiday</th>\n",
       "    </tr>\n",
       "  </thead>\n",
       "  <tbody>\n",
       "    <tr>\n",
       "      <th>0</th>\n",
       "      <td>2005-01-01</td>\n",
       "      <td>New year</td>\n",
       "    </tr>\n",
       "    <tr>\n",
       "      <th>1</th>\n",
       "      <td>2005-03-28</td>\n",
       "      <td>Easter Monday</td>\n",
       "    </tr>\n",
       "    <tr>\n",
       "      <th>2</th>\n",
       "      <td>2005-05-01</td>\n",
       "      <td>Labour Day</td>\n",
       "    </tr>\n",
       "    <tr>\n",
       "      <th>3</th>\n",
       "      <td>2005-05-05</td>\n",
       "      <td>Ascension Thursday</td>\n",
       "    </tr>\n",
       "    <tr>\n",
       "      <th>4</th>\n",
       "      <td>2005-05-08</td>\n",
       "      <td>Victory in Europe Day</td>\n",
       "    </tr>\n",
       "  </tbody>\n",
       "</table>\n",
       "</div>"
      ],
      "text/plain": [
       "           ds                holiday\n",
       "0  2005-01-01               New year\n",
       "1  2005-03-28          Easter Monday\n",
       "2  2005-05-01             Labour Day\n",
       "3  2005-05-05     Ascension Thursday\n",
       "4  2005-05-08  Victory in Europe Day"
      ]
     },
     "execution_count": 18,
     "metadata": {},
     "output_type": "execute_result"
    }
   ],
   "source": [
    "df_holiday.head()"
   ]
  },
  {
   "cell_type": "code",
   "execution_count": 19,
   "id": "4d447491-7b29-4d38-b8a5-cec3c598b09c",
   "metadata": {},
   "outputs": [
    {
     "name": "stdout",
     "output_type": "stream",
     "text": [
      "<class 'pandas.core.frame.DataFrame'>\n",
      "RangeIndex: 132 entries, 0 to 131\n",
      "Data columns (total 2 columns):\n",
      " #   Column   Non-Null Count  Dtype \n",
      "---  ------   --------------  ----- \n",
      " 0   ds       132 non-null    object\n",
      " 1   holiday  132 non-null    object\n",
      "dtypes: object(2)\n",
      "memory usage: 2.2+ KB\n"
     ]
    }
   ],
   "source": [
    "df_holiday.info()"
   ]
  },
  {
   "cell_type": "code",
   "execution_count": 20,
   "id": "882af140-b219-4174-9a38-bf835ebacf91",
   "metadata": {},
   "outputs": [
    {
     "data": {
      "text/html": [
       "<div>\n",
       "<style scoped>\n",
       "    .dataframe tbody tr th:only-of-type {\n",
       "        vertical-align: middle;\n",
       "    }\n",
       "\n",
       "    .dataframe tbody tr th {\n",
       "        vertical-align: top;\n",
       "    }\n",
       "\n",
       "    .dataframe thead th {\n",
       "        text-align: right;\n",
       "    }\n",
       "</style>\n",
       "<table border=\"1\" class=\"dataframe\">\n",
       "  <thead>\n",
       "    <tr style=\"text-align: right;\">\n",
       "      <th></th>\n",
       "      <th>Num_Acc</th>\n",
       "      <th>catr</th>\n",
       "      <th>voie</th>\n",
       "      <th>v1</th>\n",
       "      <th>v2</th>\n",
       "      <th>circ</th>\n",
       "      <th>nbv</th>\n",
       "      <th>pr</th>\n",
       "      <th>pr1</th>\n",
       "      <th>vosp</th>\n",
       "      <th>prof</th>\n",
       "      <th>plan</th>\n",
       "      <th>lartpc</th>\n",
       "      <th>larrout</th>\n",
       "      <th>surf</th>\n",
       "      <th>infra</th>\n",
       "      <th>situ</th>\n",
       "      <th>env1</th>\n",
       "    </tr>\n",
       "  </thead>\n",
       "  <tbody>\n",
       "    <tr>\n",
       "      <th>0</th>\n",
       "      <td>201600000001</td>\n",
       "      <td>3.0</td>\n",
       "      <td>39</td>\n",
       "      <td>NaN</td>\n",
       "      <td>NaN</td>\n",
       "      <td>2.0</td>\n",
       "      <td>0.0</td>\n",
       "      <td>NaN</td>\n",
       "      <td>NaN</td>\n",
       "      <td>0.0</td>\n",
       "      <td>1.0</td>\n",
       "      <td>3.0</td>\n",
       "      <td>0.0</td>\n",
       "      <td>0.0</td>\n",
       "      <td>1.0</td>\n",
       "      <td>0.0</td>\n",
       "      <td>1.0</td>\n",
       "      <td>0.0</td>\n",
       "    </tr>\n",
       "    <tr>\n",
       "      <th>1</th>\n",
       "      <td>201600000002</td>\n",
       "      <td>3.0</td>\n",
       "      <td>39</td>\n",
       "      <td>NaN</td>\n",
       "      <td>NaN</td>\n",
       "      <td>1.0</td>\n",
       "      <td>0.0</td>\n",
       "      <td>NaN</td>\n",
       "      <td>NaN</td>\n",
       "      <td>0.0</td>\n",
       "      <td>1.0</td>\n",
       "      <td>2.0</td>\n",
       "      <td>0.0</td>\n",
       "      <td>58.0</td>\n",
       "      <td>1.0</td>\n",
       "      <td>0.0</td>\n",
       "      <td>1.0</td>\n",
       "      <td>0.0</td>\n",
       "    </tr>\n",
       "    <tr>\n",
       "      <th>2</th>\n",
       "      <td>201600000003</td>\n",
       "      <td>3.0</td>\n",
       "      <td>1</td>\n",
       "      <td>NaN</td>\n",
       "      <td>NaN</td>\n",
       "      <td>2.0</td>\n",
       "      <td>2.0</td>\n",
       "      <td>NaN</td>\n",
       "      <td>NaN</td>\n",
       "      <td>0.0</td>\n",
       "      <td>1.0</td>\n",
       "      <td>3.0</td>\n",
       "      <td>0.0</td>\n",
       "      <td>68.0</td>\n",
       "      <td>2.0</td>\n",
       "      <td>0.0</td>\n",
       "      <td>3.0</td>\n",
       "      <td>99.0</td>\n",
       "    </tr>\n",
       "    <tr>\n",
       "      <th>3</th>\n",
       "      <td>201600000004</td>\n",
       "      <td>4.0</td>\n",
       "      <td>0</td>\n",
       "      <td>NaN</td>\n",
       "      <td>NaN</td>\n",
       "      <td>2.0</td>\n",
       "      <td>0.0</td>\n",
       "      <td>NaN</td>\n",
       "      <td>NaN</td>\n",
       "      <td>0.0</td>\n",
       "      <td>1.0</td>\n",
       "      <td>1.0</td>\n",
       "      <td>0.0</td>\n",
       "      <td>0.0</td>\n",
       "      <td>1.0</td>\n",
       "      <td>0.0</td>\n",
       "      <td>1.0</td>\n",
       "      <td>99.0</td>\n",
       "    </tr>\n",
       "    <tr>\n",
       "      <th>4</th>\n",
       "      <td>201600000005</td>\n",
       "      <td>4.0</td>\n",
       "      <td>0</td>\n",
       "      <td>NaN</td>\n",
       "      <td>NaN</td>\n",
       "      <td>0.0</td>\n",
       "      <td>0.0</td>\n",
       "      <td>NaN</td>\n",
       "      <td>NaN</td>\n",
       "      <td>0.0</td>\n",
       "      <td>0.0</td>\n",
       "      <td>1.0</td>\n",
       "      <td>0.0</td>\n",
       "      <td>0.0</td>\n",
       "      <td>1.0</td>\n",
       "      <td>0.0</td>\n",
       "      <td>1.0</td>\n",
       "      <td>3.0</td>\n",
       "    </tr>\n",
       "  </tbody>\n",
       "</table>\n",
       "</div>"
      ],
      "text/plain": [
       "        Num_Acc  catr voie  v1   v2  circ  nbv  pr  pr1  vosp  prof  plan  \\\n",
       "0  201600000001   3.0   39 NaN  NaN   2.0  0.0 NaN  NaN   0.0   1.0   3.0   \n",
       "1  201600000002   3.0   39 NaN  NaN   1.0  0.0 NaN  NaN   0.0   1.0   2.0   \n",
       "2  201600000003   3.0    1 NaN  NaN   2.0  2.0 NaN  NaN   0.0   1.0   3.0   \n",
       "3  201600000004   4.0    0 NaN  NaN   2.0  0.0 NaN  NaN   0.0   1.0   1.0   \n",
       "4  201600000005   4.0    0 NaN  NaN   0.0  0.0 NaN  NaN   0.0   0.0   1.0   \n",
       "\n",
       "   lartpc  larrout  surf  infra  situ  env1  \n",
       "0     0.0      0.0   1.0    0.0   1.0   0.0  \n",
       "1     0.0     58.0   1.0    0.0   1.0   0.0  \n",
       "2     0.0     68.0   2.0    0.0   3.0  99.0  \n",
       "3     0.0      0.0   1.0    0.0   1.0  99.0  \n",
       "4     0.0      0.0   1.0    0.0   1.0   3.0  "
      ]
     },
     "execution_count": 20,
     "metadata": {},
     "output_type": "execute_result"
    }
   ],
   "source": [
    "df_places.head()"
   ]
  },
  {
   "cell_type": "code",
   "execution_count": 21,
   "id": "97e28605-d5b0-4a29-be32-0bb138b2f873",
   "metadata": {
    "tags": []
   },
   "outputs": [
    {
     "name": "stdout",
     "output_type": "stream",
     "text": [
      "<class 'pandas.core.frame.DataFrame'>\n",
      "RangeIndex: 839985 entries, 0 to 839984\n",
      "Data columns (total 18 columns):\n",
      " #   Column   Non-Null Count   Dtype  \n",
      "---  ------   --------------   -----  \n",
      " 0   Num_Acc  839985 non-null  int64  \n",
      " 1   catr     839984 non-null  float64\n",
      " 2   voie     780914 non-null  object \n",
      " 3   v1       332816 non-null  float64\n",
      " 4   v2       33953 non-null   object \n",
      " 5   circ     839187 non-null  float64\n",
      " 6   nbv      838195 non-null  float64\n",
      " 7   pr       414770 non-null  float64\n",
      " 8   pr1      413463 non-null  float64\n",
      " 9   vosp     838345 non-null  float64\n",
      " 10  prof     838924 non-null  float64\n",
      " 11  plan     838909 non-null  float64\n",
      " 12  lartpc   830440 non-null  float64\n",
      " 13  larrout  831706 non-null  float64\n",
      " 14  surf     838968 non-null  float64\n",
      " 15  infra    838707 non-null  float64\n",
      " 16  situ     838983 non-null  float64\n",
      " 17  env1     838709 non-null  float64\n",
      "dtypes: float64(15), int64(1), object(2)\n",
      "memory usage: 115.4+ MB\n"
     ]
    }
   ],
   "source": [
    "df_places.info()"
   ]
  },
  {
   "cell_type": "code",
   "execution_count": 22,
   "id": "7327a12a-db75-4f0c-8334-2b1559492d61",
   "metadata": {
    "tags": []
   },
   "outputs": [
    {
     "data": {
      "text/html": [
       "<div>\n",
       "<style scoped>\n",
       "    .dataframe tbody tr th:only-of-type {\n",
       "        vertical-align: middle;\n",
       "    }\n",
       "\n",
       "    .dataframe tbody tr th {\n",
       "        vertical-align: top;\n",
       "    }\n",
       "\n",
       "    .dataframe thead th {\n",
       "        text-align: right;\n",
       "    }\n",
       "</style>\n",
       "<table border=\"1\" class=\"dataframe\">\n",
       "  <thead>\n",
       "    <tr style=\"text-align: right;\">\n",
       "      <th></th>\n",
       "      <th>Num_Acc</th>\n",
       "      <th>place</th>\n",
       "      <th>catu</th>\n",
       "      <th>grav</th>\n",
       "      <th>sexe</th>\n",
       "      <th>trajet</th>\n",
       "      <th>secu</th>\n",
       "      <th>locp</th>\n",
       "      <th>actp</th>\n",
       "      <th>etatp</th>\n",
       "      <th>an_nais</th>\n",
       "      <th>num_veh</th>\n",
       "    </tr>\n",
       "  </thead>\n",
       "  <tbody>\n",
       "    <tr>\n",
       "      <th>0</th>\n",
       "      <td>201600000001</td>\n",
       "      <td>1.0</td>\n",
       "      <td>1</td>\n",
       "      <td>1</td>\n",
       "      <td>2</td>\n",
       "      <td>0.0</td>\n",
       "      <td>11.0</td>\n",
       "      <td>0.0</td>\n",
       "      <td>0.0</td>\n",
       "      <td>0.0</td>\n",
       "      <td>1983.0</td>\n",
       "      <td>B02</td>\n",
       "    </tr>\n",
       "    <tr>\n",
       "      <th>1</th>\n",
       "      <td>201600000001</td>\n",
       "      <td>1.0</td>\n",
       "      <td>1</td>\n",
       "      <td>3</td>\n",
       "      <td>1</td>\n",
       "      <td>9.0</td>\n",
       "      <td>21.0</td>\n",
       "      <td>0.0</td>\n",
       "      <td>0.0</td>\n",
       "      <td>0.0</td>\n",
       "      <td>2001.0</td>\n",
       "      <td>A01</td>\n",
       "    </tr>\n",
       "    <tr>\n",
       "      <th>2</th>\n",
       "      <td>201600000002</td>\n",
       "      <td>1.0</td>\n",
       "      <td>1</td>\n",
       "      <td>3</td>\n",
       "      <td>1</td>\n",
       "      <td>5.0</td>\n",
       "      <td>11.0</td>\n",
       "      <td>0.0</td>\n",
       "      <td>0.0</td>\n",
       "      <td>0.0</td>\n",
       "      <td>1960.0</td>\n",
       "      <td>A01</td>\n",
       "    </tr>\n",
       "    <tr>\n",
       "      <th>3</th>\n",
       "      <td>201600000002</td>\n",
       "      <td>2.0</td>\n",
       "      <td>2</td>\n",
       "      <td>3</td>\n",
       "      <td>1</td>\n",
       "      <td>0.0</td>\n",
       "      <td>11.0</td>\n",
       "      <td>0.0</td>\n",
       "      <td>0.0</td>\n",
       "      <td>0.0</td>\n",
       "      <td>2000.0</td>\n",
       "      <td>A01</td>\n",
       "    </tr>\n",
       "    <tr>\n",
       "      <th>4</th>\n",
       "      <td>201600000002</td>\n",
       "      <td>3.0</td>\n",
       "      <td>2</td>\n",
       "      <td>3</td>\n",
       "      <td>2</td>\n",
       "      <td>0.0</td>\n",
       "      <td>11.0</td>\n",
       "      <td>0.0</td>\n",
       "      <td>0.0</td>\n",
       "      <td>0.0</td>\n",
       "      <td>1962.0</td>\n",
       "      <td>A01</td>\n",
       "    </tr>\n",
       "  </tbody>\n",
       "</table>\n",
       "</div>"
      ],
      "text/plain": [
       "        Num_Acc  place  catu  grav  sexe  trajet  secu  locp  actp  etatp  \\\n",
       "0  201600000001    1.0     1     1     2     0.0  11.0   0.0   0.0    0.0   \n",
       "1  201600000001    1.0     1     3     1     9.0  21.0   0.0   0.0    0.0   \n",
       "2  201600000002    1.0     1     3     1     5.0  11.0   0.0   0.0    0.0   \n",
       "3  201600000002    2.0     2     3     1     0.0  11.0   0.0   0.0    0.0   \n",
       "4  201600000002    3.0     2     3     2     0.0  11.0   0.0   0.0    0.0   \n",
       "\n",
       "   an_nais num_veh  \n",
       "0   1983.0     B02  \n",
       "1   2001.0     A01  \n",
       "2   1960.0     A01  \n",
       "3   2000.0     A01  \n",
       "4   1962.0     A01  "
      ]
     },
     "execution_count": 22,
     "metadata": {},
     "output_type": "execute_result"
    }
   ],
   "source": [
    "df_users.head()"
   ]
  },
  {
   "cell_type": "code",
   "execution_count": 23,
   "id": "0bf20ef1-265e-42b0-9451-e6ea853fd440",
   "metadata": {
    "tags": []
   },
   "outputs": [
    {
     "name": "stdout",
     "output_type": "stream",
     "text": [
      "<class 'pandas.core.frame.DataFrame'>\n",
      "RangeIndex: 1876005 entries, 0 to 1876004\n",
      "Data columns (total 12 columns):\n",
      " #   Column   Dtype  \n",
      "---  ------   -----  \n",
      " 0   Num_Acc  int64  \n",
      " 1   place    float64\n",
      " 2   catu     int64  \n",
      " 3   grav     int64  \n",
      " 4   sexe     int64  \n",
      " 5   trajet   float64\n",
      " 6   secu     float64\n",
      " 7   locp     float64\n",
      " 8   actp     float64\n",
      " 9   etatp    float64\n",
      " 10  an_nais  float64\n",
      " 11  num_veh  object \n",
      "dtypes: float64(7), int64(4), object(1)\n",
      "memory usage: 171.8+ MB\n"
     ]
    }
   ],
   "source": [
    "df_users.info()"
   ]
  },
  {
   "cell_type": "raw",
   "id": "17aed0c1-bf9c-402f-9939-cd19fc480f2e",
   "metadata": {
    "tags": []
   },
   "source": [
    "df_vehicles.head()"
   ]
  },
  {
   "cell_type": "raw",
   "id": "2f3e32be-780c-43f0-9c40-2ccaf5595fac",
   "metadata": {
    "tags": []
   },
   "source": [
    "df_vehicles.info()"
   ]
  },
  {
   "cell_type": "markdown",
   "id": "f1ad2ceb-e139-47a8-b1e7-d8a8ab7c85ae",
   "metadata": {
    "tags": []
   },
   "source": [
    "## Edit Col names\n",
    "    For clarity & some translation from French\n",
    "\n",
    "    Making new col names with orginal appended at end (for my own ease when referring to dataset documentation)"
   ]
  },
  {
   "cell_type": "markdown",
   "id": "72a0e9f2-588a-4bcc-8222-870fe31a2d8e",
   "metadata": {},
   "source": [
    "### df_char"
   ]
  },
  {
   "cell_type": "code",
   "execution_count": 24,
   "id": "88b45be2-78d7-4d3a-8a9f-ec7ca878b081",
   "metadata": {
    "tags": []
   },
   "outputs": [
    {
     "data": {
      "text/html": [
       "<div>\n",
       "<style scoped>\n",
       "    .dataframe tbody tr th:only-of-type {\n",
       "        vertical-align: middle;\n",
       "    }\n",
       "\n",
       "    .dataframe tbody tr th {\n",
       "        vertical-align: top;\n",
       "    }\n",
       "\n",
       "    .dataframe thead th {\n",
       "        text-align: right;\n",
       "    }\n",
       "</style>\n",
       "<table border=\"1\" class=\"dataframe\">\n",
       "  <thead>\n",
       "    <tr style=\"text-align: right;\">\n",
       "      <th></th>\n",
       "      <th>Num_Acc</th>\n",
       "      <th>an</th>\n",
       "      <th>mois</th>\n",
       "      <th>jour</th>\n",
       "      <th>hrmn</th>\n",
       "      <th>lum</th>\n",
       "      <th>agg</th>\n",
       "      <th>int</th>\n",
       "      <th>atm</th>\n",
       "      <th>col</th>\n",
       "      <th>com</th>\n",
       "      <th>adr</th>\n",
       "      <th>gps</th>\n",
       "      <th>lat</th>\n",
       "      <th>long</th>\n",
       "      <th>dep</th>\n",
       "    </tr>\n",
       "  </thead>\n",
       "  <tbody>\n",
       "    <tr>\n",
       "      <th>0</th>\n",
       "      <td>201600000001</td>\n",
       "      <td>16</td>\n",
       "      <td>2</td>\n",
       "      <td>1</td>\n",
       "      <td>1445</td>\n",
       "      <td>1</td>\n",
       "      <td>2</td>\n",
       "      <td>1</td>\n",
       "      <td>8.0</td>\n",
       "      <td>3.0</td>\n",
       "      <td>5.0</td>\n",
       "      <td>46, rue Sonneville</td>\n",
       "      <td>M</td>\n",
       "      <td>0.0</td>\n",
       "      <td>0</td>\n",
       "      <td>590</td>\n",
       "    </tr>\n",
       "    <tr>\n",
       "      <th>1</th>\n",
       "      <td>201600000002</td>\n",
       "      <td>16</td>\n",
       "      <td>3</td>\n",
       "      <td>16</td>\n",
       "      <td>1800</td>\n",
       "      <td>1</td>\n",
       "      <td>2</td>\n",
       "      <td>6</td>\n",
       "      <td>1.0</td>\n",
       "      <td>6.0</td>\n",
       "      <td>5.0</td>\n",
       "      <td>1a rue du cimetière</td>\n",
       "      <td>M</td>\n",
       "      <td>0.0</td>\n",
       "      <td>0</td>\n",
       "      <td>590</td>\n",
       "    </tr>\n",
       "  </tbody>\n",
       "</table>\n",
       "</div>"
      ],
      "text/plain": [
       "        Num_Acc  an  mois  jour  hrmn  lum  agg  int  atm  col  com  \\\n",
       "0  201600000001  16     2     1  1445    1    2    1  8.0  3.0  5.0   \n",
       "1  201600000002  16     3    16  1800    1    2    6  1.0  6.0  5.0   \n",
       "\n",
       "                   adr gps  lat long  dep  \n",
       "0   46, rue Sonneville   M  0.0    0  590  \n",
       "1  1a rue du cimetière   M  0.0    0  590  "
      ]
     },
     "execution_count": 24,
     "metadata": {},
     "output_type": "execute_result"
    }
   ],
   "source": [
    "df_char.head(2)"
   ]
  },
  {
   "cell_type": "code",
   "execution_count": 25,
   "id": "a164ae64-f03e-4474-aeb4-8c47b10dde49",
   "metadata": {
    "tags": []
   },
   "outputs": [
    {
     "data": {
      "text/html": [
       "<div>\n",
       "<style scoped>\n",
       "    .dataframe tbody tr th:only-of-type {\n",
       "        vertical-align: middle;\n",
       "    }\n",
       "\n",
       "    .dataframe tbody tr th {\n",
       "        vertical-align: top;\n",
       "    }\n",
       "\n",
       "    .dataframe thead th {\n",
       "        text-align: right;\n",
       "    }\n",
       "</style>\n",
       "<table border=\"1\" class=\"dataframe\">\n",
       "  <thead>\n",
       "    <tr style=\"text-align: right;\">\n",
       "      <th></th>\n",
       "      <th>acc_id</th>\n",
       "      <th>year_an</th>\n",
       "      <th>month_mois</th>\n",
       "      <th>day_jour</th>\n",
       "      <th>hrmn</th>\n",
       "      <th>luminosity_lum</th>\n",
       "      <th>built_up_agg</th>\n",
       "      <th>intersection_type_int</th>\n",
       "      <th>weather_atm</th>\n",
       "      <th>collision_type_col</th>\n",
       "      <th>commune_num_drop</th>\n",
       "      <th>address_drop</th>\n",
       "      <th>gps_drop</th>\n",
       "      <th>latitude_drop</th>\n",
       "      <th>longitude_drop</th>\n",
       "      <th>dep_drop</th>\n",
       "    </tr>\n",
       "  </thead>\n",
       "  <tbody>\n",
       "    <tr>\n",
       "      <th>0</th>\n",
       "      <td>201600000001</td>\n",
       "      <td>16</td>\n",
       "      <td>2</td>\n",
       "      <td>1</td>\n",
       "      <td>1445</td>\n",
       "      <td>1</td>\n",
       "      <td>2</td>\n",
       "      <td>1</td>\n",
       "      <td>8.0</td>\n",
       "      <td>3.0</td>\n",
       "      <td>5.0</td>\n",
       "      <td>46, rue Sonneville</td>\n",
       "      <td>M</td>\n",
       "      <td>0.0</td>\n",
       "      <td>0</td>\n",
       "      <td>590</td>\n",
       "    </tr>\n",
       "    <tr>\n",
       "      <th>1</th>\n",
       "      <td>201600000002</td>\n",
       "      <td>16</td>\n",
       "      <td>3</td>\n",
       "      <td>16</td>\n",
       "      <td>1800</td>\n",
       "      <td>1</td>\n",
       "      <td>2</td>\n",
       "      <td>6</td>\n",
       "      <td>1.0</td>\n",
       "      <td>6.0</td>\n",
       "      <td>5.0</td>\n",
       "      <td>1a rue du cimetière</td>\n",
       "      <td>M</td>\n",
       "      <td>0.0</td>\n",
       "      <td>0</td>\n",
       "      <td>590</td>\n",
       "    </tr>\n",
       "  </tbody>\n",
       "</table>\n",
       "</div>"
      ],
      "text/plain": [
       "         acc_id  year_an  month_mois  day_jour  hrmn  luminosity_lum  \\\n",
       "0  201600000001       16           2         1  1445               1   \n",
       "1  201600000002       16           3        16  1800               1   \n",
       "\n",
       "   built_up_agg  intersection_type_int  weather_atm  collision_type_col  \\\n",
       "0             2                      1          8.0                 3.0   \n",
       "1             2                      6          1.0                 6.0   \n",
       "\n",
       "   commune_num_drop         address_drop gps_drop  latitude_drop  \\\n",
       "0               5.0   46, rue Sonneville        M            0.0   \n",
       "1               5.0  1a rue du cimetière        M            0.0   \n",
       "\n",
       "  longitude_drop  dep_drop  \n",
       "0              0       590  \n",
       "1              0       590  "
      ]
     },
     "execution_count": 25,
     "metadata": {},
     "output_type": "execute_result"
    }
   ],
   "source": [
    "df_char.rename({'Num_Acc' : 'acc_id',\n",
    "                'an' : 'year_an',\n",
    "                'mois' : 'month_mois',\n",
    "                'jour' : 'day_jour',\n",
    "                'hrmn' : 'hrmn',\n",
    "                'lum' : 'luminosity_lum',\n",
    "                'agg' : 'built_up_agg',\n",
    "                'int' : 'intersection_type_int',\n",
    "                'atm' : 'weather_atm',\n",
    "                'col' : 'collision_type_col',\n",
    "                'adr' : 'address_drop',\n",
    "                'gps' : 'gps_drop',\n",
    "                'lat' : 'latitude_drop',\n",
    "                'long' : 'longitude_drop',\n",
    "                'dep' : 'dep_drop',\n",
    "                'com' : 'commune_num_drop'},\n",
    "               axis=1, inplace=True)\n",
    "df_char.head(2)"
   ]
  },
  {
   "cell_type": "markdown",
   "id": "19c09637-9c86-4646-8294-c706d7667338",
   "metadata": {},
   "source": [
    "### df_holiday"
   ]
  },
  {
   "cell_type": "code",
   "execution_count": 26,
   "id": "3145d058-cb6a-430a-acbe-91f5d00ddfd2",
   "metadata": {
    "tags": []
   },
   "outputs": [
    {
     "data": {
      "text/html": [
       "<div>\n",
       "<style scoped>\n",
       "    .dataframe tbody tr th:only-of-type {\n",
       "        vertical-align: middle;\n",
       "    }\n",
       "\n",
       "    .dataframe tbody tr th {\n",
       "        vertical-align: top;\n",
       "    }\n",
       "\n",
       "    .dataframe thead th {\n",
       "        text-align: right;\n",
       "    }\n",
       "</style>\n",
       "<table border=\"1\" class=\"dataframe\">\n",
       "  <thead>\n",
       "    <tr style=\"text-align: right;\">\n",
       "      <th></th>\n",
       "      <th>ds</th>\n",
       "      <th>holiday</th>\n",
       "    </tr>\n",
       "  </thead>\n",
       "  <tbody>\n",
       "    <tr>\n",
       "      <th>0</th>\n",
       "      <td>2005-01-01</td>\n",
       "      <td>New year</td>\n",
       "    </tr>\n",
       "    <tr>\n",
       "      <th>1</th>\n",
       "      <td>2005-03-28</td>\n",
       "      <td>Easter Monday</td>\n",
       "    </tr>\n",
       "  </tbody>\n",
       "</table>\n",
       "</div>"
      ],
      "text/plain": [
       "           ds        holiday\n",
       "0  2005-01-01       New year\n",
       "1  2005-03-28  Easter Monday"
      ]
     },
     "execution_count": 26,
     "metadata": {},
     "output_type": "execute_result"
    }
   ],
   "source": [
    "df_holiday.head(2)"
   ]
  },
  {
   "cell_type": "code",
   "execution_count": 27,
   "id": "ee9a2295-ed1b-4ce9-8855-74c39485f714",
   "metadata": {
    "tags": []
   },
   "outputs": [
    {
     "data": {
      "text/plain": [
       "['New year',\n",
       " 'Easter Monday',\n",
       " 'Labour Day',\n",
       " 'Ascension Thursday',\n",
       " 'Victory in Europe Day',\n",
       " 'Whit Monday',\n",
       " 'Bastille Day',\n",
       " 'Assumption of Mary to Heaven',\n",
       " 'All Saints Day',\n",
       " 'Armistice Day',\n",
       " 'Christmas Day']"
      ]
     },
     "execution_count": 27,
     "metadata": {},
     "output_type": "execute_result"
    }
   ],
   "source": [
    "list(df_holiday.holiday.unique())"
   ]
  },
  {
   "cell_type": "markdown",
   "id": "c3946c1f-a8b5-4795-9a74-290ca68ab16c",
   "metadata": {},
   "source": [
    "#AP: Note that these are French holidays, keeping since this dataset is about French crashes"
   ]
  },
  {
   "cell_type": "code",
   "execution_count": 28,
   "id": "5b7cbc4c-07e3-4467-94c8-7fd4003f67cd",
   "metadata": {
    "tags": []
   },
   "outputs": [
    {
     "name": "stdout",
     "output_type": "stream",
     "text": [
      "['date', 'holiday']\n"
     ]
    }
   ],
   "source": [
    "df_holiday.rename({'ds' : 'date'}, axis=1, inplace=True)\n",
    "print(list(df_holiday.columns))"
   ]
  },
  {
   "cell_type": "markdown",
   "id": "5e1b3a0d-2e7e-4bc1-bbab-c981d48d47e9",
   "metadata": {},
   "source": [
    "### df_places"
   ]
  },
  {
   "cell_type": "code",
   "execution_count": 29,
   "id": "69d9d28e-1453-419d-bc5d-4669947fb45b",
   "metadata": {
    "tags": []
   },
   "outputs": [
    {
     "data": {
      "text/html": [
       "<div>\n",
       "<style scoped>\n",
       "    .dataframe tbody tr th:only-of-type {\n",
       "        vertical-align: middle;\n",
       "    }\n",
       "\n",
       "    .dataframe tbody tr th {\n",
       "        vertical-align: top;\n",
       "    }\n",
       "\n",
       "    .dataframe thead th {\n",
       "        text-align: right;\n",
       "    }\n",
       "</style>\n",
       "<table border=\"1\" class=\"dataframe\">\n",
       "  <thead>\n",
       "    <tr style=\"text-align: right;\">\n",
       "      <th></th>\n",
       "      <th>Num_Acc</th>\n",
       "      <th>catr</th>\n",
       "      <th>voie</th>\n",
       "      <th>v1</th>\n",
       "      <th>v2</th>\n",
       "      <th>circ</th>\n",
       "      <th>nbv</th>\n",
       "      <th>pr</th>\n",
       "      <th>pr1</th>\n",
       "      <th>vosp</th>\n",
       "      <th>prof</th>\n",
       "      <th>plan</th>\n",
       "      <th>lartpc</th>\n",
       "      <th>larrout</th>\n",
       "      <th>surf</th>\n",
       "      <th>infra</th>\n",
       "      <th>situ</th>\n",
       "      <th>env1</th>\n",
       "    </tr>\n",
       "  </thead>\n",
       "  <tbody>\n",
       "    <tr>\n",
       "      <th>448123</th>\n",
       "      <td>200900013184</td>\n",
       "      <td>3.0</td>\n",
       "      <td>900</td>\n",
       "      <td>NaN</td>\n",
       "      <td>NaN</td>\n",
       "      <td>2.0</td>\n",
       "      <td>2.0</td>\n",
       "      <td>34.0</td>\n",
       "      <td>293.0</td>\n",
       "      <td>0.0</td>\n",
       "      <td>1.0</td>\n",
       "      <td>2.0</td>\n",
       "      <td>0.0</td>\n",
       "      <td>54.0</td>\n",
       "      <td>1.0</td>\n",
       "      <td>0.0</td>\n",
       "      <td>3.0</td>\n",
       "      <td>99.0</td>\n",
       "    </tr>\n",
       "    <tr>\n",
       "      <th>451153</th>\n",
       "      <td>200900016214</td>\n",
       "      <td>4.0</td>\n",
       "      <td>0</td>\n",
       "      <td>NaN</td>\n",
       "      <td>NaN</td>\n",
       "      <td>3.0</td>\n",
       "      <td>2.0</td>\n",
       "      <td>5.0</td>\n",
       "      <td>0.0</td>\n",
       "      <td>0.0</td>\n",
       "      <td>1.0</td>\n",
       "      <td>1.0</td>\n",
       "      <td>15.0</td>\n",
       "      <td>70.0</td>\n",
       "      <td>1.0</td>\n",
       "      <td>0.0</td>\n",
       "      <td>1.0</td>\n",
       "      <td>99.0</td>\n",
       "    </tr>\n",
       "  </tbody>\n",
       "</table>\n",
       "</div>"
      ],
      "text/plain": [
       "             Num_Acc  catr voie  v1   v2  circ  nbv    pr    pr1  vosp  prof  \\\n",
       "448123  200900013184   3.0  900 NaN  NaN   2.0  2.0  34.0  293.0   0.0   1.0   \n",
       "451153  200900016214   4.0    0 NaN  NaN   3.0  2.0   5.0    0.0   0.0   1.0   \n",
       "\n",
       "        plan  lartpc  larrout  surf  infra  situ  env1  \n",
       "448123   2.0     0.0     54.0   1.0    0.0   3.0  99.0  \n",
       "451153   1.0    15.0     70.0   1.0    0.0   1.0  99.0  "
      ]
     },
     "execution_count": 29,
     "metadata": {},
     "output_type": "execute_result"
    }
   ],
   "source": [
    "df_places.sample(2)"
   ]
  },
  {
   "cell_type": "code",
   "execution_count": 30,
   "id": "2dbea439-d3ea-475c-93a8-8745028e0616",
   "metadata": {},
   "outputs": [
    {
     "data": {
      "text/plain": [
       "env1\n",
       "0.0     477933\n",
       "99.0    319986\n",
       "3.0      40790\n",
       "Name: count, dtype: int64"
      ]
     },
     "execution_count": 30,
     "metadata": {},
     "output_type": "execute_result"
    }
   ],
   "source": [
    "df_places.env1.value_counts()"
   ]
  },
  {
   "cell_type": "code",
   "execution_count": 31,
   "id": "f27f6917-cc4a-45f4-aa7a-865df9768bd0",
   "metadata": {
    "tags": []
   },
   "outputs": [
    {
     "name": "stdout",
     "output_type": "stream",
     "text": [
      "['acc_id', 'road_category_catr', 'road_num_drop', 'v1_drop', 'v2_drop', 'road_type_circ', 'lane_count_nbv', 'pr_drop', 'pr1_drop', 'reserved_lane_type_vosp', 'road_slope_prof', 'road_curvature_plan', 'central_sep_width_lartpc', 'road_width_larrout', 'surface_cond_surf', 'infrastructure_infra', 'crash_location_situ', 'env1_drop']\n"
     ]
    }
   ],
   "source": [
    "df_places.rename({'Num_Acc' : 'acc_id',\n",
    "                  'catr' : 'road_category_catr',\n",
    "                  'voie' : 'road_num_drop',\n",
    "                  'v1' : 'v1_drop',\n",
    "                  'v2' : 'v2_drop',\n",
    "                  'circ' : 'road_type_circ',\n",
    "                  'nbv' : 'lane_count_nbv',\n",
    "                  'vosp' : 'reserved_lane_type_vosp',\n",
    "                  'prof' : 'road_slope_prof',\n",
    "                  'pr' : 'pr_drop',\n",
    "                  'pr1' : 'pr1_drop',\n",
    "                  'plan' : 'road_curvature_plan',\n",
    "                  'lartpc' : 'central_sep_width_lartpc',\n",
    "                  'larrout' : 'road_width_larrout',\n",
    "                  'surf' : 'surface_cond_surf',\n",
    "                  'infra' : 'infrastructure_infra',\n",
    "                  'situ' : 'crash_location_situ',\n",
    "                  'env1' : 'env1_drop'}, axis=1, inplace=True)\n",
    "print(list(df_places.columns))"
   ]
  },
  {
   "cell_type": "code",
   "execution_count": 32,
   "id": "b5fade5c-6c77-4bc5-beb4-9498377c23cf",
   "metadata": {},
   "outputs": [
    {
     "data": {
      "text/html": [
       "<div>\n",
       "<style scoped>\n",
       "    .dataframe tbody tr th:only-of-type {\n",
       "        vertical-align: middle;\n",
       "    }\n",
       "\n",
       "    .dataframe tbody tr th {\n",
       "        vertical-align: top;\n",
       "    }\n",
       "\n",
       "    .dataframe thead th {\n",
       "        text-align: right;\n",
       "    }\n",
       "</style>\n",
       "<table border=\"1\" class=\"dataframe\">\n",
       "  <thead>\n",
       "    <tr style=\"text-align: right;\">\n",
       "      <th></th>\n",
       "      <th>acc_id</th>\n",
       "      <th>road_category_catr</th>\n",
       "      <th>road_num_drop</th>\n",
       "      <th>v1_drop</th>\n",
       "      <th>v2_drop</th>\n",
       "      <th>road_type_circ</th>\n",
       "      <th>lane_count_nbv</th>\n",
       "      <th>pr_drop</th>\n",
       "      <th>pr1_drop</th>\n",
       "      <th>reserved_lane_type_vosp</th>\n",
       "      <th>road_slope_prof</th>\n",
       "      <th>road_curvature_plan</th>\n",
       "      <th>central_sep_width_lartpc</th>\n",
       "      <th>road_width_larrout</th>\n",
       "      <th>surface_cond_surf</th>\n",
       "      <th>infrastructure_infra</th>\n",
       "      <th>crash_location_situ</th>\n",
       "      <th>env1_drop</th>\n",
       "    </tr>\n",
       "  </thead>\n",
       "  <tbody>\n",
       "    <tr>\n",
       "      <th>0</th>\n",
       "      <td>201600000001</td>\n",
       "      <td>3.0</td>\n",
       "      <td>39</td>\n",
       "      <td>NaN</td>\n",
       "      <td>NaN</td>\n",
       "      <td>2.0</td>\n",
       "      <td>0.0</td>\n",
       "      <td>NaN</td>\n",
       "      <td>NaN</td>\n",
       "      <td>0.0</td>\n",
       "      <td>1.0</td>\n",
       "      <td>3.0</td>\n",
       "      <td>0.0</td>\n",
       "      <td>0.0</td>\n",
       "      <td>1.0</td>\n",
       "      <td>0.0</td>\n",
       "      <td>1.0</td>\n",
       "      <td>0.0</td>\n",
       "    </tr>\n",
       "    <tr>\n",
       "      <th>1</th>\n",
       "      <td>201600000002</td>\n",
       "      <td>3.0</td>\n",
       "      <td>39</td>\n",
       "      <td>NaN</td>\n",
       "      <td>NaN</td>\n",
       "      <td>1.0</td>\n",
       "      <td>0.0</td>\n",
       "      <td>NaN</td>\n",
       "      <td>NaN</td>\n",
       "      <td>0.0</td>\n",
       "      <td>1.0</td>\n",
       "      <td>2.0</td>\n",
       "      <td>0.0</td>\n",
       "      <td>58.0</td>\n",
       "      <td>1.0</td>\n",
       "      <td>0.0</td>\n",
       "      <td>1.0</td>\n",
       "      <td>0.0</td>\n",
       "    </tr>\n",
       "  </tbody>\n",
       "</table>\n",
       "</div>"
      ],
      "text/plain": [
       "         acc_id  road_category_catr road_num_drop  v1_drop v2_drop  \\\n",
       "0  201600000001                 3.0            39      NaN     NaN   \n",
       "1  201600000002                 3.0            39      NaN     NaN   \n",
       "\n",
       "   road_type_circ  lane_count_nbv  pr_drop  pr1_drop  reserved_lane_type_vosp  \\\n",
       "0             2.0             0.0      NaN       NaN                      0.0   \n",
       "1             1.0             0.0      NaN       NaN                      0.0   \n",
       "\n",
       "   road_slope_prof  road_curvature_plan  central_sep_width_lartpc  \\\n",
       "0              1.0                  3.0                       0.0   \n",
       "1              1.0                  2.0                       0.0   \n",
       "\n",
       "   road_width_larrout  surface_cond_surf  infrastructure_infra  \\\n",
       "0                 0.0                1.0                   0.0   \n",
       "1                58.0                1.0                   0.0   \n",
       "\n",
       "   crash_location_situ  env1_drop  \n",
       "0                  1.0        0.0  \n",
       "1                  1.0        0.0  "
      ]
     },
     "execution_count": 32,
     "metadata": {},
     "output_type": "execute_result"
    }
   ],
   "source": [
    "df_places.head(2)"
   ]
  },
  {
   "cell_type": "markdown",
   "id": "85bb0446-3d17-429a-bc87-c85cdc37e5be",
   "metadata": {},
   "source": [
    "dropping env1 because values don't make sense and no var of that name in documentation from French Gov.t"
   ]
  },
  {
   "cell_type": "markdown",
   "id": "e0c8b893-cb54-432b-85fe-50d55b40e556",
   "metadata": {},
   "source": [
    "### df_users"
   ]
  },
  {
   "cell_type": "code",
   "execution_count": 33,
   "id": "c4808061-eee6-4703-9b3c-e43e10b58480",
   "metadata": {
    "tags": []
   },
   "outputs": [
    {
     "data": {
      "text/html": [
       "<div>\n",
       "<style scoped>\n",
       "    .dataframe tbody tr th:only-of-type {\n",
       "        vertical-align: middle;\n",
       "    }\n",
       "\n",
       "    .dataframe tbody tr th {\n",
       "        vertical-align: top;\n",
       "    }\n",
       "\n",
       "    .dataframe thead th {\n",
       "        text-align: right;\n",
       "    }\n",
       "</style>\n",
       "<table border=\"1\" class=\"dataframe\">\n",
       "  <thead>\n",
       "    <tr style=\"text-align: right;\">\n",
       "      <th></th>\n",
       "      <th>Num_Acc</th>\n",
       "      <th>place</th>\n",
       "      <th>catu</th>\n",
       "      <th>grav</th>\n",
       "      <th>sexe</th>\n",
       "      <th>trajet</th>\n",
       "      <th>secu</th>\n",
       "      <th>locp</th>\n",
       "      <th>actp</th>\n",
       "      <th>etatp</th>\n",
       "      <th>an_nais</th>\n",
       "      <th>num_veh</th>\n",
       "    </tr>\n",
       "  </thead>\n",
       "  <tbody>\n",
       "    <tr>\n",
       "      <th>0</th>\n",
       "      <td>201600000001</td>\n",
       "      <td>1.0</td>\n",
       "      <td>1</td>\n",
       "      <td>1</td>\n",
       "      <td>2</td>\n",
       "      <td>0.0</td>\n",
       "      <td>11.0</td>\n",
       "      <td>0.0</td>\n",
       "      <td>0.0</td>\n",
       "      <td>0.0</td>\n",
       "      <td>1983.0</td>\n",
       "      <td>B02</td>\n",
       "    </tr>\n",
       "    <tr>\n",
       "      <th>1</th>\n",
       "      <td>201600000001</td>\n",
       "      <td>1.0</td>\n",
       "      <td>1</td>\n",
       "      <td>3</td>\n",
       "      <td>1</td>\n",
       "      <td>9.0</td>\n",
       "      <td>21.0</td>\n",
       "      <td>0.0</td>\n",
       "      <td>0.0</td>\n",
       "      <td>0.0</td>\n",
       "      <td>2001.0</td>\n",
       "      <td>A01</td>\n",
       "    </tr>\n",
       "  </tbody>\n",
       "</table>\n",
       "</div>"
      ],
      "text/plain": [
       "        Num_Acc  place  catu  grav  sexe  trajet  secu  locp  actp  etatp  \\\n",
       "0  201600000001    1.0     1     1     2     0.0  11.0   0.0   0.0    0.0   \n",
       "1  201600000001    1.0     1     3     1     9.0  21.0   0.0   0.0    0.0   \n",
       "\n",
       "   an_nais num_veh  \n",
       "0   1983.0     B02  \n",
       "1   2001.0     A01  "
      ]
     },
     "execution_count": 33,
     "metadata": {},
     "output_type": "execute_result"
    }
   ],
   "source": [
    "df_users.head(2)"
   ]
  },
  {
   "cell_type": "code",
   "execution_count": 34,
   "id": "910f005f-d8b2-4d04-80d6-6336305bccd9",
   "metadata": {
    "scrolled": true,
    "tags": []
   },
   "outputs": [
    {
     "name": "stdout",
     "output_type": "stream",
     "text": [
      "['acc_id', 'place_in_veh_place', 'person_cat_catu', 'injury_severity_grav', 'sexe_drop', 'travel_reason_trajet', 'secu_drop', 'ped_location_locp', 'ped_action_actp', 'ped_group_etatp', 'an_nais_drop', 'num_veh_drop']\n"
     ]
    }
   ],
   "source": [
    "df_users.rename({'Num_Acc' : 'acc_id',\n",
    "                 'num_veh' : 'num_veh_drop',\n",
    "                 'place' : 'place_in_veh_place',\n",
    "                 'catu' : 'person_cat_catu',\n",
    "                 'grav' : 'injury_severity_grav',\n",
    "                 'sexe' : 'sexe_drop',\n",
    "                 'trajet' : 'travel_reason_trajet',\n",
    "                 'secu' : 'secu_drop',\n",
    "                 'locp' : 'ped_location_locp',\n",
    "                 'actp' : 'ped_action_actp',\n",
    "                 'etatp' : 'ped_group_etatp',\n",
    "                 'an_nais' : 'an_nais_drop'}, axis=1, inplace=True)\n",
    "print(list(df_users.columns))"
   ]
  },
  {
   "cell_type": "code",
   "execution_count": 35,
   "id": "9a77e047-d797-44e0-8b2e-24889678e52d",
   "metadata": {},
   "outputs": [
    {
     "data": {
      "text/html": [
       "<div>\n",
       "<style scoped>\n",
       "    .dataframe tbody tr th:only-of-type {\n",
       "        vertical-align: middle;\n",
       "    }\n",
       "\n",
       "    .dataframe tbody tr th {\n",
       "        vertical-align: top;\n",
       "    }\n",
       "\n",
       "    .dataframe thead th {\n",
       "        text-align: right;\n",
       "    }\n",
       "</style>\n",
       "<table border=\"1\" class=\"dataframe\">\n",
       "  <thead>\n",
       "    <tr style=\"text-align: right;\">\n",
       "      <th></th>\n",
       "      <th>acc_id</th>\n",
       "      <th>place_in_veh_place</th>\n",
       "      <th>person_cat_catu</th>\n",
       "      <th>injury_severity_grav</th>\n",
       "      <th>sexe_drop</th>\n",
       "      <th>travel_reason_trajet</th>\n",
       "      <th>secu_drop</th>\n",
       "      <th>ped_location_locp</th>\n",
       "      <th>ped_action_actp</th>\n",
       "      <th>ped_group_etatp</th>\n",
       "      <th>an_nais_drop</th>\n",
       "      <th>num_veh_drop</th>\n",
       "    </tr>\n",
       "  </thead>\n",
       "  <tbody>\n",
       "    <tr>\n",
       "      <th>0</th>\n",
       "      <td>201600000001</td>\n",
       "      <td>1.0</td>\n",
       "      <td>1</td>\n",
       "      <td>1</td>\n",
       "      <td>2</td>\n",
       "      <td>0.0</td>\n",
       "      <td>11.0</td>\n",
       "      <td>0.0</td>\n",
       "      <td>0.0</td>\n",
       "      <td>0.0</td>\n",
       "      <td>1983.0</td>\n",
       "      <td>B02</td>\n",
       "    </tr>\n",
       "    <tr>\n",
       "      <th>1</th>\n",
       "      <td>201600000001</td>\n",
       "      <td>1.0</td>\n",
       "      <td>1</td>\n",
       "      <td>3</td>\n",
       "      <td>1</td>\n",
       "      <td>9.0</td>\n",
       "      <td>21.0</td>\n",
       "      <td>0.0</td>\n",
       "      <td>0.0</td>\n",
       "      <td>0.0</td>\n",
       "      <td>2001.0</td>\n",
       "      <td>A01</td>\n",
       "    </tr>\n",
       "  </tbody>\n",
       "</table>\n",
       "</div>"
      ],
      "text/plain": [
       "         acc_id  place_in_veh_place  person_cat_catu  injury_severity_grav  \\\n",
       "0  201600000001                 1.0                1                     1   \n",
       "1  201600000001                 1.0                1                     3   \n",
       "\n",
       "   sexe_drop  travel_reason_trajet  secu_drop  ped_location_locp  \\\n",
       "0          2                   0.0       11.0                0.0   \n",
       "1          1                   9.0       21.0                0.0   \n",
       "\n",
       "   ped_action_actp  ped_group_etatp  an_nais_drop num_veh_drop  \n",
       "0              0.0              0.0        1983.0          B02  \n",
       "1              0.0              0.0        2001.0          A01  "
      ]
     },
     "execution_count": 35,
     "metadata": {},
     "output_type": "execute_result"
    }
   ],
   "source": [
    "df_users.head(2)"
   ]
  },
  {
   "cell_type": "markdown",
   "id": "5be879a6-24c5-4971-b089-c513326ac330",
   "metadata": {},
   "source": [
    "### df_vehicles"
   ]
  },
  {
   "cell_type": "raw",
   "id": "5a34cc55-b344-45b0-8623-0fa6942b27ba",
   "metadata": {
    "tags": []
   },
   "source": [
    "df_vehicles.head(2)"
   ]
  },
  {
   "cell_type": "raw",
   "id": "aba5da0c-07c9-41a3-afe2-0fad8c4dcaa6",
   "metadata": {
    "tags": []
   },
   "source": [
    "df_vehicles.rename({'Num_Acc' : 'acc_id',\n",
    "                    'num_veh' : 'num_veh_drop',\n",
    "                    'catv' : 'vehicle_cat_catv',\n",
    "                    'senc' : 'senc_drop',\n",
    "                    'obs' : 'obj_hit_fixed_obs',\n",
    "                    'obsm' : 'obj_hit_moving_obsm',\n",
    "                    'choc' : 'choc_drop',\n",
    "                    'manv' : 'manv_drop',\n",
    "                    'occutc' : 'occutc_drop'}, axis=1, inplace=True)\n",
    "print(list(df_vehicles.columns))"
   ]
  },
  {
   "cell_type": "raw",
   "id": "63d2272b-0a58-4af9-a94d-9e7d61e9c1ea",
   "metadata": {},
   "source": [
    "df_vehicles.head(2)"
   ]
  },
  {
   "cell_type": "markdown",
   "id": "78c97411-495f-44e3-adf8-6bbca87c17c2",
   "metadata": {},
   "source": [
    "## Drop unneeded cols\n",
    "\n",
    "Dropping cols that I am reasonably sure would not benefit characterization of accident locations or date/time analysis for the use of preemptively deploying resources/personnel\n",
    "\n",
    "ex. year of birth may have an effect on probability of a crash but agencies are unable to pre-screen drivers before they get on the road or determine the exact route the driver will take"
   ]
  },
  {
   "cell_type": "code",
   "execution_count": 36,
   "id": "e504bf86-f1ad-4b01-a6cd-f74f654ee8ce",
   "metadata": {
    "tags": []
   },
   "outputs": [
    {
     "name": "stdout",
     "output_type": "stream",
     "text": [
      "['acc_id', 'year_an', 'month_mois', 'day_jour', 'hrmn', 'luminosity_lum', 'built_up_agg', 'intersection_type_int', 'weather_atm', 'collision_type_col']\n"
     ]
    }
   ],
   "source": [
    "df_char.drop(['commune_num_drop', 'address_drop', 'gps_drop', 'latitude_drop', 'longitude_drop', 'dep_drop'], axis=1, inplace=True, errors= 'ignore')\n",
    "print(list(df_char.columns))"
   ]
  },
  {
   "cell_type": "code",
   "execution_count": 37,
   "id": "2e2cb00a-0e64-4c45-b340-d724533414eb",
   "metadata": {
    "tags": []
   },
   "outputs": [
    {
     "name": "stdout",
     "output_type": "stream",
     "text": [
      "['acc_id', 'road_category_catr', 'road_type_circ', 'lane_count_nbv', 'reserved_lane_type_vosp', 'road_slope_prof', 'road_curvature_plan', 'central_sep_width_lartpc', 'road_width_larrout', 'surface_cond_surf', 'infrastructure_infra', 'crash_location_situ']\n"
     ]
    }
   ],
   "source": [
    "df_places.drop(['road_num_drop', 'v1_drop', 'v2_drop', 'pr_drop', 'pr1_drop', 'env1_drop'], axis=1, inplace=True, errors= 'ignore')\n",
    "print(list(df_places.columns))"
   ]
  },
  {
   "cell_type": "code",
   "execution_count": 38,
   "id": "9a79f9d8-c302-4bdf-9aa1-4e2ac174c9a6",
   "metadata": {
    "tags": []
   },
   "outputs": [
    {
     "name": "stdout",
     "output_type": "stream",
     "text": [
      "['acc_id', 'place_in_veh_place', 'person_cat_catu', 'injury_severity_grav', 'travel_reason_trajet', 'ped_location_locp', 'ped_action_actp', 'ped_group_etatp']\n"
     ]
    }
   ],
   "source": [
    "df_users.drop(['sexe_drop', 'secu_drop', 'an_nais_drop', 'num_veh_drop'], axis=1, inplace=True, errors= 'ignore')\n",
    "print(list(df_users.columns))"
   ]
  },
  {
   "cell_type": "markdown",
   "id": "7fb2b9b7-1a98-4959-a691-9c241d622f31",
   "metadata": {},
   "source": [
    "#AP: dropping 'sexe' col b/c not looking to differentiate between sexes for this project"
   ]
  },
  {
   "cell_type": "raw",
   "id": "5324d9b4-a0dd-42bc-8efa-b18a21f2f7f9",
   "metadata": {
    "tags": []
   },
   "source": [
    "df_vehicles.drop(['senc_drop', 'occutc_drop', 'choc_drop', 'manv_drop', 'num_veh_drop'], axis=1, inplace=True)\n",
    "print(list(df_vehicles.columns))"
   ]
  },
  {
   "cell_type": "markdown",
   "id": "4667d647-3853-49e3-9261-85b68d7aad03",
   "metadata": {},
   "source": [
    "## Merge df's where possible"
   ]
  },
  {
   "cell_type": "code",
   "execution_count": 39,
   "id": "ae672f87-5f62-4ed6-b19b-4ba878595081",
   "metadata": {
    "tags": []
   },
   "outputs": [
    {
     "name": "stdout",
     "output_type": "stream",
     "text": [
      "Row count of each df:\n",
      "839985\n",
      "132\n",
      "839985\n",
      "1876005\n"
     ]
    }
   ],
   "source": [
    "print('Row count of each df:')\n",
    "for df in [df_char, df_holiday, df_places, df_users,\n",
    "           # df_vehicles\n",
    "          ]:\n",
    "    print(len(df))"
   ]
  },
  {
   "cell_type": "markdown",
   "id": "aecc9a91-d46a-438d-8b0a-b96098d5ebaa",
   "metadata": {},
   "source": [
    "#AP: df_char & df_places have same row count, look into if they actually match"
   ]
  },
  {
   "cell_type": "markdown",
   "id": "44589d0f-15dc-4906-8dbe-9d7d941db848",
   "metadata": {
    "tags": []
   },
   "source": [
    "#AP: Explore 'acc_id' col to make sure it's actually unique per accident"
   ]
  },
  {
   "cell_type": "code",
   "execution_count": 40,
   "id": "158b6d73-7b87-425e-90d5-b61eb871ae24",
   "metadata": {
    "tags": []
   },
   "outputs": [],
   "source": [
    "match_acc_id = df_char[df_char.acc_id == df_places.acc_id].acc_id\n",
    "no_match_acc_id = df_char[df_char.acc_id != df_places.acc_id].acc_id"
   ]
  },
  {
   "cell_type": "code",
   "execution_count": 41,
   "id": "416bf62c-c0c3-4c26-bb65-9ce84dfa002e",
   "metadata": {
    "tags": []
   },
   "outputs": [
    {
     "name": "stdout",
     "output_type": "stream",
     "text": [
      "839985\n",
      "0\n"
     ]
    }
   ],
   "source": [
    "print(len(match_acc_id))\n",
    "print(len(no_match_acc_id))"
   ]
  },
  {
   "cell_type": "markdown",
   "id": "b3880220-74b0-4372-872c-93e47dfef768",
   "metadata": {},
   "source": [
    "#AP: accident ID's seem to match. Joining the tables."
   ]
  },
  {
   "cell_type": "code",
   "execution_count": 42,
   "id": "e8bcfc14-fe6e-4ff4-9540-31dda26a0f4f",
   "metadata": {
    "tags": []
   },
   "outputs": [],
   "source": [
    "df_char_place = df_char.merge(df_places, on='acc_id', how='inner')"
   ]
  },
  {
   "cell_type": "code",
   "execution_count": 43,
   "id": "cfe7ed52-dc2c-48dd-9d83-0cef5ba2a558",
   "metadata": {
    "tags": []
   },
   "outputs": [
    {
     "name": "stdout",
     "output_type": "stream",
     "text": [
      "df_char:\n",
      " ['acc_id', 'year_an', 'month_mois', 'day_jour', 'hrmn', 'luminosity_lum', 'built_up_agg', 'intersection_type_int', 'weather_atm', 'collision_type_col']\n",
      "\n",
      "df_places:\n",
      " ['acc_id', 'road_category_catr', 'road_type_circ', 'lane_count_nbv', 'reserved_lane_type_vosp', 'road_slope_prof', 'road_curvature_plan', 'central_sep_width_lartpc', 'road_width_larrout', 'surface_cond_surf', 'infrastructure_infra', 'crash_location_situ']\n",
      "\n",
      "['acc_id', 'year_an', 'month_mois', 'day_jour', 'hrmn', 'luminosity_lum', 'built_up_agg', 'intersection_type_int', 'weather_atm', 'collision_type_col', 'road_category_catr', 'road_type_circ', 'lane_count_nbv', 'reserved_lane_type_vosp', 'road_slope_prof', 'road_curvature_plan', 'central_sep_width_lartpc', 'road_width_larrout', 'surface_cond_surf', 'infrastructure_infra', 'crash_location_situ']\n",
      "\n",
      "row count: 839985\n"
     ]
    }
   ],
   "source": [
    "print('df_char:\\n', list(df_char.columns))\n",
    "print()\n",
    "print('df_places:\\n', list(df_places.columns))\n",
    "print()\n",
    "print(list(df_char_place.columns))\n",
    "print()\n",
    "print('row count:', len(df_char_place))"
   ]
  },
  {
   "cell_type": "markdown",
   "id": "5663a2d7-2d7c-499c-a291-e3e7e11b29dc",
   "metadata": {},
   "source": [
    "### Explore df_vehicles to try & merge\n",
    "It has a acc_id col but more rows than df_char_place. Want to see if I can reduce row count to match. This project doesn't need specific vehicle info"
   ]
  },
  {
   "cell_type": "raw",
   "id": "297d9b1a-f419-4581-a186-28cc20bbf518",
   "metadata": {},
   "source": [
    "df_vehicles.head(25)"
   ]
  },
  {
   "cell_type": "raw",
   "id": "293d1c41-2b88-425d-8681-01a8a1c74039",
   "metadata": {},
   "source": [
    "len(df_vehicles)"
   ]
  },
  {
   "cell_type": "raw",
   "id": "ab073f75-77ed-47f9-847a-8fed66f6dc2d",
   "metadata": {},
   "source": [
    "df_vehicles.acc_id.nunique(dropna=False)"
   ]
  },
  {
   "cell_type": "markdown",
   "id": "2181c503-7466-4209-b93c-3f5d4152a1ee",
   "metadata": {},
   "source": [
    "The count of unique acc_id's seem to match. Now to see if plausible to aggregate so row counts match"
   ]
  },
  {
   "cell_type": "raw",
   "id": "ebea2d3b-66bc-43e7-8d9d-f75c3a70ea47",
   "metadata": {},
   "source": [
    "df_vehicles.vehicle_cat_catv.value_counts().sort_index()"
   ]
  },
  {
   "cell_type": "markdown",
   "id": "315e3527-1ab1-4559-90c4-26b0dc51c8d5",
   "metadata": {},
   "source": [
    "Dropping vehicle_cat_catv col since multiple labels unused since 2006 present (in this 2005-2016 dataset)"
   ]
  },
  {
   "cell_type": "raw",
   "id": "67df385c-9c54-4890-a9c4-61002e780bc8",
   "metadata": {},
   "source": [
    "df_vehicles.obj_hit_fixed_obs.value_counts(dropna=False).sort_index()"
   ]
  },
  {
   "cell_type": "markdown",
   "id": "721d282c-9038-4b8d-ae42-0b09efac3cd8",
   "metadata": {},
   "source": [
    "AP: **Researching deeper into each of the features in the vehicles df, they do not seem that they would be helpful in characterizing where accidents occur for the purposes of predicting where they would occur.**\n",
    "\n",
    "Converting df_vehicles cells to raw so the code doesn't run and errors are avoided"
   ]
  },
  {
   "cell_type": "markdown",
   "id": "f09610e8-f5f1-4919-90e4-c3b61400c954",
   "metadata": {},
   "source": [
    "### Explore df_users to try & merge\n",
    "\n",
    "There are multiple people per crash, trying to see if there is a way to group by acc_id in a way that doesn't loose quality of data."
   ]
  },
  {
   "cell_type": "code",
   "execution_count": 44,
   "id": "ca8768d1-ccb7-43d0-b1eb-85af4fe87e3f",
   "metadata": {},
   "outputs": [
    {
     "data": {
      "text/html": [
       "<div>\n",
       "<style scoped>\n",
       "    .dataframe tbody tr th:only-of-type {\n",
       "        vertical-align: middle;\n",
       "    }\n",
       "\n",
       "    .dataframe tbody tr th {\n",
       "        vertical-align: top;\n",
       "    }\n",
       "\n",
       "    .dataframe thead th {\n",
       "        text-align: right;\n",
       "    }\n",
       "</style>\n",
       "<table border=\"1\" class=\"dataframe\">\n",
       "  <thead>\n",
       "    <tr style=\"text-align: right;\">\n",
       "      <th></th>\n",
       "      <th>acc_id</th>\n",
       "      <th>place_in_veh_place</th>\n",
       "      <th>person_cat_catu</th>\n",
       "      <th>injury_severity_grav</th>\n",
       "      <th>travel_reason_trajet</th>\n",
       "      <th>ped_location_locp</th>\n",
       "      <th>ped_action_actp</th>\n",
       "      <th>ped_group_etatp</th>\n",
       "    </tr>\n",
       "  </thead>\n",
       "  <tbody>\n",
       "    <tr>\n",
       "      <th>0</th>\n",
       "      <td>201600000001</td>\n",
       "      <td>1.0</td>\n",
       "      <td>1</td>\n",
       "      <td>1</td>\n",
       "      <td>0.0</td>\n",
       "      <td>0.0</td>\n",
       "      <td>0.0</td>\n",
       "      <td>0.0</td>\n",
       "    </tr>\n",
       "    <tr>\n",
       "      <th>1</th>\n",
       "      <td>201600000001</td>\n",
       "      <td>1.0</td>\n",
       "      <td>1</td>\n",
       "      <td>3</td>\n",
       "      <td>9.0</td>\n",
       "      <td>0.0</td>\n",
       "      <td>0.0</td>\n",
       "      <td>0.0</td>\n",
       "    </tr>\n",
       "    <tr>\n",
       "      <th>2</th>\n",
       "      <td>201600000002</td>\n",
       "      <td>1.0</td>\n",
       "      <td>1</td>\n",
       "      <td>3</td>\n",
       "      <td>5.0</td>\n",
       "      <td>0.0</td>\n",
       "      <td>0.0</td>\n",
       "      <td>0.0</td>\n",
       "    </tr>\n",
       "    <tr>\n",
       "      <th>3</th>\n",
       "      <td>201600000002</td>\n",
       "      <td>2.0</td>\n",
       "      <td>2</td>\n",
       "      <td>3</td>\n",
       "      <td>0.0</td>\n",
       "      <td>0.0</td>\n",
       "      <td>0.0</td>\n",
       "      <td>0.0</td>\n",
       "    </tr>\n",
       "    <tr>\n",
       "      <th>4</th>\n",
       "      <td>201600000002</td>\n",
       "      <td>3.0</td>\n",
       "      <td>2</td>\n",
       "      <td>3</td>\n",
       "      <td>0.0</td>\n",
       "      <td>0.0</td>\n",
       "      <td>0.0</td>\n",
       "      <td>0.0</td>\n",
       "    </tr>\n",
       "    <tr>\n",
       "      <th>5</th>\n",
       "      <td>201600000003</td>\n",
       "      <td>1.0</td>\n",
       "      <td>1</td>\n",
       "      <td>1</td>\n",
       "      <td>1.0</td>\n",
       "      <td>0.0</td>\n",
       "      <td>0.0</td>\n",
       "      <td>0.0</td>\n",
       "    </tr>\n",
       "    <tr>\n",
       "      <th>6</th>\n",
       "      <td>201600000003</td>\n",
       "      <td>NaN</td>\n",
       "      <td>3</td>\n",
       "      <td>3</td>\n",
       "      <td>5.0</td>\n",
       "      <td>6.0</td>\n",
       "      <td>2.0</td>\n",
       "      <td>1.0</td>\n",
       "    </tr>\n",
       "    <tr>\n",
       "      <th>7</th>\n",
       "      <td>201600000004</td>\n",
       "      <td>1.0</td>\n",
       "      <td>1</td>\n",
       "      <td>3</td>\n",
       "      <td>5.0</td>\n",
       "      <td>0.0</td>\n",
       "      <td>0.0</td>\n",
       "      <td>0.0</td>\n",
       "    </tr>\n",
       "    <tr>\n",
       "      <th>8</th>\n",
       "      <td>201600000004</td>\n",
       "      <td>2.0</td>\n",
       "      <td>2</td>\n",
       "      <td>4</td>\n",
       "      <td>0.0</td>\n",
       "      <td>0.0</td>\n",
       "      <td>0.0</td>\n",
       "      <td>0.0</td>\n",
       "    </tr>\n",
       "    <tr>\n",
       "      <th>9</th>\n",
       "      <td>201600000004</td>\n",
       "      <td>1.0</td>\n",
       "      <td>1</td>\n",
       "      <td>1</td>\n",
       "      <td>0.0</td>\n",
       "      <td>0.0</td>\n",
       "      <td>0.0</td>\n",
       "      <td>0.0</td>\n",
       "    </tr>\n",
       "  </tbody>\n",
       "</table>\n",
       "</div>"
      ],
      "text/plain": [
       "         acc_id  place_in_veh_place  person_cat_catu  injury_severity_grav  \\\n",
       "0  201600000001                 1.0                1                     1   \n",
       "1  201600000001                 1.0                1                     3   \n",
       "2  201600000002                 1.0                1                     3   \n",
       "3  201600000002                 2.0                2                     3   \n",
       "4  201600000002                 3.0                2                     3   \n",
       "5  201600000003                 1.0                1                     1   \n",
       "6  201600000003                 NaN                3                     3   \n",
       "7  201600000004                 1.0                1                     3   \n",
       "8  201600000004                 2.0                2                     4   \n",
       "9  201600000004                 1.0                1                     1   \n",
       "\n",
       "   travel_reason_trajet  ped_location_locp  ped_action_actp  ped_group_etatp  \n",
       "0                   0.0                0.0              0.0              0.0  \n",
       "1                   9.0                0.0              0.0              0.0  \n",
       "2                   5.0                0.0              0.0              0.0  \n",
       "3                   0.0                0.0              0.0              0.0  \n",
       "4                   0.0                0.0              0.0              0.0  \n",
       "5                   1.0                0.0              0.0              0.0  \n",
       "6                   5.0                6.0              2.0              1.0  \n",
       "7                   5.0                0.0              0.0              0.0  \n",
       "8                   0.0                0.0              0.0              0.0  \n",
       "9                   0.0                0.0              0.0              0.0  "
      ]
     },
     "execution_count": 44,
     "metadata": {},
     "output_type": "execute_result"
    }
   ],
   "source": [
    "df_users.head(10)"
   ]
  },
  {
   "cell_type": "code",
   "execution_count": 45,
   "id": "e9c8908a-fdbc-4304-b453-f58183592361",
   "metadata": {},
   "outputs": [
    {
     "data": {
      "text/plain": [
       "1876005"
      ]
     },
     "execution_count": 45,
     "metadata": {},
     "output_type": "execute_result"
    }
   ],
   "source": [
    "len(df_users)"
   ]
  },
  {
   "cell_type": "code",
   "execution_count": 46,
   "id": "a9119e5d-ff9f-4528-aed9-f9ad76a781b2",
   "metadata": {},
   "outputs": [
    {
     "data": {
      "text/plain": [
       "839985"
      ]
     },
     "execution_count": 46,
     "metadata": {},
     "output_type": "execute_result"
    }
   ],
   "source": [
    "df_users.acc_id.nunique(dropna=False)"
   ]
  },
  {
   "cell_type": "markdown",
   "id": "ae9b97f0-f479-4789-b392-397bf5be1473",
   "metadata": {},
   "source": [
    "____\n",
    "**Drop place_in_veh_place col**. Not useful in characterizing locations"
   ]
  },
  {
   "cell_type": "markdown",
   "id": "e87f9c77-843b-49a8-9ba6-556b57ea05a9",
   "metadata": {},
   "source": [
    "____\n",
    "person_cat_catu col"
   ]
  },
  {
   "cell_type": "code",
   "execution_count": 47,
   "id": "4e9a3fb5-0917-4b7a-8452-09c62956132a",
   "metadata": {},
   "outputs": [
    {
     "data": {
      "text/plain": [
       "person_cat_catu\n",
       "1    1397701\n",
       "2     319388\n",
       "3     155649\n",
       "4       3267\n",
       "Name: count, dtype: int64"
      ]
     },
     "execution_count": 47,
     "metadata": {},
     "output_type": "execute_result"
    }
   ],
   "source": [
    "df_users.person_cat_catu.value_counts(dropna=False).sort_index()"
   ]
  },
  {
   "cell_type": "markdown",
   "id": "f95b5117-1a45-4b0c-9933-1f0f661067a9",
   "metadata": {},
   "source": [
    "AP: Note: There should only be values 1, 2, or 3 for this col. There are 3267 rows with value of 4."
   ]
  },
  {
   "cell_type": "markdown",
   "id": "33112a4f-9a77-49f1-9551-3759bf05521a",
   "metadata": {},
   "source": [
    "**AP Note: Possible to create col to denote whether pedestrian present or not (0 : No or 1 : Yes). Presence of persons in vehicle is assumed since dataset is about vehicle crashes.**\n",
    "\n",
    "Also possible to create col for count of persons involved. This could help agencies decide how much resources/personnel to deploy to the area in relation to how many people they expect to treat. This is currently outside the scope of the project."
   ]
  },
  {
   "cell_type": "markdown",
   "id": "f3803fc8-6764-439d-9324-6cae2f0a1773",
   "metadata": {},
   "source": [
    "____\n",
    "injury_severity_grav col"
   ]
  },
  {
   "cell_type": "code",
   "execution_count": 48,
   "id": "f3fb49c3-520f-4347-8c0f-5b2be79e00fc",
   "metadata": {},
   "outputs": [
    {
     "data": {
      "text/plain": [
       "injury_severity_grav\n",
       "1    764874\n",
       "2     50589\n",
       "3    393669\n",
       "4    666873\n",
       "Name: count, dtype: int64"
      ]
     },
     "execution_count": 48,
     "metadata": {},
     "output_type": "execute_result"
    }
   ],
   "source": [
    "df_users.injury_severity_grav.value_counts(dropna=False).sort_index()"
   ]
  },
  {
   "cell_type": "markdown",
   "id": "2690e0aa-5909-48f3-8c46-ed97b492b739",
   "metadata": {},
   "source": [
    "AP: **Possible to create col that ranks severity of the accident based on total injuries. Would likely subtract 1 from each value in col (since 1 represents unharmed, converting it to zero would keep the final score more easily understood). A higher score would mean more severe accident in terms of people harmed, requiring more resources from the agency to deal with.**\n",
    "\n",
    "**This could also be used as a tie breaker between locations with equal accident probabilities.**"
   ]
  },
  {
   "cell_type": "markdown",
   "id": "d2be1ee2-6462-44ab-8735-a7bb1e4e8d4f",
   "metadata": {},
   "source": [
    "____\n",
    "travel_reason_trajet col"
   ]
  },
  {
   "cell_type": "code",
   "execution_count": 49,
   "id": "f70b486d-1dd3-4a30-a526-b4c62e6963d7",
   "metadata": {},
   "outputs": [
    {
     "data": {
      "text/plain": [
       "travel_reason_trajet\n",
       "0.0    550516\n",
       "1.0    242558\n",
       "2.0     37816\n",
       "3.0     47419\n",
       "4.0    184032\n",
       "5.0    686902\n",
       "9.0    126393\n",
       "NaN       369\n",
       "Name: count, dtype: int64"
      ]
     },
     "execution_count": 49,
     "metadata": {},
     "output_type": "execute_result"
    }
   ],
   "source": [
    "df_users.travel_reason_trajet.value_counts(dropna=False).sort_index()"
   ]
  },
  {
   "cell_type": "markdown",
   "id": "dbe23a56-e17c-426e-a849-7d288fe719c9",
   "metadata": {},
   "source": [
    "This col is fairly vague (over 550 thousand rows have unspecified route).\n",
    "\n",
    "**Dropping since not helpful for crash location characterization**"
   ]
  },
  {
   "cell_type": "markdown",
   "id": "bc57a4f0-494e-459c-ab34-243c7efcacb9",
   "metadata": {},
   "source": [
    "____\n",
    "ped_location_locp"
   ]
  },
  {
   "cell_type": "code",
   "execution_count": 50,
   "id": "ef0e9657-7a3b-42bf-ad4c-1cd303fd9f7c",
   "metadata": {},
   "outputs": [
    {
     "data": {
      "text/plain": [
       "ped_location_locp\n",
       "0.0    1732439\n",
       "1.0      22841\n",
       "2.0      36711\n",
       "3.0      27838\n",
       "4.0      40011\n",
       "5.0       9737\n",
       "6.0       3060\n",
       "7.0        173\n",
       "8.0       1531\n",
       "NaN       1664\n",
       "Name: count, dtype: int64"
      ]
     },
     "execution_count": 50,
     "metadata": {},
     "output_type": "execute_result"
    }
   ],
   "source": [
    "df_users.ped_location_locp.value_counts(dropna=False).sort_index()"
   ]
  },
  {
   "cell_type": "code",
   "execution_count": 51,
   "id": "8679181c-c921-428e-a0e8-d4c0ffd23dc7",
   "metadata": {},
   "outputs": [
    {
     "name": "stdout",
     "output_type": "stream",
     "text": [
      "Percent of total rows where ped location unspecified or not applicable\n",
      "92.0 %\n"
     ]
    }
   ],
   "source": [
    "print('Percent of total rows where ped location unspecified or not applicable')\n",
    "print(round(df_users.ped_location_locp.value_counts(dropna=False).sort_index()[0] / len(df_users), 2) * 100, '%')"
   ]
  },
  {
   "cell_type": "markdown",
   "id": "91101e74-f28a-4cea-835e-32d18bf5a826",
   "metadata": {},
   "source": [
    "With about 92% of df_user rows with value of 0 (unspecified ped location), this col is not helpful for location characterization\n",
    "\n",
    "**dropping col**"
   ]
  },
  {
   "cell_type": "markdown",
   "id": "3ea49b83-12d6-4824-81ff-1e456253ecc2",
   "metadata": {},
   "source": [
    "____\n",
    "ped_action_actp"
   ]
  },
  {
   "cell_type": "code",
   "execution_count": 52,
   "id": "10d5100f-a076-4984-baad-18a8a3ed0828",
   "metadata": {},
   "outputs": [
    {
     "data": {
      "text/plain": [
       "ped_action_actp\n",
       "0.0    1723439\n",
       "1.0       8441\n",
       "2.0       4215\n",
       "3.0     115011\n",
       "4.0       2809\n",
       "5.0       9282\n",
       "6.0        347\n",
       "9.0      10688\n",
       "NaN       1773\n",
       "Name: count, dtype: int64"
      ]
     },
     "execution_count": 52,
     "metadata": {},
     "output_type": "execute_result"
    }
   ],
   "source": [
    "df_users.ped_action_actp.value_counts(dropna=False).sort_index()"
   ]
  },
  {
   "cell_type": "code",
   "execution_count": 53,
   "id": "47a44ee6-e0fb-476c-ac56-5e0011932a60",
   "metadata": {},
   "outputs": [
    {
     "data": {
      "text/plain": [
       "1876005"
      ]
     },
     "execution_count": 53,
     "metadata": {},
     "output_type": "execute_result"
    }
   ],
   "source": [
    "len(df_users)"
   ]
  },
  {
   "cell_type": "code",
   "execution_count": 54,
   "id": "2380728c-1c33-4177-9d26-98674d4e6724",
   "metadata": {},
   "outputs": [
    {
     "name": "stdout",
     "output_type": "stream",
     "text": [
      "92.0 %\n"
     ]
    }
   ],
   "source": [
    "print(round(df_users.ped_action_actp.value_counts(dropna=False).sort_index()[0] / len(df_users), 2) * 100, '%')"
   ]
  },
  {
   "cell_type": "markdown",
   "id": "00f76b2f-549e-49a8-948a-36cea9e170a0",
   "metadata": {},
   "source": [
    "With about 92% of df_user rows with value of 0 (unspecified ped location), this col is not helpful for location characterization\n",
    "\n",
    "**dropping col**"
   ]
  },
  {
   "cell_type": "markdown",
   "id": "9bfd4f06-12cb-4684-b37f-34353aef6381",
   "metadata": {},
   "source": [
    "____\n",
    "ped_group_etatp"
   ]
  },
  {
   "cell_type": "code",
   "execution_count": 55,
   "id": "cc815e7c-6f16-4067-bcec-271297986cd5",
   "metadata": {},
   "outputs": [
    {
     "data": {
      "text/plain": [
       "ped_group_etatp\n",
       "0.0    1725093\n",
       "1.0     113063\n",
       "2.0      29597\n",
       "3.0       6546\n",
       "NaN       1706\n",
       "Name: count, dtype: int64"
      ]
     },
     "execution_count": 55,
     "metadata": {},
     "output_type": "execute_result"
    }
   ],
   "source": [
    "df_users.ped_group_etatp.value_counts(dropna=False).sort_index()"
   ]
  },
  {
   "cell_type": "code",
   "execution_count": 56,
   "id": "05be6ee1-993a-4887-a749-eb632ce04fea",
   "metadata": {},
   "outputs": [
    {
     "name": "stdout",
     "output_type": "stream",
     "text": [
      "92.0 %\n"
     ]
    }
   ],
   "source": [
    "print(round(df_users.ped_group_etatp.value_counts(dropna=False).sort_index()[0] / len(df_users), 2) * 100, '%')"
   ]
  },
  {
   "cell_type": "markdown",
   "id": "23f48aff-7728-43ba-8095-f7e9529926e5",
   "metadata": {},
   "source": [
    "With about 92% of df_user rows with value of 0 (unspecified ped location), this col is not helpful for location characterization\n",
    "\n",
    "**dropping col**"
   ]
  },
  {
   "cell_type": "markdown",
   "id": "d2e0acc7-8910-49e3-9b48-ff3be50883ad",
   "metadata": {},
   "source": [
    "#### Drop noted cols"
   ]
  },
  {
   "cell_type": "code",
   "execution_count": 57,
   "id": "f958f39a-1631-47ae-8398-3c2d031eb6b2",
   "metadata": {},
   "outputs": [
    {
     "data": {
      "text/plain": [
       "['acc_id', 'person_cat_catu', 'injury_severity_grav']"
      ]
     },
     "execution_count": 57,
     "metadata": {},
     "output_type": "execute_result"
    }
   ],
   "source": [
    "df_users.drop(axis=1, inplace=True, errors= 'ignore', labels=['place_in_veh_place', 'travel_reason_trajet', 'ped_location_locp', 'ped_action_actp', 'ped_group_etatp'])\n",
    "list(df_users.columns)"
   ]
  },
  {
   "cell_type": "markdown",
   "id": "a7e9bd65-70a1-440e-9389-3fce38a15c46",
   "metadata": {},
   "source": [
    "#### Create cols for aggregation"
   ]
  },
  {
   "cell_type": "code",
   "execution_count": 58,
   "id": "b7bab7e1-c3ec-4d55-aecc-76b95f309834",
   "metadata": {},
   "outputs": [
    {
     "data": {
      "text/html": [
       "<div>\n",
       "<style scoped>\n",
       "    .dataframe tbody tr th:only-of-type {\n",
       "        vertical-align: middle;\n",
       "    }\n",
       "\n",
       "    .dataframe tbody tr th {\n",
       "        vertical-align: top;\n",
       "    }\n",
       "\n",
       "    .dataframe thead th {\n",
       "        text-align: right;\n",
       "    }\n",
       "</style>\n",
       "<table border=\"1\" class=\"dataframe\">\n",
       "  <thead>\n",
       "    <tr style=\"text-align: right;\">\n",
       "      <th></th>\n",
       "      <th>acc_id</th>\n",
       "      <th>person_cat_catu</th>\n",
       "      <th>injury_severity_grav</th>\n",
       "    </tr>\n",
       "  </thead>\n",
       "  <tbody>\n",
       "    <tr>\n",
       "      <th>0</th>\n",
       "      <td>201600000001</td>\n",
       "      <td>1</td>\n",
       "      <td>1</td>\n",
       "    </tr>\n",
       "    <tr>\n",
       "      <th>1</th>\n",
       "      <td>201600000001</td>\n",
       "      <td>1</td>\n",
       "      <td>3</td>\n",
       "    </tr>\n",
       "    <tr>\n",
       "      <th>2</th>\n",
       "      <td>201600000002</td>\n",
       "      <td>1</td>\n",
       "      <td>3</td>\n",
       "    </tr>\n",
       "    <tr>\n",
       "      <th>3</th>\n",
       "      <td>201600000002</td>\n",
       "      <td>2</td>\n",
       "      <td>3</td>\n",
       "    </tr>\n",
       "    <tr>\n",
       "      <th>4</th>\n",
       "      <td>201600000002</td>\n",
       "      <td>2</td>\n",
       "      <td>3</td>\n",
       "    </tr>\n",
       "  </tbody>\n",
       "</table>\n",
       "</div>"
      ],
      "text/plain": [
       "         acc_id  person_cat_catu  injury_severity_grav\n",
       "0  201600000001                1                     1\n",
       "1  201600000001                1                     3\n",
       "2  201600000002                1                     3\n",
       "3  201600000002                2                     3\n",
       "4  201600000002                2                     3"
      ]
     },
     "execution_count": 58,
     "metadata": {},
     "output_type": "execute_result"
    }
   ],
   "source": [
    "df_users.head()"
   ]
  },
  {
   "cell_type": "code",
   "execution_count": 59,
   "id": "872985f2-8ec3-40f2-a437-9ee1fb45bc09",
   "metadata": {},
   "outputs": [
    {
     "name": "stdout",
     "output_type": "stream",
     "text": [
      "<class 'pandas.core.frame.DataFrame'>\n",
      "RangeIndex: 1876005 entries, 0 to 1876004\n",
      "Data columns (total 3 columns):\n",
      " #   Column                Dtype\n",
      "---  ------                -----\n",
      " 0   acc_id                int64\n",
      " 1   person_cat_catu       int64\n",
      " 2   injury_severity_grav  int64\n",
      "dtypes: int64(3)\n",
      "memory usage: 42.9 MB\n"
     ]
    }
   ],
   "source": [
    "df_users.info()"
   ]
  },
  {
   "cell_type": "code",
   "execution_count": 60,
   "id": "bdc58470-90da-4aba-a437-286b733fa345",
   "metadata": {},
   "outputs": [
    {
     "data": {
      "text/plain": [
       "acc_id                  0\n",
       "person_cat_catu         0\n",
       "injury_severity_grav    0\n",
       "dtype: int64"
      ]
     },
     "execution_count": 60,
     "metadata": {},
     "output_type": "execute_result"
    }
   ],
   "source": [
    "#AP: Double check for any nulls\n",
    "df_users.isnull().sum()"
   ]
  },
  {
   "cell_type": "markdown",
   "id": "469f9ea0-7830-4753-a644-61c9410371ee",
   "metadata": {},
   "source": [
    "____\n",
    "from person_cat_catu, create col to denote 0 (No) or 1 (Yes) for pedestrian"
   ]
  },
  {
   "cell_type": "code",
   "execution_count": 61,
   "id": "05635304-858b-4b72-8086-344aca1c4d83",
   "metadata": {},
   "outputs": [
    {
     "data": {
      "text/plain": [
       "person_cat_catu\n",
       "1    1397701\n",
       "2     319388\n",
       "3     155649\n",
       "4       3267\n",
       "Name: count, dtype: int64"
      ]
     },
     "execution_count": 61,
     "metadata": {},
     "output_type": "execute_result"
    }
   ],
   "source": [
    "df_users.person_cat_catu.value_counts().sort_index()"
   ]
  },
  {
   "cell_type": "markdown",
   "id": "55dfe5ca-24e3-4ec6-bafa-8c077dbc28af",
   "metadata": {},
   "source": [
    "Value of 3 represents pedestrian. Want to replace 3 with 1 & all other values with 0"
   ]
  },
  {
   "cell_type": "code",
   "execution_count": 62,
   "id": "3aa5dc5a-ee6d-422e-b854-a1d4fde40565",
   "metadata": {},
   "outputs": [],
   "source": [
    "df_users['ped_present'] = df_users.person_cat_catu.replace({1:0, 2:0, 3:1, 4:0})"
   ]
  },
  {
   "cell_type": "code",
   "execution_count": 63,
   "id": "615f390c-62d5-4f7e-851a-dced845ce735",
   "metadata": {},
   "outputs": [
    {
     "name": "stdout",
     "output_type": "stream",
     "text": [
      "               acc_id  person_cat_catu  injury_severity_grav  ped_present\n",
      "1262581  200800058588                3                     4            1\n",
      "1500505  200600004168                3                     4            1\n",
      "1573682  200600036746                3                     3            1\n",
      "704308   201100017939                3                     4            1\n",
      "226992   201500041979                3                     3            1\n",
      "\n",
      "               acc_id  person_cat_catu  injury_severity_grav  ped_present\n",
      "1507954  200600007303                1                     1            0\n",
      "1867263  200500083352                1                     1            0\n",
      "1507846  200600007274                2                     4            0\n",
      "583953   201200025973                2                     4            0\n",
      "747405   201100037651                2                     4            0\n"
     ]
    }
   ],
   "source": [
    "#AP: Check whether I Created col correctly\n",
    "print(df_users[df_users['person_cat_catu']==3].sample(5))\n",
    "print()\n",
    "print(df_users[df_users['person_cat_catu'].isin([1,2,4])].sample(5))"
   ]
  },
  {
   "cell_type": "markdown",
   "id": "12879fc1-366b-4b0e-bcbd-d865e33488c8",
   "metadata": {},
   "source": [
    "**Now when I group by the acc_id col, I can just sum up how the pedestrians and treat that as applicable in further analysis.**"
   ]
  },
  {
   "cell_type": "markdown",
   "id": "9a5fc944-62ae-43b0-8eb5-2b5c18760ffa",
   "metadata": {},
   "source": [
    "____\n",
    "from injury_severity_grav, create col to denote accident severity based on injuries"
   ]
  },
  {
   "cell_type": "markdown",
   "id": "5c66892d-3f4d-4d48-a018-a451879cf550",
   "metadata": {},
   "source": [
    "First to create col with each value reduced by 1.\n",
    "\n",
    "Durring grouping/aggregation, can add the adjusted values together to get an accident severity score."
   ]
  },
  {
   "cell_type": "code",
   "execution_count": 64,
   "id": "7a2bbc6c-76af-4d28-98d9-605c4f966676",
   "metadata": {},
   "outputs": [],
   "source": [
    "df_users['injury_severity_adj_grav'] = df_users['injury_severity_grav'] -1"
   ]
  },
  {
   "cell_type": "code",
   "execution_count": 65,
   "id": "5fa0fd7d-fc23-47b2-8792-5db61860d842",
   "metadata": {},
   "outputs": [
    {
     "data": {
      "text/html": [
       "<div>\n",
       "<style scoped>\n",
       "    .dataframe tbody tr th:only-of-type {\n",
       "        vertical-align: middle;\n",
       "    }\n",
       "\n",
       "    .dataframe tbody tr th {\n",
       "        vertical-align: top;\n",
       "    }\n",
       "\n",
       "    .dataframe thead th {\n",
       "        text-align: right;\n",
       "    }\n",
       "</style>\n",
       "<table border=\"1\" class=\"dataframe\">\n",
       "  <thead>\n",
       "    <tr style=\"text-align: right;\">\n",
       "      <th></th>\n",
       "      <th>injury_severity_grav</th>\n",
       "      <th>injury_severity_adj_grav</th>\n",
       "    </tr>\n",
       "  </thead>\n",
       "  <tbody>\n",
       "    <tr>\n",
       "      <th>669353</th>\n",
       "      <td>4</td>\n",
       "      <td>3</td>\n",
       "    </tr>\n",
       "    <tr>\n",
       "      <th>77361</th>\n",
       "      <td>1</td>\n",
       "      <td>0</td>\n",
       "    </tr>\n",
       "    <tr>\n",
       "      <th>1127285</th>\n",
       "      <td>1</td>\n",
       "      <td>0</td>\n",
       "    </tr>\n",
       "    <tr>\n",
       "      <th>794700</th>\n",
       "      <td>4</td>\n",
       "      <td>3</td>\n",
       "    </tr>\n",
       "    <tr>\n",
       "      <th>976514</th>\n",
       "      <td>3</td>\n",
       "      <td>2</td>\n",
       "    </tr>\n",
       "  </tbody>\n",
       "</table>\n",
       "</div>"
      ],
      "text/plain": [
       "         injury_severity_grav  injury_severity_adj_grav\n",
       "669353                      4                         3\n",
       "77361                       1                         0\n",
       "1127285                     1                         0\n",
       "794700                      4                         3\n",
       "976514                      3                         2"
      ]
     },
     "execution_count": 65,
     "metadata": {},
     "output_type": "execute_result"
    }
   ],
   "source": [
    "df_users[['injury_severity_grav', 'injury_severity_adj_grav']].sample(5)"
   ]
  },
  {
   "cell_type": "markdown",
   "id": "c3a7189f-4a3c-45bf-a2d5-7820a9e4f9bf",
   "metadata": {},
   "source": [
    "### Create grouped/aggregated df for merging into the main df"
   ]
  },
  {
   "cell_type": "code",
   "execution_count": 66,
   "id": "a95acb3a-be1b-43da-a86b-3235f141ea1c",
   "metadata": {},
   "outputs": [],
   "source": [
    "df_users_agg = df_users[['acc_id', 'ped_present', 'injury_severity_adj_grav']].groupby(by='acc_id', sort=False, dropna=False, as_index=False).sum()"
   ]
  },
  {
   "cell_type": "code",
   "execution_count": 67,
   "id": "4b90090b-04cf-4511-9ab6-bba098155d26",
   "metadata": {},
   "outputs": [
    {
     "data": {
      "text/html": [
       "<div>\n",
       "<style scoped>\n",
       "    .dataframe tbody tr th:only-of-type {\n",
       "        vertical-align: middle;\n",
       "    }\n",
       "\n",
       "    .dataframe tbody tr th {\n",
       "        vertical-align: top;\n",
       "    }\n",
       "\n",
       "    .dataframe thead th {\n",
       "        text-align: right;\n",
       "    }\n",
       "</style>\n",
       "<table border=\"1\" class=\"dataframe\">\n",
       "  <thead>\n",
       "    <tr style=\"text-align: right;\">\n",
       "      <th></th>\n",
       "      <th>acc_id</th>\n",
       "      <th>ped_present</th>\n",
       "      <th>injury_severity_adj_grav</th>\n",
       "    </tr>\n",
       "  </thead>\n",
       "  <tbody>\n",
       "    <tr>\n",
       "      <th>0</th>\n",
       "      <td>201600000001</td>\n",
       "      <td>0</td>\n",
       "      <td>2</td>\n",
       "    </tr>\n",
       "    <tr>\n",
       "      <th>1</th>\n",
       "      <td>201600000002</td>\n",
       "      <td>0</td>\n",
       "      <td>6</td>\n",
       "    </tr>\n",
       "    <tr>\n",
       "      <th>2</th>\n",
       "      <td>201600000003</td>\n",
       "      <td>1</td>\n",
       "      <td>2</td>\n",
       "    </tr>\n",
       "    <tr>\n",
       "      <th>3</th>\n",
       "      <td>201600000004</td>\n",
       "      <td>0</td>\n",
       "      <td>5</td>\n",
       "    </tr>\n",
       "    <tr>\n",
       "      <th>4</th>\n",
       "      <td>201600000005</td>\n",
       "      <td>0</td>\n",
       "      <td>4</td>\n",
       "    </tr>\n",
       "    <tr>\n",
       "      <th>5</th>\n",
       "      <td>201600000006</td>\n",
       "      <td>1</td>\n",
       "      <td>2</td>\n",
       "    </tr>\n",
       "    <tr>\n",
       "      <th>6</th>\n",
       "      <td>201600000007</td>\n",
       "      <td>0</td>\n",
       "      <td>3</td>\n",
       "    </tr>\n",
       "    <tr>\n",
       "      <th>7</th>\n",
       "      <td>201600000008</td>\n",
       "      <td>0</td>\n",
       "      <td>2</td>\n",
       "    </tr>\n",
       "    <tr>\n",
       "      <th>8</th>\n",
       "      <td>201600000009</td>\n",
       "      <td>0</td>\n",
       "      <td>2</td>\n",
       "    </tr>\n",
       "    <tr>\n",
       "      <th>9</th>\n",
       "      <td>201600000010</td>\n",
       "      <td>1</td>\n",
       "      <td>2</td>\n",
       "    </tr>\n",
       "    <tr>\n",
       "      <th>10</th>\n",
       "      <td>201600000011</td>\n",
       "      <td>1</td>\n",
       "      <td>2</td>\n",
       "    </tr>\n",
       "    <tr>\n",
       "      <th>11</th>\n",
       "      <td>201600000012</td>\n",
       "      <td>0</td>\n",
       "      <td>2</td>\n",
       "    </tr>\n",
       "    <tr>\n",
       "      <th>12</th>\n",
       "      <td>201600000013</td>\n",
       "      <td>1</td>\n",
       "      <td>2</td>\n",
       "    </tr>\n",
       "    <tr>\n",
       "      <th>13</th>\n",
       "      <td>201600000014</td>\n",
       "      <td>0</td>\n",
       "      <td>3</td>\n",
       "    </tr>\n",
       "    <tr>\n",
       "      <th>14</th>\n",
       "      <td>201600000015</td>\n",
       "      <td>0</td>\n",
       "      <td>2</td>\n",
       "    </tr>\n",
       "  </tbody>\n",
       "</table>\n",
       "</div>"
      ],
      "text/plain": [
       "          acc_id  ped_present  injury_severity_adj_grav\n",
       "0   201600000001            0                         2\n",
       "1   201600000002            0                         6\n",
       "2   201600000003            1                         2\n",
       "3   201600000004            0                         5\n",
       "4   201600000005            0                         4\n",
       "5   201600000006            1                         2\n",
       "6   201600000007            0                         3\n",
       "7   201600000008            0                         2\n",
       "8   201600000009            0                         2\n",
       "9   201600000010            1                         2\n",
       "10  201600000011            1                         2\n",
       "11  201600000012            0                         2\n",
       "12  201600000013            1                         2\n",
       "13  201600000014            0                         3\n",
       "14  201600000015            0                         2"
      ]
     },
     "execution_count": 67,
     "metadata": {},
     "output_type": "execute_result"
    }
   ],
   "source": [
    "df_users_agg.head(15)"
   ]
  },
  {
   "cell_type": "code",
   "execution_count": 68,
   "id": "c5f2d0b0-2143-4951-a0df-2ac64ad15388",
   "metadata": {},
   "outputs": [
    {
     "data": {
      "text/html": [
       "<div>\n",
       "<style scoped>\n",
       "    .dataframe tbody tr th:only-of-type {\n",
       "        vertical-align: middle;\n",
       "    }\n",
       "\n",
       "    .dataframe tbody tr th {\n",
       "        vertical-align: top;\n",
       "    }\n",
       "\n",
       "    .dataframe thead th {\n",
       "        text-align: right;\n",
       "    }\n",
       "</style>\n",
       "<table border=\"1\" class=\"dataframe\">\n",
       "  <thead>\n",
       "    <tr style=\"text-align: right;\">\n",
       "      <th></th>\n",
       "      <th>acc_id</th>\n",
       "      <th>person_cat_catu</th>\n",
       "      <th>injury_severity_grav</th>\n",
       "      <th>ped_present</th>\n",
       "      <th>injury_severity_adj_grav</th>\n",
       "    </tr>\n",
       "  </thead>\n",
       "  <tbody>\n",
       "    <tr>\n",
       "      <th>0</th>\n",
       "      <td>201600000001</td>\n",
       "      <td>1</td>\n",
       "      <td>1</td>\n",
       "      <td>0</td>\n",
       "      <td>0</td>\n",
       "    </tr>\n",
       "    <tr>\n",
       "      <th>1</th>\n",
       "      <td>201600000001</td>\n",
       "      <td>1</td>\n",
       "      <td>3</td>\n",
       "      <td>0</td>\n",
       "      <td>2</td>\n",
       "    </tr>\n",
       "    <tr>\n",
       "      <th>2</th>\n",
       "      <td>201600000002</td>\n",
       "      <td>1</td>\n",
       "      <td>3</td>\n",
       "      <td>0</td>\n",
       "      <td>2</td>\n",
       "    </tr>\n",
       "    <tr>\n",
       "      <th>3</th>\n",
       "      <td>201600000002</td>\n",
       "      <td>2</td>\n",
       "      <td>3</td>\n",
       "      <td>0</td>\n",
       "      <td>2</td>\n",
       "    </tr>\n",
       "    <tr>\n",
       "      <th>4</th>\n",
       "      <td>201600000002</td>\n",
       "      <td>2</td>\n",
       "      <td>3</td>\n",
       "      <td>0</td>\n",
       "      <td>2</td>\n",
       "    </tr>\n",
       "    <tr>\n",
       "      <th>5</th>\n",
       "      <td>201600000003</td>\n",
       "      <td>1</td>\n",
       "      <td>1</td>\n",
       "      <td>0</td>\n",
       "      <td>0</td>\n",
       "    </tr>\n",
       "    <tr>\n",
       "      <th>6</th>\n",
       "      <td>201600000003</td>\n",
       "      <td>3</td>\n",
       "      <td>3</td>\n",
       "      <td>1</td>\n",
       "      <td>2</td>\n",
       "    </tr>\n",
       "    <tr>\n",
       "      <th>7</th>\n",
       "      <td>201600000004</td>\n",
       "      <td>1</td>\n",
       "      <td>3</td>\n",
       "      <td>0</td>\n",
       "      <td>2</td>\n",
       "    </tr>\n",
       "    <tr>\n",
       "      <th>8</th>\n",
       "      <td>201600000004</td>\n",
       "      <td>2</td>\n",
       "      <td>4</td>\n",
       "      <td>0</td>\n",
       "      <td>3</td>\n",
       "    </tr>\n",
       "    <tr>\n",
       "      <th>9</th>\n",
       "      <td>201600000004</td>\n",
       "      <td>1</td>\n",
       "      <td>1</td>\n",
       "      <td>0</td>\n",
       "      <td>0</td>\n",
       "    </tr>\n",
       "    <tr>\n",
       "      <th>10</th>\n",
       "      <td>201600000005</td>\n",
       "      <td>1</td>\n",
       "      <td>3</td>\n",
       "      <td>0</td>\n",
       "      <td>2</td>\n",
       "    </tr>\n",
       "    <tr>\n",
       "      <th>11</th>\n",
       "      <td>201600000005</td>\n",
       "      <td>2</td>\n",
       "      <td>3</td>\n",
       "      <td>0</td>\n",
       "      <td>2</td>\n",
       "    </tr>\n",
       "    <tr>\n",
       "      <th>12</th>\n",
       "      <td>201600000005</td>\n",
       "      <td>1</td>\n",
       "      <td>1</td>\n",
       "      <td>0</td>\n",
       "      <td>0</td>\n",
       "    </tr>\n",
       "    <tr>\n",
       "      <th>13</th>\n",
       "      <td>201600000006</td>\n",
       "      <td>1</td>\n",
       "      <td>1</td>\n",
       "      <td>0</td>\n",
       "      <td>0</td>\n",
       "    </tr>\n",
       "    <tr>\n",
       "      <th>14</th>\n",
       "      <td>201600000006</td>\n",
       "      <td>3</td>\n",
       "      <td>3</td>\n",
       "      <td>1</td>\n",
       "      <td>2</td>\n",
       "    </tr>\n",
       "  </tbody>\n",
       "</table>\n",
       "</div>"
      ],
      "text/plain": [
       "          acc_id  person_cat_catu  injury_severity_grav  ped_present  \\\n",
       "0   201600000001                1                     1            0   \n",
       "1   201600000001                1                     3            0   \n",
       "2   201600000002                1                     3            0   \n",
       "3   201600000002                2                     3            0   \n",
       "4   201600000002                2                     3            0   \n",
       "5   201600000003                1                     1            0   \n",
       "6   201600000003                3                     3            1   \n",
       "7   201600000004                1                     3            0   \n",
       "8   201600000004                2                     4            0   \n",
       "9   201600000004                1                     1            0   \n",
       "10  201600000005                1                     3            0   \n",
       "11  201600000005                2                     3            0   \n",
       "12  201600000005                1                     1            0   \n",
       "13  201600000006                1                     1            0   \n",
       "14  201600000006                3                     3            1   \n",
       "\n",
       "    injury_severity_adj_grav  \n",
       "0                          0  \n",
       "1                          2  \n",
       "2                          2  \n",
       "3                          2  \n",
       "4                          2  \n",
       "5                          0  \n",
       "6                          2  \n",
       "7                          2  \n",
       "8                          3  \n",
       "9                          0  \n",
       "10                         2  \n",
       "11                         2  \n",
       "12                         0  \n",
       "13                         0  \n",
       "14                         2  "
      ]
     },
     "execution_count": 68,
     "metadata": {},
     "output_type": "execute_result"
    }
   ],
   "source": [
    "df_users.head(15)"
   ]
  },
  {
   "cell_type": "code",
   "execution_count": 69,
   "id": "d49ac148-3de9-429c-a713-442bb0186f5f",
   "metadata": {},
   "outputs": [
    {
     "data": {
      "text/plain": [
       "ped_present\n",
       "0     693464\n",
       "1     139020\n",
       "2       6415\n",
       "3        773\n",
       "4        214\n",
       "5         55\n",
       "6         19\n",
       "7         13\n",
       "8          2\n",
       "9          3\n",
       "10         4\n",
       "15         1\n",
       "21         1\n",
       "25         1\n",
       "Name: count, dtype: int64"
      ]
     },
     "execution_count": 69,
     "metadata": {},
     "output_type": "execute_result"
    }
   ],
   "source": [
    "df_users_agg.ped_present.value_counts(dropna=False).sort_index()"
   ]
  },
  {
   "cell_type": "code",
   "execution_count": 70,
   "id": "13464a8d-2559-4ec7-bf17-548e914e5d4c",
   "metadata": {},
   "outputs": [
    {
     "data": {
      "text/plain": [
       "injury_severity_adj_grav\n",
       "1       28794\n",
       "2      239710\n",
       "3      393143\n",
       "4       29629\n",
       "5       34345\n",
       "        ...  \n",
       "114         1\n",
       "129         1\n",
       "136         1\n",
       "141         1\n",
       "178         1\n",
       "Name: count, Length: 74, dtype: int64"
      ]
     },
     "execution_count": 70,
     "metadata": {},
     "output_type": "execute_result"
    }
   ],
   "source": [
    "df_users_agg.injury_severity_adj_grav.value_counts().sort_index()"
   ]
  },
  {
   "cell_type": "code",
   "execution_count": 71,
   "id": "775c65b2-4cf2-4fb4-a725-c1251aeeb94f",
   "metadata": {},
   "outputs": [
    {
     "data": {
      "text/plain": [
       "839985"
      ]
     },
     "execution_count": 71,
     "metadata": {},
     "output_type": "execute_result"
    }
   ],
   "source": [
    "len(df_users_agg)"
   ]
  },
  {
   "cell_type": "markdown",
   "id": "9bec0d85-11fb-49fb-a391-1ff7752f2c05",
   "metadata": {},
   "source": [
    "Change col name of ped_present to ped_count for clarity\n",
    "\n",
    "Change col name of injury_severity_adj_grav to injury_count for clarity"
   ]
  },
  {
   "cell_type": "code",
   "execution_count": 72,
   "id": "4543e051-246a-4fca-83ae-fc8e56985a88",
   "metadata": {},
   "outputs": [
    {
     "data": {
      "text/html": [
       "<div>\n",
       "<style scoped>\n",
       "    .dataframe tbody tr th:only-of-type {\n",
       "        vertical-align: middle;\n",
       "    }\n",
       "\n",
       "    .dataframe tbody tr th {\n",
       "        vertical-align: top;\n",
       "    }\n",
       "\n",
       "    .dataframe thead th {\n",
       "        text-align: right;\n",
       "    }\n",
       "</style>\n",
       "<table border=\"1\" class=\"dataframe\">\n",
       "  <thead>\n",
       "    <tr style=\"text-align: right;\">\n",
       "      <th></th>\n",
       "      <th>acc_id</th>\n",
       "      <th>ped_count</th>\n",
       "      <th>injury_count</th>\n",
       "    </tr>\n",
       "  </thead>\n",
       "  <tbody>\n",
       "    <tr>\n",
       "      <th>0</th>\n",
       "      <td>201600000001</td>\n",
       "      <td>0</td>\n",
       "      <td>2</td>\n",
       "    </tr>\n",
       "    <tr>\n",
       "      <th>1</th>\n",
       "      <td>201600000002</td>\n",
       "      <td>0</td>\n",
       "      <td>6</td>\n",
       "    </tr>\n",
       "    <tr>\n",
       "      <th>2</th>\n",
       "      <td>201600000003</td>\n",
       "      <td>1</td>\n",
       "      <td>2</td>\n",
       "    </tr>\n",
       "    <tr>\n",
       "      <th>3</th>\n",
       "      <td>201600000004</td>\n",
       "      <td>0</td>\n",
       "      <td>5</td>\n",
       "    </tr>\n",
       "    <tr>\n",
       "      <th>4</th>\n",
       "      <td>201600000005</td>\n",
       "      <td>0</td>\n",
       "      <td>4</td>\n",
       "    </tr>\n",
       "  </tbody>\n",
       "</table>\n",
       "</div>"
      ],
      "text/plain": [
       "         acc_id  ped_count  injury_count\n",
       "0  201600000001          0             2\n",
       "1  201600000002          0             6\n",
       "2  201600000003          1             2\n",
       "3  201600000004          0             5\n",
       "4  201600000005          0             4"
      ]
     },
     "execution_count": 72,
     "metadata": {},
     "output_type": "execute_result"
    }
   ],
   "source": [
    "df_users_agg.rename(columns={'ped_present':'ped_count', 'injury_severity_adj_grav':'injury_count'}, inplace=True)\n",
    "df_users_agg.head()"
   ]
  },
  {
   "cell_type": "markdown",
   "id": "2a06aa28-c220-4b32-817f-24944d4051fb",
   "metadata": {},
   "source": [
    "AP: Everything seems in place for merging df_users_agg into the main df"
   ]
  },
  {
   "cell_type": "markdown",
   "id": "33210a04-5c72-4f8a-95b2-9de4babe4e32",
   "metadata": {},
   "source": [
    "### Merge into main df"
   ]
  },
  {
   "cell_type": "code",
   "execution_count": 73,
   "id": "bcdd3fbb-4fb8-4c65-85b1-660db3939f80",
   "metadata": {},
   "outputs": [],
   "source": [
    "df_main = df_char_place.merge(df_users_agg, on='acc_id', how='inner')"
   ]
  },
  {
   "cell_type": "code",
   "execution_count": 74,
   "id": "fd999349-4d34-4818-a4d5-1f4456a97db3",
   "metadata": {},
   "outputs": [
    {
     "name": "stdout",
     "output_type": "stream",
     "text": [
      "df_char_place row count: 839985\n",
      "\n",
      "df_users_agg row count: 839985\n",
      "\n",
      "df_main row count: 839985\n"
     ]
    }
   ],
   "source": [
    "print('df_char_place row count:', len(df_char_place))\n",
    "print()\n",
    "print('df_users_agg row count:', len(df_users_agg))\n",
    "print()\n",
    "print('df_main row count:', len(df_main))"
   ]
  },
  {
   "cell_type": "code",
   "execution_count": 75,
   "id": "7d6fc9b3-1f42-4cac-aad4-8184d3d736d9",
   "metadata": {},
   "outputs": [
    {
     "data": {
      "text/html": [
       "<div>\n",
       "<style scoped>\n",
       "    .dataframe tbody tr th:only-of-type {\n",
       "        vertical-align: middle;\n",
       "    }\n",
       "\n",
       "    .dataframe tbody tr th {\n",
       "        vertical-align: top;\n",
       "    }\n",
       "\n",
       "    .dataframe thead th {\n",
       "        text-align: right;\n",
       "    }\n",
       "</style>\n",
       "<table border=\"1\" class=\"dataframe\">\n",
       "  <thead>\n",
       "    <tr style=\"text-align: right;\">\n",
       "      <th></th>\n",
       "      <th>acc_id</th>\n",
       "      <th>year_an</th>\n",
       "      <th>month_mois</th>\n",
       "      <th>day_jour</th>\n",
       "      <th>hrmn</th>\n",
       "      <th>luminosity_lum</th>\n",
       "      <th>built_up_agg</th>\n",
       "      <th>intersection_type_int</th>\n",
       "      <th>weather_atm</th>\n",
       "      <th>collision_type_col</th>\n",
       "      <th>road_category_catr</th>\n",
       "      <th>road_type_circ</th>\n",
       "      <th>lane_count_nbv</th>\n",
       "      <th>reserved_lane_type_vosp</th>\n",
       "      <th>road_slope_prof</th>\n",
       "      <th>road_curvature_plan</th>\n",
       "      <th>central_sep_width_lartpc</th>\n",
       "      <th>road_width_larrout</th>\n",
       "      <th>surface_cond_surf</th>\n",
       "      <th>infrastructure_infra</th>\n",
       "      <th>crash_location_situ</th>\n",
       "      <th>ped_count</th>\n",
       "      <th>injury_count</th>\n",
       "    </tr>\n",
       "  </thead>\n",
       "  <tbody>\n",
       "    <tr>\n",
       "      <th>0</th>\n",
       "      <td>201600000001</td>\n",
       "      <td>16</td>\n",
       "      <td>2</td>\n",
       "      <td>1</td>\n",
       "      <td>1445</td>\n",
       "      <td>1</td>\n",
       "      <td>2</td>\n",
       "      <td>1</td>\n",
       "      <td>8.0</td>\n",
       "      <td>3.0</td>\n",
       "      <td>3.0</td>\n",
       "      <td>2.0</td>\n",
       "      <td>0.0</td>\n",
       "      <td>0.0</td>\n",
       "      <td>1.0</td>\n",
       "      <td>3.0</td>\n",
       "      <td>0.0</td>\n",
       "      <td>0.0</td>\n",
       "      <td>1.0</td>\n",
       "      <td>0.0</td>\n",
       "      <td>1.0</td>\n",
       "      <td>0</td>\n",
       "      <td>2</td>\n",
       "    </tr>\n",
       "    <tr>\n",
       "      <th>1</th>\n",
       "      <td>201600000002</td>\n",
       "      <td>16</td>\n",
       "      <td>3</td>\n",
       "      <td>16</td>\n",
       "      <td>1800</td>\n",
       "      <td>1</td>\n",
       "      <td>2</td>\n",
       "      <td>6</td>\n",
       "      <td>1.0</td>\n",
       "      <td>6.0</td>\n",
       "      <td>3.0</td>\n",
       "      <td>1.0</td>\n",
       "      <td>0.0</td>\n",
       "      <td>0.0</td>\n",
       "      <td>1.0</td>\n",
       "      <td>2.0</td>\n",
       "      <td>0.0</td>\n",
       "      <td>58.0</td>\n",
       "      <td>1.0</td>\n",
       "      <td>0.0</td>\n",
       "      <td>1.0</td>\n",
       "      <td>0</td>\n",
       "      <td>6</td>\n",
       "    </tr>\n",
       "    <tr>\n",
       "      <th>2</th>\n",
       "      <td>201600000003</td>\n",
       "      <td>16</td>\n",
       "      <td>7</td>\n",
       "      <td>13</td>\n",
       "      <td>1900</td>\n",
       "      <td>1</td>\n",
       "      <td>1</td>\n",
       "      <td>1</td>\n",
       "      <td>1.0</td>\n",
       "      <td>6.0</td>\n",
       "      <td>3.0</td>\n",
       "      <td>2.0</td>\n",
       "      <td>2.0</td>\n",
       "      <td>0.0</td>\n",
       "      <td>1.0</td>\n",
       "      <td>3.0</td>\n",
       "      <td>0.0</td>\n",
       "      <td>68.0</td>\n",
       "      <td>2.0</td>\n",
       "      <td>0.0</td>\n",
       "      <td>3.0</td>\n",
       "      <td>1</td>\n",
       "      <td>2</td>\n",
       "    </tr>\n",
       "    <tr>\n",
       "      <th>3</th>\n",
       "      <td>201600000004</td>\n",
       "      <td>16</td>\n",
       "      <td>8</td>\n",
       "      <td>15</td>\n",
       "      <td>1930</td>\n",
       "      <td>2</td>\n",
       "      <td>2</td>\n",
       "      <td>1</td>\n",
       "      <td>7.0</td>\n",
       "      <td>3.0</td>\n",
       "      <td>4.0</td>\n",
       "      <td>2.0</td>\n",
       "      <td>0.0</td>\n",
       "      <td>0.0</td>\n",
       "      <td>1.0</td>\n",
       "      <td>1.0</td>\n",
       "      <td>0.0</td>\n",
       "      <td>0.0</td>\n",
       "      <td>1.0</td>\n",
       "      <td>0.0</td>\n",
       "      <td>1.0</td>\n",
       "      <td>0</td>\n",
       "      <td>5</td>\n",
       "    </tr>\n",
       "    <tr>\n",
       "      <th>4</th>\n",
       "      <td>201600000005</td>\n",
       "      <td>16</td>\n",
       "      <td>12</td>\n",
       "      <td>23</td>\n",
       "      <td>1100</td>\n",
       "      <td>1</td>\n",
       "      <td>2</td>\n",
       "      <td>3</td>\n",
       "      <td>1.0</td>\n",
       "      <td>3.0</td>\n",
       "      <td>4.0</td>\n",
       "      <td>0.0</td>\n",
       "      <td>0.0</td>\n",
       "      <td>0.0</td>\n",
       "      <td>0.0</td>\n",
       "      <td>1.0</td>\n",
       "      <td>0.0</td>\n",
       "      <td>0.0</td>\n",
       "      <td>1.0</td>\n",
       "      <td>0.0</td>\n",
       "      <td>1.0</td>\n",
       "      <td>0</td>\n",
       "      <td>4</td>\n",
       "    </tr>\n",
       "    <tr>\n",
       "      <th>5</th>\n",
       "      <td>201600000006</td>\n",
       "      <td>16</td>\n",
       "      <td>12</td>\n",
       "      <td>23</td>\n",
       "      <td>1115</td>\n",
       "      <td>1</td>\n",
       "      <td>2</td>\n",
       "      <td>1</td>\n",
       "      <td>7.0</td>\n",
       "      <td>6.0</td>\n",
       "      <td>3.0</td>\n",
       "      <td>2.0</td>\n",
       "      <td>0.0</td>\n",
       "      <td>0.0</td>\n",
       "      <td>1.0</td>\n",
       "      <td>1.0</td>\n",
       "      <td>0.0</td>\n",
       "      <td>0.0</td>\n",
       "      <td>1.0</td>\n",
       "      <td>0.0</td>\n",
       "      <td>1.0</td>\n",
       "      <td>1</td>\n",
       "      <td>2</td>\n",
       "    </tr>\n",
       "    <tr>\n",
       "      <th>6</th>\n",
       "      <td>201600000007</td>\n",
       "      <td>16</td>\n",
       "      <td>5</td>\n",
       "      <td>1</td>\n",
       "      <td>1145</td>\n",
       "      <td>1</td>\n",
       "      <td>2</td>\n",
       "      <td>1</td>\n",
       "      <td>7.0</td>\n",
       "      <td>2.0</td>\n",
       "      <td>3.0</td>\n",
       "      <td>2.0</td>\n",
       "      <td>0.0</td>\n",
       "      <td>0.0</td>\n",
       "      <td>1.0</td>\n",
       "      <td>1.0</td>\n",
       "      <td>70.0</td>\n",
       "      <td>0.0</td>\n",
       "      <td>1.0</td>\n",
       "      <td>0.0</td>\n",
       "      <td>1.0</td>\n",
       "      <td>0</td>\n",
       "      <td>3</td>\n",
       "    </tr>\n",
       "    <tr>\n",
       "      <th>7</th>\n",
       "      <td>201600000008</td>\n",
       "      <td>16</td>\n",
       "      <td>5</td>\n",
       "      <td>14</td>\n",
       "      <td>1915</td>\n",
       "      <td>2</td>\n",
       "      <td>1</td>\n",
       "      <td>1</td>\n",
       "      <td>1.0</td>\n",
       "      <td>1.0</td>\n",
       "      <td>3.0</td>\n",
       "      <td>2.0</td>\n",
       "      <td>2.0</td>\n",
       "      <td>0.0</td>\n",
       "      <td>1.0</td>\n",
       "      <td>1.0</td>\n",
       "      <td>0.0</td>\n",
       "      <td>70.0</td>\n",
       "      <td>1.0</td>\n",
       "      <td>0.0</td>\n",
       "      <td>1.0</td>\n",
       "      <td>0</td>\n",
       "      <td>2</td>\n",
       "    </tr>\n",
       "    <tr>\n",
       "      <th>8</th>\n",
       "      <td>201600000009</td>\n",
       "      <td>16</td>\n",
       "      <td>9</td>\n",
       "      <td>23</td>\n",
       "      <td>1900</td>\n",
       "      <td>1</td>\n",
       "      <td>2</td>\n",
       "      <td>1</td>\n",
       "      <td>1.0</td>\n",
       "      <td>3.0</td>\n",
       "      <td>4.0</td>\n",
       "      <td>2.0</td>\n",
       "      <td>2.0</td>\n",
       "      <td>0.0</td>\n",
       "      <td>1.0</td>\n",
       "      <td>0.0</td>\n",
       "      <td>0.0</td>\n",
       "      <td>0.0</td>\n",
       "      <td>1.0</td>\n",
       "      <td>0.0</td>\n",
       "      <td>1.0</td>\n",
       "      <td>0</td>\n",
       "      <td>2</td>\n",
       "    </tr>\n",
       "    <tr>\n",
       "      <th>9</th>\n",
       "      <td>201600000010</td>\n",
       "      <td>16</td>\n",
       "      <td>12</td>\n",
       "      <td>30</td>\n",
       "      <td>1030</td>\n",
       "      <td>1</td>\n",
       "      <td>1</td>\n",
       "      <td>1</td>\n",
       "      <td>9.0</td>\n",
       "      <td>6.0</td>\n",
       "      <td>4.0</td>\n",
       "      <td>2.0</td>\n",
       "      <td>0.0</td>\n",
       "      <td>0.0</td>\n",
       "      <td>0.0</td>\n",
       "      <td>1.0</td>\n",
       "      <td>0.0</td>\n",
       "      <td>44.0</td>\n",
       "      <td>7.0</td>\n",
       "      <td>0.0</td>\n",
       "      <td>1.0</td>\n",
       "      <td>1</td>\n",
       "      <td>2</td>\n",
       "    </tr>\n",
       "  </tbody>\n",
       "</table>\n",
       "</div>"
      ],
      "text/plain": [
       "         acc_id  year_an  month_mois  day_jour  hrmn  luminosity_lum  \\\n",
       "0  201600000001       16           2         1  1445               1   \n",
       "1  201600000002       16           3        16  1800               1   \n",
       "2  201600000003       16           7        13  1900               1   \n",
       "3  201600000004       16           8        15  1930               2   \n",
       "4  201600000005       16          12        23  1100               1   \n",
       "5  201600000006       16          12        23  1115               1   \n",
       "6  201600000007       16           5         1  1145               1   \n",
       "7  201600000008       16           5        14  1915               2   \n",
       "8  201600000009       16           9        23  1900               1   \n",
       "9  201600000010       16          12        30  1030               1   \n",
       "\n",
       "   built_up_agg  intersection_type_int  weather_atm  collision_type_col  \\\n",
       "0             2                      1          8.0                 3.0   \n",
       "1             2                      6          1.0                 6.0   \n",
       "2             1                      1          1.0                 6.0   \n",
       "3             2                      1          7.0                 3.0   \n",
       "4             2                      3          1.0                 3.0   \n",
       "5             2                      1          7.0                 6.0   \n",
       "6             2                      1          7.0                 2.0   \n",
       "7             1                      1          1.0                 1.0   \n",
       "8             2                      1          1.0                 3.0   \n",
       "9             1                      1          9.0                 6.0   \n",
       "\n",
       "   road_category_catr  road_type_circ  lane_count_nbv  \\\n",
       "0                 3.0             2.0             0.0   \n",
       "1                 3.0             1.0             0.0   \n",
       "2                 3.0             2.0             2.0   \n",
       "3                 4.0             2.0             0.0   \n",
       "4                 4.0             0.0             0.0   \n",
       "5                 3.0             2.0             0.0   \n",
       "6                 3.0             2.0             0.0   \n",
       "7                 3.0             2.0             2.0   \n",
       "8                 4.0             2.0             2.0   \n",
       "9                 4.0             2.0             0.0   \n",
       "\n",
       "   reserved_lane_type_vosp  road_slope_prof  road_curvature_plan  \\\n",
       "0                      0.0              1.0                  3.0   \n",
       "1                      0.0              1.0                  2.0   \n",
       "2                      0.0              1.0                  3.0   \n",
       "3                      0.0              1.0                  1.0   \n",
       "4                      0.0              0.0                  1.0   \n",
       "5                      0.0              1.0                  1.0   \n",
       "6                      0.0              1.0                  1.0   \n",
       "7                      0.0              1.0                  1.0   \n",
       "8                      0.0              1.0                  0.0   \n",
       "9                      0.0              0.0                  1.0   \n",
       "\n",
       "   central_sep_width_lartpc  road_width_larrout  surface_cond_surf  \\\n",
       "0                       0.0                 0.0                1.0   \n",
       "1                       0.0                58.0                1.0   \n",
       "2                       0.0                68.0                2.0   \n",
       "3                       0.0                 0.0                1.0   \n",
       "4                       0.0                 0.0                1.0   \n",
       "5                       0.0                 0.0                1.0   \n",
       "6                      70.0                 0.0                1.0   \n",
       "7                       0.0                70.0                1.0   \n",
       "8                       0.0                 0.0                1.0   \n",
       "9                       0.0                44.0                7.0   \n",
       "\n",
       "   infrastructure_infra  crash_location_situ  ped_count  injury_count  \n",
       "0                   0.0                  1.0          0             2  \n",
       "1                   0.0                  1.0          0             6  \n",
       "2                   0.0                  3.0          1             2  \n",
       "3                   0.0                  1.0          0             5  \n",
       "4                   0.0                  1.0          0             4  \n",
       "5                   0.0                  1.0          1             2  \n",
       "6                   0.0                  1.0          0             3  \n",
       "7                   0.0                  1.0          0             2  \n",
       "8                   0.0                  1.0          0             2  \n",
       "9                   0.0                  1.0          1             2  "
      ]
     },
     "execution_count": 75,
     "metadata": {},
     "output_type": "execute_result"
    }
   ],
   "source": [
    "df_main.head(10)"
   ]
  },
  {
   "cell_type": "markdown",
   "id": "bb089810-39b3-4118-a626-ef572dc1db7d",
   "metadata": {},
   "source": [
    "## Create cols for holiday & yes/no if holiday\n",
    "\n",
    "Both to analyze if holidays have more accidents and also analyze which holidays have increased accidents."
   ]
  },
  {
   "cell_type": "code",
   "execution_count": 76,
   "id": "67b705af-51aa-4c87-a8d5-75958b728d85",
   "metadata": {},
   "outputs": [
    {
     "data": {
      "text/html": [
       "<div>\n",
       "<style scoped>\n",
       "    .dataframe tbody tr th:only-of-type {\n",
       "        vertical-align: middle;\n",
       "    }\n",
       "\n",
       "    .dataframe tbody tr th {\n",
       "        vertical-align: top;\n",
       "    }\n",
       "\n",
       "    .dataframe thead th {\n",
       "        text-align: right;\n",
       "    }\n",
       "</style>\n",
       "<table border=\"1\" class=\"dataframe\">\n",
       "  <thead>\n",
       "    <tr style=\"text-align: right;\">\n",
       "      <th></th>\n",
       "      <th>date</th>\n",
       "      <th>holiday</th>\n",
       "    </tr>\n",
       "  </thead>\n",
       "  <tbody>\n",
       "    <tr>\n",
       "      <th>0</th>\n",
       "      <td>2005-01-01</td>\n",
       "      <td>New year</td>\n",
       "    </tr>\n",
       "    <tr>\n",
       "      <th>1</th>\n",
       "      <td>2005-03-28</td>\n",
       "      <td>Easter Monday</td>\n",
       "    </tr>\n",
       "    <tr>\n",
       "      <th>2</th>\n",
       "      <td>2005-05-01</td>\n",
       "      <td>Labour Day</td>\n",
       "    </tr>\n",
       "    <tr>\n",
       "      <th>3</th>\n",
       "      <td>2005-05-05</td>\n",
       "      <td>Ascension Thursday</td>\n",
       "    </tr>\n",
       "    <tr>\n",
       "      <th>4</th>\n",
       "      <td>2005-05-08</td>\n",
       "      <td>Victory in Europe Day</td>\n",
       "    </tr>\n",
       "    <tr>\n",
       "      <th>5</th>\n",
       "      <td>2005-05-16</td>\n",
       "      <td>Whit Monday</td>\n",
       "    </tr>\n",
       "    <tr>\n",
       "      <th>6</th>\n",
       "      <td>2005-07-14</td>\n",
       "      <td>Bastille Day</td>\n",
       "    </tr>\n",
       "    <tr>\n",
       "      <th>7</th>\n",
       "      <td>2005-08-15</td>\n",
       "      <td>Assumption of Mary to Heaven</td>\n",
       "    </tr>\n",
       "    <tr>\n",
       "      <th>8</th>\n",
       "      <td>2005-11-01</td>\n",
       "      <td>All Saints Day</td>\n",
       "    </tr>\n",
       "    <tr>\n",
       "      <th>9</th>\n",
       "      <td>2005-11-11</td>\n",
       "      <td>Armistice Day</td>\n",
       "    </tr>\n",
       "    <tr>\n",
       "      <th>10</th>\n",
       "      <td>2005-12-25</td>\n",
       "      <td>Christmas Day</td>\n",
       "    </tr>\n",
       "    <tr>\n",
       "      <th>11</th>\n",
       "      <td>2006-01-01</td>\n",
       "      <td>New year</td>\n",
       "    </tr>\n",
       "  </tbody>\n",
       "</table>\n",
       "</div>"
      ],
      "text/plain": [
       "          date                       holiday\n",
       "0   2005-01-01                      New year\n",
       "1   2005-03-28                 Easter Monday\n",
       "2   2005-05-01                    Labour Day\n",
       "3   2005-05-05            Ascension Thursday\n",
       "4   2005-05-08         Victory in Europe Day\n",
       "5   2005-05-16                   Whit Monday\n",
       "6   2005-07-14                  Bastille Day\n",
       "7   2005-08-15  Assumption of Mary to Heaven\n",
       "8   2005-11-01                All Saints Day\n",
       "9   2005-11-11                 Armistice Day\n",
       "10  2005-12-25                 Christmas Day\n",
       "11  2006-01-01                      New year"
      ]
     },
     "execution_count": 76,
     "metadata": {},
     "output_type": "execute_result"
    }
   ],
   "source": [
    "df_holiday.head(12) #because 11 holidays"
   ]
  },
  {
   "cell_type": "code",
   "execution_count": 77,
   "id": "9b8c6812-326f-4ea5-8fde-238c82860a28",
   "metadata": {},
   "outputs": [
    {
     "name": "stdout",
     "output_type": "stream",
     "text": [
      "<class 'pandas.core.frame.DataFrame'>\n",
      "RangeIndex: 132 entries, 0 to 131\n",
      "Data columns (total 2 columns):\n",
      " #   Column   Non-Null Count  Dtype \n",
      "---  ------   --------------  ----- \n",
      " 0   date     132 non-null    object\n",
      " 1   holiday  132 non-null    object\n",
      "dtypes: object(2)\n",
      "memory usage: 2.2+ KB\n"
     ]
    }
   ],
   "source": [
    "df_holiday.info()"
   ]
  },
  {
   "cell_type": "code",
   "execution_count": 78,
   "id": "922ab648-eee4-4948-9540-ba32f6f08edf",
   "metadata": {},
   "outputs": [],
   "source": [
    "df_holiday['date'] = pd.to_datetime(df_holiday['date'])"
   ]
  },
  {
   "cell_type": "code",
   "execution_count": 79,
   "id": "f81ea129-fee4-49b4-923d-18f1c7f338e9",
   "metadata": {},
   "outputs": [
    {
     "data": {
      "text/plain": [
       "holiday\n",
       "New year                        12\n",
       "Easter Monday                   12\n",
       "Labour Day                      12\n",
       "Ascension Thursday              12\n",
       "Victory in Europe Day           12\n",
       "Whit Monday                     12\n",
       "Bastille Day                    12\n",
       "Assumption of Mary to Heaven    12\n",
       "All Saints Day                  12\n",
       "Armistice Day                   12\n",
       "Christmas Day                   12\n",
       "Name: count, dtype: int64"
      ]
     },
     "execution_count": 79,
     "metadata": {},
     "output_type": "execute_result"
    }
   ],
   "source": [
    "df_holiday.holiday.value_counts()"
   ]
  },
  {
   "cell_type": "markdown",
   "id": "6ffdfde0-d2dc-48e6-b607-fbaa505d960e",
   "metadata": {},
   "source": [
    "____\n",
    "Create a 'date' col in datetime dtype"
   ]
  },
  {
   "cell_type": "code",
   "execution_count": 80,
   "id": "6cdc3800-96bd-489a-bc39-592cd74b377d",
   "metadata": {},
   "outputs": [],
   "source": [
    "df_main['date'] = pd.to_datetime(df_main[['year_an', 'month_mois', 'day_jour']]\n",
    "                                 .rename(columns={'year_an': 'year', 'month_mois': 'month', 'day_jour': 'day'})\n",
    "                                 .assign(year=lambda x: x['year']+2000))"
   ]
  },
  {
   "cell_type": "code",
   "execution_count": 81,
   "id": "60c90418-8ca8-4063-a929-f661642851c0",
   "metadata": {},
   "outputs": [
    {
     "data": {
      "text/html": [
       "<div>\n",
       "<style scoped>\n",
       "    .dataframe tbody tr th:only-of-type {\n",
       "        vertical-align: middle;\n",
       "    }\n",
       "\n",
       "    .dataframe tbody tr th {\n",
       "        vertical-align: top;\n",
       "    }\n",
       "\n",
       "    .dataframe thead th {\n",
       "        text-align: right;\n",
       "    }\n",
       "</style>\n",
       "<table border=\"1\" class=\"dataframe\">\n",
       "  <thead>\n",
       "    <tr style=\"text-align: right;\">\n",
       "      <th></th>\n",
       "      <th>acc_id</th>\n",
       "      <th>year_an</th>\n",
       "      <th>month_mois</th>\n",
       "      <th>day_jour</th>\n",
       "      <th>hrmn</th>\n",
       "      <th>luminosity_lum</th>\n",
       "      <th>built_up_agg</th>\n",
       "      <th>intersection_type_int</th>\n",
       "      <th>weather_atm</th>\n",
       "      <th>collision_type_col</th>\n",
       "      <th>road_category_catr</th>\n",
       "      <th>road_type_circ</th>\n",
       "      <th>lane_count_nbv</th>\n",
       "      <th>reserved_lane_type_vosp</th>\n",
       "      <th>road_slope_prof</th>\n",
       "      <th>road_curvature_plan</th>\n",
       "      <th>central_sep_width_lartpc</th>\n",
       "      <th>road_width_larrout</th>\n",
       "      <th>surface_cond_surf</th>\n",
       "      <th>infrastructure_infra</th>\n",
       "      <th>crash_location_situ</th>\n",
       "      <th>ped_count</th>\n",
       "      <th>injury_count</th>\n",
       "      <th>date</th>\n",
       "    </tr>\n",
       "  </thead>\n",
       "  <tbody>\n",
       "    <tr>\n",
       "      <th>0</th>\n",
       "      <td>201600000001</td>\n",
       "      <td>16</td>\n",
       "      <td>2</td>\n",
       "      <td>1</td>\n",
       "      <td>1445</td>\n",
       "      <td>1</td>\n",
       "      <td>2</td>\n",
       "      <td>1</td>\n",
       "      <td>8.0</td>\n",
       "      <td>3.0</td>\n",
       "      <td>3.0</td>\n",
       "      <td>2.0</td>\n",
       "      <td>0.0</td>\n",
       "      <td>0.0</td>\n",
       "      <td>1.0</td>\n",
       "      <td>3.0</td>\n",
       "      <td>0.0</td>\n",
       "      <td>0.0</td>\n",
       "      <td>1.0</td>\n",
       "      <td>0.0</td>\n",
       "      <td>1.0</td>\n",
       "      <td>0</td>\n",
       "      <td>2</td>\n",
       "      <td>2016-02-01</td>\n",
       "    </tr>\n",
       "    <tr>\n",
       "      <th>1</th>\n",
       "      <td>201600000002</td>\n",
       "      <td>16</td>\n",
       "      <td>3</td>\n",
       "      <td>16</td>\n",
       "      <td>1800</td>\n",
       "      <td>1</td>\n",
       "      <td>2</td>\n",
       "      <td>6</td>\n",
       "      <td>1.0</td>\n",
       "      <td>6.0</td>\n",
       "      <td>3.0</td>\n",
       "      <td>1.0</td>\n",
       "      <td>0.0</td>\n",
       "      <td>0.0</td>\n",
       "      <td>1.0</td>\n",
       "      <td>2.0</td>\n",
       "      <td>0.0</td>\n",
       "      <td>58.0</td>\n",
       "      <td>1.0</td>\n",
       "      <td>0.0</td>\n",
       "      <td>1.0</td>\n",
       "      <td>0</td>\n",
       "      <td>6</td>\n",
       "      <td>2016-03-16</td>\n",
       "    </tr>\n",
       "    <tr>\n",
       "      <th>2</th>\n",
       "      <td>201600000003</td>\n",
       "      <td>16</td>\n",
       "      <td>7</td>\n",
       "      <td>13</td>\n",
       "      <td>1900</td>\n",
       "      <td>1</td>\n",
       "      <td>1</td>\n",
       "      <td>1</td>\n",
       "      <td>1.0</td>\n",
       "      <td>6.0</td>\n",
       "      <td>3.0</td>\n",
       "      <td>2.0</td>\n",
       "      <td>2.0</td>\n",
       "      <td>0.0</td>\n",
       "      <td>1.0</td>\n",
       "      <td>3.0</td>\n",
       "      <td>0.0</td>\n",
       "      <td>68.0</td>\n",
       "      <td>2.0</td>\n",
       "      <td>0.0</td>\n",
       "      <td>3.0</td>\n",
       "      <td>1</td>\n",
       "      <td>2</td>\n",
       "      <td>2016-07-13</td>\n",
       "    </tr>\n",
       "    <tr>\n",
       "      <th>3</th>\n",
       "      <td>201600000004</td>\n",
       "      <td>16</td>\n",
       "      <td>8</td>\n",
       "      <td>15</td>\n",
       "      <td>1930</td>\n",
       "      <td>2</td>\n",
       "      <td>2</td>\n",
       "      <td>1</td>\n",
       "      <td>7.0</td>\n",
       "      <td>3.0</td>\n",
       "      <td>4.0</td>\n",
       "      <td>2.0</td>\n",
       "      <td>0.0</td>\n",
       "      <td>0.0</td>\n",
       "      <td>1.0</td>\n",
       "      <td>1.0</td>\n",
       "      <td>0.0</td>\n",
       "      <td>0.0</td>\n",
       "      <td>1.0</td>\n",
       "      <td>0.0</td>\n",
       "      <td>1.0</td>\n",
       "      <td>0</td>\n",
       "      <td>5</td>\n",
       "      <td>2016-08-15</td>\n",
       "    </tr>\n",
       "    <tr>\n",
       "      <th>4</th>\n",
       "      <td>201600000005</td>\n",
       "      <td>16</td>\n",
       "      <td>12</td>\n",
       "      <td>23</td>\n",
       "      <td>1100</td>\n",
       "      <td>1</td>\n",
       "      <td>2</td>\n",
       "      <td>3</td>\n",
       "      <td>1.0</td>\n",
       "      <td>3.0</td>\n",
       "      <td>4.0</td>\n",
       "      <td>0.0</td>\n",
       "      <td>0.0</td>\n",
       "      <td>0.0</td>\n",
       "      <td>0.0</td>\n",
       "      <td>1.0</td>\n",
       "      <td>0.0</td>\n",
       "      <td>0.0</td>\n",
       "      <td>1.0</td>\n",
       "      <td>0.0</td>\n",
       "      <td>1.0</td>\n",
       "      <td>0</td>\n",
       "      <td>4</td>\n",
       "      <td>2016-12-23</td>\n",
       "    </tr>\n",
       "  </tbody>\n",
       "</table>\n",
       "</div>"
      ],
      "text/plain": [
       "         acc_id  year_an  month_mois  day_jour  hrmn  luminosity_lum  \\\n",
       "0  201600000001       16           2         1  1445               1   \n",
       "1  201600000002       16           3        16  1800               1   \n",
       "2  201600000003       16           7        13  1900               1   \n",
       "3  201600000004       16           8        15  1930               2   \n",
       "4  201600000005       16          12        23  1100               1   \n",
       "\n",
       "   built_up_agg  intersection_type_int  weather_atm  collision_type_col  \\\n",
       "0             2                      1          8.0                 3.0   \n",
       "1             2                      6          1.0                 6.0   \n",
       "2             1                      1          1.0                 6.0   \n",
       "3             2                      1          7.0                 3.0   \n",
       "4             2                      3          1.0                 3.0   \n",
       "\n",
       "   road_category_catr  road_type_circ  lane_count_nbv  \\\n",
       "0                 3.0             2.0             0.0   \n",
       "1                 3.0             1.0             0.0   \n",
       "2                 3.0             2.0             2.0   \n",
       "3                 4.0             2.0             0.0   \n",
       "4                 4.0             0.0             0.0   \n",
       "\n",
       "   reserved_lane_type_vosp  road_slope_prof  road_curvature_plan  \\\n",
       "0                      0.0              1.0                  3.0   \n",
       "1                      0.0              1.0                  2.0   \n",
       "2                      0.0              1.0                  3.0   \n",
       "3                      0.0              1.0                  1.0   \n",
       "4                      0.0              0.0                  1.0   \n",
       "\n",
       "   central_sep_width_lartpc  road_width_larrout  surface_cond_surf  \\\n",
       "0                       0.0                 0.0                1.0   \n",
       "1                       0.0                58.0                1.0   \n",
       "2                       0.0                68.0                2.0   \n",
       "3                       0.0                 0.0                1.0   \n",
       "4                       0.0                 0.0                1.0   \n",
       "\n",
       "   infrastructure_infra  crash_location_situ  ped_count  injury_count  \\\n",
       "0                   0.0                  1.0          0             2   \n",
       "1                   0.0                  1.0          0             6   \n",
       "2                   0.0                  3.0          1             2   \n",
       "3                   0.0                  1.0          0             5   \n",
       "4                   0.0                  1.0          0             4   \n",
       "\n",
       "        date  \n",
       "0 2016-02-01  \n",
       "1 2016-03-16  \n",
       "2 2016-07-13  \n",
       "3 2016-08-15  \n",
       "4 2016-12-23  "
      ]
     },
     "execution_count": 81,
     "metadata": {},
     "output_type": "execute_result"
    }
   ],
   "source": [
    "df_main.head()"
   ]
  },
  {
   "cell_type": "markdown",
   "id": "4d8bb6ff-1e87-44c2-b953-e502a09a34ff",
   "metadata": {},
   "source": [
    "____\n",
    "Create a col 'is_holiday' of 0/1 (No, Yes) for whether or not it's a holiday."
   ]
  },
  {
   "cell_type": "code",
   "execution_count": 82,
   "id": "ee308a2e-4467-4e38-a22f-99c779d15b85",
   "metadata": {},
   "outputs": [],
   "source": [
    "df_main['is_holiday'] = df_main['date'].isin(df_holiday['date'])"
   ]
  },
  {
   "cell_type": "code",
   "execution_count": 83,
   "id": "4a494d70-9248-4706-aaa6-51cd5df187e8",
   "metadata": {},
   "outputs": [
    {
     "data": {
      "text/html": [
       "<div>\n",
       "<style scoped>\n",
       "    .dataframe tbody tr th:only-of-type {\n",
       "        vertical-align: middle;\n",
       "    }\n",
       "\n",
       "    .dataframe tbody tr th {\n",
       "        vertical-align: top;\n",
       "    }\n",
       "\n",
       "    .dataframe thead th {\n",
       "        text-align: right;\n",
       "    }\n",
       "</style>\n",
       "<table border=\"1\" class=\"dataframe\">\n",
       "  <thead>\n",
       "    <tr style=\"text-align: right;\">\n",
       "      <th></th>\n",
       "      <th>date</th>\n",
       "      <th>is_holiday</th>\n",
       "    </tr>\n",
       "  </thead>\n",
       "  <tbody>\n",
       "    <tr>\n",
       "      <th>184247</th>\n",
       "      <td>2013-02-15</td>\n",
       "      <td>False</td>\n",
       "    </tr>\n",
       "    <tr>\n",
       "      <th>772752</th>\n",
       "      <td>2005-04-27</td>\n",
       "      <td>False</td>\n",
       "    </tr>\n",
       "    <tr>\n",
       "      <th>220513</th>\n",
       "      <td>2013-11-24</td>\n",
       "      <td>False</td>\n",
       "    </tr>\n",
       "    <tr>\n",
       "      <th>109193</th>\n",
       "      <td>2015-10-05</td>\n",
       "      <td>False</td>\n",
       "    </tr>\n",
       "    <tr>\n",
       "      <th>117328</th>\n",
       "      <td>2015-02-06</td>\n",
       "      <td>False</td>\n",
       "    </tr>\n",
       "    <tr>\n",
       "      <th>268257</th>\n",
       "      <td>2012-12-11</td>\n",
       "      <td>False</td>\n",
       "    </tr>\n",
       "    <tr>\n",
       "      <th>329271</th>\n",
       "      <td>2011-07-06</td>\n",
       "      <td>False</td>\n",
       "    </tr>\n",
       "    <tr>\n",
       "      <th>616195</th>\n",
       "      <td>2007-05-31</td>\n",
       "      <td>False</td>\n",
       "    </tr>\n",
       "    <tr>\n",
       "      <th>29886</th>\n",
       "      <td>2016-10-17</td>\n",
       "      <td>False</td>\n",
       "    </tr>\n",
       "    <tr>\n",
       "      <th>145478</th>\n",
       "      <td>2014-08-23</td>\n",
       "      <td>False</td>\n",
       "    </tr>\n",
       "  </tbody>\n",
       "</table>\n",
       "</div>"
      ],
      "text/plain": [
       "             date  is_holiday\n",
       "184247 2013-02-15       False\n",
       "772752 2005-04-27       False\n",
       "220513 2013-11-24       False\n",
       "109193 2015-10-05       False\n",
       "117328 2015-02-06       False\n",
       "268257 2012-12-11       False\n",
       "329271 2011-07-06       False\n",
       "616195 2007-05-31       False\n",
       "29886  2016-10-17       False\n",
       "145478 2014-08-23       False"
      ]
     },
     "execution_count": 83,
     "metadata": {},
     "output_type": "execute_result"
    }
   ],
   "source": [
    "df_main[['date', 'is_holiday']].sample(10)"
   ]
  },
  {
   "cell_type": "markdown",
   "id": "2ca53ee9-e90d-4ea3-bf61-618e2a5720ba",
   "metadata": {},
   "source": [
    "____\n",
    "Create a col 'holiday' for noting which holiday is is.\n",
    "\n",
    "For non-holidays, input value 'common_day'"
   ]
  },
  {
   "cell_type": "code",
   "execution_count": null,
   "id": "f942bea3-f04b-40f7-9981-0b2cd7c4f659",
   "metadata": {},
   "outputs": [],
   "source": [
    "df_holiday = df_holiday.sort_values(by='date', ascending=False)\n",
    "df_holiday.head(11)"
   ]
  },
  {
   "cell_type": "code",
   "execution_count": null,
   "id": "adc1888e-d39d-4b50-b71f-805b808a99d0",
   "metadata": {},
   "outputs": [],
   "source": [
    "df_main.merge(df_holiday, how='outer', on='date').sort_values(by='acc_id')"
   ]
  },
  {
   "cell_type": "code",
   "execution_count": null,
   "id": "a5c8f87d-dab0-4663-b1c7-05848f07d9ce",
   "metadata": {},
   "outputs": [],
   "source": []
  },
  {
   "cell_type": "code",
   "execution_count": null,
   "id": "6006e2c4-a2bb-4b5f-8c87-86f538f2eca5",
   "metadata": {},
   "outputs": [],
   "source": []
  },
  {
   "cell_type": "code",
   "execution_count": null,
   "id": "27390c1c-c672-4857-bafa-d089532d9f25",
   "metadata": {},
   "outputs": [],
   "source": []
  },
  {
   "cell_type": "code",
   "execution_count": null,
   "id": "76b0776b-e96c-4579-a240-cb3736cceb5c",
   "metadata": {},
   "outputs": [],
   "source": []
  },
  {
   "cell_type": "code",
   "execution_count": null,
   "id": "b4298628-f790-4aca-8590-f40a1f4e8b33",
   "metadata": {},
   "outputs": [],
   "source": []
  },
  {
   "cell_type": "markdown",
   "id": "eb2cadf2-55ed-46ab-b937-a06d23afcb92",
   "metadata": {},
   "source": [
    "# EDA"
   ]
  },
  {
   "cell_type": "code",
   "execution_count": null,
   "id": "a2fcc4af-eb58-403c-83f4-550af55ec798",
   "metadata": {},
   "outputs": [],
   "source": []
  },
  {
   "cell_type": "code",
   "execution_count": null,
   "id": "3c754c32-cb2c-44e8-9e86-c00331ac3104",
   "metadata": {},
   "outputs": [],
   "source": []
  },
  {
   "cell_type": "code",
   "execution_count": null,
   "id": "1d117f7b-d4ec-4432-9d05-74aa43f438fd",
   "metadata": {},
   "outputs": [],
   "source": []
  },
  {
   "cell_type": "code",
   "execution_count": null,
   "id": "ebe7d8b8-2a39-4572-966e-7af242761821",
   "metadata": {},
   "outputs": [],
   "source": []
  },
  {
   "cell_type": "code",
   "execution_count": null,
   "id": "116dcbb0-f79a-4bab-b774-3dec5c1c763f",
   "metadata": {},
   "outputs": [],
   "source": []
  },
  {
   "cell_type": "code",
   "execution_count": null,
   "id": "e681b685-7fa1-481d-85de-19056d1bba2e",
   "metadata": {},
   "outputs": [],
   "source": []
  }
 ],
 "metadata": {
  "kernelspec": {
   "display_name": "Python 3 (ipykernel)",
   "language": "python",
   "name": "python3"
  },
  "language_info": {
   "codemirror_mode": {
    "name": "ipython",
    "version": 3
   },
   "file_extension": ".py",
   "mimetype": "text/x-python",
   "name": "python",
   "nbconvert_exporter": "python",
   "pygments_lexer": "ipython3",
   "version": "3.12.3"
  }
 },
 "nbformat": 4,
 "nbformat_minor": 5
}
