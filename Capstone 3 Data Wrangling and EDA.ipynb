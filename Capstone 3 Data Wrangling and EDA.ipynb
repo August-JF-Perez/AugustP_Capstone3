{
 "cells": [
  {
   "cell_type": "markdown",
   "id": "f995b0d9-024a-45f5-9121-1714d95cc066",
   "metadata": {},
   "source": [
    "# August Perez Capstone Three Project:\n",
    "## Characterization of High Accident Situations\n",
    "\n",
    "Using neural networks / deep learning I plan on analyzing a conglomerate dataset to characterize what combined variables of road types, times, and conditions have the highest probability of a car accident occuring.\n",
    "\n",
    "### Goal\n",
    "Build models for characterization of locations with crash probability of >=80% (or top 10 if minimal quantity of >=80% crash probability)\n",
    "and an analysis of times, days of the week, and dates of the year with crash probability >=60% for the locations characterized.\n",
    "\n",
    "    Crash probability Thresholds chosen arbitrarily. For real-world application, each agency utilizing this needs to determine thresholds specific to their needs and capabilities.\n",
    "\n",
    "### Data source:\n",
    "Accidents in France from 2005 to 2016 (https://www.kaggle.com/datasets/ahmedlahlou/accidents-in-france-from-2005-to-2016/data)\n",
    "\n",
    "\n",
    "    \n",
    "#### About the dataset:\n",
    "- A collection of 5 datasets pertaining to car crashes in France from 2005 to 2016\n",
    "    - characteristics\n",
    "        - Details about each crash\n",
    "    - holidays\n",
    "        - Dates from 2005 to 2016 that are holidays\n",
    "    - places\n",
    "        - Details about accident locations\n",
    "    - users\n",
    "        - Details about persons involved in the accident\n",
    "    - vehicles\n",
    "        - Details about vehicles involved in the accident"
   ]
  },
  {
   "cell_type": "markdown",
   "id": "b2ba1a5d-7b86-4ce9-8ad9-e72ff8ca6f11",
   "metadata": {},
   "source": [
    "## Note on raw format cells:\n",
    "\n",
    "Actions outside the initial scope of data wrangling and EDA were performed. The cells with this code are converted to Raw format so the code does not execute & is preserved for back-referencing."
   ]
  },
  {
   "cell_type": "markdown",
   "id": "f073a58a-6bc4-429b-a0d2-ee34f4a66742",
   "metadata": {
    "tags": []
   },
   "source": [
    "## Imports:"
   ]
  },
  {
   "cell_type": "code",
   "execution_count": 1,
   "id": "5f2d7a38-b6ec-4d01-96c2-ed0975edf772",
   "metadata": {
    "tags": []
   },
   "outputs": [],
   "source": [
    "%matplotlib inline\n",
    "\n",
    "# data manipulation and math\n",
    "\n",
    "import numpy as np\n",
    "import scipy as sp\n",
    "import pandas as pd\n",
    "pd.set_option('display.max_columns', None)\n",
    "pd.set_option('display.max_colwidth', None)\n",
    "import datetime as dt\n",
    "\n",
    "# plotting and visualization\n",
    "\n",
    "import matplotlib.pyplot as plt\n",
    "import seaborn as sns\n",
    "\n",
    "# modeling & pre-processing\n",
    "    #commenting out since not necessary for this part of the project\n",
    "#    import sklearn.model_selection\n",
    "#    from sklearn.model_selection import train_test_split\n",
    "#    from sklearn.model_selection import KFold\n",
    "#    import sklearn.preprocessing\n",
    "#    import sklearn.metrics\n",
    "\n",
    "import warnings\n",
    "    #reminder code so I can ignore warnings for single code cells:\n",
    "    #warnings.filterwarnings('ignore')\n",
    "    #warnings.resetwarnings()"
   ]
  },
  {
   "cell_type": "raw",
   "id": "c6fe16b2-6d26-4f84-be40-59155877dbe6",
   "metadata": {},
   "source": [
    "plt.rcParams['figure.figsize'] = [8,8]"
   ]
  },
  {
   "cell_type": "markdown",
   "id": "25b2b6ae-3488-4785-82a5-f0f5a42664c4",
   "metadata": {},
   "source": [
    "### Set random seed for reproducability\n",
    "Note that this should not be done for models used in real-world applications"
   ]
  },
  {
   "cell_type": "code",
   "execution_count": 2,
   "id": "601adc55-2a7d-4c94-9568-2107398cc077",
   "metadata": {
    "tags": []
   },
   "outputs": [],
   "source": [
    "np.random.seed(9)"
   ]
  },
  {
   "cell_type": "markdown",
   "id": "8e839a9f-fce4-4fc4-b2c4-4578100f5df2",
   "metadata": {
    "tags": []
   },
   "source": [
    "## Load the data into a pandas df's"
   ]
  },
  {
   "cell_type": "markdown",
   "id": "40f8baa8-b9a7-4206-97f9-f30bc18368ff",
   "metadata": {
    "jp-MarkdownHeadingCollapsed": true,
    "tags": []
   },
   "source": [
    "### Column Descriptions\n",
    "Large section. Suggested to keep collapsed."
   ]
  },
  {
   "cell_type": "markdown",
   "id": "2775e2df-61ac-4e9f-a1bc-d10572675f4c",
   "metadata": {},
   "source": [
    "CARACTERISTICS :\n",
    "\n",
    "**Num_Acc** : Accident ID\n",
    "\n",
    "jour : Day of the accident\n",
    "\n",
    "mois : Month of the accident\n",
    "\n",
    "an : Year of the accident\n",
    "\n",
    "hrmn : Time of the accident in hour and minutes (hhmm)\n",
    "\n",
    "**lum** : Lighting : lighting conditions in which the accident occurred\n",
    "\n",
    "    1 - Full day\n",
    "\n",
    "    2 - Twilight or dawn\n",
    "\n",
    "    3 - Night without public lighting\n",
    "\n",
    "    4 - Night with public lighting not lit\n",
    "\n",
    "    5 - Night with public lighting on\n",
    "\n",
    "dep : Departmeent : INSEE Code (National Institute of Statistics and Economic Studies) of the departmeent followed\n",
    "by a 0 (201 Corse-du-Sud - 202 Haute-Corse)\n",
    "\n",
    "com : Municipality: The commune number is a code given by INSEE. The code has 3 numbers set to the right.\n",
    "\n",
    "**Localisation (agg)** :\n",
    "\n",
    "    1 - Out of agglomeration\n",
    "\n",
    "    2 - In built-up areas\n",
    "\n",
    "**int** : Type of Intersection :\n",
    "\n",
    "    1 - Out of intersection\n",
    "\n",
    "    2 - Intersection in X\n",
    "\n",
    "    3 - Intersection in T\n",
    "\n",
    "    4 - Intersection in Y\n",
    "\n",
    "    5 - Intersection with more than 4 branches\n",
    "\n",
    "    6 - Giratory\n",
    "\n",
    "    7 - Place\n",
    "\n",
    "    8 - Level crossing\n",
    "\n",
    "    9 - Other intersection\n",
    "\n",
    "**atm** : Atmospheric conditions:\n",
    "\n",
    "    1 - Normal\n",
    "\n",
    "    2 - Light rain\n",
    "\n",
    "    3 - Heavy rain\n",
    "\n",
    "    4 - Snow - hail\n",
    "\n",
    "    5 - Fog - smoke\n",
    "\n",
    "    6 - Strong wind - storm\n",
    "\n",
    "    7 - Dazzling weather\n",
    "\n",
    "    8 - Cloudy weather\n",
    "\n",
    "    9 - Other\n",
    "\n",
    "**col** : Type of collision:\n",
    "\n",
    "    1 - Two vehicles - frontal\n",
    "\n",
    "    2 - Two vehicles - from the rear\n",
    "\n",
    "    3 - Two vehicles - by the side\n",
    "\n",
    "    4 - Three vehicles and more - in chain\n",
    "\n",
    "    5 - Three or more vehicles - multiple collisions\n",
    "\n",
    "    6 - Other collision\n",
    "\n",
    "    7 - Without collision\n",
    "\n",
    "adr : Postal address: variable filled in for accidents occurring in built-up areas\n",
    "\n",
    "gps : GPS coding: 1 originator character:\n",
    "\n",
    "    M = Métropole\n",
    "\n",
    "    A = Antilles (Martinique or Guadeloupe)\n",
    "\n",
    "    G = Guyane\n",
    "\n",
    "    R = Réunion\n",
    "\n",
    "    Y = Mayotte\n",
    "\n",
    "Geographic coordinates in decimal degrees:\n",
    "\n",
    "    lat : Latitude\n",
    "\n",
    "    long : Longitude\n",
    "\n",
    "Places:\n",
    "\n",
    "Num_Acc : Accident ID\n",
    "\n",
    "**catr** : Category of road:\n",
    "\n",
    "    1 - Highway\n",
    "\n",
    "    2 - National Road\n",
    "\n",
    "    3 - Departmental Road\n",
    "\n",
    "    4 - Communal Way\n",
    "\n",
    "    5 - Off public network\n",
    "\n",
    "    6 - Parking lot open to public traffic\n",
    "\n",
    "    9 - other\n",
    "\n",
    "voie : Road Number\n",
    "\n",
    "V1: Numeric index of the route number (example: 2 bis, 3 ter etc.)\n",
    "\n",
    "V2: Letter alphanumeric index of the road\n",
    "\n",
    "**circ**: Traffic regime:\n",
    "\n",
    "    1 - One way\n",
    "\n",
    "    2 - Bidirectional\n",
    "\n",
    "    3 - Separated carriageways\n",
    "\n",
    "    4 - With variable assignment channels\n",
    "\n",
    "**nbv**: Total number of traffic lanes\n",
    "\n",
    "**vosp**: Indicates the existence of a reserved lane, regardless of whether or not the accident occurs on that lane.\n",
    "\n",
    "    1 - Bike path\n",
    "\n",
    "    2 - Cycle Bank\n",
    "\n",
    "    3 - Reserved channel\n",
    "\n",
    "**Prof**: Longitudinal profile describes the gradient of the road at the accident site\n",
    "\n",
    "    1 - Dish\n",
    "\n",
    "    2 - Slope\n",
    "\n",
    "    3 - Hilltop\n",
    "\n",
    "    4- Hill bottom\n",
    "\n",
    "pr: Home PR number (upstream terminal number)\n",
    "\n",
    "pr1: Distance in meters to the PR (relative to the upstream terminal)\n",
    "\n",
    "**plan**: Drawing in plan:\n",
    "\n",
    "    1 - Straight part\n",
    "\n",
    "    2 - Curved on the left\n",
    "\n",
    "    3 - Curved right\n",
    "\n",
    "    4 - In \"S\"\n",
    "\n",
    "**lartpc**: Central solid land width (TPC) if there is\n",
    "\n",
    "**larrout**: Width of the roadway assigned to vehicle traffic are not included the emergency stop strips,\n",
    "CPRs and parking spaces\n",
    "\n",
    "**surf**: surface condition\n",
    "\n",
    "    1 - normal\n",
    "\n",
    "    2 - wet\n",
    "\n",
    "    3 - puddles\n",
    "\n",
    "    4 - flooded\n",
    "\n",
    "    5 - snow\n",
    "\n",
    "    6 - mud\n",
    "\n",
    "    7 - icy\n",
    "\n",
    "    8 - fat - oil\n",
    "\n",
    "    9 - other\n",
    "\n",
    "**infra**: Development - Infrastructure:\n",
    "\n",
    "    1 - Underground - tunnel\n",
    "\n",
    "    2 - Bridge - autopont\n",
    "\n",
    "    3 - Exchanger or connection brace\n",
    "\n",
    "    4 - Railway\n",
    "\n",
    "    5 - Carrefour arranged\n",
    "\n",
    "    6 - Pedestrian area\n",
    "\n",
    "    7 - Toll zone\n",
    "\n",
    "**situ**: Situation of the accident:\n",
    "\n",
    "    1 - On the road\n",
    "\n",
    "    2 - On emergency stop band\n",
    "\n",
    "    3 - On the verge\n",
    "\n",
    "    4 - On the sidewalk\n",
    "\n",
    "    5 - On bike path\n",
    "\n",
    "env1: school point: near a school\n",
    "\n",
    "USERS:\n",
    "\n",
    "Acc_number: Accident identifier.\n",
    "\n",
    "Num_Veh: Identification of the vehicle taken back for each user occupying this vehicle (including pedestrians who are\n",
    "attached to the vehicles that hit them)\n",
    "\n",
    "place: Allows to locate the place occupied in the vehicle by the user at the time of the accident\n",
    "\n",
    "catu: User category:\n",
    "\n",
    "    1 - Driver\n",
    "\n",
    "    2 - Passenger\n",
    "\n",
    "    3 - Pedestrian\n",
    "\n",
    "    4 - Pedestrian in rollerblade or scooter\n",
    "\n",
    "grav: Severity of the accident: The injured users are classified into three categories of victims plus the uninjured\n",
    "\n",
    "    1 - Unscathed\n",
    "\n",
    "    2 - Killed\n",
    "\n",
    "    3 - Hospitalized wounded\n",
    "\n",
    "    4 - Light injury\n",
    "\n",
    "sex: Sex of the user\n",
    "\n",
    "    1 - Male\n",
    "\n",
    "    2 - Female\n",
    "\n",
    "Year_on: Year of birth of the user\n",
    "\n",
    "trip: Reason for traveling at the time of the accident:\n",
    "\n",
    "    1 - Home - work\n",
    "\n",
    "    2 - Home - school\n",
    "\n",
    "    3 - Shopping - Shopping\n",
    "\n",
    "    4 - Professional use\n",
    "\n",
    "    5 - Promenade - leisure\n",
    "\n",
    "    9 - Other\n",
    "\n",
    "secu: on 2 characters:\n",
    "the first concerns the existence of a safety equipment\n",
    "\n",
    "    1 - Belt\n",
    "\n",
    "    2 - Helmet\n",
    "\n",
    "    3 - Children's device\n",
    "\n",
    "    4 - Reflective equipment\n",
    "\n",
    "    9 - Other\n",
    "\n",
    "the second is the use of Safety Equipment\n",
    "\n",
    "    1 - Yes\n",
    "\n",
    "    2 - No\n",
    "\n",
    "    3 - Not determinable\n",
    "\n",
    "locp: Location of the pedestrian:\n",
    "\n",
    "On pavement:\n",
    "\n",
    "    1 - A + 50 m from the pedestrian crossing\n",
    "\n",
    "    2 - A - 50 m from the pedestrian crossing\n",
    "\n",
    "On pedestrian crossing:\n",
    "\n",
    "    3 - Without light signaling\n",
    "\n",
    "    4 - With light signaling\n",
    "\n",
    "Various:\n",
    "\n",
    "    5 - On the sidewalk\n",
    "\n",
    "    6 - On the verge\n",
    "\n",
    "    7 - On refuge or BAU\n",
    "\n",
    "    8 - On against aisle\n",
    "\n",
    "actp: Action of the pedestrian:\n",
    "\n",
    "Moving\n",
    "\n",
    "    0 - not specified or not applicable\n",
    "\n",
    "    1 - Meaning bumping vehicle\n",
    "\n",
    "    2 - Opposite direction of the vehicle\n",
    "    Various\n",
    "\n",
    "    3 - Crossing\n",
    "\n",
    "    4 - Masked\n",
    "\n",
    "    5 - Playing - running\n",
    "\n",
    "    6 - With animal\n",
    "\n",
    "    9 - Other\n",
    "\n",
    "etatp: This variable is used to specify whether the injured pedestrian was alone or not\n",
    "\n",
    "    1 - Only\n",
    "\n",
    "    2 - Accompanied\n",
    "\n",
    "    3 - In a group\n",
    "\n",
    "VEHICLES:\n",
    "\n",
    "Num_Acc\n",
    "Accident ID\n",
    "\n",
    "Num_Veh\n",
    "Identification of the vehicle taken back for each user occupying this vehicle (including pedestrians who are\n",
    "attached to vehicles that hit them) - alphanumeric code\n",
    "\n",
    "GP\n",
    "Flow direction :\n",
    "\n",
    "    1 - PK or PR or increasing postal address number\n",
    "\n",
    "    2 - PK or PR or descending postal address number\n",
    "\n",
    "CATV\n",
    "Category of vehicle:\n",
    "\n",
    "    01 - Bicycle\n",
    "\n",
    "    02 - Moped <50cm3\n",
    "\n",
    "    03 - Cart (Quadricycle with bodied motor) (formerly \"cart or motor tricycle\")\n",
    "\n",
    "    04 - Not used since 2006 (registered scooter)\n",
    "\n",
    "    05 - Not used since 2006 (motorcycle)\n",
    "\n",
    "    06 - Not used since 2006 (side-car)\n",
    "\n",
    "    07 - VL only\n",
    "\n",
    "    08 - Not used category (VL + caravan)\n",
    "\n",
    "    09 - Not used category (VL + trailer)\n",
    "\n",
    "    10 - VU only 1,5T <= GVW <= 3,5T with or without trailer (formerly VU only 1,5T <= GVW <= 3,5T)\n",
    "\n",
    "    11 - Most used since 2006 (VU (10) + caravan)\n",
    "\n",
    "    12 - Most used since 2006 (VU (10) + trailer)\n",
    "\n",
    "    13 - PL only 3,5T\n"
   ]
  },
  {
   "cell_type": "markdown",
   "id": "716d5daf-9d02-4dc1-a20b-81409ac45541",
   "metadata": {},
   "source": [
    "### Characteristics Data"
   ]
  },
  {
   "cell_type": "code",
   "execution_count": 3,
   "id": "6c9d13ff-8c94-4f63-9a73-9ed27a03a03a",
   "metadata": {
    "tags": []
   },
   "outputs": [
    {
     "name": "stdout",
     "output_type": "stream",
     "text": [
      "<_io.TextIOWrapper name='Datasets_cap3\\\\characteristics.csv' mode='r' encoding='cp1252'>\n"
     ]
    }
   ],
   "source": [
    "#AP: To get encoding of the csv since it's not the default (because French source of data)\n",
    "with open(r'Datasets_cap3\\characteristics.csv') as f:\n",
    "    print(f)"
   ]
  },
  {
   "cell_type": "code",
   "execution_count": 4,
   "id": "b570e9e6-55db-4f2f-8b60-900caf6a5f77",
   "metadata": {
    "tags": []
   },
   "outputs": [],
   "source": [
    "df_char = pd.read_csv(r'Datasets_cap3\\characteristics.csv', skip_blank_lines=True, encoding='cp1252', encoding_errors='ignore', low_memory=False)"
   ]
  },
  {
   "cell_type": "code",
   "execution_count": 5,
   "id": "ce467481-985e-4ffe-b026-4a7f1666ef84",
   "metadata": {},
   "outputs": [
    {
     "name": "stdout",
     "output_type": "stream",
     "text": [
      "839985\n"
     ]
    }
   ],
   "source": [
    "#AP: Should have 839,985 rows, based on looking at csv\n",
    "print(len(df_char))"
   ]
  },
  {
   "cell_type": "markdown",
   "id": "c1d6783a-b883-4f5e-99ec-5426764f98cf",
   "metadata": {
    "tags": []
   },
   "source": [
    "### holidays Data"
   ]
  },
  {
   "cell_type": "code",
   "execution_count": 6,
   "id": "dd585fb3-6004-4b54-a659-f3c5d65eb66f",
   "metadata": {},
   "outputs": [
    {
     "name": "stdout",
     "output_type": "stream",
     "text": [
      "<_io.TextIOWrapper name='Datasets_cap3\\\\holidays.csv' mode='r' encoding='cp1252'>\n"
     ]
    }
   ],
   "source": [
    "#AP: To get encoding of the csv since it's not the default (because French source of data)\n",
    "with open(r'Datasets_cap3\\holidays.csv') as f:\n",
    "    print(f)"
   ]
  },
  {
   "cell_type": "code",
   "execution_count": 7,
   "id": "7cf05bd4-7e48-4576-909c-5d5c5f75d5a3",
   "metadata": {
    "tags": []
   },
   "outputs": [],
   "source": [
    "df_holiday = pd.read_csv(r'Datasets_cap3\\holidays.csv', skip_blank_lines=True, encoding='cp1252', encoding_errors='ignore', low_memory=False)"
   ]
  },
  {
   "cell_type": "code",
   "execution_count": 8,
   "id": "6b6c68aa-d414-464b-85f9-3ce805e6d43b",
   "metadata": {
    "tags": []
   },
   "outputs": [
    {
     "name": "stdout",
     "output_type": "stream",
     "text": [
      "132\n"
     ]
    }
   ],
   "source": [
    "#AP: Should have 132 rows, based on looking at csv\n",
    "print(len(df_holiday))"
   ]
  },
  {
   "cell_type": "markdown",
   "id": "582e31b9-9bbb-42c3-b14f-2cbef79ff0de",
   "metadata": {},
   "source": [
    "### places Data"
   ]
  },
  {
   "cell_type": "code",
   "execution_count": 9,
   "id": "deb104b8-fba4-4839-a6e8-d7fff9a180ed",
   "metadata": {},
   "outputs": [
    {
     "name": "stdout",
     "output_type": "stream",
     "text": [
      "<_io.TextIOWrapper name='Datasets_cap3\\\\places.csv' mode='r' encoding='cp1252'>\n"
     ]
    }
   ],
   "source": [
    "#AP: To get encoding of the csv since it's not the default (because French source of data)\n",
    "with open(r'Datasets_cap3\\places.csv') as f:\n",
    "    print(f)"
   ]
  },
  {
   "cell_type": "code",
   "execution_count": 10,
   "id": "aea9f957-fbc8-47d3-94b1-421ce5a7ae94",
   "metadata": {
    "tags": []
   },
   "outputs": [],
   "source": [
    "df_places = pd.read_csv(r'Datasets_cap3\\places.csv', skip_blank_lines=True, encoding='cp1252', encoding_errors='ignore', low_memory=False)"
   ]
  },
  {
   "cell_type": "code",
   "execution_count": 11,
   "id": "18015ba8-8a5e-4994-b8e9-a8d6845c2813",
   "metadata": {
    "tags": []
   },
   "outputs": [
    {
     "name": "stdout",
     "output_type": "stream",
     "text": [
      "839985\n"
     ]
    }
   ],
   "source": [
    "#AP: Should have 839,985 rows, based on looking at csv\n",
    "print(len(df_places))"
   ]
  },
  {
   "cell_type": "markdown",
   "id": "4c526bc3-9e03-4ce1-977c-1ed616b694ba",
   "metadata": {},
   "source": [
    "### users Data\n",
    "\n",
    "Had to rename file to 'crash_users.csv' from 'users.csv'because of unicode escape character error"
   ]
  },
  {
   "cell_type": "code",
   "execution_count": 12,
   "id": "75e57163-7f8c-4677-9e66-7c762fbdcfa5",
   "metadata": {},
   "outputs": [
    {
     "name": "stdout",
     "output_type": "stream",
     "text": [
      "<_io.TextIOWrapper name='Datasets_cap3\\\\crash_users.csv' mode='r' encoding='cp1252'>\n"
     ]
    }
   ],
   "source": [
    "#AP: To get encoding of the csv since it's not the default (because French source of data)\n",
    "with open(r'Datasets_cap3\\crash_users.csv') as f:\n",
    "    print(f)"
   ]
  },
  {
   "cell_type": "code",
   "execution_count": 13,
   "id": "175ef1fd-8575-4ce7-ae4a-476d502a875b",
   "metadata": {
    "tags": []
   },
   "outputs": [],
   "source": [
    "df_users = pd.read_csv(r'Datasets_cap3\\crash_users.csv', skip_blank_lines=True, encoding='cp1252', encoding_errors='ignore', low_memory=False)"
   ]
  },
  {
   "cell_type": "code",
   "execution_count": 14,
   "id": "3b0756d8-b491-436d-b375-71291c7198c0",
   "metadata": {
    "tags": []
   },
   "outputs": [
    {
     "name": "stdout",
     "output_type": "stream",
     "text": [
      "1876005\n"
     ]
    }
   ],
   "source": [
    "#AP: Should have about 1.88 million rows, based on kaggle stats\n",
    "print(len(df_users))"
   ]
  },
  {
   "cell_type": "markdown",
   "id": "fed524b9-0690-4c39-8acb-d2df27416cd1",
   "metadata": {},
   "source": [
    "### vehicles Data\n",
    "\n",
    "Had to rename file to 'crash_vehicles.csv' from 'ehicles.csv'because of unicode character error"
   ]
  },
  {
   "cell_type": "markdown",
   "id": "f16d826f-055a-426a-8c42-7405109d15f6",
   "metadata": {},
   "source": [
    "AP: **Not using this dataset**. Research into each of the features suggests to me that they would not be beneficial in characterizing crash locations for purposes of predicting where they might occur.\n",
    "\n",
    "If investigation into this data is needed, convert the cells back to code cells (currently as Raw so the code doesn't execute)"
   ]
  },
  {
   "cell_type": "raw",
   "id": "2381c3e0-35fd-4158-a982-cd35c9602f92",
   "metadata": {},
   "source": [
    "# AP: To get encoding of the csv since it's not the default (because French source of data)\n",
    "with open(r'Datasets_cap3\\crash_vehicles.csv') as f:\n",
    "    print(f)"
   ]
  },
  {
   "cell_type": "raw",
   "id": "3baa6a63-dd3d-4864-aa0b-2f2cef2ed721",
   "metadata": {
    "tags": []
   },
   "source": [
    "df_vehicles = pd.read_csv(r'Datasets_cap3\\crash_vehicles.csv', skip_blank_lines=True, encoding='cp1252', encoding_errors='ignore', low_memory=False)"
   ]
  },
  {
   "cell_type": "raw",
   "id": "51a51f4d-8f78-410e-b03c-a4bf709b9774",
   "metadata": {
    "tags": []
   },
   "source": [
    "#AP: Should have about 1.43 million rows, based on kaggle stats\n",
    "print(len(df_vehicles))"
   ]
  },
  {
   "cell_type": "markdown",
   "id": "10b85ee7-1ded-4759-8b23-3d093dfdd4bb",
   "metadata": {},
   "source": [
    "# Data Wrangling"
   ]
  },
  {
   "cell_type": "markdown",
   "id": "0e1e8810-2679-46ff-9f20-153e91e46120",
   "metadata": {},
   "source": [
    "**Data Wrangling Steps:** (Unordered list)\n",
    "\n",
    "- Naming conventions (cols & values)\n",
    "- Outliers\n",
    "- nulls\n",
    "    - Check for null replacements (i.e. \"99\", \"0\", etc.)\n",
    "- duplicates\n",
    "- Value consistency\n",
    "- "
   ]
  },
  {
   "cell_type": "markdown",
   "id": "17c68351-c73b-4d25-bb4b-e2719c6d40cb",
   "metadata": {},
   "source": [
    "DF var names:\n",
    "- df_char\n",
    "    - (characteristics)\n",
    "- df_holiday\n",
    "    - (holidays)\n",
    "- df_places\n",
    "    - (places)\n",
    "- df_users\n",
    "    - (users)\n",
    "- df_vehicles\n",
    "    - (vehicles)"
   ]
  },
  {
   "cell_type": "markdown",
   "id": "84e45748-1d91-4f8b-8bac-b1dee68d495a",
   "metadata": {
    "tags": []
   },
   "source": [
    "## Initial Exploration"
   ]
  },
  {
   "cell_type": "code",
   "execution_count": 15,
   "id": "47f2bb52-b00a-4bef-b89b-5d609efd9a2a",
   "metadata": {},
   "outputs": [
    {
     "data": {
      "text/html": [
       "<div>\n",
       "<style scoped>\n",
       "    .dataframe tbody tr th:only-of-type {\n",
       "        vertical-align: middle;\n",
       "    }\n",
       "\n",
       "    .dataframe tbody tr th {\n",
       "        vertical-align: top;\n",
       "    }\n",
       "\n",
       "    .dataframe thead th {\n",
       "        text-align: right;\n",
       "    }\n",
       "</style>\n",
       "<table border=\"1\" class=\"dataframe\">\n",
       "  <thead>\n",
       "    <tr style=\"text-align: right;\">\n",
       "      <th></th>\n",
       "      <th>Num_Acc</th>\n",
       "      <th>an</th>\n",
       "      <th>mois</th>\n",
       "      <th>jour</th>\n",
       "      <th>hrmn</th>\n",
       "      <th>lum</th>\n",
       "      <th>agg</th>\n",
       "      <th>int</th>\n",
       "      <th>atm</th>\n",
       "      <th>col</th>\n",
       "      <th>com</th>\n",
       "      <th>adr</th>\n",
       "      <th>gps</th>\n",
       "      <th>lat</th>\n",
       "      <th>long</th>\n",
       "      <th>dep</th>\n",
       "    </tr>\n",
       "  </thead>\n",
       "  <tbody>\n",
       "    <tr>\n",
       "      <th>0</th>\n",
       "      <td>201600000001</td>\n",
       "      <td>16</td>\n",
       "      <td>2</td>\n",
       "      <td>1</td>\n",
       "      <td>1445</td>\n",
       "      <td>1</td>\n",
       "      <td>2</td>\n",
       "      <td>1</td>\n",
       "      <td>8.0</td>\n",
       "      <td>3.0</td>\n",
       "      <td>5.0</td>\n",
       "      <td>46, rue Sonneville</td>\n",
       "      <td>M</td>\n",
       "      <td>0.0</td>\n",
       "      <td>0</td>\n",
       "      <td>590</td>\n",
       "    </tr>\n",
       "    <tr>\n",
       "      <th>1</th>\n",
       "      <td>201600000002</td>\n",
       "      <td>16</td>\n",
       "      <td>3</td>\n",
       "      <td>16</td>\n",
       "      <td>1800</td>\n",
       "      <td>1</td>\n",
       "      <td>2</td>\n",
       "      <td>6</td>\n",
       "      <td>1.0</td>\n",
       "      <td>6.0</td>\n",
       "      <td>5.0</td>\n",
       "      <td>1a rue du cimetière</td>\n",
       "      <td>M</td>\n",
       "      <td>0.0</td>\n",
       "      <td>0</td>\n",
       "      <td>590</td>\n",
       "    </tr>\n",
       "    <tr>\n",
       "      <th>2</th>\n",
       "      <td>201600000003</td>\n",
       "      <td>16</td>\n",
       "      <td>7</td>\n",
       "      <td>13</td>\n",
       "      <td>1900</td>\n",
       "      <td>1</td>\n",
       "      <td>1</td>\n",
       "      <td>1</td>\n",
       "      <td>1.0</td>\n",
       "      <td>6.0</td>\n",
       "      <td>11.0</td>\n",
       "      <td>NaN</td>\n",
       "      <td>M</td>\n",
       "      <td>0.0</td>\n",
       "      <td>0</td>\n",
       "      <td>590</td>\n",
       "    </tr>\n",
       "    <tr>\n",
       "      <th>3</th>\n",
       "      <td>201600000004</td>\n",
       "      <td>16</td>\n",
       "      <td>8</td>\n",
       "      <td>15</td>\n",
       "      <td>1930</td>\n",
       "      <td>2</td>\n",
       "      <td>2</td>\n",
       "      <td>1</td>\n",
       "      <td>7.0</td>\n",
       "      <td>3.0</td>\n",
       "      <td>477.0</td>\n",
       "      <td>52 rue victor hugo</td>\n",
       "      <td>M</td>\n",
       "      <td>0.0</td>\n",
       "      <td>0</td>\n",
       "      <td>590</td>\n",
       "    </tr>\n",
       "    <tr>\n",
       "      <th>4</th>\n",
       "      <td>201600000005</td>\n",
       "      <td>16</td>\n",
       "      <td>12</td>\n",
       "      <td>23</td>\n",
       "      <td>1100</td>\n",
       "      <td>1</td>\n",
       "      <td>2</td>\n",
       "      <td>3</td>\n",
       "      <td>1.0</td>\n",
       "      <td>3.0</td>\n",
       "      <td>11.0</td>\n",
       "      <td>rue Joliot curie</td>\n",
       "      <td>M</td>\n",
       "      <td>0.0</td>\n",
       "      <td>0</td>\n",
       "      <td>590</td>\n",
       "    </tr>\n",
       "  </tbody>\n",
       "</table>\n",
       "</div>"
      ],
      "text/plain": [
       "        Num_Acc  an  mois  jour  hrmn  lum  agg  int  atm  col    com  \\\n",
       "0  201600000001  16     2     1  1445    1    2    1  8.0  3.0    5.0   \n",
       "1  201600000002  16     3    16  1800    1    2    6  1.0  6.0    5.0   \n",
       "2  201600000003  16     7    13  1900    1    1    1  1.0  6.0   11.0   \n",
       "3  201600000004  16     8    15  1930    2    2    1  7.0  3.0  477.0   \n",
       "4  201600000005  16    12    23  1100    1    2    3  1.0  3.0   11.0   \n",
       "\n",
       "                   adr gps  lat long  dep  \n",
       "0   46, rue Sonneville   M  0.0    0  590  \n",
       "1  1a rue du cimetière   M  0.0    0  590  \n",
       "2                  NaN   M  0.0    0  590  \n",
       "3   52 rue victor hugo   M  0.0    0  590  \n",
       "4     rue Joliot curie   M  0.0    0  590  "
      ]
     },
     "execution_count": 15,
     "metadata": {},
     "output_type": "execute_result"
    }
   ],
   "source": [
    "df_char.head()"
   ]
  },
  {
   "cell_type": "code",
   "execution_count": 16,
   "id": "04b4f188-1cd1-48cf-8087-7d194dcd30ab",
   "metadata": {
    "tags": []
   },
   "outputs": [
    {
     "name": "stdout",
     "output_type": "stream",
     "text": [
      "<class 'pandas.core.frame.DataFrame'>\n",
      "RangeIndex: 839985 entries, 0 to 839984\n",
      "Data columns (total 16 columns):\n",
      " #   Column   Non-Null Count   Dtype  \n",
      "---  ------   --------------   -----  \n",
      " 0   Num_Acc  839985 non-null  int64  \n",
      " 1   an       839985 non-null  int64  \n",
      " 2   mois     839985 non-null  int64  \n",
      " 3   jour     839985 non-null  int64  \n",
      " 4   hrmn     839985 non-null  int64  \n",
      " 5   lum      839985 non-null  int64  \n",
      " 6   agg      839985 non-null  int64  \n",
      " 7   int      839985 non-null  int64  \n",
      " 8   atm      839930 non-null  float64\n",
      " 9   col      839974 non-null  float64\n",
      " 10  com      839983 non-null  float64\n",
      " 11  adr      699443 non-null  object \n",
      " 12  gps      366226 non-null  object \n",
      " 13  lat      362471 non-null  float64\n",
      " 14  long     362467 non-null  object \n",
      " 15  dep      839985 non-null  int64  \n",
      "dtypes: float64(4), int64(9), object(3)\n",
      "memory usage: 102.5+ MB\n"
     ]
    }
   ],
   "source": [
    "df_char.info()"
   ]
  },
  {
   "cell_type": "code",
   "execution_count": 17,
   "id": "1971e335-8e61-43c1-85f2-be9852d2d8da",
   "metadata": {},
   "outputs": [
    {
     "data": {
      "text/html": [
       "<div>\n",
       "<style scoped>\n",
       "    .dataframe tbody tr th:only-of-type {\n",
       "        vertical-align: middle;\n",
       "    }\n",
       "\n",
       "    .dataframe tbody tr th {\n",
       "        vertical-align: top;\n",
       "    }\n",
       "\n",
       "    .dataframe thead th {\n",
       "        text-align: right;\n",
       "    }\n",
       "</style>\n",
       "<table border=\"1\" class=\"dataframe\">\n",
       "  <thead>\n",
       "    <tr style=\"text-align: right;\">\n",
       "      <th></th>\n",
       "      <th>ds</th>\n",
       "      <th>holiday</th>\n",
       "    </tr>\n",
       "  </thead>\n",
       "  <tbody>\n",
       "    <tr>\n",
       "      <th>0</th>\n",
       "      <td>2005-01-01</td>\n",
       "      <td>New year</td>\n",
       "    </tr>\n",
       "    <tr>\n",
       "      <th>1</th>\n",
       "      <td>2005-03-28</td>\n",
       "      <td>Easter Monday</td>\n",
       "    </tr>\n",
       "    <tr>\n",
       "      <th>2</th>\n",
       "      <td>2005-05-01</td>\n",
       "      <td>Labour Day</td>\n",
       "    </tr>\n",
       "    <tr>\n",
       "      <th>3</th>\n",
       "      <td>2005-05-05</td>\n",
       "      <td>Ascension Thursday</td>\n",
       "    </tr>\n",
       "    <tr>\n",
       "      <th>4</th>\n",
       "      <td>2005-05-08</td>\n",
       "      <td>Victory in Europe Day</td>\n",
       "    </tr>\n",
       "  </tbody>\n",
       "</table>\n",
       "</div>"
      ],
      "text/plain": [
       "           ds                holiday\n",
       "0  2005-01-01               New year\n",
       "1  2005-03-28          Easter Monday\n",
       "2  2005-05-01             Labour Day\n",
       "3  2005-05-05     Ascension Thursday\n",
       "4  2005-05-08  Victory in Europe Day"
      ]
     },
     "execution_count": 17,
     "metadata": {},
     "output_type": "execute_result"
    }
   ],
   "source": [
    "df_holiday.head()"
   ]
  },
  {
   "cell_type": "code",
   "execution_count": 18,
   "id": "4d447491-7b29-4d38-b8a5-cec3c598b09c",
   "metadata": {},
   "outputs": [
    {
     "name": "stdout",
     "output_type": "stream",
     "text": [
      "<class 'pandas.core.frame.DataFrame'>\n",
      "RangeIndex: 132 entries, 0 to 131\n",
      "Data columns (total 2 columns):\n",
      " #   Column   Non-Null Count  Dtype \n",
      "---  ------   --------------  ----- \n",
      " 0   ds       132 non-null    object\n",
      " 1   holiday  132 non-null    object\n",
      "dtypes: object(2)\n",
      "memory usage: 2.2+ KB\n"
     ]
    }
   ],
   "source": [
    "df_holiday.info()"
   ]
  },
  {
   "cell_type": "code",
   "execution_count": 19,
   "id": "882af140-b219-4174-9a38-bf835ebacf91",
   "metadata": {},
   "outputs": [
    {
     "data": {
      "text/html": [
       "<div>\n",
       "<style scoped>\n",
       "    .dataframe tbody tr th:only-of-type {\n",
       "        vertical-align: middle;\n",
       "    }\n",
       "\n",
       "    .dataframe tbody tr th {\n",
       "        vertical-align: top;\n",
       "    }\n",
       "\n",
       "    .dataframe thead th {\n",
       "        text-align: right;\n",
       "    }\n",
       "</style>\n",
       "<table border=\"1\" class=\"dataframe\">\n",
       "  <thead>\n",
       "    <tr style=\"text-align: right;\">\n",
       "      <th></th>\n",
       "      <th>Num_Acc</th>\n",
       "      <th>catr</th>\n",
       "      <th>voie</th>\n",
       "      <th>v1</th>\n",
       "      <th>v2</th>\n",
       "      <th>circ</th>\n",
       "      <th>nbv</th>\n",
       "      <th>pr</th>\n",
       "      <th>pr1</th>\n",
       "      <th>vosp</th>\n",
       "      <th>prof</th>\n",
       "      <th>plan</th>\n",
       "      <th>lartpc</th>\n",
       "      <th>larrout</th>\n",
       "      <th>surf</th>\n",
       "      <th>infra</th>\n",
       "      <th>situ</th>\n",
       "      <th>env1</th>\n",
       "    </tr>\n",
       "  </thead>\n",
       "  <tbody>\n",
       "    <tr>\n",
       "      <th>0</th>\n",
       "      <td>201600000001</td>\n",
       "      <td>3.0</td>\n",
       "      <td>39</td>\n",
       "      <td>NaN</td>\n",
       "      <td>NaN</td>\n",
       "      <td>2.0</td>\n",
       "      <td>0.0</td>\n",
       "      <td>NaN</td>\n",
       "      <td>NaN</td>\n",
       "      <td>0.0</td>\n",
       "      <td>1.0</td>\n",
       "      <td>3.0</td>\n",
       "      <td>0.0</td>\n",
       "      <td>0.0</td>\n",
       "      <td>1.0</td>\n",
       "      <td>0.0</td>\n",
       "      <td>1.0</td>\n",
       "      <td>0.0</td>\n",
       "    </tr>\n",
       "    <tr>\n",
       "      <th>1</th>\n",
       "      <td>201600000002</td>\n",
       "      <td>3.0</td>\n",
       "      <td>39</td>\n",
       "      <td>NaN</td>\n",
       "      <td>NaN</td>\n",
       "      <td>1.0</td>\n",
       "      <td>0.0</td>\n",
       "      <td>NaN</td>\n",
       "      <td>NaN</td>\n",
       "      <td>0.0</td>\n",
       "      <td>1.0</td>\n",
       "      <td>2.0</td>\n",
       "      <td>0.0</td>\n",
       "      <td>58.0</td>\n",
       "      <td>1.0</td>\n",
       "      <td>0.0</td>\n",
       "      <td>1.0</td>\n",
       "      <td>0.0</td>\n",
       "    </tr>\n",
       "    <tr>\n",
       "      <th>2</th>\n",
       "      <td>201600000003</td>\n",
       "      <td>3.0</td>\n",
       "      <td>1</td>\n",
       "      <td>NaN</td>\n",
       "      <td>NaN</td>\n",
       "      <td>2.0</td>\n",
       "      <td>2.0</td>\n",
       "      <td>NaN</td>\n",
       "      <td>NaN</td>\n",
       "      <td>0.0</td>\n",
       "      <td>1.0</td>\n",
       "      <td>3.0</td>\n",
       "      <td>0.0</td>\n",
       "      <td>68.0</td>\n",
       "      <td>2.0</td>\n",
       "      <td>0.0</td>\n",
       "      <td>3.0</td>\n",
       "      <td>99.0</td>\n",
       "    </tr>\n",
       "    <tr>\n",
       "      <th>3</th>\n",
       "      <td>201600000004</td>\n",
       "      <td>4.0</td>\n",
       "      <td>0</td>\n",
       "      <td>NaN</td>\n",
       "      <td>NaN</td>\n",
       "      <td>2.0</td>\n",
       "      <td>0.0</td>\n",
       "      <td>NaN</td>\n",
       "      <td>NaN</td>\n",
       "      <td>0.0</td>\n",
       "      <td>1.0</td>\n",
       "      <td>1.0</td>\n",
       "      <td>0.0</td>\n",
       "      <td>0.0</td>\n",
       "      <td>1.0</td>\n",
       "      <td>0.0</td>\n",
       "      <td>1.0</td>\n",
       "      <td>99.0</td>\n",
       "    </tr>\n",
       "    <tr>\n",
       "      <th>4</th>\n",
       "      <td>201600000005</td>\n",
       "      <td>4.0</td>\n",
       "      <td>0</td>\n",
       "      <td>NaN</td>\n",
       "      <td>NaN</td>\n",
       "      <td>0.0</td>\n",
       "      <td>0.0</td>\n",
       "      <td>NaN</td>\n",
       "      <td>NaN</td>\n",
       "      <td>0.0</td>\n",
       "      <td>0.0</td>\n",
       "      <td>1.0</td>\n",
       "      <td>0.0</td>\n",
       "      <td>0.0</td>\n",
       "      <td>1.0</td>\n",
       "      <td>0.0</td>\n",
       "      <td>1.0</td>\n",
       "      <td>3.0</td>\n",
       "    </tr>\n",
       "  </tbody>\n",
       "</table>\n",
       "</div>"
      ],
      "text/plain": [
       "        Num_Acc  catr voie  v1   v2  circ  nbv  pr  pr1  vosp  prof  plan  \\\n",
       "0  201600000001   3.0   39 NaN  NaN   2.0  0.0 NaN  NaN   0.0   1.0   3.0   \n",
       "1  201600000002   3.0   39 NaN  NaN   1.0  0.0 NaN  NaN   0.0   1.0   2.0   \n",
       "2  201600000003   3.0    1 NaN  NaN   2.0  2.0 NaN  NaN   0.0   1.0   3.0   \n",
       "3  201600000004   4.0    0 NaN  NaN   2.0  0.0 NaN  NaN   0.0   1.0   1.0   \n",
       "4  201600000005   4.0    0 NaN  NaN   0.0  0.0 NaN  NaN   0.0   0.0   1.0   \n",
       "\n",
       "   lartpc  larrout  surf  infra  situ  env1  \n",
       "0     0.0      0.0   1.0    0.0   1.0   0.0  \n",
       "1     0.0     58.0   1.0    0.0   1.0   0.0  \n",
       "2     0.0     68.0   2.0    0.0   3.0  99.0  \n",
       "3     0.0      0.0   1.0    0.0   1.0  99.0  \n",
       "4     0.0      0.0   1.0    0.0   1.0   3.0  "
      ]
     },
     "execution_count": 19,
     "metadata": {},
     "output_type": "execute_result"
    }
   ],
   "source": [
    "df_places.head()"
   ]
  },
  {
   "cell_type": "code",
   "execution_count": 20,
   "id": "97e28605-d5b0-4a29-be32-0bb138b2f873",
   "metadata": {
    "tags": []
   },
   "outputs": [
    {
     "name": "stdout",
     "output_type": "stream",
     "text": [
      "<class 'pandas.core.frame.DataFrame'>\n",
      "RangeIndex: 839985 entries, 0 to 839984\n",
      "Data columns (total 18 columns):\n",
      " #   Column   Non-Null Count   Dtype  \n",
      "---  ------   --------------   -----  \n",
      " 0   Num_Acc  839985 non-null  int64  \n",
      " 1   catr     839984 non-null  float64\n",
      " 2   voie     780914 non-null  object \n",
      " 3   v1       332816 non-null  float64\n",
      " 4   v2       33953 non-null   object \n",
      " 5   circ     839187 non-null  float64\n",
      " 6   nbv      838195 non-null  float64\n",
      " 7   pr       414770 non-null  float64\n",
      " 8   pr1      413463 non-null  float64\n",
      " 9   vosp     838345 non-null  float64\n",
      " 10  prof     838924 non-null  float64\n",
      " 11  plan     838909 non-null  float64\n",
      " 12  lartpc   830440 non-null  float64\n",
      " 13  larrout  831706 non-null  float64\n",
      " 14  surf     838968 non-null  float64\n",
      " 15  infra    838707 non-null  float64\n",
      " 16  situ     838983 non-null  float64\n",
      " 17  env1     838709 non-null  float64\n",
      "dtypes: float64(15), int64(1), object(2)\n",
      "memory usage: 115.4+ MB\n"
     ]
    }
   ],
   "source": [
    "df_places.info()"
   ]
  },
  {
   "cell_type": "code",
   "execution_count": 21,
   "id": "7327a12a-db75-4f0c-8334-2b1559492d61",
   "metadata": {
    "tags": []
   },
   "outputs": [
    {
     "data": {
      "text/html": [
       "<div>\n",
       "<style scoped>\n",
       "    .dataframe tbody tr th:only-of-type {\n",
       "        vertical-align: middle;\n",
       "    }\n",
       "\n",
       "    .dataframe tbody tr th {\n",
       "        vertical-align: top;\n",
       "    }\n",
       "\n",
       "    .dataframe thead th {\n",
       "        text-align: right;\n",
       "    }\n",
       "</style>\n",
       "<table border=\"1\" class=\"dataframe\">\n",
       "  <thead>\n",
       "    <tr style=\"text-align: right;\">\n",
       "      <th></th>\n",
       "      <th>Num_Acc</th>\n",
       "      <th>place</th>\n",
       "      <th>catu</th>\n",
       "      <th>grav</th>\n",
       "      <th>sexe</th>\n",
       "      <th>trajet</th>\n",
       "      <th>secu</th>\n",
       "      <th>locp</th>\n",
       "      <th>actp</th>\n",
       "      <th>etatp</th>\n",
       "      <th>an_nais</th>\n",
       "      <th>num_veh</th>\n",
       "    </tr>\n",
       "  </thead>\n",
       "  <tbody>\n",
       "    <tr>\n",
       "      <th>0</th>\n",
       "      <td>201600000001</td>\n",
       "      <td>1.0</td>\n",
       "      <td>1</td>\n",
       "      <td>1</td>\n",
       "      <td>2</td>\n",
       "      <td>0.0</td>\n",
       "      <td>11.0</td>\n",
       "      <td>0.0</td>\n",
       "      <td>0.0</td>\n",
       "      <td>0.0</td>\n",
       "      <td>1983.0</td>\n",
       "      <td>B02</td>\n",
       "    </tr>\n",
       "    <tr>\n",
       "      <th>1</th>\n",
       "      <td>201600000001</td>\n",
       "      <td>1.0</td>\n",
       "      <td>1</td>\n",
       "      <td>3</td>\n",
       "      <td>1</td>\n",
       "      <td>9.0</td>\n",
       "      <td>21.0</td>\n",
       "      <td>0.0</td>\n",
       "      <td>0.0</td>\n",
       "      <td>0.0</td>\n",
       "      <td>2001.0</td>\n",
       "      <td>A01</td>\n",
       "    </tr>\n",
       "    <tr>\n",
       "      <th>2</th>\n",
       "      <td>201600000002</td>\n",
       "      <td>1.0</td>\n",
       "      <td>1</td>\n",
       "      <td>3</td>\n",
       "      <td>1</td>\n",
       "      <td>5.0</td>\n",
       "      <td>11.0</td>\n",
       "      <td>0.0</td>\n",
       "      <td>0.0</td>\n",
       "      <td>0.0</td>\n",
       "      <td>1960.0</td>\n",
       "      <td>A01</td>\n",
       "    </tr>\n",
       "    <tr>\n",
       "      <th>3</th>\n",
       "      <td>201600000002</td>\n",
       "      <td>2.0</td>\n",
       "      <td>2</td>\n",
       "      <td>3</td>\n",
       "      <td>1</td>\n",
       "      <td>0.0</td>\n",
       "      <td>11.0</td>\n",
       "      <td>0.0</td>\n",
       "      <td>0.0</td>\n",
       "      <td>0.0</td>\n",
       "      <td>2000.0</td>\n",
       "      <td>A01</td>\n",
       "    </tr>\n",
       "    <tr>\n",
       "      <th>4</th>\n",
       "      <td>201600000002</td>\n",
       "      <td>3.0</td>\n",
       "      <td>2</td>\n",
       "      <td>3</td>\n",
       "      <td>2</td>\n",
       "      <td>0.0</td>\n",
       "      <td>11.0</td>\n",
       "      <td>0.0</td>\n",
       "      <td>0.0</td>\n",
       "      <td>0.0</td>\n",
       "      <td>1962.0</td>\n",
       "      <td>A01</td>\n",
       "    </tr>\n",
       "  </tbody>\n",
       "</table>\n",
       "</div>"
      ],
      "text/plain": [
       "        Num_Acc  place  catu  grav  sexe  trajet  secu  locp  actp  etatp  \\\n",
       "0  201600000001    1.0     1     1     2     0.0  11.0   0.0   0.0    0.0   \n",
       "1  201600000001    1.0     1     3     1     9.0  21.0   0.0   0.0    0.0   \n",
       "2  201600000002    1.0     1     3     1     5.0  11.0   0.0   0.0    0.0   \n",
       "3  201600000002    2.0     2     3     1     0.0  11.0   0.0   0.0    0.0   \n",
       "4  201600000002    3.0     2     3     2     0.0  11.0   0.0   0.0    0.0   \n",
       "\n",
       "   an_nais num_veh  \n",
       "0   1983.0     B02  \n",
       "1   2001.0     A01  \n",
       "2   1960.0     A01  \n",
       "3   2000.0     A01  \n",
       "4   1962.0     A01  "
      ]
     },
     "execution_count": 21,
     "metadata": {},
     "output_type": "execute_result"
    }
   ],
   "source": [
    "df_users.head()"
   ]
  },
  {
   "cell_type": "code",
   "execution_count": 22,
   "id": "0bf20ef1-265e-42b0-9451-e6ea853fd440",
   "metadata": {
    "tags": []
   },
   "outputs": [
    {
     "name": "stdout",
     "output_type": "stream",
     "text": [
      "<class 'pandas.core.frame.DataFrame'>\n",
      "RangeIndex: 1876005 entries, 0 to 1876004\n",
      "Data columns (total 12 columns):\n",
      " #   Column   Dtype  \n",
      "---  ------   -----  \n",
      " 0   Num_Acc  int64  \n",
      " 1   place    float64\n",
      " 2   catu     int64  \n",
      " 3   grav     int64  \n",
      " 4   sexe     int64  \n",
      " 5   trajet   float64\n",
      " 6   secu     float64\n",
      " 7   locp     float64\n",
      " 8   actp     float64\n",
      " 9   etatp    float64\n",
      " 10  an_nais  float64\n",
      " 11  num_veh  object \n",
      "dtypes: float64(7), int64(4), object(1)\n",
      "memory usage: 171.8+ MB\n"
     ]
    }
   ],
   "source": [
    "df_users.info()"
   ]
  },
  {
   "cell_type": "raw",
   "id": "17aed0c1-bf9c-402f-9939-cd19fc480f2e",
   "metadata": {
    "tags": []
   },
   "source": [
    "df_vehicles.head()"
   ]
  },
  {
   "cell_type": "raw",
   "id": "2f3e32be-780c-43f0-9c40-2ccaf5595fac",
   "metadata": {
    "tags": []
   },
   "source": [
    "df_vehicles.info()"
   ]
  },
  {
   "cell_type": "markdown",
   "id": "18ec6697-34c1-4284-82ed-a55942b0dafb",
   "metadata": {
    "tags": []
   },
   "source": [
    "## Naming conventions\n",
    "cols & values\n",
    "\n",
    "For clarity & some translation from French\n",
    "\n",
    "Making new col names with orginal appended at end (for my own ease when referring to dataset documentation)"
   ]
  },
  {
   "cell_type": "markdown",
   "id": "72a0e9f2-588a-4bcc-8222-870fe31a2d8e",
   "metadata": {},
   "source": [
    "### df_char"
   ]
  },
  {
   "cell_type": "code",
   "execution_count": 23,
   "id": "88b45be2-78d7-4d3a-8a9f-ec7ca878b081",
   "metadata": {
    "tags": []
   },
   "outputs": [
    {
     "data": {
      "text/html": [
       "<div>\n",
       "<style scoped>\n",
       "    .dataframe tbody tr th:only-of-type {\n",
       "        vertical-align: middle;\n",
       "    }\n",
       "\n",
       "    .dataframe tbody tr th {\n",
       "        vertical-align: top;\n",
       "    }\n",
       "\n",
       "    .dataframe thead th {\n",
       "        text-align: right;\n",
       "    }\n",
       "</style>\n",
       "<table border=\"1\" class=\"dataframe\">\n",
       "  <thead>\n",
       "    <tr style=\"text-align: right;\">\n",
       "      <th></th>\n",
       "      <th>Num_Acc</th>\n",
       "      <th>an</th>\n",
       "      <th>mois</th>\n",
       "      <th>jour</th>\n",
       "      <th>hrmn</th>\n",
       "      <th>lum</th>\n",
       "      <th>agg</th>\n",
       "      <th>int</th>\n",
       "      <th>atm</th>\n",
       "      <th>col</th>\n",
       "      <th>com</th>\n",
       "      <th>adr</th>\n",
       "      <th>gps</th>\n",
       "      <th>lat</th>\n",
       "      <th>long</th>\n",
       "      <th>dep</th>\n",
       "    </tr>\n",
       "  </thead>\n",
       "  <tbody>\n",
       "    <tr>\n",
       "      <th>0</th>\n",
       "      <td>201600000001</td>\n",
       "      <td>16</td>\n",
       "      <td>2</td>\n",
       "      <td>1</td>\n",
       "      <td>1445</td>\n",
       "      <td>1</td>\n",
       "      <td>2</td>\n",
       "      <td>1</td>\n",
       "      <td>8.0</td>\n",
       "      <td>3.0</td>\n",
       "      <td>5.0</td>\n",
       "      <td>46, rue Sonneville</td>\n",
       "      <td>M</td>\n",
       "      <td>0.0</td>\n",
       "      <td>0</td>\n",
       "      <td>590</td>\n",
       "    </tr>\n",
       "    <tr>\n",
       "      <th>1</th>\n",
       "      <td>201600000002</td>\n",
       "      <td>16</td>\n",
       "      <td>3</td>\n",
       "      <td>16</td>\n",
       "      <td>1800</td>\n",
       "      <td>1</td>\n",
       "      <td>2</td>\n",
       "      <td>6</td>\n",
       "      <td>1.0</td>\n",
       "      <td>6.0</td>\n",
       "      <td>5.0</td>\n",
       "      <td>1a rue du cimetière</td>\n",
       "      <td>M</td>\n",
       "      <td>0.0</td>\n",
       "      <td>0</td>\n",
       "      <td>590</td>\n",
       "    </tr>\n",
       "  </tbody>\n",
       "</table>\n",
       "</div>"
      ],
      "text/plain": [
       "        Num_Acc  an  mois  jour  hrmn  lum  agg  int  atm  col  com  \\\n",
       "0  201600000001  16     2     1  1445    1    2    1  8.0  3.0  5.0   \n",
       "1  201600000002  16     3    16  1800    1    2    6  1.0  6.0  5.0   \n",
       "\n",
       "                   adr gps  lat long  dep  \n",
       "0   46, rue Sonneville   M  0.0    0  590  \n",
       "1  1a rue du cimetière   M  0.0    0  590  "
      ]
     },
     "execution_count": 23,
     "metadata": {},
     "output_type": "execute_result"
    }
   ],
   "source": [
    "df_char.head(2)"
   ]
  },
  {
   "cell_type": "code",
   "execution_count": 24,
   "id": "a164ae64-f03e-4474-aeb4-8c47b10dde49",
   "metadata": {
    "tags": []
   },
   "outputs": [
    {
     "data": {
      "text/html": [
       "<div>\n",
       "<style scoped>\n",
       "    .dataframe tbody tr th:only-of-type {\n",
       "        vertical-align: middle;\n",
       "    }\n",
       "\n",
       "    .dataframe tbody tr th {\n",
       "        vertical-align: top;\n",
       "    }\n",
       "\n",
       "    .dataframe thead th {\n",
       "        text-align: right;\n",
       "    }\n",
       "</style>\n",
       "<table border=\"1\" class=\"dataframe\">\n",
       "  <thead>\n",
       "    <tr style=\"text-align: right;\">\n",
       "      <th></th>\n",
       "      <th>acc_id</th>\n",
       "      <th>year_an</th>\n",
       "      <th>month_mois</th>\n",
       "      <th>day_jour</th>\n",
       "      <th>hrmn</th>\n",
       "      <th>luminosity_lum</th>\n",
       "      <th>built_up_agg</th>\n",
       "      <th>intersection_type_int</th>\n",
       "      <th>weather_atm</th>\n",
       "      <th>collision_type_col</th>\n",
       "      <th>commune_num_drop</th>\n",
       "      <th>address_drop</th>\n",
       "      <th>gps_drop</th>\n",
       "      <th>latitude_drop</th>\n",
       "      <th>longitude_drop</th>\n",
       "      <th>dep_drop</th>\n",
       "    </tr>\n",
       "  </thead>\n",
       "  <tbody>\n",
       "    <tr>\n",
       "      <th>0</th>\n",
       "      <td>201600000001</td>\n",
       "      <td>16</td>\n",
       "      <td>2</td>\n",
       "      <td>1</td>\n",
       "      <td>1445</td>\n",
       "      <td>1</td>\n",
       "      <td>2</td>\n",
       "      <td>1</td>\n",
       "      <td>8.0</td>\n",
       "      <td>3.0</td>\n",
       "      <td>5.0</td>\n",
       "      <td>46, rue Sonneville</td>\n",
       "      <td>M</td>\n",
       "      <td>0.0</td>\n",
       "      <td>0</td>\n",
       "      <td>590</td>\n",
       "    </tr>\n",
       "    <tr>\n",
       "      <th>1</th>\n",
       "      <td>201600000002</td>\n",
       "      <td>16</td>\n",
       "      <td>3</td>\n",
       "      <td>16</td>\n",
       "      <td>1800</td>\n",
       "      <td>1</td>\n",
       "      <td>2</td>\n",
       "      <td>6</td>\n",
       "      <td>1.0</td>\n",
       "      <td>6.0</td>\n",
       "      <td>5.0</td>\n",
       "      <td>1a rue du cimetière</td>\n",
       "      <td>M</td>\n",
       "      <td>0.0</td>\n",
       "      <td>0</td>\n",
       "      <td>590</td>\n",
       "    </tr>\n",
       "  </tbody>\n",
       "</table>\n",
       "</div>"
      ],
      "text/plain": [
       "         acc_id  year_an  month_mois  day_jour  hrmn  luminosity_lum  \\\n",
       "0  201600000001       16           2         1  1445               1   \n",
       "1  201600000002       16           3        16  1800               1   \n",
       "\n",
       "   built_up_agg  intersection_type_int  weather_atm  collision_type_col  \\\n",
       "0             2                      1          8.0                 3.0   \n",
       "1             2                      6          1.0                 6.0   \n",
       "\n",
       "   commune_num_drop         address_drop gps_drop  latitude_drop  \\\n",
       "0               5.0   46, rue Sonneville        M            0.0   \n",
       "1               5.0  1a rue du cimetière        M            0.0   \n",
       "\n",
       "  longitude_drop  dep_drop  \n",
       "0              0       590  \n",
       "1              0       590  "
      ]
     },
     "execution_count": 24,
     "metadata": {},
     "output_type": "execute_result"
    }
   ],
   "source": [
    "df_char.rename({'Num_Acc' : 'acc_id',\n",
    "                'an' : 'year_an',\n",
    "                'mois' : 'month_mois',\n",
    "                'jour' : 'day_jour',\n",
    "                'hrmn' : 'hrmn',\n",
    "                'lum' : 'luminosity_lum',\n",
    "                'agg' : 'built_up_agg',\n",
    "                'int' : 'intersection_type_int',\n",
    "                'atm' : 'weather_atm',\n",
    "                'col' : 'collision_type_col',\n",
    "                'adr' : 'address_drop',\n",
    "                'gps' : 'gps_drop',\n",
    "                'lat' : 'latitude_drop',\n",
    "                'long' : 'longitude_drop',\n",
    "                'dep' : 'dep_drop',\n",
    "                'com' : 'commune_num_drop'},\n",
    "               axis=1, inplace=True)\n",
    "df_char.head(2)"
   ]
  },
  {
   "cell_type": "markdown",
   "id": "19c09637-9c86-4646-8294-c706d7667338",
   "metadata": {},
   "source": [
    "### df_holiday"
   ]
  },
  {
   "cell_type": "code",
   "execution_count": 25,
   "id": "3145d058-cb6a-430a-acbe-91f5d00ddfd2",
   "metadata": {
    "tags": []
   },
   "outputs": [
    {
     "data": {
      "text/html": [
       "<div>\n",
       "<style scoped>\n",
       "    .dataframe tbody tr th:only-of-type {\n",
       "        vertical-align: middle;\n",
       "    }\n",
       "\n",
       "    .dataframe tbody tr th {\n",
       "        vertical-align: top;\n",
       "    }\n",
       "\n",
       "    .dataframe thead th {\n",
       "        text-align: right;\n",
       "    }\n",
       "</style>\n",
       "<table border=\"1\" class=\"dataframe\">\n",
       "  <thead>\n",
       "    <tr style=\"text-align: right;\">\n",
       "      <th></th>\n",
       "      <th>ds</th>\n",
       "      <th>holiday</th>\n",
       "    </tr>\n",
       "  </thead>\n",
       "  <tbody>\n",
       "    <tr>\n",
       "      <th>0</th>\n",
       "      <td>2005-01-01</td>\n",
       "      <td>New year</td>\n",
       "    </tr>\n",
       "    <tr>\n",
       "      <th>1</th>\n",
       "      <td>2005-03-28</td>\n",
       "      <td>Easter Monday</td>\n",
       "    </tr>\n",
       "  </tbody>\n",
       "</table>\n",
       "</div>"
      ],
      "text/plain": [
       "           ds        holiday\n",
       "0  2005-01-01       New year\n",
       "1  2005-03-28  Easter Monday"
      ]
     },
     "execution_count": 25,
     "metadata": {},
     "output_type": "execute_result"
    }
   ],
   "source": [
    "df_holiday.head(2)"
   ]
  },
  {
   "cell_type": "code",
   "execution_count": 26,
   "id": "ee9a2295-ed1b-4ce9-8855-74c39485f714",
   "metadata": {
    "tags": []
   },
   "outputs": [
    {
     "data": {
      "text/plain": [
       "['New year',\n",
       " 'Easter Monday',\n",
       " 'Labour Day',\n",
       " 'Ascension Thursday',\n",
       " 'Victory in Europe Day',\n",
       " 'Whit Monday',\n",
       " 'Bastille Day',\n",
       " 'Assumption of Mary to Heaven',\n",
       " 'All Saints Day',\n",
       " 'Armistice Day',\n",
       " 'Christmas Day']"
      ]
     },
     "execution_count": 26,
     "metadata": {},
     "output_type": "execute_result"
    }
   ],
   "source": [
    "list(df_holiday.holiday.unique())"
   ]
  },
  {
   "cell_type": "markdown",
   "id": "c3946c1f-a8b5-4795-9a74-290ca68ab16c",
   "metadata": {},
   "source": [
    "#AP: Note that these are French holidays, keeping since this dataset is about French crashes"
   ]
  },
  {
   "cell_type": "code",
   "execution_count": 27,
   "id": "5b7cbc4c-07e3-4467-94c8-7fd4003f67cd",
   "metadata": {
    "tags": []
   },
   "outputs": [
    {
     "name": "stdout",
     "output_type": "stream",
     "text": [
      "['date', 'holiday']\n"
     ]
    }
   ],
   "source": [
    "df_holiday.rename({'ds' : 'date'}, axis=1, inplace=True)\n",
    "print(list(df_holiday.columns))"
   ]
  },
  {
   "cell_type": "markdown",
   "id": "5e1b3a0d-2e7e-4bc1-bbab-c981d48d47e9",
   "metadata": {},
   "source": [
    "### df_places"
   ]
  },
  {
   "cell_type": "code",
   "execution_count": 28,
   "id": "69d9d28e-1453-419d-bc5d-4669947fb45b",
   "metadata": {
    "tags": []
   },
   "outputs": [
    {
     "data": {
      "text/html": [
       "<div>\n",
       "<style scoped>\n",
       "    .dataframe tbody tr th:only-of-type {\n",
       "        vertical-align: middle;\n",
       "    }\n",
       "\n",
       "    .dataframe tbody tr th {\n",
       "        vertical-align: top;\n",
       "    }\n",
       "\n",
       "    .dataframe thead th {\n",
       "        text-align: right;\n",
       "    }\n",
       "</style>\n",
       "<table border=\"1\" class=\"dataframe\">\n",
       "  <thead>\n",
       "    <tr style=\"text-align: right;\">\n",
       "      <th></th>\n",
       "      <th>Num_Acc</th>\n",
       "      <th>catr</th>\n",
       "      <th>voie</th>\n",
       "      <th>v1</th>\n",
       "      <th>v2</th>\n",
       "      <th>circ</th>\n",
       "      <th>nbv</th>\n",
       "      <th>pr</th>\n",
       "      <th>pr1</th>\n",
       "      <th>vosp</th>\n",
       "      <th>prof</th>\n",
       "      <th>plan</th>\n",
       "      <th>lartpc</th>\n",
       "      <th>larrout</th>\n",
       "      <th>surf</th>\n",
       "      <th>infra</th>\n",
       "      <th>situ</th>\n",
       "      <th>env1</th>\n",
       "    </tr>\n",
       "  </thead>\n",
       "  <tbody>\n",
       "    <tr>\n",
       "      <th>448123</th>\n",
       "      <td>200900013184</td>\n",
       "      <td>3.0</td>\n",
       "      <td>900</td>\n",
       "      <td>NaN</td>\n",
       "      <td>NaN</td>\n",
       "      <td>2.0</td>\n",
       "      <td>2.0</td>\n",
       "      <td>34.0</td>\n",
       "      <td>293.0</td>\n",
       "      <td>0.0</td>\n",
       "      <td>1.0</td>\n",
       "      <td>2.0</td>\n",
       "      <td>0.0</td>\n",
       "      <td>54.0</td>\n",
       "      <td>1.0</td>\n",
       "      <td>0.0</td>\n",
       "      <td>3.0</td>\n",
       "      <td>99.0</td>\n",
       "    </tr>\n",
       "    <tr>\n",
       "      <th>451153</th>\n",
       "      <td>200900016214</td>\n",
       "      <td>4.0</td>\n",
       "      <td>0</td>\n",
       "      <td>NaN</td>\n",
       "      <td>NaN</td>\n",
       "      <td>3.0</td>\n",
       "      <td>2.0</td>\n",
       "      <td>5.0</td>\n",
       "      <td>0.0</td>\n",
       "      <td>0.0</td>\n",
       "      <td>1.0</td>\n",
       "      <td>1.0</td>\n",
       "      <td>15.0</td>\n",
       "      <td>70.0</td>\n",
       "      <td>1.0</td>\n",
       "      <td>0.0</td>\n",
       "      <td>1.0</td>\n",
       "      <td>99.0</td>\n",
       "    </tr>\n",
       "  </tbody>\n",
       "</table>\n",
       "</div>"
      ],
      "text/plain": [
       "             Num_Acc  catr voie  v1   v2  circ  nbv    pr    pr1  vosp  prof  \\\n",
       "448123  200900013184   3.0  900 NaN  NaN   2.0  2.0  34.0  293.0   0.0   1.0   \n",
       "451153  200900016214   4.0    0 NaN  NaN   3.0  2.0   5.0    0.0   0.0   1.0   \n",
       "\n",
       "        plan  lartpc  larrout  surf  infra  situ  env1  \n",
       "448123   2.0     0.0     54.0   1.0    0.0   3.0  99.0  \n",
       "451153   1.0    15.0     70.0   1.0    0.0   1.0  99.0  "
      ]
     },
     "execution_count": 28,
     "metadata": {},
     "output_type": "execute_result"
    }
   ],
   "source": [
    "df_places.sample(2)"
   ]
  },
  {
   "cell_type": "code",
   "execution_count": 29,
   "id": "2dbea439-d3ea-475c-93a8-8745028e0616",
   "metadata": {},
   "outputs": [
    {
     "data": {
      "text/plain": [
       "env1\n",
       "0.0     477933\n",
       "99.0    319986\n",
       "3.0      40790\n",
       "Name: count, dtype: int64"
      ]
     },
     "execution_count": 29,
     "metadata": {},
     "output_type": "execute_result"
    }
   ],
   "source": [
    "df_places.env1.value_counts()"
   ]
  },
  {
   "cell_type": "code",
   "execution_count": 30,
   "id": "f27f6917-cc4a-45f4-aa7a-865df9768bd0",
   "metadata": {
    "tags": []
   },
   "outputs": [
    {
     "name": "stdout",
     "output_type": "stream",
     "text": [
      "['acc_id', 'road_category_catr', 'road_num_drop', 'v1_drop', 'v2_drop', 'road_type_circ', 'lane_count_nbv', 'pr_drop', 'pr1_drop', 'reserved_lane_type_vosp', 'road_slope_prof', 'road_curvature_plan', 'central_sep_width_lartpc', 'road_width_larrout', 'surface_cond_surf', 'infrastructure_infra', 'crash_location_situ', 'env1_drop']\n"
     ]
    }
   ],
   "source": [
    "df_places.rename({'Num_Acc' : 'acc_id',\n",
    "                  'catr' : 'road_category_catr',\n",
    "                  'voie' : 'road_num_drop',\n",
    "                  'v1' : 'v1_drop',\n",
    "                  'v2' : 'v2_drop',\n",
    "                  'circ' : 'road_type_circ',\n",
    "                  'nbv' : 'lane_count_nbv',\n",
    "                  'vosp' : 'reserved_lane_type_vosp',\n",
    "                  'prof' : 'road_slope_prof',\n",
    "                  'pr' : 'pr_drop',\n",
    "                  'pr1' : 'pr1_drop',\n",
    "                  'plan' : 'road_curvature_plan',\n",
    "                  'lartpc' : 'central_sep_width_lartpc',\n",
    "                  'larrout' : 'road_width_larrout',\n",
    "                  'surf' : 'surface_cond_surf',\n",
    "                  'infra' : 'infrastructure_infra',\n",
    "                  'situ' : 'crash_location_situ',\n",
    "                  'env1' : 'env1_drop'}, axis=1, inplace=True)\n",
    "print(list(df_places.columns))"
   ]
  },
  {
   "cell_type": "code",
   "execution_count": 31,
   "id": "b5fade5c-6c77-4bc5-beb4-9498377c23cf",
   "metadata": {},
   "outputs": [
    {
     "data": {
      "text/html": [
       "<div>\n",
       "<style scoped>\n",
       "    .dataframe tbody tr th:only-of-type {\n",
       "        vertical-align: middle;\n",
       "    }\n",
       "\n",
       "    .dataframe tbody tr th {\n",
       "        vertical-align: top;\n",
       "    }\n",
       "\n",
       "    .dataframe thead th {\n",
       "        text-align: right;\n",
       "    }\n",
       "</style>\n",
       "<table border=\"1\" class=\"dataframe\">\n",
       "  <thead>\n",
       "    <tr style=\"text-align: right;\">\n",
       "      <th></th>\n",
       "      <th>acc_id</th>\n",
       "      <th>road_category_catr</th>\n",
       "      <th>road_num_drop</th>\n",
       "      <th>v1_drop</th>\n",
       "      <th>v2_drop</th>\n",
       "      <th>road_type_circ</th>\n",
       "      <th>lane_count_nbv</th>\n",
       "      <th>pr_drop</th>\n",
       "      <th>pr1_drop</th>\n",
       "      <th>reserved_lane_type_vosp</th>\n",
       "      <th>road_slope_prof</th>\n",
       "      <th>road_curvature_plan</th>\n",
       "      <th>central_sep_width_lartpc</th>\n",
       "      <th>road_width_larrout</th>\n",
       "      <th>surface_cond_surf</th>\n",
       "      <th>infrastructure_infra</th>\n",
       "      <th>crash_location_situ</th>\n",
       "      <th>env1_drop</th>\n",
       "    </tr>\n",
       "  </thead>\n",
       "  <tbody>\n",
       "    <tr>\n",
       "      <th>0</th>\n",
       "      <td>201600000001</td>\n",
       "      <td>3.0</td>\n",
       "      <td>39</td>\n",
       "      <td>NaN</td>\n",
       "      <td>NaN</td>\n",
       "      <td>2.0</td>\n",
       "      <td>0.0</td>\n",
       "      <td>NaN</td>\n",
       "      <td>NaN</td>\n",
       "      <td>0.0</td>\n",
       "      <td>1.0</td>\n",
       "      <td>3.0</td>\n",
       "      <td>0.0</td>\n",
       "      <td>0.0</td>\n",
       "      <td>1.0</td>\n",
       "      <td>0.0</td>\n",
       "      <td>1.0</td>\n",
       "      <td>0.0</td>\n",
       "    </tr>\n",
       "    <tr>\n",
       "      <th>1</th>\n",
       "      <td>201600000002</td>\n",
       "      <td>3.0</td>\n",
       "      <td>39</td>\n",
       "      <td>NaN</td>\n",
       "      <td>NaN</td>\n",
       "      <td>1.0</td>\n",
       "      <td>0.0</td>\n",
       "      <td>NaN</td>\n",
       "      <td>NaN</td>\n",
       "      <td>0.0</td>\n",
       "      <td>1.0</td>\n",
       "      <td>2.0</td>\n",
       "      <td>0.0</td>\n",
       "      <td>58.0</td>\n",
       "      <td>1.0</td>\n",
       "      <td>0.0</td>\n",
       "      <td>1.0</td>\n",
       "      <td>0.0</td>\n",
       "    </tr>\n",
       "  </tbody>\n",
       "</table>\n",
       "</div>"
      ],
      "text/plain": [
       "         acc_id  road_category_catr road_num_drop  v1_drop v2_drop  \\\n",
       "0  201600000001                 3.0            39      NaN     NaN   \n",
       "1  201600000002                 3.0            39      NaN     NaN   \n",
       "\n",
       "   road_type_circ  lane_count_nbv  pr_drop  pr1_drop  reserved_lane_type_vosp  \\\n",
       "0             2.0             0.0      NaN       NaN                      0.0   \n",
       "1             1.0             0.0      NaN       NaN                      0.0   \n",
       "\n",
       "   road_slope_prof  road_curvature_plan  central_sep_width_lartpc  \\\n",
       "0              1.0                  3.0                       0.0   \n",
       "1              1.0                  2.0                       0.0   \n",
       "\n",
       "   road_width_larrout  surface_cond_surf  infrastructure_infra  \\\n",
       "0                 0.0                1.0                   0.0   \n",
       "1                58.0                1.0                   0.0   \n",
       "\n",
       "   crash_location_situ  env1_drop  \n",
       "0                  1.0        0.0  \n",
       "1                  1.0        0.0  "
      ]
     },
     "execution_count": 31,
     "metadata": {},
     "output_type": "execute_result"
    }
   ],
   "source": [
    "df_places.head(2)"
   ]
  },
  {
   "cell_type": "markdown",
   "id": "85bb0446-3d17-429a-bc87-c85cdc37e5be",
   "metadata": {},
   "source": [
    "dropping env1 because values don't make sense and no var of that name in documentation from French Gov.t"
   ]
  },
  {
   "cell_type": "markdown",
   "id": "e0c8b893-cb54-432b-85fe-50d55b40e556",
   "metadata": {},
   "source": [
    "### df_users"
   ]
  },
  {
   "cell_type": "code",
   "execution_count": 32,
   "id": "c4808061-eee6-4703-9b3c-e43e10b58480",
   "metadata": {
    "tags": []
   },
   "outputs": [
    {
     "data": {
      "text/html": [
       "<div>\n",
       "<style scoped>\n",
       "    .dataframe tbody tr th:only-of-type {\n",
       "        vertical-align: middle;\n",
       "    }\n",
       "\n",
       "    .dataframe tbody tr th {\n",
       "        vertical-align: top;\n",
       "    }\n",
       "\n",
       "    .dataframe thead th {\n",
       "        text-align: right;\n",
       "    }\n",
       "</style>\n",
       "<table border=\"1\" class=\"dataframe\">\n",
       "  <thead>\n",
       "    <tr style=\"text-align: right;\">\n",
       "      <th></th>\n",
       "      <th>Num_Acc</th>\n",
       "      <th>place</th>\n",
       "      <th>catu</th>\n",
       "      <th>grav</th>\n",
       "      <th>sexe</th>\n",
       "      <th>trajet</th>\n",
       "      <th>secu</th>\n",
       "      <th>locp</th>\n",
       "      <th>actp</th>\n",
       "      <th>etatp</th>\n",
       "      <th>an_nais</th>\n",
       "      <th>num_veh</th>\n",
       "    </tr>\n",
       "  </thead>\n",
       "  <tbody>\n",
       "    <tr>\n",
       "      <th>0</th>\n",
       "      <td>201600000001</td>\n",
       "      <td>1.0</td>\n",
       "      <td>1</td>\n",
       "      <td>1</td>\n",
       "      <td>2</td>\n",
       "      <td>0.0</td>\n",
       "      <td>11.0</td>\n",
       "      <td>0.0</td>\n",
       "      <td>0.0</td>\n",
       "      <td>0.0</td>\n",
       "      <td>1983.0</td>\n",
       "      <td>B02</td>\n",
       "    </tr>\n",
       "    <tr>\n",
       "      <th>1</th>\n",
       "      <td>201600000001</td>\n",
       "      <td>1.0</td>\n",
       "      <td>1</td>\n",
       "      <td>3</td>\n",
       "      <td>1</td>\n",
       "      <td>9.0</td>\n",
       "      <td>21.0</td>\n",
       "      <td>0.0</td>\n",
       "      <td>0.0</td>\n",
       "      <td>0.0</td>\n",
       "      <td>2001.0</td>\n",
       "      <td>A01</td>\n",
       "    </tr>\n",
       "  </tbody>\n",
       "</table>\n",
       "</div>"
      ],
      "text/plain": [
       "        Num_Acc  place  catu  grav  sexe  trajet  secu  locp  actp  etatp  \\\n",
       "0  201600000001    1.0     1     1     2     0.0  11.0   0.0   0.0    0.0   \n",
       "1  201600000001    1.0     1     3     1     9.0  21.0   0.0   0.0    0.0   \n",
       "\n",
       "   an_nais num_veh  \n",
       "0   1983.0     B02  \n",
       "1   2001.0     A01  "
      ]
     },
     "execution_count": 32,
     "metadata": {},
     "output_type": "execute_result"
    }
   ],
   "source": [
    "df_users.head(2)"
   ]
  },
  {
   "cell_type": "code",
   "execution_count": 33,
   "id": "910f005f-d8b2-4d04-80d6-6336305bccd9",
   "metadata": {
    "scrolled": true,
    "tags": []
   },
   "outputs": [
    {
     "name": "stdout",
     "output_type": "stream",
     "text": [
      "['acc_id', 'place_in_veh_place', 'person_cat_catu', 'injury_severity_grav', 'sexe_drop', 'travel_reason_trajet', 'secu_drop', 'ped_location_locp', 'ped_action_actp', 'ped_group_etatp', 'an_nais_drop', 'num_veh_drop']\n"
     ]
    }
   ],
   "source": [
    "df_users.rename({'Num_Acc' : 'acc_id',\n",
    "                 'num_veh' : 'num_veh_drop',\n",
    "                 'place' : 'place_in_veh_place',\n",
    "                 'catu' : 'person_cat_catu',\n",
    "                 'grav' : 'injury_severity_grav',\n",
    "                 'sexe' : 'sexe_drop',\n",
    "                 'trajet' : 'travel_reason_trajet',\n",
    "                 'secu' : 'secu_drop',\n",
    "                 'locp' : 'ped_location_locp',\n",
    "                 'actp' : 'ped_action_actp',\n",
    "                 'etatp' : 'ped_group_etatp',\n",
    "                 'an_nais' : 'an_nais_drop'}, axis=1, inplace=True)\n",
    "print(list(df_users.columns))"
   ]
  },
  {
   "cell_type": "code",
   "execution_count": 34,
   "id": "9a77e047-d797-44e0-8b2e-24889678e52d",
   "metadata": {},
   "outputs": [
    {
     "data": {
      "text/html": [
       "<div>\n",
       "<style scoped>\n",
       "    .dataframe tbody tr th:only-of-type {\n",
       "        vertical-align: middle;\n",
       "    }\n",
       "\n",
       "    .dataframe tbody tr th {\n",
       "        vertical-align: top;\n",
       "    }\n",
       "\n",
       "    .dataframe thead th {\n",
       "        text-align: right;\n",
       "    }\n",
       "</style>\n",
       "<table border=\"1\" class=\"dataframe\">\n",
       "  <thead>\n",
       "    <tr style=\"text-align: right;\">\n",
       "      <th></th>\n",
       "      <th>acc_id</th>\n",
       "      <th>place_in_veh_place</th>\n",
       "      <th>person_cat_catu</th>\n",
       "      <th>injury_severity_grav</th>\n",
       "      <th>sexe_drop</th>\n",
       "      <th>travel_reason_trajet</th>\n",
       "      <th>secu_drop</th>\n",
       "      <th>ped_location_locp</th>\n",
       "      <th>ped_action_actp</th>\n",
       "      <th>ped_group_etatp</th>\n",
       "      <th>an_nais_drop</th>\n",
       "      <th>num_veh_drop</th>\n",
       "    </tr>\n",
       "  </thead>\n",
       "  <tbody>\n",
       "    <tr>\n",
       "      <th>0</th>\n",
       "      <td>201600000001</td>\n",
       "      <td>1.0</td>\n",
       "      <td>1</td>\n",
       "      <td>1</td>\n",
       "      <td>2</td>\n",
       "      <td>0.0</td>\n",
       "      <td>11.0</td>\n",
       "      <td>0.0</td>\n",
       "      <td>0.0</td>\n",
       "      <td>0.0</td>\n",
       "      <td>1983.0</td>\n",
       "      <td>B02</td>\n",
       "    </tr>\n",
       "    <tr>\n",
       "      <th>1</th>\n",
       "      <td>201600000001</td>\n",
       "      <td>1.0</td>\n",
       "      <td>1</td>\n",
       "      <td>3</td>\n",
       "      <td>1</td>\n",
       "      <td>9.0</td>\n",
       "      <td>21.0</td>\n",
       "      <td>0.0</td>\n",
       "      <td>0.0</td>\n",
       "      <td>0.0</td>\n",
       "      <td>2001.0</td>\n",
       "      <td>A01</td>\n",
       "    </tr>\n",
       "  </tbody>\n",
       "</table>\n",
       "</div>"
      ],
      "text/plain": [
       "         acc_id  place_in_veh_place  person_cat_catu  injury_severity_grav  \\\n",
       "0  201600000001                 1.0                1                     1   \n",
       "1  201600000001                 1.0                1                     3   \n",
       "\n",
       "   sexe_drop  travel_reason_trajet  secu_drop  ped_location_locp  \\\n",
       "0          2                   0.0       11.0                0.0   \n",
       "1          1                   9.0       21.0                0.0   \n",
       "\n",
       "   ped_action_actp  ped_group_etatp  an_nais_drop num_veh_drop  \n",
       "0              0.0              0.0        1983.0          B02  \n",
       "1              0.0              0.0        2001.0          A01  "
      ]
     },
     "execution_count": 34,
     "metadata": {},
     "output_type": "execute_result"
    }
   ],
   "source": [
    "df_users.head(2)"
   ]
  },
  {
   "cell_type": "markdown",
   "id": "5be879a6-24c5-4971-b089-c513326ac330",
   "metadata": {},
   "source": [
    "### df_vehicles\n",
    "This data won't be used in this project.\n",
    "\n",
    "Keeping code for possible back reference"
   ]
  },
  {
   "cell_type": "raw",
   "id": "5a34cc55-b344-45b0-8623-0fa6942b27ba",
   "metadata": {
    "jupyter": {
     "source_hidden": true
    },
    "tags": []
   },
   "source": [
    "df_vehicles.head(2)"
   ]
  },
  {
   "cell_type": "raw",
   "id": "aba5da0c-07c9-41a3-afe2-0fad8c4dcaa6",
   "metadata": {
    "jupyter": {
     "source_hidden": true
    },
    "tags": []
   },
   "source": [
    "df_vehicles.rename({'Num_Acc' : 'acc_id',\n",
    "                    'num_veh' : 'num_veh_drop',\n",
    "                    'catv' : 'vehicle_cat_catv',\n",
    "                    'senc' : 'senc_drop',\n",
    "                    'obs' : 'obj_hit_fixed_obs',\n",
    "                    'obsm' : 'obj_hit_moving_obsm',\n",
    "                    'choc' : 'choc_drop',\n",
    "                    'manv' : 'manv_drop',\n",
    "                    'occutc' : 'occutc_drop'}, axis=1, inplace=True)\n",
    "print(list(df_vehicles.columns))"
   ]
  },
  {
   "cell_type": "raw",
   "id": "63d2272b-0a58-4af9-a94d-9e7d61e9c1ea",
   "metadata": {
    "jupyter": {
     "source_hidden": true
    },
    "tags": []
   },
   "source": [
    "df_vehicles.head(2)"
   ]
  },
  {
   "cell_type": "markdown",
   "id": "78c97411-495f-44e3-adf8-6bbca87c17c2",
   "metadata": {},
   "source": [
    "## Drop unneeded cols\n",
    "\n",
    "Dropping cols that I am reasonably sure **would not benefit characterization of accident locations or date/time analysis** for the use of preemptively deploying resources/personnel\n",
    "\n",
    "ex. year of birth may have an effect on probability of a crash but agencies are unable to pre-screen drivers before they get on the road or determine the exact route the driver will take"
   ]
  },
  {
   "cell_type": "code",
   "execution_count": 35,
   "id": "e504bf86-f1ad-4b01-a6cd-f74f654ee8ce",
   "metadata": {
    "tags": []
   },
   "outputs": [
    {
     "name": "stdout",
     "output_type": "stream",
     "text": [
      "['acc_id', 'year_an', 'month_mois', 'day_jour', 'hrmn', 'luminosity_lum', 'built_up_agg', 'intersection_type_int', 'weather_atm', 'collision_type_col']\n"
     ]
    }
   ],
   "source": [
    "df_char.drop(['commune_num_drop', 'address_drop', 'gps_drop', 'latitude_drop', 'longitude_drop', 'dep_drop'], axis=1, inplace=True, errors= 'ignore')\n",
    "print(list(df_char.columns))"
   ]
  },
  {
   "cell_type": "code",
   "execution_count": 36,
   "id": "2e2cb00a-0e64-4c45-b340-d724533414eb",
   "metadata": {
    "tags": []
   },
   "outputs": [
    {
     "name": "stdout",
     "output_type": "stream",
     "text": [
      "['acc_id', 'road_category_catr', 'road_type_circ', 'lane_count_nbv', 'reserved_lane_type_vosp', 'road_slope_prof', 'road_curvature_plan', 'central_sep_width_lartpc', 'road_width_larrout', 'surface_cond_surf', 'infrastructure_infra', 'crash_location_situ']\n"
     ]
    }
   ],
   "source": [
    "df_places.drop(['road_num_drop', 'v1_drop', 'v2_drop', 'pr_drop', 'pr1_drop', 'env1_drop'], axis=1, inplace=True, errors= 'ignore')\n",
    "print(list(df_places.columns))"
   ]
  },
  {
   "cell_type": "code",
   "execution_count": 37,
   "id": "9a79f9d8-c302-4bdf-9aa1-4e2ac174c9a6",
   "metadata": {
    "tags": []
   },
   "outputs": [
    {
     "name": "stdout",
     "output_type": "stream",
     "text": [
      "['acc_id', 'place_in_veh_place', 'person_cat_catu', 'injury_severity_grav', 'travel_reason_trajet', 'ped_location_locp', 'ped_action_actp', 'ped_group_etatp']\n"
     ]
    }
   ],
   "source": [
    "df_users.drop(['sexe_drop', 'secu_drop', 'an_nais_drop', 'num_veh_drop'], axis=1, inplace=True, errors= 'ignore')\n",
    "print(list(df_users.columns))"
   ]
  },
  {
   "cell_type": "raw",
   "id": "5324d9b4-a0dd-42bc-8efa-b18a21f2f7f9",
   "metadata": {
    "tags": []
   },
   "source": [
    "df_vehicles.drop(['senc_drop', 'occutc_drop', 'choc_drop', 'manv_drop', 'num_veh_drop'], axis=1, inplace=True)\n",
    "print(list(df_vehicles.columns))"
   ]
  },
  {
   "cell_type": "code",
   "execution_count": 38,
   "id": "8679181c-c921-428e-a0e8-d4c0ffd23dc7",
   "metadata": {},
   "outputs": [
    {
     "name": "stdout",
     "output_type": "stream",
     "text": [
      "Percent of total rows where ped location unspecified or not applicable\n",
      "92.0 %\n"
     ]
    }
   ],
   "source": [
    "print('Percent of total rows where ped location unspecified or not applicable')\n",
    "print(round(df_users.ped_location_locp.value_counts(dropna=False).sort_index()[0] / len(df_users), 2) * 100, '%')"
   ]
  },
  {
   "cell_type": "markdown",
   "id": "91101e74-f28a-4cea-835e-32d18bf5a826",
   "metadata": {},
   "source": [
    "With about 92% of df_user rows with value of 0 (unspecified ped location), this col is not helpful for location characterization\n",
    "\n",
    "**dropping col**"
   ]
  },
  {
   "cell_type": "code",
   "execution_count": 39,
   "id": "cc815e7c-6f16-4067-bcec-271297986cd5",
   "metadata": {},
   "outputs": [
    {
     "data": {
      "text/plain": [
       "ped_group_etatp\n",
       "0.0    1725093\n",
       "1.0     113063\n",
       "2.0      29597\n",
       "3.0       6546\n",
       "NaN       1706\n",
       "Name: count, dtype: int64"
      ]
     },
     "execution_count": 39,
     "metadata": {},
     "output_type": "execute_result"
    }
   ],
   "source": [
    "df_users.ped_group_etatp.value_counts(dropna=False).sort_index()"
   ]
  },
  {
   "cell_type": "code",
   "execution_count": 40,
   "id": "05be6ee1-993a-4887-a749-eb632ce04fea",
   "metadata": {},
   "outputs": [
    {
     "name": "stdout",
     "output_type": "stream",
     "text": [
      "92.0 %\n"
     ]
    }
   ],
   "source": [
    "print(round(df_users.ped_group_etatp.value_counts(dropna=False).sort_index()[0] / len(df_users), 2) * 100, '%')"
   ]
  },
  {
   "cell_type": "markdown",
   "id": "23f48aff-7728-43ba-8095-f7e9529926e5",
   "metadata": {},
   "source": [
    "With about 92% of df_user rows with value of 0 (unspecified ped location), this col is not helpful for location characterization\n",
    "\n",
    "**dropping col**"
   ]
  },
  {
   "cell_type": "code",
   "execution_count": 41,
   "id": "f958f39a-1631-47ae-8398-3c2d031eb6b2",
   "metadata": {},
   "outputs": [
    {
     "data": {
      "text/plain": [
       "['acc_id', 'person_cat_catu', 'injury_severity_grav']"
      ]
     },
     "execution_count": 41,
     "metadata": {},
     "output_type": "execute_result"
    }
   ],
   "source": [
    "df_users.drop(axis=1, inplace=True, errors= 'ignore', labels=['place_in_veh_place', 'travel_reason_trajet', 'ped_location_locp', 'ped_action_actp', 'ped_group_etatp'])\n",
    "list(df_users.columns)"
   ]
  },
  {
   "cell_type": "markdown",
   "id": "4667d647-3853-49e3-9261-85b68d7aad03",
   "metadata": {},
   "source": [
    "## Merge df's where possible\n",
    "Making it easier to manage the data"
   ]
  },
  {
   "cell_type": "code",
   "execution_count": 42,
   "id": "ae672f87-5f62-4ed6-b19b-4ba878595081",
   "metadata": {
    "tags": []
   },
   "outputs": [
    {
     "name": "stdout",
     "output_type": "stream",
     "text": [
      "Row count of each df:\n",
      "839985\n",
      "132\n",
      "839985\n",
      "1876005\n"
     ]
    }
   ],
   "source": [
    "print('Row count of each df:')\n",
    "for df in [df_char, df_holiday, df_places, df_users,\n",
    "           # df_vehicles\n",
    "          ]:\n",
    "    print(len(df))"
   ]
  },
  {
   "cell_type": "markdown",
   "id": "aecc9a91-d46a-438d-8b0a-b96098d5ebaa",
   "metadata": {},
   "source": [
    "#AP: df_char & df_places have same row count, look into if they actually match"
   ]
  },
  {
   "cell_type": "markdown",
   "id": "44589d0f-15dc-4906-8dbe-9d7d941db848",
   "metadata": {
    "tags": []
   },
   "source": [
    "#AP: Explore 'acc_id' col to make sure it's actually unique per accident"
   ]
  },
  {
   "cell_type": "code",
   "execution_count": 43,
   "id": "158b6d73-7b87-425e-90d5-b61eb871ae24",
   "metadata": {
    "tags": []
   },
   "outputs": [],
   "source": [
    "match_acc_id = df_char[df_char.acc_id == df_places.acc_id].acc_id\n",
    "no_match_acc_id = df_char[df_char.acc_id != df_places.acc_id].acc_id"
   ]
  },
  {
   "cell_type": "code",
   "execution_count": 44,
   "id": "416bf62c-c0c3-4c26-bb65-9ce84dfa002e",
   "metadata": {
    "tags": []
   },
   "outputs": [
    {
     "name": "stdout",
     "output_type": "stream",
     "text": [
      "839985\n",
      "0\n"
     ]
    }
   ],
   "source": [
    "print(len(match_acc_id))\n",
    "print(len(no_match_acc_id))"
   ]
  },
  {
   "cell_type": "markdown",
   "id": "b3880220-74b0-4372-872c-93e47dfef768",
   "metadata": {},
   "source": [
    "#AP: accident ID's seem to match. Joining the tables."
   ]
  },
  {
   "cell_type": "code",
   "execution_count": 45,
   "id": "e8bcfc14-fe6e-4ff4-9540-31dda26a0f4f",
   "metadata": {
    "tags": []
   },
   "outputs": [],
   "source": [
    "df_char_place = df_char.merge(df_places, on='acc_id', how='inner')"
   ]
  },
  {
   "cell_type": "code",
   "execution_count": 46,
   "id": "cfe7ed52-dc2c-48dd-9d83-0cef5ba2a558",
   "metadata": {
    "tags": []
   },
   "outputs": [
    {
     "name": "stdout",
     "output_type": "stream",
     "text": [
      "df_char:\n",
      " ['acc_id', 'year_an', 'month_mois', 'day_jour', 'hrmn', 'luminosity_lum', 'built_up_agg', 'intersection_type_int', 'weather_atm', 'collision_type_col']\n",
      "\n",
      "df_places:\n",
      " ['acc_id', 'road_category_catr', 'road_type_circ', 'lane_count_nbv', 'reserved_lane_type_vosp', 'road_slope_prof', 'road_curvature_plan', 'central_sep_width_lartpc', 'road_width_larrout', 'surface_cond_surf', 'infrastructure_infra', 'crash_location_situ']\n",
      "\n",
      "['acc_id', 'year_an', 'month_mois', 'day_jour', 'hrmn', 'luminosity_lum', 'built_up_agg', 'intersection_type_int', 'weather_atm', 'collision_type_col', 'road_category_catr', 'road_type_circ', 'lane_count_nbv', 'reserved_lane_type_vosp', 'road_slope_prof', 'road_curvature_plan', 'central_sep_width_lartpc', 'road_width_larrout', 'surface_cond_surf', 'infrastructure_infra', 'crash_location_situ']\n",
      "\n",
      "row count: 839985\n"
     ]
    }
   ],
   "source": [
    "print('df_char:\\n', list(df_char.columns))\n",
    "print()\n",
    "print('df_places:\\n', list(df_places.columns))\n",
    "print()\n",
    "print(list(df_char_place.columns))\n",
    "print()\n",
    "print('row count:', len(df_char_place))"
   ]
  },
  {
   "cell_type": "markdown",
   "id": "5663a2d7-2d7c-499c-a291-e3e7e11b29dc",
   "metadata": {
    "jp-MarkdownHeadingCollapsed": true,
    "tags": []
   },
   "source": [
    "### Explore df_vehicles to try & merge\n",
    "It has a acc_id col but more rows than df_char_place. Want to see if I can reduce row count to match.\n",
    "\n",
    "**This project doesn't need specific vehicle info**"
   ]
  },
  {
   "cell_type": "raw",
   "id": "297d9b1a-f419-4581-a186-28cc20bbf518",
   "metadata": {},
   "source": [
    "df_vehicles.head(25)"
   ]
  },
  {
   "cell_type": "raw",
   "id": "293d1c41-2b88-425d-8681-01a8a1c74039",
   "metadata": {},
   "source": [
    "len(df_vehicles)"
   ]
  },
  {
   "cell_type": "raw",
   "id": "ab073f75-77ed-47f9-847a-8fed66f6dc2d",
   "metadata": {},
   "source": [
    "df_vehicles.acc_id.nunique(dropna=False)"
   ]
  },
  {
   "cell_type": "markdown",
   "id": "2181c503-7466-4209-b93c-3f5d4152a1ee",
   "metadata": {},
   "source": [
    "The count of unique acc_id's seem to match. Now to see if plausible to aggregate so row counts match"
   ]
  },
  {
   "cell_type": "raw",
   "id": "ebea2d3b-66bc-43e7-8d9d-f75c3a70ea47",
   "metadata": {},
   "source": [
    "df_vehicles.vehicle_cat_catv.value_counts().sort_index()"
   ]
  },
  {
   "cell_type": "markdown",
   "id": "315e3527-1ab1-4559-90c4-26b0dc51c8d5",
   "metadata": {},
   "source": [
    "Dropping vehicle_cat_catv col since multiple labels unused since 2006 present (in this 2005-2016 dataset)"
   ]
  },
  {
   "cell_type": "raw",
   "id": "67df385c-9c54-4890-a9c4-61002e780bc8",
   "metadata": {},
   "source": [
    "df_vehicles.obj_hit_fixed_obs.value_counts(dropna=False).sort_index()"
   ]
  },
  {
   "cell_type": "markdown",
   "id": "721d282c-9038-4b8d-ae42-0b09efac3cd8",
   "metadata": {},
   "source": [
    "AP: **Researching deeper into each of the features in the vehicles df, they do not seem that they would be helpful in characterizing where accidents occur for the purposes of predicting where they would occur.**\n",
    "\n",
    "Converting df_vehicles cells to raw so the code doesn't run and errors are avoided"
   ]
  },
  {
   "cell_type": "markdown",
   "id": "f09610e8-f5f1-4919-90e4-c3b61400c954",
   "metadata": {},
   "source": [
    "### Explore df_users to try & merge\n",
    "\n",
    "There are multiple people per crash, trying to see if there is a way to group by acc_id in a way that doesn't loose quality of data."
   ]
  },
  {
   "cell_type": "code",
   "execution_count": 47,
   "id": "ca8768d1-ccb7-43d0-b1eb-85af4fe87e3f",
   "metadata": {},
   "outputs": [
    {
     "data": {
      "text/html": [
       "<div>\n",
       "<style scoped>\n",
       "    .dataframe tbody tr th:only-of-type {\n",
       "        vertical-align: middle;\n",
       "    }\n",
       "\n",
       "    .dataframe tbody tr th {\n",
       "        vertical-align: top;\n",
       "    }\n",
       "\n",
       "    .dataframe thead th {\n",
       "        text-align: right;\n",
       "    }\n",
       "</style>\n",
       "<table border=\"1\" class=\"dataframe\">\n",
       "  <thead>\n",
       "    <tr style=\"text-align: right;\">\n",
       "      <th></th>\n",
       "      <th>acc_id</th>\n",
       "      <th>person_cat_catu</th>\n",
       "      <th>injury_severity_grav</th>\n",
       "    </tr>\n",
       "  </thead>\n",
       "  <tbody>\n",
       "    <tr>\n",
       "      <th>0</th>\n",
       "      <td>201600000001</td>\n",
       "      <td>1</td>\n",
       "      <td>1</td>\n",
       "    </tr>\n",
       "    <tr>\n",
       "      <th>1</th>\n",
       "      <td>201600000001</td>\n",
       "      <td>1</td>\n",
       "      <td>3</td>\n",
       "    </tr>\n",
       "    <tr>\n",
       "      <th>2</th>\n",
       "      <td>201600000002</td>\n",
       "      <td>1</td>\n",
       "      <td>3</td>\n",
       "    </tr>\n",
       "    <tr>\n",
       "      <th>3</th>\n",
       "      <td>201600000002</td>\n",
       "      <td>2</td>\n",
       "      <td>3</td>\n",
       "    </tr>\n",
       "    <tr>\n",
       "      <th>4</th>\n",
       "      <td>201600000002</td>\n",
       "      <td>2</td>\n",
       "      <td>3</td>\n",
       "    </tr>\n",
       "    <tr>\n",
       "      <th>5</th>\n",
       "      <td>201600000003</td>\n",
       "      <td>1</td>\n",
       "      <td>1</td>\n",
       "    </tr>\n",
       "    <tr>\n",
       "      <th>6</th>\n",
       "      <td>201600000003</td>\n",
       "      <td>3</td>\n",
       "      <td>3</td>\n",
       "    </tr>\n",
       "    <tr>\n",
       "      <th>7</th>\n",
       "      <td>201600000004</td>\n",
       "      <td>1</td>\n",
       "      <td>3</td>\n",
       "    </tr>\n",
       "    <tr>\n",
       "      <th>8</th>\n",
       "      <td>201600000004</td>\n",
       "      <td>2</td>\n",
       "      <td>4</td>\n",
       "    </tr>\n",
       "    <tr>\n",
       "      <th>9</th>\n",
       "      <td>201600000004</td>\n",
       "      <td>1</td>\n",
       "      <td>1</td>\n",
       "    </tr>\n",
       "  </tbody>\n",
       "</table>\n",
       "</div>"
      ],
      "text/plain": [
       "         acc_id  person_cat_catu  injury_severity_grav\n",
       "0  201600000001                1                     1\n",
       "1  201600000001                1                     3\n",
       "2  201600000002                1                     3\n",
       "3  201600000002                2                     3\n",
       "4  201600000002                2                     3\n",
       "5  201600000003                1                     1\n",
       "6  201600000003                3                     3\n",
       "7  201600000004                1                     3\n",
       "8  201600000004                2                     4\n",
       "9  201600000004                1                     1"
      ]
     },
     "execution_count": 47,
     "metadata": {},
     "output_type": "execute_result"
    }
   ],
   "source": [
    "df_users.head(10)"
   ]
  },
  {
   "cell_type": "code",
   "execution_count": 48,
   "id": "e9c8908a-fdbc-4304-b453-f58183592361",
   "metadata": {},
   "outputs": [
    {
     "data": {
      "text/plain": [
       "1876005"
      ]
     },
     "execution_count": 48,
     "metadata": {},
     "output_type": "execute_result"
    }
   ],
   "source": [
    "len(df_users)"
   ]
  },
  {
   "cell_type": "code",
   "execution_count": 49,
   "id": "a9119e5d-ff9f-4528-aed9-f9ad76a781b2",
   "metadata": {},
   "outputs": [
    {
     "data": {
      "text/plain": [
       "839985"
      ]
     },
     "execution_count": 49,
     "metadata": {},
     "output_type": "execute_result"
    }
   ],
   "source": [
    "df_users.acc_id.nunique(dropna=False)"
   ]
  },
  {
   "cell_type": "markdown",
   "id": "e87f9c77-843b-49a8-9ba6-556b57ea05a9",
   "metadata": {},
   "source": [
    "____\n",
    "person_cat_catu col"
   ]
  },
  {
   "cell_type": "code",
   "execution_count": 50,
   "id": "4e9a3fb5-0917-4b7a-8452-09c62956132a",
   "metadata": {},
   "outputs": [
    {
     "data": {
      "text/plain": [
       "person_cat_catu\n",
       "1    1397701\n",
       "2     319388\n",
       "3     155649\n",
       "4       3267\n",
       "Name: count, dtype: int64"
      ]
     },
     "execution_count": 50,
     "metadata": {},
     "output_type": "execute_result"
    }
   ],
   "source": [
    "df_users.person_cat_catu.value_counts(dropna=False).sort_index()"
   ]
  },
  {
   "cell_type": "markdown",
   "id": "f95b5117-1a45-4b0c-9933-1f0f661067a9",
   "metadata": {},
   "source": [
    "AP: Note: There should only be values 1, 2, or 3 for this col. There are 3267 rows with value of 4."
   ]
  },
  {
   "cell_type": "markdown",
   "id": "33112a4f-9a77-49f1-9551-3759bf05521a",
   "metadata": {},
   "source": [
    "**AP Note: Possible to create col to denote whether pedestrian present or not (0 : No or 1 : Yes). Presence of persons in vehicle is assumed since dataset is about vehicle crashes.**\n",
    "\n",
    "Also possible to create col for count of persons involved. This could help agencies decide how much resources/personnel to deploy to the area in relation to how many people they expect to treat. This is currently outside the scope of the project."
   ]
  },
  {
   "cell_type": "markdown",
   "id": "f3803fc8-6764-439d-9324-6cae2f0a1773",
   "metadata": {},
   "source": [
    "____\n",
    "injury_severity_grav col"
   ]
  },
  {
   "cell_type": "code",
   "execution_count": 51,
   "id": "f3fb49c3-520f-4347-8c0f-5b2be79e00fc",
   "metadata": {},
   "outputs": [
    {
     "data": {
      "text/plain": [
       "injury_severity_grav\n",
       "1    764874\n",
       "2     50589\n",
       "3    393669\n",
       "4    666873\n",
       "Name: count, dtype: int64"
      ]
     },
     "execution_count": 51,
     "metadata": {},
     "output_type": "execute_result"
    }
   ],
   "source": [
    "df_users.injury_severity_grav.value_counts(dropna=False).sort_index()"
   ]
  },
  {
   "cell_type": "markdown",
   "id": "2690e0aa-5909-48f3-8c46-ed97b492b739",
   "metadata": {},
   "source": [
    "AP: Possible to create col that ranks severity of the accident based on total injuries. Would likely subtract 1 from each value in col (since 1 represents unharmed, converting it to zero would keep the final score more easily understood). A higher score would mean more severe accident in terms of people harmed, requiring more resources from the agency to deal with\n",
    "\n",
    "This could also potentially be used as a tie breaker between locations with equal accident probabilities"
   ]
  },
  {
   "cell_type": "markdown",
   "id": "a7e9bd65-70a1-440e-9389-3fce38a15c46",
   "metadata": {},
   "source": [
    "#### Create cols for aggregation"
   ]
  },
  {
   "cell_type": "code",
   "execution_count": 52,
   "id": "b7bab7e1-c3ec-4d55-aecc-76b95f309834",
   "metadata": {},
   "outputs": [
    {
     "data": {
      "text/html": [
       "<div>\n",
       "<style scoped>\n",
       "    .dataframe tbody tr th:only-of-type {\n",
       "        vertical-align: middle;\n",
       "    }\n",
       "\n",
       "    .dataframe tbody tr th {\n",
       "        vertical-align: top;\n",
       "    }\n",
       "\n",
       "    .dataframe thead th {\n",
       "        text-align: right;\n",
       "    }\n",
       "</style>\n",
       "<table border=\"1\" class=\"dataframe\">\n",
       "  <thead>\n",
       "    <tr style=\"text-align: right;\">\n",
       "      <th></th>\n",
       "      <th>acc_id</th>\n",
       "      <th>person_cat_catu</th>\n",
       "      <th>injury_severity_grav</th>\n",
       "    </tr>\n",
       "  </thead>\n",
       "  <tbody>\n",
       "    <tr>\n",
       "      <th>0</th>\n",
       "      <td>201600000001</td>\n",
       "      <td>1</td>\n",
       "      <td>1</td>\n",
       "    </tr>\n",
       "    <tr>\n",
       "      <th>1</th>\n",
       "      <td>201600000001</td>\n",
       "      <td>1</td>\n",
       "      <td>3</td>\n",
       "    </tr>\n",
       "    <tr>\n",
       "      <th>2</th>\n",
       "      <td>201600000002</td>\n",
       "      <td>1</td>\n",
       "      <td>3</td>\n",
       "    </tr>\n",
       "    <tr>\n",
       "      <th>3</th>\n",
       "      <td>201600000002</td>\n",
       "      <td>2</td>\n",
       "      <td>3</td>\n",
       "    </tr>\n",
       "    <tr>\n",
       "      <th>4</th>\n",
       "      <td>201600000002</td>\n",
       "      <td>2</td>\n",
       "      <td>3</td>\n",
       "    </tr>\n",
       "  </tbody>\n",
       "</table>\n",
       "</div>"
      ],
      "text/plain": [
       "         acc_id  person_cat_catu  injury_severity_grav\n",
       "0  201600000001                1                     1\n",
       "1  201600000001                1                     3\n",
       "2  201600000002                1                     3\n",
       "3  201600000002                2                     3\n",
       "4  201600000002                2                     3"
      ]
     },
     "execution_count": 52,
     "metadata": {},
     "output_type": "execute_result"
    }
   ],
   "source": [
    "df_users.head()"
   ]
  },
  {
   "cell_type": "code",
   "execution_count": 53,
   "id": "872985f2-8ec3-40f2-a437-9ee1fb45bc09",
   "metadata": {},
   "outputs": [
    {
     "name": "stdout",
     "output_type": "stream",
     "text": [
      "<class 'pandas.core.frame.DataFrame'>\n",
      "RangeIndex: 1876005 entries, 0 to 1876004\n",
      "Data columns (total 3 columns):\n",
      " #   Column                Dtype\n",
      "---  ------                -----\n",
      " 0   acc_id                int64\n",
      " 1   person_cat_catu       int64\n",
      " 2   injury_severity_grav  int64\n",
      "dtypes: int64(3)\n",
      "memory usage: 42.9 MB\n"
     ]
    }
   ],
   "source": [
    "df_users.info()"
   ]
  },
  {
   "cell_type": "code",
   "execution_count": 54,
   "id": "bdc58470-90da-4aba-a437-286b733fa345",
   "metadata": {},
   "outputs": [
    {
     "data": {
      "text/plain": [
       "acc_id                  0\n",
       "person_cat_catu         0\n",
       "injury_severity_grav    0\n",
       "dtype: int64"
      ]
     },
     "execution_count": 54,
     "metadata": {},
     "output_type": "execute_result"
    }
   ],
   "source": [
    "#AP: Double check for any nulls\n",
    "df_users.isnull().sum()"
   ]
  },
  {
   "cell_type": "markdown",
   "id": "469f9ea0-7830-4753-a644-61c9410371ee",
   "metadata": {},
   "source": [
    "____\n",
    "from person_cat_catu, create col to denote 0 (No) or 1 (Yes) for pedestrian"
   ]
  },
  {
   "cell_type": "code",
   "execution_count": 55,
   "id": "05635304-858b-4b72-8086-344aca1c4d83",
   "metadata": {},
   "outputs": [
    {
     "data": {
      "text/plain": [
       "person_cat_catu\n",
       "1    1397701\n",
       "2     319388\n",
       "3     155649\n",
       "4       3267\n",
       "Name: count, dtype: int64"
      ]
     },
     "execution_count": 55,
     "metadata": {},
     "output_type": "execute_result"
    }
   ],
   "source": [
    "df_users.person_cat_catu.value_counts().sort_index()"
   ]
  },
  {
   "cell_type": "markdown",
   "id": "55dfe5ca-24e3-4ec6-bafa-8c077dbc28af",
   "metadata": {},
   "source": [
    "Value of 3 represents pedestrian. Want to replace 3 with 1 & all other values with 0"
   ]
  },
  {
   "cell_type": "code",
   "execution_count": 56,
   "id": "3aa5dc5a-ee6d-422e-b854-a1d4fde40565",
   "metadata": {},
   "outputs": [],
   "source": [
    "df_users['ped_present'] = df_users.person_cat_catu.replace({1:0, 2:0, 3:1, 4:0})"
   ]
  },
  {
   "cell_type": "code",
   "execution_count": 57,
   "id": "615f390c-62d5-4f7e-851a-dced845ce735",
   "metadata": {},
   "outputs": [
    {
     "name": "stdout",
     "output_type": "stream",
     "text": [
      "               acc_id  person_cat_catu  injury_severity_grav  ped_present\n",
      "1262581  200800058588                3                     4            1\n",
      "1500505  200600004168                3                     4            1\n",
      "1573682  200600036746                3                     3            1\n",
      "704308   201100017939                3                     4            1\n",
      "226992   201500041979                3                     3            1\n",
      "\n",
      "               acc_id  person_cat_catu  injury_severity_grav  ped_present\n",
      "1507954  200600007303                1                     1            0\n",
      "1867263  200500083352                1                     1            0\n",
      "1507846  200600007274                2                     4            0\n",
      "583953   201200025973                2                     4            0\n",
      "747405   201100037651                2                     4            0\n"
     ]
    }
   ],
   "source": [
    "#AP: Check whether I Created col correctly\n",
    "print(df_users[df_users['person_cat_catu']==3].sample(5))\n",
    "print()\n",
    "print(df_users[df_users['person_cat_catu'].isin([1,2,4])].sample(5))"
   ]
  },
  {
   "cell_type": "markdown",
   "id": "12879fc1-366b-4b0e-bcbd-d865e33488c8",
   "metadata": {},
   "source": [
    "Now when I group by the acc_id col, I can just sum up the pedestrians (ped_present) and use that as needed in future analysis."
   ]
  },
  {
   "cell_type": "markdown",
   "id": "9a5fc944-62ae-43b0-8eb5-2b5c18760ffa",
   "metadata": {},
   "source": [
    "____\n",
    "~from injury_severity_grav, create col to denote accident severity based on injuries~"
   ]
  },
  {
   "cell_type": "markdown",
   "id": "5c66892d-3f4d-4d48-a018-a451879cf550",
   "metadata": {},
   "source": [
    "First to create col with each value reduced by 1.\n",
    "\n",
    "Durring grouping/aggregation, can add the adjusted values together to get an accident severity score."
   ]
  },
  {
   "cell_type": "raw",
   "id": "d6070098-8f27-4e31-9348-f83b84a5b726",
   "metadata": {},
   "source": [
    "df_users['injury_severity_adj_grav'] = df_users['injury_severity_grav'] -1"
   ]
  },
  {
   "cell_type": "raw",
   "id": "8efd5c8c-3dde-4e82-8adc-b5923981566b",
   "metadata": {},
   "source": [
    "df_users[['injury_severity_grav', 'injury_severity_adj_grav']].sample(5)"
   ]
  },
  {
   "cell_type": "markdown",
   "id": "c3a7189f-4a3c-45bf-a2d5-7820a9e4f9bf",
   "metadata": {},
   "source": [
    "### Create grouped/aggregated df for merging into the main df"
   ]
  },
  {
   "cell_type": "code",
   "execution_count": 58,
   "id": "a95acb3a-be1b-43da-a86b-3235f141ea1c",
   "metadata": {},
   "outputs": [],
   "source": [
    "df_users_agg = df_users[['acc_id', 'ped_present'#,\n",
    "                         #'injury_severity_adj_grav'\n",
    "                        ]].groupby(by='acc_id', sort=False, dropna=False, as_index=False).sum()"
   ]
  },
  {
   "cell_type": "code",
   "execution_count": 59,
   "id": "4b90090b-04cf-4511-9ab6-bba098155d26",
   "metadata": {},
   "outputs": [
    {
     "data": {
      "text/html": [
       "<div>\n",
       "<style scoped>\n",
       "    .dataframe tbody tr th:only-of-type {\n",
       "        vertical-align: middle;\n",
       "    }\n",
       "\n",
       "    .dataframe tbody tr th {\n",
       "        vertical-align: top;\n",
       "    }\n",
       "\n",
       "    .dataframe thead th {\n",
       "        text-align: right;\n",
       "    }\n",
       "</style>\n",
       "<table border=\"1\" class=\"dataframe\">\n",
       "  <thead>\n",
       "    <tr style=\"text-align: right;\">\n",
       "      <th></th>\n",
       "      <th>acc_id</th>\n",
       "      <th>ped_present</th>\n",
       "    </tr>\n",
       "  </thead>\n",
       "  <tbody>\n",
       "    <tr>\n",
       "      <th>0</th>\n",
       "      <td>201600000001</td>\n",
       "      <td>0</td>\n",
       "    </tr>\n",
       "    <tr>\n",
       "      <th>1</th>\n",
       "      <td>201600000002</td>\n",
       "      <td>0</td>\n",
       "    </tr>\n",
       "    <tr>\n",
       "      <th>2</th>\n",
       "      <td>201600000003</td>\n",
       "      <td>1</td>\n",
       "    </tr>\n",
       "    <tr>\n",
       "      <th>3</th>\n",
       "      <td>201600000004</td>\n",
       "      <td>0</td>\n",
       "    </tr>\n",
       "    <tr>\n",
       "      <th>4</th>\n",
       "      <td>201600000005</td>\n",
       "      <td>0</td>\n",
       "    </tr>\n",
       "    <tr>\n",
       "      <th>5</th>\n",
       "      <td>201600000006</td>\n",
       "      <td>1</td>\n",
       "    </tr>\n",
       "    <tr>\n",
       "      <th>6</th>\n",
       "      <td>201600000007</td>\n",
       "      <td>0</td>\n",
       "    </tr>\n",
       "    <tr>\n",
       "      <th>7</th>\n",
       "      <td>201600000008</td>\n",
       "      <td>0</td>\n",
       "    </tr>\n",
       "    <tr>\n",
       "      <th>8</th>\n",
       "      <td>201600000009</td>\n",
       "      <td>0</td>\n",
       "    </tr>\n",
       "    <tr>\n",
       "      <th>9</th>\n",
       "      <td>201600000010</td>\n",
       "      <td>1</td>\n",
       "    </tr>\n",
       "    <tr>\n",
       "      <th>10</th>\n",
       "      <td>201600000011</td>\n",
       "      <td>1</td>\n",
       "    </tr>\n",
       "    <tr>\n",
       "      <th>11</th>\n",
       "      <td>201600000012</td>\n",
       "      <td>0</td>\n",
       "    </tr>\n",
       "    <tr>\n",
       "      <th>12</th>\n",
       "      <td>201600000013</td>\n",
       "      <td>1</td>\n",
       "    </tr>\n",
       "    <tr>\n",
       "      <th>13</th>\n",
       "      <td>201600000014</td>\n",
       "      <td>0</td>\n",
       "    </tr>\n",
       "    <tr>\n",
       "      <th>14</th>\n",
       "      <td>201600000015</td>\n",
       "      <td>0</td>\n",
       "    </tr>\n",
       "  </tbody>\n",
       "</table>\n",
       "</div>"
      ],
      "text/plain": [
       "          acc_id  ped_present\n",
       "0   201600000001            0\n",
       "1   201600000002            0\n",
       "2   201600000003            1\n",
       "3   201600000004            0\n",
       "4   201600000005            0\n",
       "5   201600000006            1\n",
       "6   201600000007            0\n",
       "7   201600000008            0\n",
       "8   201600000009            0\n",
       "9   201600000010            1\n",
       "10  201600000011            1\n",
       "11  201600000012            0\n",
       "12  201600000013            1\n",
       "13  201600000014            0\n",
       "14  201600000015            0"
      ]
     },
     "execution_count": 59,
     "metadata": {},
     "output_type": "execute_result"
    }
   ],
   "source": [
    "df_users_agg.head(15)"
   ]
  },
  {
   "cell_type": "code",
   "execution_count": 60,
   "id": "c5f2d0b0-2143-4951-a0df-2ac64ad15388",
   "metadata": {},
   "outputs": [
    {
     "data": {
      "text/html": [
       "<div>\n",
       "<style scoped>\n",
       "    .dataframe tbody tr th:only-of-type {\n",
       "        vertical-align: middle;\n",
       "    }\n",
       "\n",
       "    .dataframe tbody tr th {\n",
       "        vertical-align: top;\n",
       "    }\n",
       "\n",
       "    .dataframe thead th {\n",
       "        text-align: right;\n",
       "    }\n",
       "</style>\n",
       "<table border=\"1\" class=\"dataframe\">\n",
       "  <thead>\n",
       "    <tr style=\"text-align: right;\">\n",
       "      <th></th>\n",
       "      <th>acc_id</th>\n",
       "      <th>person_cat_catu</th>\n",
       "      <th>injury_severity_grav</th>\n",
       "      <th>ped_present</th>\n",
       "    </tr>\n",
       "  </thead>\n",
       "  <tbody>\n",
       "    <tr>\n",
       "      <th>0</th>\n",
       "      <td>201600000001</td>\n",
       "      <td>1</td>\n",
       "      <td>1</td>\n",
       "      <td>0</td>\n",
       "    </tr>\n",
       "    <tr>\n",
       "      <th>1</th>\n",
       "      <td>201600000001</td>\n",
       "      <td>1</td>\n",
       "      <td>3</td>\n",
       "      <td>0</td>\n",
       "    </tr>\n",
       "    <tr>\n",
       "      <th>2</th>\n",
       "      <td>201600000002</td>\n",
       "      <td>1</td>\n",
       "      <td>3</td>\n",
       "      <td>0</td>\n",
       "    </tr>\n",
       "    <tr>\n",
       "      <th>3</th>\n",
       "      <td>201600000002</td>\n",
       "      <td>2</td>\n",
       "      <td>3</td>\n",
       "      <td>0</td>\n",
       "    </tr>\n",
       "    <tr>\n",
       "      <th>4</th>\n",
       "      <td>201600000002</td>\n",
       "      <td>2</td>\n",
       "      <td>3</td>\n",
       "      <td>0</td>\n",
       "    </tr>\n",
       "    <tr>\n",
       "      <th>5</th>\n",
       "      <td>201600000003</td>\n",
       "      <td>1</td>\n",
       "      <td>1</td>\n",
       "      <td>0</td>\n",
       "    </tr>\n",
       "    <tr>\n",
       "      <th>6</th>\n",
       "      <td>201600000003</td>\n",
       "      <td>3</td>\n",
       "      <td>3</td>\n",
       "      <td>1</td>\n",
       "    </tr>\n",
       "    <tr>\n",
       "      <th>7</th>\n",
       "      <td>201600000004</td>\n",
       "      <td>1</td>\n",
       "      <td>3</td>\n",
       "      <td>0</td>\n",
       "    </tr>\n",
       "    <tr>\n",
       "      <th>8</th>\n",
       "      <td>201600000004</td>\n",
       "      <td>2</td>\n",
       "      <td>4</td>\n",
       "      <td>0</td>\n",
       "    </tr>\n",
       "    <tr>\n",
       "      <th>9</th>\n",
       "      <td>201600000004</td>\n",
       "      <td>1</td>\n",
       "      <td>1</td>\n",
       "      <td>0</td>\n",
       "    </tr>\n",
       "    <tr>\n",
       "      <th>10</th>\n",
       "      <td>201600000005</td>\n",
       "      <td>1</td>\n",
       "      <td>3</td>\n",
       "      <td>0</td>\n",
       "    </tr>\n",
       "    <tr>\n",
       "      <th>11</th>\n",
       "      <td>201600000005</td>\n",
       "      <td>2</td>\n",
       "      <td>3</td>\n",
       "      <td>0</td>\n",
       "    </tr>\n",
       "    <tr>\n",
       "      <th>12</th>\n",
       "      <td>201600000005</td>\n",
       "      <td>1</td>\n",
       "      <td>1</td>\n",
       "      <td>0</td>\n",
       "    </tr>\n",
       "    <tr>\n",
       "      <th>13</th>\n",
       "      <td>201600000006</td>\n",
       "      <td>1</td>\n",
       "      <td>1</td>\n",
       "      <td>0</td>\n",
       "    </tr>\n",
       "    <tr>\n",
       "      <th>14</th>\n",
       "      <td>201600000006</td>\n",
       "      <td>3</td>\n",
       "      <td>3</td>\n",
       "      <td>1</td>\n",
       "    </tr>\n",
       "  </tbody>\n",
       "</table>\n",
       "</div>"
      ],
      "text/plain": [
       "          acc_id  person_cat_catu  injury_severity_grav  ped_present\n",
       "0   201600000001                1                     1            0\n",
       "1   201600000001                1                     3            0\n",
       "2   201600000002                1                     3            0\n",
       "3   201600000002                2                     3            0\n",
       "4   201600000002                2                     3            0\n",
       "5   201600000003                1                     1            0\n",
       "6   201600000003                3                     3            1\n",
       "7   201600000004                1                     3            0\n",
       "8   201600000004                2                     4            0\n",
       "9   201600000004                1                     1            0\n",
       "10  201600000005                1                     3            0\n",
       "11  201600000005                2                     3            0\n",
       "12  201600000005                1                     1            0\n",
       "13  201600000006                1                     1            0\n",
       "14  201600000006                3                     3            1"
      ]
     },
     "execution_count": 60,
     "metadata": {},
     "output_type": "execute_result"
    }
   ],
   "source": [
    "df_users.head(15)"
   ]
  },
  {
   "cell_type": "code",
   "execution_count": 61,
   "id": "d49ac148-3de9-429c-a713-442bb0186f5f",
   "metadata": {},
   "outputs": [
    {
     "data": {
      "text/plain": [
       "ped_present\n",
       "0     693464\n",
       "1     139020\n",
       "2       6415\n",
       "3        773\n",
       "4        214\n",
       "5         55\n",
       "6         19\n",
       "7         13\n",
       "8          2\n",
       "9          3\n",
       "10         4\n",
       "15         1\n",
       "21         1\n",
       "25         1\n",
       "Name: count, dtype: int64"
      ]
     },
     "execution_count": 61,
     "metadata": {},
     "output_type": "execute_result"
    }
   ],
   "source": [
    "df_users_agg.ped_present.value_counts(dropna=False).sort_index()"
   ]
  },
  {
   "cell_type": "raw",
   "id": "b169afaa-56fd-48fd-9543-73b7787876f5",
   "metadata": {},
   "source": [
    "df_users_agg.injury_severity_adj_grav.value_counts().sort_index()"
   ]
  },
  {
   "cell_type": "code",
   "execution_count": 62,
   "id": "775c65b2-4cf2-4fb4-a725-c1251aeeb94f",
   "metadata": {},
   "outputs": [
    {
     "data": {
      "text/plain": [
       "839985"
      ]
     },
     "execution_count": 62,
     "metadata": {},
     "output_type": "execute_result"
    }
   ],
   "source": [
    "len(df_users_agg)"
   ]
  },
  {
   "cell_type": "markdown",
   "id": "e8d28f61-90ca-4e40-b92b-507fa5290aaf",
   "metadata": {},
   "source": [
    "~Change col name of ped_present to ped_count for clarity~\n",
    "\n",
    "~Change col name of injury_severity_adj_grav to injury_count for clarity~"
   ]
  },
  {
   "cell_type": "raw",
   "id": "95da44b4-156f-4d6f-a159-a826899426cb",
   "metadata": {},
   "source": [
    "df_users_agg.rename(columns={'ped_present':'ped_count',\n",
    "                             #'injury_severity_adj_grav':'injury_count'\n",
    "                            }, inplace=True)\n",
    "df_users_agg.head()"
   ]
  },
  {
   "cell_type": "markdown",
   "id": "2a06aa28-c220-4b32-817f-24944d4051fb",
   "metadata": {},
   "source": [
    "AP: Everything seems in place for merging df_users_agg into the main df"
   ]
  },
  {
   "cell_type": "markdown",
   "id": "33210a04-5c72-4f8a-95b2-9de4babe4e32",
   "metadata": {},
   "source": [
    "### Merge users data into main df"
   ]
  },
  {
   "cell_type": "code",
   "execution_count": 63,
   "id": "bcdd3fbb-4fb8-4c65-85b1-660db3939f80",
   "metadata": {},
   "outputs": [],
   "source": [
    "df_main = df_char_place.merge(df_users_agg, on='acc_id', how='inner')"
   ]
  },
  {
   "cell_type": "code",
   "execution_count": 64,
   "id": "fd999349-4d34-4818-a4d5-1f4456a97db3",
   "metadata": {},
   "outputs": [
    {
     "name": "stdout",
     "output_type": "stream",
     "text": [
      "df_char_place row count: 839985\n",
      "\n",
      "df_users_agg row count: 839985\n",
      "\n",
      "df_main row count: 839985\n"
     ]
    }
   ],
   "source": [
    "print('df_char_place row count:', len(df_char_place))\n",
    "print()\n",
    "print('df_users_agg row count:', len(df_users_agg))\n",
    "print()\n",
    "print('df_main row count:', len(df_main))"
   ]
  },
  {
   "cell_type": "code",
   "execution_count": 65,
   "id": "7d6fc9b3-1f42-4cac-aad4-8184d3d736d9",
   "metadata": {},
   "outputs": [
    {
     "data": {
      "text/html": [
       "<div>\n",
       "<style scoped>\n",
       "    .dataframe tbody tr th:only-of-type {\n",
       "        vertical-align: middle;\n",
       "    }\n",
       "\n",
       "    .dataframe tbody tr th {\n",
       "        vertical-align: top;\n",
       "    }\n",
       "\n",
       "    .dataframe thead th {\n",
       "        text-align: right;\n",
       "    }\n",
       "</style>\n",
       "<table border=\"1\" class=\"dataframe\">\n",
       "  <thead>\n",
       "    <tr style=\"text-align: right;\">\n",
       "      <th></th>\n",
       "      <th>acc_id</th>\n",
       "      <th>year_an</th>\n",
       "      <th>month_mois</th>\n",
       "      <th>day_jour</th>\n",
       "      <th>hrmn</th>\n",
       "      <th>luminosity_lum</th>\n",
       "      <th>built_up_agg</th>\n",
       "      <th>intersection_type_int</th>\n",
       "      <th>weather_atm</th>\n",
       "      <th>collision_type_col</th>\n",
       "      <th>road_category_catr</th>\n",
       "      <th>road_type_circ</th>\n",
       "      <th>lane_count_nbv</th>\n",
       "      <th>reserved_lane_type_vosp</th>\n",
       "      <th>road_slope_prof</th>\n",
       "      <th>road_curvature_plan</th>\n",
       "      <th>central_sep_width_lartpc</th>\n",
       "      <th>road_width_larrout</th>\n",
       "      <th>surface_cond_surf</th>\n",
       "      <th>infrastructure_infra</th>\n",
       "      <th>crash_location_situ</th>\n",
       "      <th>ped_present</th>\n",
       "    </tr>\n",
       "  </thead>\n",
       "  <tbody>\n",
       "    <tr>\n",
       "      <th>0</th>\n",
       "      <td>201600000001</td>\n",
       "      <td>16</td>\n",
       "      <td>2</td>\n",
       "      <td>1</td>\n",
       "      <td>1445</td>\n",
       "      <td>1</td>\n",
       "      <td>2</td>\n",
       "      <td>1</td>\n",
       "      <td>8.0</td>\n",
       "      <td>3.0</td>\n",
       "      <td>3.0</td>\n",
       "      <td>2.0</td>\n",
       "      <td>0.0</td>\n",
       "      <td>0.0</td>\n",
       "      <td>1.0</td>\n",
       "      <td>3.0</td>\n",
       "      <td>0.0</td>\n",
       "      <td>0.0</td>\n",
       "      <td>1.0</td>\n",
       "      <td>0.0</td>\n",
       "      <td>1.0</td>\n",
       "      <td>0</td>\n",
       "    </tr>\n",
       "    <tr>\n",
       "      <th>1</th>\n",
       "      <td>201600000002</td>\n",
       "      <td>16</td>\n",
       "      <td>3</td>\n",
       "      <td>16</td>\n",
       "      <td>1800</td>\n",
       "      <td>1</td>\n",
       "      <td>2</td>\n",
       "      <td>6</td>\n",
       "      <td>1.0</td>\n",
       "      <td>6.0</td>\n",
       "      <td>3.0</td>\n",
       "      <td>1.0</td>\n",
       "      <td>0.0</td>\n",
       "      <td>0.0</td>\n",
       "      <td>1.0</td>\n",
       "      <td>2.0</td>\n",
       "      <td>0.0</td>\n",
       "      <td>58.0</td>\n",
       "      <td>1.0</td>\n",
       "      <td>0.0</td>\n",
       "      <td>1.0</td>\n",
       "      <td>0</td>\n",
       "    </tr>\n",
       "    <tr>\n",
       "      <th>2</th>\n",
       "      <td>201600000003</td>\n",
       "      <td>16</td>\n",
       "      <td>7</td>\n",
       "      <td>13</td>\n",
       "      <td>1900</td>\n",
       "      <td>1</td>\n",
       "      <td>1</td>\n",
       "      <td>1</td>\n",
       "      <td>1.0</td>\n",
       "      <td>6.0</td>\n",
       "      <td>3.0</td>\n",
       "      <td>2.0</td>\n",
       "      <td>2.0</td>\n",
       "      <td>0.0</td>\n",
       "      <td>1.0</td>\n",
       "      <td>3.0</td>\n",
       "      <td>0.0</td>\n",
       "      <td>68.0</td>\n",
       "      <td>2.0</td>\n",
       "      <td>0.0</td>\n",
       "      <td>3.0</td>\n",
       "      <td>1</td>\n",
       "    </tr>\n",
       "    <tr>\n",
       "      <th>3</th>\n",
       "      <td>201600000004</td>\n",
       "      <td>16</td>\n",
       "      <td>8</td>\n",
       "      <td>15</td>\n",
       "      <td>1930</td>\n",
       "      <td>2</td>\n",
       "      <td>2</td>\n",
       "      <td>1</td>\n",
       "      <td>7.0</td>\n",
       "      <td>3.0</td>\n",
       "      <td>4.0</td>\n",
       "      <td>2.0</td>\n",
       "      <td>0.0</td>\n",
       "      <td>0.0</td>\n",
       "      <td>1.0</td>\n",
       "      <td>1.0</td>\n",
       "      <td>0.0</td>\n",
       "      <td>0.0</td>\n",
       "      <td>1.0</td>\n",
       "      <td>0.0</td>\n",
       "      <td>1.0</td>\n",
       "      <td>0</td>\n",
       "    </tr>\n",
       "    <tr>\n",
       "      <th>4</th>\n",
       "      <td>201600000005</td>\n",
       "      <td>16</td>\n",
       "      <td>12</td>\n",
       "      <td>23</td>\n",
       "      <td>1100</td>\n",
       "      <td>1</td>\n",
       "      <td>2</td>\n",
       "      <td>3</td>\n",
       "      <td>1.0</td>\n",
       "      <td>3.0</td>\n",
       "      <td>4.0</td>\n",
       "      <td>0.0</td>\n",
       "      <td>0.0</td>\n",
       "      <td>0.0</td>\n",
       "      <td>0.0</td>\n",
       "      <td>1.0</td>\n",
       "      <td>0.0</td>\n",
       "      <td>0.0</td>\n",
       "      <td>1.0</td>\n",
       "      <td>0.0</td>\n",
       "      <td>1.0</td>\n",
       "      <td>0</td>\n",
       "    </tr>\n",
       "    <tr>\n",
       "      <th>5</th>\n",
       "      <td>201600000006</td>\n",
       "      <td>16</td>\n",
       "      <td>12</td>\n",
       "      <td>23</td>\n",
       "      <td>1115</td>\n",
       "      <td>1</td>\n",
       "      <td>2</td>\n",
       "      <td>1</td>\n",
       "      <td>7.0</td>\n",
       "      <td>6.0</td>\n",
       "      <td>3.0</td>\n",
       "      <td>2.0</td>\n",
       "      <td>0.0</td>\n",
       "      <td>0.0</td>\n",
       "      <td>1.0</td>\n",
       "      <td>1.0</td>\n",
       "      <td>0.0</td>\n",
       "      <td>0.0</td>\n",
       "      <td>1.0</td>\n",
       "      <td>0.0</td>\n",
       "      <td>1.0</td>\n",
       "      <td>1</td>\n",
       "    </tr>\n",
       "    <tr>\n",
       "      <th>6</th>\n",
       "      <td>201600000007</td>\n",
       "      <td>16</td>\n",
       "      <td>5</td>\n",
       "      <td>1</td>\n",
       "      <td>1145</td>\n",
       "      <td>1</td>\n",
       "      <td>2</td>\n",
       "      <td>1</td>\n",
       "      <td>7.0</td>\n",
       "      <td>2.0</td>\n",
       "      <td>3.0</td>\n",
       "      <td>2.0</td>\n",
       "      <td>0.0</td>\n",
       "      <td>0.0</td>\n",
       "      <td>1.0</td>\n",
       "      <td>1.0</td>\n",
       "      <td>70.0</td>\n",
       "      <td>0.0</td>\n",
       "      <td>1.0</td>\n",
       "      <td>0.0</td>\n",
       "      <td>1.0</td>\n",
       "      <td>0</td>\n",
       "    </tr>\n",
       "    <tr>\n",
       "      <th>7</th>\n",
       "      <td>201600000008</td>\n",
       "      <td>16</td>\n",
       "      <td>5</td>\n",
       "      <td>14</td>\n",
       "      <td>1915</td>\n",
       "      <td>2</td>\n",
       "      <td>1</td>\n",
       "      <td>1</td>\n",
       "      <td>1.0</td>\n",
       "      <td>1.0</td>\n",
       "      <td>3.0</td>\n",
       "      <td>2.0</td>\n",
       "      <td>2.0</td>\n",
       "      <td>0.0</td>\n",
       "      <td>1.0</td>\n",
       "      <td>1.0</td>\n",
       "      <td>0.0</td>\n",
       "      <td>70.0</td>\n",
       "      <td>1.0</td>\n",
       "      <td>0.0</td>\n",
       "      <td>1.0</td>\n",
       "      <td>0</td>\n",
       "    </tr>\n",
       "    <tr>\n",
       "      <th>8</th>\n",
       "      <td>201600000009</td>\n",
       "      <td>16</td>\n",
       "      <td>9</td>\n",
       "      <td>23</td>\n",
       "      <td>1900</td>\n",
       "      <td>1</td>\n",
       "      <td>2</td>\n",
       "      <td>1</td>\n",
       "      <td>1.0</td>\n",
       "      <td>3.0</td>\n",
       "      <td>4.0</td>\n",
       "      <td>2.0</td>\n",
       "      <td>2.0</td>\n",
       "      <td>0.0</td>\n",
       "      <td>1.0</td>\n",
       "      <td>0.0</td>\n",
       "      <td>0.0</td>\n",
       "      <td>0.0</td>\n",
       "      <td>1.0</td>\n",
       "      <td>0.0</td>\n",
       "      <td>1.0</td>\n",
       "      <td>0</td>\n",
       "    </tr>\n",
       "    <tr>\n",
       "      <th>9</th>\n",
       "      <td>201600000010</td>\n",
       "      <td>16</td>\n",
       "      <td>12</td>\n",
       "      <td>30</td>\n",
       "      <td>1030</td>\n",
       "      <td>1</td>\n",
       "      <td>1</td>\n",
       "      <td>1</td>\n",
       "      <td>9.0</td>\n",
       "      <td>6.0</td>\n",
       "      <td>4.0</td>\n",
       "      <td>2.0</td>\n",
       "      <td>0.0</td>\n",
       "      <td>0.0</td>\n",
       "      <td>0.0</td>\n",
       "      <td>1.0</td>\n",
       "      <td>0.0</td>\n",
       "      <td>44.0</td>\n",
       "      <td>7.0</td>\n",
       "      <td>0.0</td>\n",
       "      <td>1.0</td>\n",
       "      <td>1</td>\n",
       "    </tr>\n",
       "  </tbody>\n",
       "</table>\n",
       "</div>"
      ],
      "text/plain": [
       "         acc_id  year_an  month_mois  day_jour  hrmn  luminosity_lum  \\\n",
       "0  201600000001       16           2         1  1445               1   \n",
       "1  201600000002       16           3        16  1800               1   \n",
       "2  201600000003       16           7        13  1900               1   \n",
       "3  201600000004       16           8        15  1930               2   \n",
       "4  201600000005       16          12        23  1100               1   \n",
       "5  201600000006       16          12        23  1115               1   \n",
       "6  201600000007       16           5         1  1145               1   \n",
       "7  201600000008       16           5        14  1915               2   \n",
       "8  201600000009       16           9        23  1900               1   \n",
       "9  201600000010       16          12        30  1030               1   \n",
       "\n",
       "   built_up_agg  intersection_type_int  weather_atm  collision_type_col  \\\n",
       "0             2                      1          8.0                 3.0   \n",
       "1             2                      6          1.0                 6.0   \n",
       "2             1                      1          1.0                 6.0   \n",
       "3             2                      1          7.0                 3.0   \n",
       "4             2                      3          1.0                 3.0   \n",
       "5             2                      1          7.0                 6.0   \n",
       "6             2                      1          7.0                 2.0   \n",
       "7             1                      1          1.0                 1.0   \n",
       "8             2                      1          1.0                 3.0   \n",
       "9             1                      1          9.0                 6.0   \n",
       "\n",
       "   road_category_catr  road_type_circ  lane_count_nbv  \\\n",
       "0                 3.0             2.0             0.0   \n",
       "1                 3.0             1.0             0.0   \n",
       "2                 3.0             2.0             2.0   \n",
       "3                 4.0             2.0             0.0   \n",
       "4                 4.0             0.0             0.0   \n",
       "5                 3.0             2.0             0.0   \n",
       "6                 3.0             2.0             0.0   \n",
       "7                 3.0             2.0             2.0   \n",
       "8                 4.0             2.0             2.0   \n",
       "9                 4.0             2.0             0.0   \n",
       "\n",
       "   reserved_lane_type_vosp  road_slope_prof  road_curvature_plan  \\\n",
       "0                      0.0              1.0                  3.0   \n",
       "1                      0.0              1.0                  2.0   \n",
       "2                      0.0              1.0                  3.0   \n",
       "3                      0.0              1.0                  1.0   \n",
       "4                      0.0              0.0                  1.0   \n",
       "5                      0.0              1.0                  1.0   \n",
       "6                      0.0              1.0                  1.0   \n",
       "7                      0.0              1.0                  1.0   \n",
       "8                      0.0              1.0                  0.0   \n",
       "9                      0.0              0.0                  1.0   \n",
       "\n",
       "   central_sep_width_lartpc  road_width_larrout  surface_cond_surf  \\\n",
       "0                       0.0                 0.0                1.0   \n",
       "1                       0.0                58.0                1.0   \n",
       "2                       0.0                68.0                2.0   \n",
       "3                       0.0                 0.0                1.0   \n",
       "4                       0.0                 0.0                1.0   \n",
       "5                       0.0                 0.0                1.0   \n",
       "6                      70.0                 0.0                1.0   \n",
       "7                       0.0                70.0                1.0   \n",
       "8                       0.0                 0.0                1.0   \n",
       "9                       0.0                44.0                7.0   \n",
       "\n",
       "   infrastructure_infra  crash_location_situ  ped_present  \n",
       "0                   0.0                  1.0            0  \n",
       "1                   0.0                  1.0            0  \n",
       "2                   0.0                  3.0            1  \n",
       "3                   0.0                  1.0            0  \n",
       "4                   0.0                  1.0            0  \n",
       "5                   0.0                  1.0            1  \n",
       "6                   0.0                  1.0            0  \n",
       "7                   0.0                  1.0            0  \n",
       "8                   0.0                  1.0            0  \n",
       "9                   0.0                  1.0            1  "
      ]
     },
     "execution_count": 65,
     "metadata": {},
     "output_type": "execute_result"
    }
   ],
   "source": [
    "df_main.head(10)"
   ]
  },
  {
   "cell_type": "code",
   "execution_count": 66,
   "id": "b299090a-2bd6-4392-a78f-aa595edd6743",
   "metadata": {},
   "outputs": [
    {
     "data": {
      "text/plain": [
       "839985"
      ]
     },
     "execution_count": 66,
     "metadata": {},
     "output_type": "execute_result"
    }
   ],
   "source": [
    "len(df_main)"
   ]
  },
  {
   "cell_type": "markdown",
   "id": "bb089810-39b3-4118-a626-ef572dc1db7d",
   "metadata": {},
   "source": [
    "## Create df_main cols for holiday & yes/no if holiday\n",
    "\n",
    "Both to analyze if holidays have more accidents and also analyze which holidays have increased accidents."
   ]
  },
  {
   "cell_type": "code",
   "execution_count": 67,
   "id": "67b705af-51aa-4c87-a8d5-75958b728d85",
   "metadata": {},
   "outputs": [
    {
     "data": {
      "text/html": [
       "<div>\n",
       "<style scoped>\n",
       "    .dataframe tbody tr th:only-of-type {\n",
       "        vertical-align: middle;\n",
       "    }\n",
       "\n",
       "    .dataframe tbody tr th {\n",
       "        vertical-align: top;\n",
       "    }\n",
       "\n",
       "    .dataframe thead th {\n",
       "        text-align: right;\n",
       "    }\n",
       "</style>\n",
       "<table border=\"1\" class=\"dataframe\">\n",
       "  <thead>\n",
       "    <tr style=\"text-align: right;\">\n",
       "      <th></th>\n",
       "      <th>date</th>\n",
       "      <th>holiday</th>\n",
       "    </tr>\n",
       "  </thead>\n",
       "  <tbody>\n",
       "    <tr>\n",
       "      <th>0</th>\n",
       "      <td>2005-01-01</td>\n",
       "      <td>New year</td>\n",
       "    </tr>\n",
       "    <tr>\n",
       "      <th>1</th>\n",
       "      <td>2005-03-28</td>\n",
       "      <td>Easter Monday</td>\n",
       "    </tr>\n",
       "    <tr>\n",
       "      <th>2</th>\n",
       "      <td>2005-05-01</td>\n",
       "      <td>Labour Day</td>\n",
       "    </tr>\n",
       "    <tr>\n",
       "      <th>3</th>\n",
       "      <td>2005-05-05</td>\n",
       "      <td>Ascension Thursday</td>\n",
       "    </tr>\n",
       "    <tr>\n",
       "      <th>4</th>\n",
       "      <td>2005-05-08</td>\n",
       "      <td>Victory in Europe Day</td>\n",
       "    </tr>\n",
       "    <tr>\n",
       "      <th>5</th>\n",
       "      <td>2005-05-16</td>\n",
       "      <td>Whit Monday</td>\n",
       "    </tr>\n",
       "    <tr>\n",
       "      <th>6</th>\n",
       "      <td>2005-07-14</td>\n",
       "      <td>Bastille Day</td>\n",
       "    </tr>\n",
       "    <tr>\n",
       "      <th>7</th>\n",
       "      <td>2005-08-15</td>\n",
       "      <td>Assumption of Mary to Heaven</td>\n",
       "    </tr>\n",
       "    <tr>\n",
       "      <th>8</th>\n",
       "      <td>2005-11-01</td>\n",
       "      <td>All Saints Day</td>\n",
       "    </tr>\n",
       "    <tr>\n",
       "      <th>9</th>\n",
       "      <td>2005-11-11</td>\n",
       "      <td>Armistice Day</td>\n",
       "    </tr>\n",
       "    <tr>\n",
       "      <th>10</th>\n",
       "      <td>2005-12-25</td>\n",
       "      <td>Christmas Day</td>\n",
       "    </tr>\n",
       "    <tr>\n",
       "      <th>11</th>\n",
       "      <td>2006-01-01</td>\n",
       "      <td>New year</td>\n",
       "    </tr>\n",
       "  </tbody>\n",
       "</table>\n",
       "</div>"
      ],
      "text/plain": [
       "          date                       holiday\n",
       "0   2005-01-01                      New year\n",
       "1   2005-03-28                 Easter Monday\n",
       "2   2005-05-01                    Labour Day\n",
       "3   2005-05-05            Ascension Thursday\n",
       "4   2005-05-08         Victory in Europe Day\n",
       "5   2005-05-16                   Whit Monday\n",
       "6   2005-07-14                  Bastille Day\n",
       "7   2005-08-15  Assumption of Mary to Heaven\n",
       "8   2005-11-01                All Saints Day\n",
       "9   2005-11-11                 Armistice Day\n",
       "10  2005-12-25                 Christmas Day\n",
       "11  2006-01-01                      New year"
      ]
     },
     "execution_count": 67,
     "metadata": {},
     "output_type": "execute_result"
    }
   ],
   "source": [
    "df_holiday.head(12) #because 11 holidays"
   ]
  },
  {
   "cell_type": "code",
   "execution_count": 68,
   "id": "9b8c6812-326f-4ea5-8fde-238c82860a28",
   "metadata": {},
   "outputs": [
    {
     "name": "stdout",
     "output_type": "stream",
     "text": [
      "<class 'pandas.core.frame.DataFrame'>\n",
      "RangeIndex: 132 entries, 0 to 131\n",
      "Data columns (total 2 columns):\n",
      " #   Column   Non-Null Count  Dtype \n",
      "---  ------   --------------  ----- \n",
      " 0   date     132 non-null    object\n",
      " 1   holiday  132 non-null    object\n",
      "dtypes: object(2)\n",
      "memory usage: 2.2+ KB\n"
     ]
    }
   ],
   "source": [
    "df_holiday.info()"
   ]
  },
  {
   "cell_type": "code",
   "execution_count": 69,
   "id": "922ab648-eee4-4948-9540-ba32f6f08edf",
   "metadata": {},
   "outputs": [],
   "source": [
    "# Convert to datetime\n",
    "df_holiday['date'] = pd.to_datetime(df_holiday['date'])"
   ]
  },
  {
   "cell_type": "code",
   "execution_count": 70,
   "id": "e1e629a0-3b1a-4edd-b7ae-541463c80c15",
   "metadata": {},
   "outputs": [
    {
     "name": "stdout",
     "output_type": "stream",
     "text": [
      "<class 'pandas.core.frame.DataFrame'>\n",
      "RangeIndex: 132 entries, 0 to 131\n",
      "Data columns (total 2 columns):\n",
      " #   Column   Non-Null Count  Dtype         \n",
      "---  ------   --------------  -----         \n",
      " 0   date     132 non-null    datetime64[ns]\n",
      " 1   holiday  132 non-null    object        \n",
      "dtypes: datetime64[ns](1), object(1)\n",
      "memory usage: 2.2+ KB\n"
     ]
    }
   ],
   "source": [
    "df_holiday.info()"
   ]
  },
  {
   "cell_type": "code",
   "execution_count": 71,
   "id": "f81ea129-fee4-49b4-923d-18f1c7f338e9",
   "metadata": {},
   "outputs": [
    {
     "data": {
      "text/plain": [
       "holiday\n",
       "New year                        12\n",
       "Easter Monday                   12\n",
       "Labour Day                      12\n",
       "Ascension Thursday              12\n",
       "Victory in Europe Day           12\n",
       "Whit Monday                     12\n",
       "Bastille Day                    12\n",
       "Assumption of Mary to Heaven    12\n",
       "All Saints Day                  12\n",
       "Armistice Day                   12\n",
       "Christmas Day                   12\n",
       "Name: count, dtype: int64"
      ]
     },
     "execution_count": 71,
     "metadata": {},
     "output_type": "execute_result"
    }
   ],
   "source": [
    "df_holiday.holiday.value_counts()"
   ]
  },
  {
   "cell_type": "markdown",
   "id": "6ffdfde0-d2dc-48e6-b607-fbaa505d960e",
   "metadata": {},
   "source": [
    "____\n",
    "## Create a 'date' col in datetime dtype"
   ]
  },
  {
   "cell_type": "code",
   "execution_count": 72,
   "id": "fc952510-e657-4b90-8ccd-2e88c32c3798",
   "metadata": {},
   "outputs": [],
   "source": [
    "df_main['hour'] = df_main['hrmn'] // 100\n",
    "df_main['minute'] = df_main['hrmn'] % 100"
   ]
  },
  {
   "cell_type": "code",
   "execution_count": 73,
   "id": "725b9338-9234-4b97-89c1-882de3b98811",
   "metadata": {},
   "outputs": [
    {
     "data": {
      "text/html": [
       "<div>\n",
       "<style scoped>\n",
       "    .dataframe tbody tr th:only-of-type {\n",
       "        vertical-align: middle;\n",
       "    }\n",
       "\n",
       "    .dataframe tbody tr th {\n",
       "        vertical-align: top;\n",
       "    }\n",
       "\n",
       "    .dataframe thead th {\n",
       "        text-align: right;\n",
       "    }\n",
       "</style>\n",
       "<table border=\"1\" class=\"dataframe\">\n",
       "  <thead>\n",
       "    <tr style=\"text-align: right;\">\n",
       "      <th></th>\n",
       "      <th>hrmn</th>\n",
       "      <th>hour</th>\n",
       "      <th>minute</th>\n",
       "    </tr>\n",
       "  </thead>\n",
       "  <tbody>\n",
       "    <tr>\n",
       "      <th>0</th>\n",
       "      <td>1445</td>\n",
       "      <td>14</td>\n",
       "      <td>45</td>\n",
       "    </tr>\n",
       "    <tr>\n",
       "      <th>1</th>\n",
       "      <td>1800</td>\n",
       "      <td>18</td>\n",
       "      <td>0</td>\n",
       "    </tr>\n",
       "    <tr>\n",
       "      <th>2</th>\n",
       "      <td>1900</td>\n",
       "      <td>19</td>\n",
       "      <td>0</td>\n",
       "    </tr>\n",
       "    <tr>\n",
       "      <th>3</th>\n",
       "      <td>1930</td>\n",
       "      <td>19</td>\n",
       "      <td>30</td>\n",
       "    </tr>\n",
       "    <tr>\n",
       "      <th>4</th>\n",
       "      <td>1100</td>\n",
       "      <td>11</td>\n",
       "      <td>0</td>\n",
       "    </tr>\n",
       "  </tbody>\n",
       "</table>\n",
       "</div>"
      ],
      "text/plain": [
       "   hrmn  hour  minute\n",
       "0  1445    14      45\n",
       "1  1800    18       0\n",
       "2  1900    19       0\n",
       "3  1930    19      30\n",
       "4  1100    11       0"
      ]
     },
     "execution_count": 73,
     "metadata": {},
     "output_type": "execute_result"
    }
   ],
   "source": [
    "df_main[['hrmn', 'hour', 'minute']].head()"
   ]
  },
  {
   "cell_type": "code",
   "execution_count": 74,
   "id": "6cdc3800-96bd-489a-bc39-592cd74b377d",
   "metadata": {},
   "outputs": [],
   "source": [
    "df_main['date'] = pd.to_datetime(df_main[['year_an', 'month_mois', 'day_jour', 'hour', 'minute']]\n",
    "                                 .rename(columns={'year_an': 'year', 'month_mois': 'month', 'day_jour': 'day'})\n",
    "                                 .assign(year=lambda x: x['year']+2000))"
   ]
  },
  {
   "cell_type": "code",
   "execution_count": 75,
   "id": "60c90418-8ca8-4063-a929-f661642851c0",
   "metadata": {},
   "outputs": [
    {
     "data": {
      "text/html": [
       "<div>\n",
       "<style scoped>\n",
       "    .dataframe tbody tr th:only-of-type {\n",
       "        vertical-align: middle;\n",
       "    }\n",
       "\n",
       "    .dataframe tbody tr th {\n",
       "        vertical-align: top;\n",
       "    }\n",
       "\n",
       "    .dataframe thead th {\n",
       "        text-align: right;\n",
       "    }\n",
       "</style>\n",
       "<table border=\"1\" class=\"dataframe\">\n",
       "  <thead>\n",
       "    <tr style=\"text-align: right;\">\n",
       "      <th></th>\n",
       "      <th>year_an</th>\n",
       "      <th>month_mois</th>\n",
       "      <th>day_jour</th>\n",
       "      <th>hour</th>\n",
       "      <th>minute</th>\n",
       "      <th>date</th>\n",
       "    </tr>\n",
       "  </thead>\n",
       "  <tbody>\n",
       "    <tr>\n",
       "      <th>0</th>\n",
       "      <td>16</td>\n",
       "      <td>2</td>\n",
       "      <td>1</td>\n",
       "      <td>14</td>\n",
       "      <td>45</td>\n",
       "      <td>2016-02-01 14:45:00</td>\n",
       "    </tr>\n",
       "    <tr>\n",
       "      <th>1</th>\n",
       "      <td>16</td>\n",
       "      <td>3</td>\n",
       "      <td>16</td>\n",
       "      <td>18</td>\n",
       "      <td>0</td>\n",
       "      <td>2016-03-16 18:00:00</td>\n",
       "    </tr>\n",
       "    <tr>\n",
       "      <th>2</th>\n",
       "      <td>16</td>\n",
       "      <td>7</td>\n",
       "      <td>13</td>\n",
       "      <td>19</td>\n",
       "      <td>0</td>\n",
       "      <td>2016-07-13 19:00:00</td>\n",
       "    </tr>\n",
       "    <tr>\n",
       "      <th>3</th>\n",
       "      <td>16</td>\n",
       "      <td>8</td>\n",
       "      <td>15</td>\n",
       "      <td>19</td>\n",
       "      <td>30</td>\n",
       "      <td>2016-08-15 19:30:00</td>\n",
       "    </tr>\n",
       "    <tr>\n",
       "      <th>4</th>\n",
       "      <td>16</td>\n",
       "      <td>12</td>\n",
       "      <td>23</td>\n",
       "      <td>11</td>\n",
       "      <td>0</td>\n",
       "      <td>2016-12-23 11:00:00</td>\n",
       "    </tr>\n",
       "  </tbody>\n",
       "</table>\n",
       "</div>"
      ],
      "text/plain": [
       "   year_an  month_mois  day_jour  hour  minute                date\n",
       "0       16           2         1    14      45 2016-02-01 14:45:00\n",
       "1       16           3        16    18       0 2016-03-16 18:00:00\n",
       "2       16           7        13    19       0 2016-07-13 19:00:00\n",
       "3       16           8        15    19      30 2016-08-15 19:30:00\n",
       "4       16          12        23    11       0 2016-12-23 11:00:00"
      ]
     },
     "execution_count": 75,
     "metadata": {},
     "output_type": "execute_result"
    }
   ],
   "source": [
    "df_main[['year_an',\n",
    " 'month_mois',\n",
    " 'day_jour','hour',\n",
    " 'minute','date']].head()"
   ]
  },
  {
   "cell_type": "code",
   "execution_count": 76,
   "id": "d92d193f-b0bc-4524-8f22-ef7e2e6c495c",
   "metadata": {},
   "outputs": [
    {
     "data": {
      "text/plain": [
       "acc_id                               int64\n",
       "year_an                              int64\n",
       "month_mois                           int64\n",
       "day_jour                             int64\n",
       "hrmn                                 int64\n",
       "luminosity_lum                       int64\n",
       "built_up_agg                         int64\n",
       "intersection_type_int                int64\n",
       "weather_atm                        float64\n",
       "collision_type_col                 float64\n",
       "road_category_catr                 float64\n",
       "road_type_circ                     float64\n",
       "lane_count_nbv                     float64\n",
       "reserved_lane_type_vosp            float64\n",
       "road_slope_prof                    float64\n",
       "road_curvature_plan                float64\n",
       "central_sep_width_lartpc           float64\n",
       "road_width_larrout                 float64\n",
       "surface_cond_surf                  float64\n",
       "infrastructure_infra               float64\n",
       "crash_location_situ                float64\n",
       "ped_present                          int64\n",
       "hour                                 int64\n",
       "minute                               int64\n",
       "date                        datetime64[ns]\n",
       "dtype: object"
      ]
     },
     "execution_count": 76,
     "metadata": {},
     "output_type": "execute_result"
    }
   ],
   "source": [
    "df_main.dtypes"
   ]
  },
  {
   "cell_type": "markdown",
   "id": "4b597e9d-9ae9-4550-b1d7-0bc4054e8c5b",
   "metadata": {},
   "source": [
    "#### Round to the nearest hour\n",
    "\n",
    "- Reasoning:\n",
    "    - moving personnel & resources to a location requires enough time and effort that only having them manage that location for minutes is not worth it\n",
    "    - Car accidents are almost always never coordinated to occur within minute ranges"
   ]
  },
  {
   "cell_type": "code",
   "execution_count": 77,
   "id": "779af6d0-9178-4de2-affa-fc84850f5111",
   "metadata": {},
   "outputs": [],
   "source": [
    "df_main['date'] = df_main['date'].dt.round('h')"
   ]
  },
  {
   "cell_type": "code",
   "execution_count": 78,
   "id": "8c3b8cca-b6de-4c0f-927d-4e0feb67e46e",
   "metadata": {},
   "outputs": [
    {
     "data": {
      "text/html": [
       "<div>\n",
       "<style scoped>\n",
       "    .dataframe tbody tr th:only-of-type {\n",
       "        vertical-align: middle;\n",
       "    }\n",
       "\n",
       "    .dataframe tbody tr th {\n",
       "        vertical-align: top;\n",
       "    }\n",
       "\n",
       "    .dataframe thead th {\n",
       "        text-align: right;\n",
       "    }\n",
       "</style>\n",
       "<table border=\"1\" class=\"dataframe\">\n",
       "  <thead>\n",
       "    <tr style=\"text-align: right;\">\n",
       "      <th></th>\n",
       "      <th>date</th>\n",
       "    </tr>\n",
       "  </thead>\n",
       "  <tbody>\n",
       "    <tr>\n",
       "      <th>0</th>\n",
       "      <td>2016-02-01 15:00:00</td>\n",
       "    </tr>\n",
       "    <tr>\n",
       "      <th>1</th>\n",
       "      <td>2016-03-16 18:00:00</td>\n",
       "    </tr>\n",
       "    <tr>\n",
       "      <th>2</th>\n",
       "      <td>2016-07-13 19:00:00</td>\n",
       "    </tr>\n",
       "    <tr>\n",
       "      <th>3</th>\n",
       "      <td>2016-08-15 20:00:00</td>\n",
       "    </tr>\n",
       "    <tr>\n",
       "      <th>4</th>\n",
       "      <td>2016-12-23 11:00:00</td>\n",
       "    </tr>\n",
       "  </tbody>\n",
       "</table>\n",
       "</div>"
      ],
      "text/plain": [
       "                 date\n",
       "0 2016-02-01 15:00:00\n",
       "1 2016-03-16 18:00:00\n",
       "2 2016-07-13 19:00:00\n",
       "3 2016-08-15 20:00:00\n",
       "4 2016-12-23 11:00:00"
      ]
     },
     "execution_count": 78,
     "metadata": {},
     "output_type": "execute_result"
    }
   ],
   "source": [
    "df_main[['date']].head()"
   ]
  },
  {
   "cell_type": "markdown",
   "id": "541f73e7-01f7-41e0-9284-4ede3a0ab0ff",
   "metadata": {},
   "source": [
    "#### Adjust 'hour' col to the new rounded hours\n",
    "\n",
    "In order to use later for analysis on time of day"
   ]
  },
  {
   "cell_type": "code",
   "execution_count": 79,
   "id": "6580e2d6-e211-449f-a61a-4192ce0d6e44",
   "metadata": {},
   "outputs": [],
   "source": [
    "df_main['hour'] = df_main['date'].dt.hour"
   ]
  },
  {
   "cell_type": "code",
   "execution_count": 80,
   "id": "6c8a474d-5d44-40b6-9fd6-195236304813",
   "metadata": {},
   "outputs": [
    {
     "data": {
      "text/plain": [
       "0    15\n",
       "1    18\n",
       "2    19\n",
       "3    20\n",
       "4    11\n",
       "Name: hour, dtype: int32"
      ]
     },
     "execution_count": 80,
     "metadata": {},
     "output_type": "execute_result"
    }
   ],
   "source": [
    "df_main['hour'].head()"
   ]
  },
  {
   "cell_type": "markdown",
   "id": "35613832-7aba-48e7-a7ef-8beab93cadad",
   "metadata": {},
   "source": [
    "#### Drop the cols year_an, month_mois, day_jour, & hrmn\n",
    "\n",
    "Unneeded now"
   ]
  },
  {
   "cell_type": "code",
   "execution_count": 81,
   "id": "27a0a29a-2be6-453b-bec0-8274b545152e",
   "metadata": {},
   "outputs": [
    {
     "name": "stdout",
     "output_type": "stream",
     "text": [
      "Index(['acc_id', 'luminosity_lum', 'built_up_agg', 'intersection_type_int',\n",
      "       'weather_atm', 'collision_type_col', 'road_category_catr',\n",
      "       'road_type_circ', 'lane_count_nbv', 'reserved_lane_type_vosp',\n",
      "       'road_slope_prof', 'road_curvature_plan', 'central_sep_width_lartpc',\n",
      "       'road_width_larrout', 'surface_cond_surf', 'infrastructure_infra',\n",
      "       'crash_location_situ', 'ped_present', 'hour', 'date'],\n",
      "      dtype='object')\n"
     ]
    }
   ],
   "source": [
    "df_main.drop(['year_an', 'month_mois', 'day_jour', 'hrmn', 'minute'], errors='ignore', axis=1, inplace=True)\n",
    "print(df_main.columns)"
   ]
  },
  {
   "cell_type": "markdown",
   "id": "339773e7-8e8b-48df-93c9-cb4515ca6d1c",
   "metadata": {},
   "source": [
    "### Create day_of_week col\n",
    "\n",
    "This will later get converted with pd.get_dummies along with other categorical cols"
   ]
  },
  {
   "cell_type": "code",
   "execution_count": 82,
   "id": "59ad8dd2-7ef8-436c-a83a-e0d0836fcb8d",
   "metadata": {},
   "outputs": [],
   "source": [
    "df_main['day_of_week'] = df_main['date'].dt.day_name()"
   ]
  },
  {
   "cell_type": "code",
   "execution_count": 83,
   "id": "1df21996-0b72-4187-85a6-5423b3ce0af4",
   "metadata": {},
   "outputs": [
    {
     "data": {
      "text/html": [
       "<div>\n",
       "<style scoped>\n",
       "    .dataframe tbody tr th:only-of-type {\n",
       "        vertical-align: middle;\n",
       "    }\n",
       "\n",
       "    .dataframe tbody tr th {\n",
       "        vertical-align: top;\n",
       "    }\n",
       "\n",
       "    .dataframe thead th {\n",
       "        text-align: right;\n",
       "    }\n",
       "</style>\n",
       "<table border=\"1\" class=\"dataframe\">\n",
       "  <thead>\n",
       "    <tr style=\"text-align: right;\">\n",
       "      <th></th>\n",
       "      <th>date</th>\n",
       "      <th>day_of_week</th>\n",
       "    </tr>\n",
       "  </thead>\n",
       "  <tbody>\n",
       "    <tr>\n",
       "      <th>0</th>\n",
       "      <td>2016-02-01 15:00:00</td>\n",
       "      <td>Monday</td>\n",
       "    </tr>\n",
       "    <tr>\n",
       "      <th>1</th>\n",
       "      <td>2016-03-16 18:00:00</td>\n",
       "      <td>Wednesday</td>\n",
       "    </tr>\n",
       "    <tr>\n",
       "      <th>2</th>\n",
       "      <td>2016-07-13 19:00:00</td>\n",
       "      <td>Wednesday</td>\n",
       "    </tr>\n",
       "    <tr>\n",
       "      <th>3</th>\n",
       "      <td>2016-08-15 20:00:00</td>\n",
       "      <td>Monday</td>\n",
       "    </tr>\n",
       "    <tr>\n",
       "      <th>4</th>\n",
       "      <td>2016-12-23 11:00:00</td>\n",
       "      <td>Friday</td>\n",
       "    </tr>\n",
       "    <tr>\n",
       "      <th>5</th>\n",
       "      <td>2016-12-23 11:00:00</td>\n",
       "      <td>Friday</td>\n",
       "    </tr>\n",
       "    <tr>\n",
       "      <th>6</th>\n",
       "      <td>2016-05-01 12:00:00</td>\n",
       "      <td>Sunday</td>\n",
       "    </tr>\n",
       "    <tr>\n",
       "      <th>7</th>\n",
       "      <td>2016-05-14 19:00:00</td>\n",
       "      <td>Saturday</td>\n",
       "    </tr>\n",
       "    <tr>\n",
       "      <th>8</th>\n",
       "      <td>2016-09-23 19:00:00</td>\n",
       "      <td>Friday</td>\n",
       "    </tr>\n",
       "    <tr>\n",
       "      <th>9</th>\n",
       "      <td>2016-12-30 10:00:00</td>\n",
       "      <td>Friday</td>\n",
       "    </tr>\n",
       "  </tbody>\n",
       "</table>\n",
       "</div>"
      ],
      "text/plain": [
       "                 date day_of_week\n",
       "0 2016-02-01 15:00:00      Monday\n",
       "1 2016-03-16 18:00:00   Wednesday\n",
       "2 2016-07-13 19:00:00   Wednesday\n",
       "3 2016-08-15 20:00:00      Monday\n",
       "4 2016-12-23 11:00:00      Friday\n",
       "5 2016-12-23 11:00:00      Friday\n",
       "6 2016-05-01 12:00:00      Sunday\n",
       "7 2016-05-14 19:00:00    Saturday\n",
       "8 2016-09-23 19:00:00      Friday\n",
       "9 2016-12-30 10:00:00      Friday"
      ]
     },
     "execution_count": 83,
     "metadata": {},
     "output_type": "execute_result"
    }
   ],
   "source": [
    "df_main[['date','day_of_week']].head(10)"
   ]
  },
  {
   "cell_type": "markdown",
   "id": "ab5928c1-c051-409d-a6f6-62c5f73f882e",
   "metadata": {},
   "source": [
    "### Create bool weekday & weekend cols"
   ]
  },
  {
   "cell_type": "code",
   "execution_count": 84,
   "id": "8076836a-4961-49a9-aa76-555a7d5a3c67",
   "metadata": {},
   "outputs": [],
   "source": [
    "df_main[\"is_weekend\"] = df_main['date'].dt.day_name().isin(['Saturday', 'Sunday'])"
   ]
  },
  {
   "cell_type": "code",
   "execution_count": 85,
   "id": "5d0bf232-641f-4733-a741-bd854f0d4422",
   "metadata": {},
   "outputs": [],
   "source": [
    "df_main[\"is_weekday\"] = ~df_main['date'].dt.day_name().isin(['Saturday', 'Sunday'])"
   ]
  },
  {
   "cell_type": "code",
   "execution_count": 86,
   "id": "19c7a872-b0ef-4398-8150-79eac3f4e74b",
   "metadata": {},
   "outputs": [
    {
     "data": {
      "text/html": [
       "<div>\n",
       "<style scoped>\n",
       "    .dataframe tbody tr th:only-of-type {\n",
       "        vertical-align: middle;\n",
       "    }\n",
       "\n",
       "    .dataframe tbody tr th {\n",
       "        vertical-align: top;\n",
       "    }\n",
       "\n",
       "    .dataframe thead th {\n",
       "        text-align: right;\n",
       "    }\n",
       "</style>\n",
       "<table border=\"1\" class=\"dataframe\">\n",
       "  <thead>\n",
       "    <tr style=\"text-align: right;\">\n",
       "      <th></th>\n",
       "      <th>date</th>\n",
       "      <th>day_of_week</th>\n",
       "      <th>is_weekend</th>\n",
       "      <th>is_weekday</th>\n",
       "    </tr>\n",
       "  </thead>\n",
       "  <tbody>\n",
       "    <tr>\n",
       "      <th>0</th>\n",
       "      <td>2016-02-01 15:00:00</td>\n",
       "      <td>Monday</td>\n",
       "      <td>False</td>\n",
       "      <td>True</td>\n",
       "    </tr>\n",
       "    <tr>\n",
       "      <th>1</th>\n",
       "      <td>2016-03-16 18:00:00</td>\n",
       "      <td>Wednesday</td>\n",
       "      <td>False</td>\n",
       "      <td>True</td>\n",
       "    </tr>\n",
       "    <tr>\n",
       "      <th>2</th>\n",
       "      <td>2016-07-13 19:00:00</td>\n",
       "      <td>Wednesday</td>\n",
       "      <td>False</td>\n",
       "      <td>True</td>\n",
       "    </tr>\n",
       "    <tr>\n",
       "      <th>3</th>\n",
       "      <td>2016-08-15 20:00:00</td>\n",
       "      <td>Monday</td>\n",
       "      <td>False</td>\n",
       "      <td>True</td>\n",
       "    </tr>\n",
       "    <tr>\n",
       "      <th>4</th>\n",
       "      <td>2016-12-23 11:00:00</td>\n",
       "      <td>Friday</td>\n",
       "      <td>False</td>\n",
       "      <td>True</td>\n",
       "    </tr>\n",
       "    <tr>\n",
       "      <th>5</th>\n",
       "      <td>2016-12-23 11:00:00</td>\n",
       "      <td>Friday</td>\n",
       "      <td>False</td>\n",
       "      <td>True</td>\n",
       "    </tr>\n",
       "    <tr>\n",
       "      <th>6</th>\n",
       "      <td>2016-05-01 12:00:00</td>\n",
       "      <td>Sunday</td>\n",
       "      <td>True</td>\n",
       "      <td>False</td>\n",
       "    </tr>\n",
       "    <tr>\n",
       "      <th>7</th>\n",
       "      <td>2016-05-14 19:00:00</td>\n",
       "      <td>Saturday</td>\n",
       "      <td>True</td>\n",
       "      <td>False</td>\n",
       "    </tr>\n",
       "    <tr>\n",
       "      <th>8</th>\n",
       "      <td>2016-09-23 19:00:00</td>\n",
       "      <td>Friday</td>\n",
       "      <td>False</td>\n",
       "      <td>True</td>\n",
       "    </tr>\n",
       "    <tr>\n",
       "      <th>9</th>\n",
       "      <td>2016-12-30 10:00:00</td>\n",
       "      <td>Friday</td>\n",
       "      <td>False</td>\n",
       "      <td>True</td>\n",
       "    </tr>\n",
       "  </tbody>\n",
       "</table>\n",
       "</div>"
      ],
      "text/plain": [
       "                 date day_of_week  is_weekend  is_weekday\n",
       "0 2016-02-01 15:00:00      Monday       False        True\n",
       "1 2016-03-16 18:00:00   Wednesday       False        True\n",
       "2 2016-07-13 19:00:00   Wednesday       False        True\n",
       "3 2016-08-15 20:00:00      Monday       False        True\n",
       "4 2016-12-23 11:00:00      Friday       False        True\n",
       "5 2016-12-23 11:00:00      Friday       False        True\n",
       "6 2016-05-01 12:00:00      Sunday        True       False\n",
       "7 2016-05-14 19:00:00    Saturday        True       False\n",
       "8 2016-09-23 19:00:00      Friday       False        True\n",
       "9 2016-12-30 10:00:00      Friday       False        True"
      ]
     },
     "execution_count": 86,
     "metadata": {},
     "output_type": "execute_result"
    }
   ],
   "source": [
    "df_main[['date','day_of_week','is_weekend', \"is_weekday\"]].head(10)"
   ]
  },
  {
   "cell_type": "markdown",
   "id": "4d8bb6ff-1e87-44c2-b953-e502a09a34ff",
   "metadata": {},
   "source": [
    "____\n",
    "### Create a col 'is_holiday'\n",
    "of 0/1 (No, Yes) for whether or not it's a holiday."
   ]
  },
  {
   "cell_type": "code",
   "execution_count": 87,
   "id": "ee308a2e-4467-4e38-a22f-99c779d15b85",
   "metadata": {},
   "outputs": [],
   "source": [
    "df_main['is_holiday'] = df_main['date'].isin(df_holiday['date'])"
   ]
  },
  {
   "cell_type": "code",
   "execution_count": 88,
   "id": "4a494d70-9248-4706-aaa6-51cd5df187e8",
   "metadata": {},
   "outputs": [
    {
     "data": {
      "text/html": [
       "<div>\n",
       "<style scoped>\n",
       "    .dataframe tbody tr th:only-of-type {\n",
       "        vertical-align: middle;\n",
       "    }\n",
       "\n",
       "    .dataframe tbody tr th {\n",
       "        vertical-align: top;\n",
       "    }\n",
       "\n",
       "    .dataframe thead th {\n",
       "        text-align: right;\n",
       "    }\n",
       "</style>\n",
       "<table border=\"1\" class=\"dataframe\">\n",
       "  <thead>\n",
       "    <tr style=\"text-align: right;\">\n",
       "      <th></th>\n",
       "      <th>date</th>\n",
       "      <th>is_holiday</th>\n",
       "    </tr>\n",
       "  </thead>\n",
       "  <tbody>\n",
       "    <tr>\n",
       "      <th>43048</th>\n",
       "      <td>2016-06-22 03:00:00</td>\n",
       "      <td>False</td>\n",
       "    </tr>\n",
       "    <tr>\n",
       "      <th>583811</th>\n",
       "      <td>2008-12-02 18:00:00</td>\n",
       "      <td>False</td>\n",
       "    </tr>\n",
       "    <tr>\n",
       "      <th>291970</th>\n",
       "      <td>2012-04-10 19:00:00</td>\n",
       "      <td>False</td>\n",
       "    </tr>\n",
       "    <tr>\n",
       "      <th>272117</th>\n",
       "      <td>2012-11-07 10:00:00</td>\n",
       "      <td>False</td>\n",
       "    </tr>\n",
       "    <tr>\n",
       "      <th>244762</th>\n",
       "      <td>2012-12-09 02:00:00</td>\n",
       "      <td>False</td>\n",
       "    </tr>\n",
       "    <tr>\n",
       "      <th>788417</th>\n",
       "      <td>2005-06-20 15:00:00</td>\n",
       "      <td>False</td>\n",
       "    </tr>\n",
       "    <tr>\n",
       "      <th>198658</th>\n",
       "      <td>2013-02-14 19:00:00</td>\n",
       "      <td>False</td>\n",
       "    </tr>\n",
       "    <tr>\n",
       "      <th>809465</th>\n",
       "      <td>2005-08-12 09:00:00</td>\n",
       "      <td>False</td>\n",
       "    </tr>\n",
       "    <tr>\n",
       "      <th>414333</th>\n",
       "      <td>2010-12-06 09:00:00</td>\n",
       "      <td>False</td>\n",
       "    </tr>\n",
       "    <tr>\n",
       "      <th>9867</th>\n",
       "      <td>2016-11-29 08:00:00</td>\n",
       "      <td>False</td>\n",
       "    </tr>\n",
       "  </tbody>\n",
       "</table>\n",
       "</div>"
      ],
      "text/plain": [
       "                      date  is_holiday\n",
       "43048  2016-06-22 03:00:00       False\n",
       "583811 2008-12-02 18:00:00       False\n",
       "291970 2012-04-10 19:00:00       False\n",
       "272117 2012-11-07 10:00:00       False\n",
       "244762 2012-12-09 02:00:00       False\n",
       "788417 2005-06-20 15:00:00       False\n",
       "198658 2013-02-14 19:00:00       False\n",
       "809465 2005-08-12 09:00:00       False\n",
       "414333 2010-12-06 09:00:00       False\n",
       "9867   2016-11-29 08:00:00       False"
      ]
     },
     "execution_count": 88,
     "metadata": {},
     "output_type": "execute_result"
    }
   ],
   "source": [
    "df_main[['date', 'is_holiday']].sample(10)"
   ]
  },
  {
   "cell_type": "code",
   "execution_count": 89,
   "id": "5149ec38-b499-42db-bd37-94c7a0d20629",
   "metadata": {},
   "outputs": [
    {
     "data": {
      "text/plain": [
       "839985"
      ]
     },
     "execution_count": 89,
     "metadata": {},
     "output_type": "execute_result"
    }
   ],
   "source": [
    "len(df_main)"
   ]
  },
  {
   "cell_type": "markdown",
   "id": "2ca53ee9-e90d-4ea3-bf61-618e2a5720ba",
   "metadata": {},
   "source": [
    "____\n",
    "### Create a col 'holiday' for noting which holiday is is.\n",
    "\n",
    "AP: **Holding off on this nice-to-have for now.**\n",
    "\n",
    "Can't currently figure out why an extra couple hundred rows are created when merging df_holidays & df_main.\n",
    "\n",
    "\n",
    "For non-holidays, input value 'common_day'"
   ]
  },
  {
   "cell_type": "raw",
   "id": "836c402a-b056-4c14-bf91-0adb73df50a8",
   "metadata": {},
   "source": [
    "#Match date order to df_main\n",
    "df_holiday = df_holiday.sort_values(by='date', ascending=False).reset_index(drop=True)\n",
    "df_holiday.head(11)"
   ]
  },
  {
   "cell_type": "raw",
   "id": "86e482c0-5de1-4ad4-b9aa-d7626d592776",
   "metadata": {},
   "source": [
    "len(df_holiday)"
   ]
  },
  {
   "cell_type": "raw",
   "id": "8734f5ed-c709-409e-9e53-9844862ea43d",
   "metadata": {},
   "source": [
    "df_test = df_main.merge(df_holiday, on='date', how='outer').sort_values(by='acc_id', ascending=False).reset_index(drop=True)"
   ]
  },
  {
   "cell_type": "raw",
   "id": "24b2796a-8736-4b14-a0d7-101b22856ead",
   "metadata": {},
   "source": [
    "df_main.sort_values(by='acc_id', ascending=False).head(2)"
   ]
  },
  {
   "cell_type": "raw",
   "id": "ec7f74ca-a2fe-4005-a38c-5a5dca6cf216",
   "metadata": {},
   "source": [
    "df_test.head(2)"
   ]
  },
  {
   "cell_type": "raw",
   "id": "d91fa9a8-e878-4cb7-a025-20a30f5cdf80",
   "metadata": {},
   "source": [
    "len(df_main)"
   ]
  },
  {
   "cell_type": "raw",
   "id": "1cbb9dd9-9519-425b-a5fa-7bfcb5bc3cb1",
   "metadata": {},
   "source": [
    "len(df_test)"
   ]
  },
  {
   "cell_type": "raw",
   "id": "c1d6aca0-f8a8-4993-8176-04498e0c6664",
   "metadata": {},
   "source": [
    "max([len(df_main), len(df_test)]) - min([len(df_main), len(df_test)])"
   ]
  },
  {
   "cell_type": "markdown",
   "id": "a961e0ba-0604-45ef-992e-4ff03114f0cd",
   "metadata": {},
   "source": [
    "## Check for nulls"
   ]
  },
  {
   "cell_type": "code",
   "execution_count": 90,
   "id": "1b3e8841-b8a3-4bfc-8a6c-a72f8bcd7a86",
   "metadata": {},
   "outputs": [
    {
     "data": {
      "text/plain": [
       "central_sep_width_lartpc    9545\n",
       "road_width_larrout          8279\n",
       "lane_count_nbv              1790\n",
       "reserved_lane_type_vosp     1640\n",
       "infrastructure_infra        1278\n",
       "road_curvature_plan         1076\n",
       "road_slope_prof             1061\n",
       "surface_cond_surf           1017\n",
       "crash_location_situ         1002\n",
       "road_type_circ               798\n",
       "weather_atm                   55\n",
       "collision_type_col            11\n",
       "road_category_catr             1\n",
       "is_weekend                     0\n",
       "hour                           0\n",
       "day_of_week                    0\n",
       "is_weekday                     0\n",
       "date                           0\n",
       "acc_id                         0\n",
       "ped_present                    0\n",
       "luminosity_lum                 0\n",
       "intersection_type_int          0\n",
       "built_up_agg                   0\n",
       "is_holiday                     0\n",
       "dtype: int64"
      ]
     },
     "execution_count": 90,
     "metadata": {},
     "output_type": "execute_result"
    }
   ],
   "source": [
    "df_main.isnull().sum().sort_values(ascending=False)"
   ]
  },
  {
   "cell_type": "markdown",
   "id": "2c7b8212-68fd-4466-9236-f9ef2ea6b20a",
   "metadata": {},
   "source": [
    "____\n",
    "Count total rows with any null"
   ]
  },
  {
   "cell_type": "code",
   "execution_count": 91,
   "id": "ee4db9b8-7941-40c4-97b7-1158328b4e33",
   "metadata": {},
   "outputs": [
    {
     "name": "stdout",
     "output_type": "stream",
     "text": [
      "null_row_count: 11049\n",
      "\n",
      "total_row_count: 839985\n",
      "\n",
      "Percent of rows with nulls: 1.32 %\n"
     ]
    }
   ],
   "source": [
    "null_row_count = df_main.isnull().any(axis=1).sum()\n",
    "total_row_count = len(df_main)\n",
    "\n",
    "print('null_row_count:', null_row_count)\n",
    "print()\n",
    "print('total_row_count:', total_row_count)\n",
    "print()\n",
    "print('Percent of rows with nulls:', round((null_row_count / total_row_count)*100, 2), '%')"
   ]
  },
  {
   "cell_type": "markdown",
   "id": "993f503b-5801-459f-8b3a-eb238f99b35a",
   "metadata": {},
   "source": [
    "**I am comfortable with dropping these rows since they account for < 1.32% of total rows in the df**"
   ]
  },
  {
   "cell_type": "markdown",
   "id": "1412873f-adef-4086-b731-daceaba4b13c",
   "metadata": {},
   "source": [
    "### Drop rows with any nulls"
   ]
  },
  {
   "cell_type": "code",
   "execution_count": 92,
   "id": "e5e27c34-ab4a-406e-9475-0600afd1cf4b",
   "metadata": {},
   "outputs": [],
   "source": [
    "df_main.dropna(ignore_index=True, inplace=True)"
   ]
  },
  {
   "cell_type": "code",
   "execution_count": 93,
   "id": "ed859260-6b53-486b-8dc1-44c83677c8c3",
   "metadata": {},
   "outputs": [
    {
     "data": {
      "text/plain": [
       "acc_id                      0\n",
       "luminosity_lum              0\n",
       "is_weekday                  0\n",
       "is_weekend                  0\n",
       "day_of_week                 0\n",
       "date                        0\n",
       "hour                        0\n",
       "ped_present                 0\n",
       "crash_location_situ         0\n",
       "infrastructure_infra        0\n",
       "surface_cond_surf           0\n",
       "road_width_larrout          0\n",
       "central_sep_width_lartpc    0\n",
       "road_curvature_plan         0\n",
       "road_slope_prof             0\n",
       "reserved_lane_type_vosp     0\n",
       "lane_count_nbv              0\n",
       "road_type_circ              0\n",
       "road_category_catr          0\n",
       "collision_type_col          0\n",
       "weather_atm                 0\n",
       "intersection_type_int       0\n",
       "built_up_agg                0\n",
       "is_holiday                  0\n",
       "dtype: int64"
      ]
     },
     "execution_count": 93,
     "metadata": {},
     "output_type": "execute_result"
    }
   ],
   "source": [
    "df_main.isnull().sum().sort_values(ascending=False)"
   ]
  },
  {
   "cell_type": "code",
   "execution_count": 94,
   "id": "a01a98c0-5b8b-470b-a6c6-75605e21805a",
   "metadata": {},
   "outputs": [
    {
     "name": "stdout",
     "output_type": "stream",
     "text": [
      "null_row_count: 0\n",
      "\n",
      "total_row_count: 828936\n",
      "\n",
      "Percent of rows with nulls: 0.0 %\n"
     ]
    }
   ],
   "source": [
    "null_row_count_2 = df_main.isnull().any(axis=1).sum()\n",
    "total_row_count_2 = len(df_main)\n",
    "\n",
    "print('null_row_count:', null_row_count_2)\n",
    "print()\n",
    "print('total_row_count:', total_row_count_2)\n",
    "print()\n",
    "print('Percent of rows with nulls:', round((null_row_count_2 / total_row_count_2)*100, 2), '%')"
   ]
  },
  {
   "cell_type": "markdown",
   "id": "90f8e37f-d642-4da0-acbb-6da8ee1d29a0",
   "metadata": {},
   "source": [
    "## Check dtypes\n",
    "Convert if/when needed.\n",
    "\n",
    "Need to input the strings for the categorical's since some can get fairly specific (ex. intersection type)\n",
    "\n",
    "Planned to later use pd.get_dummies for the categorical features"
   ]
  },
  {
   "cell_type": "code",
   "execution_count": 95,
   "id": "27390c1c-c672-4857-bafa-d089532d9f25",
   "metadata": {},
   "outputs": [
    {
     "data": {
      "text/plain": [
       "acc_id                               int64\n",
       "luminosity_lum                       int64\n",
       "built_up_agg                         int64\n",
       "intersection_type_int                int64\n",
       "weather_atm                        float64\n",
       "collision_type_col                 float64\n",
       "road_category_catr                 float64\n",
       "road_type_circ                     float64\n",
       "lane_count_nbv                     float64\n",
       "reserved_lane_type_vosp            float64\n",
       "road_slope_prof                    float64\n",
       "road_curvature_plan                float64\n",
       "central_sep_width_lartpc           float64\n",
       "road_width_larrout                 float64\n",
       "surface_cond_surf                  float64\n",
       "infrastructure_infra               float64\n",
       "crash_location_situ                float64\n",
       "ped_present                          int64\n",
       "hour                                 int32\n",
       "date                        datetime64[ns]\n",
       "day_of_week                         object\n",
       "is_weekend                            bool\n",
       "is_weekday                            bool\n",
       "is_holiday                            bool\n",
       "dtype: object"
      ]
     },
     "execution_count": 95,
     "metadata": {},
     "output_type": "execute_result"
    }
   ],
   "source": [
    "df_main.dtypes"
   ]
  },
  {
   "cell_type": "markdown",
   "id": "fe6d7e5a-0a1e-475a-ac3b-b3950ee8c90a",
   "metadata": {},
   "source": [
    "AP: cols to convert:\n",
    "\n",
    "- Categorical cols : create dicts in order to map numerical vals to the strings they represent. Then use get_dummies.\n",
    "    - The train of thought here is making it easier to determine the specific characteristics of the crash locations rather than get a collection of numbers and try to translate them into words (ex. value of 3 for intersection type translates to T-intersection)\n",
    "- float64 cols : convert to int64 (no col uses decimals)"
   ]
  },
  {
   "cell_type": "code",
   "execution_count": 96,
   "id": "8cba3c11-b2a2-4a12-bd00-5d6cc41c94e7",
   "metadata": {},
   "outputs": [
    {
     "data": {
      "text/html": [
       "<div>\n",
       "<style scoped>\n",
       "    .dataframe tbody tr th:only-of-type {\n",
       "        vertical-align: middle;\n",
       "    }\n",
       "\n",
       "    .dataframe tbody tr th {\n",
       "        vertical-align: top;\n",
       "    }\n",
       "\n",
       "    .dataframe thead th {\n",
       "        text-align: right;\n",
       "    }\n",
       "</style>\n",
       "<table border=\"1\" class=\"dataframe\">\n",
       "  <thead>\n",
       "    <tr style=\"text-align: right;\">\n",
       "      <th></th>\n",
       "      <th>acc_id</th>\n",
       "      <th>luminosity_lum</th>\n",
       "      <th>built_up_agg</th>\n",
       "      <th>intersection_type_int</th>\n",
       "      <th>weather_atm</th>\n",
       "      <th>collision_type_col</th>\n",
       "      <th>road_category_catr</th>\n",
       "      <th>road_type_circ</th>\n",
       "      <th>lane_count_nbv</th>\n",
       "      <th>reserved_lane_type_vosp</th>\n",
       "      <th>road_slope_prof</th>\n",
       "      <th>road_curvature_plan</th>\n",
       "      <th>central_sep_width_lartpc</th>\n",
       "      <th>road_width_larrout</th>\n",
       "      <th>surface_cond_surf</th>\n",
       "      <th>infrastructure_infra</th>\n",
       "      <th>crash_location_situ</th>\n",
       "      <th>ped_present</th>\n",
       "      <th>hour</th>\n",
       "      <th>date</th>\n",
       "      <th>day_of_week</th>\n",
       "      <th>is_weekend</th>\n",
       "      <th>is_weekday</th>\n",
       "      <th>is_holiday</th>\n",
       "    </tr>\n",
       "  </thead>\n",
       "  <tbody>\n",
       "    <tr>\n",
       "      <th>0</th>\n",
       "      <td>201600000001</td>\n",
       "      <td>1</td>\n",
       "      <td>2</td>\n",
       "      <td>1</td>\n",
       "      <td>8.0</td>\n",
       "      <td>3.0</td>\n",
       "      <td>3.0</td>\n",
       "      <td>2.0</td>\n",
       "      <td>0.0</td>\n",
       "      <td>0.0</td>\n",
       "      <td>1.0</td>\n",
       "      <td>3.0</td>\n",
       "      <td>0.0</td>\n",
       "      <td>0.0</td>\n",
       "      <td>1.0</td>\n",
       "      <td>0.0</td>\n",
       "      <td>1.0</td>\n",
       "      <td>0</td>\n",
       "      <td>15</td>\n",
       "      <td>2016-02-01 15:00:00</td>\n",
       "      <td>Monday</td>\n",
       "      <td>False</td>\n",
       "      <td>True</td>\n",
       "      <td>False</td>\n",
       "    </tr>\n",
       "    <tr>\n",
       "      <th>1</th>\n",
       "      <td>201600000002</td>\n",
       "      <td>1</td>\n",
       "      <td>2</td>\n",
       "      <td>6</td>\n",
       "      <td>1.0</td>\n",
       "      <td>6.0</td>\n",
       "      <td>3.0</td>\n",
       "      <td>1.0</td>\n",
       "      <td>0.0</td>\n",
       "      <td>0.0</td>\n",
       "      <td>1.0</td>\n",
       "      <td>2.0</td>\n",
       "      <td>0.0</td>\n",
       "      <td>58.0</td>\n",
       "      <td>1.0</td>\n",
       "      <td>0.0</td>\n",
       "      <td>1.0</td>\n",
       "      <td>0</td>\n",
       "      <td>18</td>\n",
       "      <td>2016-03-16 18:00:00</td>\n",
       "      <td>Wednesday</td>\n",
       "      <td>False</td>\n",
       "      <td>True</td>\n",
       "      <td>False</td>\n",
       "    </tr>\n",
       "    <tr>\n",
       "      <th>2</th>\n",
       "      <td>201600000003</td>\n",
       "      <td>1</td>\n",
       "      <td>1</td>\n",
       "      <td>1</td>\n",
       "      <td>1.0</td>\n",
       "      <td>6.0</td>\n",
       "      <td>3.0</td>\n",
       "      <td>2.0</td>\n",
       "      <td>2.0</td>\n",
       "      <td>0.0</td>\n",
       "      <td>1.0</td>\n",
       "      <td>3.0</td>\n",
       "      <td>0.0</td>\n",
       "      <td>68.0</td>\n",
       "      <td>2.0</td>\n",
       "      <td>0.0</td>\n",
       "      <td>3.0</td>\n",
       "      <td>1</td>\n",
       "      <td>19</td>\n",
       "      <td>2016-07-13 19:00:00</td>\n",
       "      <td>Wednesday</td>\n",
       "      <td>False</td>\n",
       "      <td>True</td>\n",
       "      <td>False</td>\n",
       "    </tr>\n",
       "    <tr>\n",
       "      <th>3</th>\n",
       "      <td>201600000004</td>\n",
       "      <td>2</td>\n",
       "      <td>2</td>\n",
       "      <td>1</td>\n",
       "      <td>7.0</td>\n",
       "      <td>3.0</td>\n",
       "      <td>4.0</td>\n",
       "      <td>2.0</td>\n",
       "      <td>0.0</td>\n",
       "      <td>0.0</td>\n",
       "      <td>1.0</td>\n",
       "      <td>1.0</td>\n",
       "      <td>0.0</td>\n",
       "      <td>0.0</td>\n",
       "      <td>1.0</td>\n",
       "      <td>0.0</td>\n",
       "      <td>1.0</td>\n",
       "      <td>0</td>\n",
       "      <td>20</td>\n",
       "      <td>2016-08-15 20:00:00</td>\n",
       "      <td>Monday</td>\n",
       "      <td>False</td>\n",
       "      <td>True</td>\n",
       "      <td>False</td>\n",
       "    </tr>\n",
       "    <tr>\n",
       "      <th>4</th>\n",
       "      <td>201600000005</td>\n",
       "      <td>1</td>\n",
       "      <td>2</td>\n",
       "      <td>3</td>\n",
       "      <td>1.0</td>\n",
       "      <td>3.0</td>\n",
       "      <td>4.0</td>\n",
       "      <td>0.0</td>\n",
       "      <td>0.0</td>\n",
       "      <td>0.0</td>\n",
       "      <td>0.0</td>\n",
       "      <td>1.0</td>\n",
       "      <td>0.0</td>\n",
       "      <td>0.0</td>\n",
       "      <td>1.0</td>\n",
       "      <td>0.0</td>\n",
       "      <td>1.0</td>\n",
       "      <td>0</td>\n",
       "      <td>11</td>\n",
       "      <td>2016-12-23 11:00:00</td>\n",
       "      <td>Friday</td>\n",
       "      <td>False</td>\n",
       "      <td>True</td>\n",
       "      <td>False</td>\n",
       "    </tr>\n",
       "  </tbody>\n",
       "</table>\n",
       "</div>"
      ],
      "text/plain": [
       "         acc_id  luminosity_lum  built_up_agg  intersection_type_int  \\\n",
       "0  201600000001               1             2                      1   \n",
       "1  201600000002               1             2                      6   \n",
       "2  201600000003               1             1                      1   \n",
       "3  201600000004               2             2                      1   \n",
       "4  201600000005               1             2                      3   \n",
       "\n",
       "   weather_atm  collision_type_col  road_category_catr  road_type_circ  \\\n",
       "0          8.0                 3.0                 3.0             2.0   \n",
       "1          1.0                 6.0                 3.0             1.0   \n",
       "2          1.0                 6.0                 3.0             2.0   \n",
       "3          7.0                 3.0                 4.0             2.0   \n",
       "4          1.0                 3.0                 4.0             0.0   \n",
       "\n",
       "   lane_count_nbv  reserved_lane_type_vosp  road_slope_prof  \\\n",
       "0             0.0                      0.0              1.0   \n",
       "1             0.0                      0.0              1.0   \n",
       "2             2.0                      0.0              1.0   \n",
       "3             0.0                      0.0              1.0   \n",
       "4             0.0                      0.0              0.0   \n",
       "\n",
       "   road_curvature_plan  central_sep_width_lartpc  road_width_larrout  \\\n",
       "0                  3.0                       0.0                 0.0   \n",
       "1                  2.0                       0.0                58.0   \n",
       "2                  3.0                       0.0                68.0   \n",
       "3                  1.0                       0.0                 0.0   \n",
       "4                  1.0                       0.0                 0.0   \n",
       "\n",
       "   surface_cond_surf  infrastructure_infra  crash_location_situ  ped_present  \\\n",
       "0                1.0                   0.0                  1.0            0   \n",
       "1                1.0                   0.0                  1.0            0   \n",
       "2                2.0                   0.0                  3.0            1   \n",
       "3                1.0                   0.0                  1.0            0   \n",
       "4                1.0                   0.0                  1.0            0   \n",
       "\n",
       "   hour                date day_of_week  is_weekend  is_weekday  is_holiday  \n",
       "0    15 2016-02-01 15:00:00      Monday       False        True       False  \n",
       "1    18 2016-03-16 18:00:00   Wednesday       False        True       False  \n",
       "2    19 2016-07-13 19:00:00   Wednesday       False        True       False  \n",
       "3    20 2016-08-15 20:00:00      Monday       False        True       False  \n",
       "4    11 2016-12-23 11:00:00      Friday       False        True       False  "
      ]
     },
     "execution_count": 96,
     "metadata": {},
     "output_type": "execute_result"
    }
   ],
   "source": [
    "df_main.head()"
   ]
  },
  {
   "cell_type": "markdown",
   "id": "97709bc2-b1ca-41c3-b0c9-3e2f8aaf22e2",
   "metadata": {},
   "source": [
    "### Categorical Cols"
   ]
  },
  {
   "cell_type": "markdown",
   "id": "c5308135-e748-4c43-8628-9417a2551dcf",
   "metadata": {},
   "source": [
    "#### replace the strings for the categories in the categorical cols"
   ]
  },
  {
   "cell_type": "code",
   "execution_count": 97,
   "id": "02f2f3b3-9d20-438b-ad3f-d03710658224",
   "metadata": {},
   "outputs": [
    {
     "name": "stderr",
     "output_type": "stream",
     "text": [
      "C:\\Users\\apez9\\AppData\\Local\\Temp\\ipykernel_11716\\1114081949.py:1: FutureWarning: Downcasting behavior in `replace` is deprecated and will be removed in a future version. To retain the old behavior, explicitly call `result.infer_objects(copy=False)`. To opt-in to the future behavior, set `pd.set_option('future.no_silent_downcasting', True)`\n",
      "  df_main.replace(inplace=True, to_replace = {'luminosity_lum' : {1 : 'lum_full_day', 2 : 'lum_twighlight', 3 : 'lum_night_no_light', 4 : 'lum_night_no_light', 5 : 'lum_night_yes_light'},\n"
     ]
    }
   ],
   "source": [
    "df_main.replace(inplace=True, to_replace = {'luminosity_lum' : {1 : 'lum_full_day', 2 : 'lum_twighlight', 3 : 'lum_night_no_light', 4 : 'lum_night_no_light', 5 : 'lum_night_yes_light'},\n",
    "    'built_up_agg' : {1 : False, 2 : True},\n",
    "    'intersection_type_int' : {0 : 'other', 1 : 'out_of_intersection', 2 : 'x_intersection', 3 : 't_intersection', 4 : 'y_intersection', 5 : '4+_intersection', 6 : 'roundabout', 7 : 'place', 8 : 'level_crossing', 9 : 'other'},\n",
    "    'weather_atm' : {1 : 'normal', 2 : 'rain_light', 3 : 'rain_heavy', 4 : 'snow_hail', 5 : 'fog_smoke', 6 : 'storm', 7 : 'dazzling', 8 : 'cloudy', 9 : 'other'},\n",
    "    'collision_type_col' : {1 : 'two_cars_frontal', 2 : 'two_cars_rear', 3 : 'two_cars_side', 4 : 'three+_chain', 5 : 'three+_multiple', 6 : 'other', 7 : 'no_collision'},\n",
    "    'road_category_catr' : {1 : 'autoroutes ', 2 : 'national_road', 3 : 'departmental_road', 4 : 'municipal_road', 5 : 'off_public_network', 6 : 'parking_lot', 9 : 'other'},\n",
    "    'road_type_circ' : {0.0 : 'other', 1 : 'one_way', 2 : 'two_way', 3 : 'seperated_carriageway', 4 : 'variable_assignment'},\n",
    "    'reserved_lane_type_vosp' : {0.0 : 'no_reserved_lane', 1 : 'bike_path', 2 : 'bike_parking', 3 : 'reserved_lane'},\n",
    "    'road_slope_prof' : {0.0 : 'other', 1 : 'dish', 2 : 'slope', 3 : 'hill_top', 4 : 'hill_bottom'},\n",
    "    'road_curvature_plan' : {0.0 : 'other', 1 : 'straight', 2 : 'curve_left', 3 : 'curve_right', 4 : 's_shape'},\n",
    "    'surface_cond_surf' : {0.0 : 'other', 1 : 'dry', 2 : 'wet', 3 : 'puddles', 4 : 'flooded', 5 : 'snow', 6 : 'mud', 7 : 'ice', 8 : 'oil', 9 : 'other'},\n",
    "    'infrastructure_infra' : {0.0 : 'none', 1 : 'tunnel', 2 : 'bridge', 3 : 'interchange', 4 : 'railway', 5 : 'carrefour_arranged', 6 : 'pedestrian_area', 7 : 'toll_zone'},\n",
    "    'crash_location_situ' : {0.0 : 'none', 1 : 'road', 2 : 'emergency_stop_lane', 3 : 'verge', 4 : 'sidewalk', 5 : 'bike_path'}})"
   ]
  },
  {
   "cell_type": "code",
   "execution_count": 98,
   "id": "a8540ccb-7a1b-41a1-91db-bf258a56c80c",
   "metadata": {},
   "outputs": [
    {
     "data": {
      "text/html": [
       "<div>\n",
       "<style scoped>\n",
       "    .dataframe tbody tr th:only-of-type {\n",
       "        vertical-align: middle;\n",
       "    }\n",
       "\n",
       "    .dataframe tbody tr th {\n",
       "        vertical-align: top;\n",
       "    }\n",
       "\n",
       "    .dataframe thead th {\n",
       "        text-align: right;\n",
       "    }\n",
       "</style>\n",
       "<table border=\"1\" class=\"dataframe\">\n",
       "  <thead>\n",
       "    <tr style=\"text-align: right;\">\n",
       "      <th></th>\n",
       "      <th>acc_id</th>\n",
       "      <th>luminosity_lum</th>\n",
       "      <th>built_up_agg</th>\n",
       "      <th>intersection_type_int</th>\n",
       "      <th>weather_atm</th>\n",
       "      <th>collision_type_col</th>\n",
       "      <th>road_category_catr</th>\n",
       "      <th>road_type_circ</th>\n",
       "      <th>lane_count_nbv</th>\n",
       "      <th>reserved_lane_type_vosp</th>\n",
       "      <th>road_slope_prof</th>\n",
       "      <th>road_curvature_plan</th>\n",
       "      <th>central_sep_width_lartpc</th>\n",
       "      <th>road_width_larrout</th>\n",
       "      <th>surface_cond_surf</th>\n",
       "      <th>infrastructure_infra</th>\n",
       "      <th>crash_location_situ</th>\n",
       "      <th>ped_present</th>\n",
       "      <th>hour</th>\n",
       "      <th>date</th>\n",
       "      <th>day_of_week</th>\n",
       "      <th>is_weekend</th>\n",
       "      <th>is_weekday</th>\n",
       "      <th>is_holiday</th>\n",
       "    </tr>\n",
       "  </thead>\n",
       "  <tbody>\n",
       "    <tr>\n",
       "      <th>363794</th>\n",
       "      <td>201000007641</td>\n",
       "      <td>lum_night_yes_light</td>\n",
       "      <td>True</td>\n",
       "      <td>out_of_intersection</td>\n",
       "      <td>normal</td>\n",
       "      <td>two_cars_side</td>\n",
       "      <td>departmental_road</td>\n",
       "      <td>two_way</td>\n",
       "      <td>2.0</td>\n",
       "      <td>no_reserved_lane</td>\n",
       "      <td>slope</td>\n",
       "      <td>straight</td>\n",
       "      <td>0.0</td>\n",
       "      <td>60.0</td>\n",
       "      <td>dry</td>\n",
       "      <td>none</td>\n",
       "      <td>road</td>\n",
       "      <td>0</td>\n",
       "      <td>18</td>\n",
       "      <td>2010-11-04 18:00:00</td>\n",
       "      <td>Thursday</td>\n",
       "      <td>False</td>\n",
       "      <td>True</td>\n",
       "      <td>False</td>\n",
       "    </tr>\n",
       "    <tr>\n",
       "      <th>566534</th>\n",
       "      <td>200800068234</td>\n",
       "      <td>lum_night_yes_light</td>\n",
       "      <td>True</td>\n",
       "      <td>out_of_intersection</td>\n",
       "      <td>rain_light</td>\n",
       "      <td>other</td>\n",
       "      <td>municipal_road</td>\n",
       "      <td>one_way</td>\n",
       "      <td>1.0</td>\n",
       "      <td>no_reserved_lane</td>\n",
       "      <td>dish</td>\n",
       "      <td>straight</td>\n",
       "      <td>0.0</td>\n",
       "      <td>30.0</td>\n",
       "      <td>wet</td>\n",
       "      <td>none</td>\n",
       "      <td>road</td>\n",
       "      <td>0</td>\n",
       "      <td>20</td>\n",
       "      <td>2008-11-24 20:00:00</td>\n",
       "      <td>Monday</td>\n",
       "      <td>False</td>\n",
       "      <td>True</td>\n",
       "      <td>False</td>\n",
       "    </tr>\n",
       "    <tr>\n",
       "      <th>339309</th>\n",
       "      <td>201100049703</td>\n",
       "      <td>lum_full_day</td>\n",
       "      <td>True</td>\n",
       "      <td>out_of_intersection</td>\n",
       "      <td>normal</td>\n",
       "      <td>other</td>\n",
       "      <td>departmental_road</td>\n",
       "      <td>two_way</td>\n",
       "      <td>2.0</td>\n",
       "      <td>no_reserved_lane</td>\n",
       "      <td>dish</td>\n",
       "      <td>straight</td>\n",
       "      <td>0.0</td>\n",
       "      <td>0.0</td>\n",
       "      <td>dry</td>\n",
       "      <td>none</td>\n",
       "      <td>road</td>\n",
       "      <td>1</td>\n",
       "      <td>18</td>\n",
       "      <td>2011-05-10 18:00:00</td>\n",
       "      <td>Tuesday</td>\n",
       "      <td>False</td>\n",
       "      <td>True</td>\n",
       "      <td>False</td>\n",
       "    </tr>\n",
       "    <tr>\n",
       "      <th>573005</th>\n",
       "      <td>200800074755</td>\n",
       "      <td>lum_full_day</td>\n",
       "      <td>False</td>\n",
       "      <td>out_of_intersection</td>\n",
       "      <td>normal</td>\n",
       "      <td>two_cars_side</td>\n",
       "      <td>departmental_road</td>\n",
       "      <td>two_way</td>\n",
       "      <td>2.0</td>\n",
       "      <td>no_reserved_lane</td>\n",
       "      <td>slope</td>\n",
       "      <td>curve_right</td>\n",
       "      <td>0.0</td>\n",
       "      <td>0.0</td>\n",
       "      <td>dry</td>\n",
       "      <td>none</td>\n",
       "      <td>road</td>\n",
       "      <td>0</td>\n",
       "      <td>6</td>\n",
       "      <td>2008-02-01 06:00:00</td>\n",
       "      <td>Friday</td>\n",
       "      <td>False</td>\n",
       "      <td>True</td>\n",
       "      <td>False</td>\n",
       "    </tr>\n",
       "    <tr>\n",
       "      <th>119771</th>\n",
       "      <td>201400005807</td>\n",
       "      <td>lum_full_day</td>\n",
       "      <td>True</td>\n",
       "      <td>out_of_intersection</td>\n",
       "      <td>normal</td>\n",
       "      <td>other</td>\n",
       "      <td>municipal_road</td>\n",
       "      <td>two_way</td>\n",
       "      <td>2.0</td>\n",
       "      <td>no_reserved_lane</td>\n",
       "      <td>dish</td>\n",
       "      <td>straight</td>\n",
       "      <td>0.0</td>\n",
       "      <td>90.0</td>\n",
       "      <td>dry</td>\n",
       "      <td>none</td>\n",
       "      <td>road</td>\n",
       "      <td>0</td>\n",
       "      <td>18</td>\n",
       "      <td>2014-07-27 18:00:00</td>\n",
       "      <td>Sunday</td>\n",
       "      <td>True</td>\n",
       "      <td>False</td>\n",
       "      <td>False</td>\n",
       "    </tr>\n",
       "  </tbody>\n",
       "</table>\n",
       "</div>"
      ],
      "text/plain": [
       "              acc_id       luminosity_lum  built_up_agg intersection_type_int  \\\n",
       "363794  201000007641  lum_night_yes_light          True   out_of_intersection   \n",
       "566534  200800068234  lum_night_yes_light          True   out_of_intersection   \n",
       "339309  201100049703         lum_full_day          True   out_of_intersection   \n",
       "573005  200800074755         lum_full_day         False   out_of_intersection   \n",
       "119771  201400005807         lum_full_day          True   out_of_intersection   \n",
       "\n",
       "       weather_atm collision_type_col road_category_catr road_type_circ  \\\n",
       "363794      normal      two_cars_side  departmental_road        two_way   \n",
       "566534  rain_light              other     municipal_road        one_way   \n",
       "339309      normal              other  departmental_road        two_way   \n",
       "573005      normal      two_cars_side  departmental_road        two_way   \n",
       "119771      normal              other     municipal_road        two_way   \n",
       "\n",
       "        lane_count_nbv reserved_lane_type_vosp road_slope_prof  \\\n",
       "363794             2.0        no_reserved_lane           slope   \n",
       "566534             1.0        no_reserved_lane            dish   \n",
       "339309             2.0        no_reserved_lane            dish   \n",
       "573005             2.0        no_reserved_lane           slope   \n",
       "119771             2.0        no_reserved_lane            dish   \n",
       "\n",
       "       road_curvature_plan  central_sep_width_lartpc  road_width_larrout  \\\n",
       "363794            straight                       0.0                60.0   \n",
       "566534            straight                       0.0                30.0   \n",
       "339309            straight                       0.0                 0.0   \n",
       "573005         curve_right                       0.0                 0.0   \n",
       "119771            straight                       0.0                90.0   \n",
       "\n",
       "       surface_cond_surf infrastructure_infra crash_location_situ  \\\n",
       "363794               dry                 none                road   \n",
       "566534               wet                 none                road   \n",
       "339309               dry                 none                road   \n",
       "573005               dry                 none                road   \n",
       "119771               dry                 none                road   \n",
       "\n",
       "        ped_present  hour                date day_of_week  is_weekend  \\\n",
       "363794            0    18 2010-11-04 18:00:00    Thursday       False   \n",
       "566534            0    20 2008-11-24 20:00:00      Monday       False   \n",
       "339309            1    18 2011-05-10 18:00:00     Tuesday       False   \n",
       "573005            0     6 2008-02-01 06:00:00      Friday       False   \n",
       "119771            0    18 2014-07-27 18:00:00      Sunday        True   \n",
       "\n",
       "        is_weekday  is_holiday  \n",
       "363794        True       False  \n",
       "566534        True       False  \n",
       "339309        True       False  \n",
       "573005        True       False  \n",
       "119771       False       False  "
      ]
     },
     "execution_count": 98,
     "metadata": {},
     "output_type": "execute_result"
    }
   ],
   "source": [
    "df_main.sample(5)"
   ]
  },
  {
   "cell_type": "markdown",
   "id": "42f7a7eb-d423-4b87-b0c1-e0379136dc7e",
   "metadata": {},
   "source": [
    "##### check for any missed values\n",
    "collapsed since large output"
   ]
  },
  {
   "cell_type": "code",
   "execution_count": 99,
   "id": "f0ecb8da-4f80-4507-af9a-9cb7d6b84161",
   "metadata": {},
   "outputs": [
    {
     "name": "stdout",
     "output_type": "stream",
     "text": [
      "luminosity_lum\n",
      "lum_full_day           569238\n",
      "lum_night_yes_light    139743\n",
      "lum_night_no_light      71554\n",
      "lum_twighlight          48401\n",
      "Name: count, dtype: int64\n",
      "\n",
      "built_up_agg\n",
      "True     569413\n",
      "False    259523\n",
      "Name: count, dtype: int64\n",
      "\n",
      "intersection_type_int\n",
      "out_of_intersection    593189\n",
      "x_intersection         101037\n",
      "t_intersection          72263\n",
      "roundabout              21873\n",
      "other                   13233\n",
      "y_intersection          11141\n",
      "4+_intersection          9273\n",
      "place                    6015\n",
      "level_crossing            912\n",
      "Name: count, dtype: int64\n",
      "\n",
      "weather_atm\n",
      "normal        671981\n",
      "rain_light     85724\n",
      "cloudy         26976\n",
      "rain_heavy     17795\n",
      "dazzling        7758\n",
      "other           6237\n",
      "fog_smoke       5391\n",
      "snow_hail       5098\n",
      "storm           1976\n",
      "Name: count, dtype: int64\n",
      "\n",
      "collision_type_col\n",
      "other               273260\n",
      "two_cars_side       239439\n",
      "two_cars_rear        95430\n",
      "no_collision         86875\n",
      "two_cars_frontal     82592\n",
      "three+_multiple      26524\n",
      "three+_chain         24816\n",
      "Name: count, dtype: int64\n",
      "\n",
      "road_category_catr\n",
      "municipal_road        420850\n",
      "departmental_road     258454\n",
      "national_road          67212\n",
      "autoroutes             59362\n",
      "other                  16029\n",
      "parking_lot             5407\n",
      "off_public_network      1622\n",
      "Name: count, dtype: int64\n",
      "\n",
      "road_type_circ\n",
      "two_way                  526801\n",
      "one_way                  147972\n",
      "seperated_carriageway    105335\n",
      "other                     44272\n",
      "variable_assignment        4556\n",
      "Name: count, dtype: int64\n",
      "\n",
      "reserved_lane_type_vosp\n",
      "no_reserved_lane    777947\n",
      "reserved_lane        23328\n",
      "bike_path            16466\n",
      "bike_parking         11195\n",
      "Name: count, dtype: int64\n",
      "\n",
      "road_slope_prof\n",
      "dish           626657\n",
      "slope          112846\n",
      "other           63438\n",
      "hill_top        15006\n",
      "hill_bottom     10989\n",
      "Name: count, dtype: int64\n",
      "\n",
      "road_curvature_plan\n",
      "straight       632008\n",
      "curve_left      67700\n",
      "curve_right     61280\n",
      "other           57290\n",
      "s_shape         10658\n",
      "Name: count, dtype: int64\n",
      "\n",
      "surface_cond_surf\n",
      "dry        644766\n",
      "wet        141143\n",
      "other       31260\n",
      "ice          5404\n",
      "snow         2621\n",
      "oil          2140\n",
      "puddles       841\n",
      "mud           461\n",
      "flooded       300\n",
      "Name: count, dtype: int64\n",
      "\n",
      "infrastructure_infra\n",
      "none                  739610\n",
      "carrefour_arranged     49396\n",
      "interchange            12626\n",
      "bridge                 11600\n",
      "tunnel                  6945\n",
      "pedestrian_area         5262\n",
      "railway                 3008\n",
      "toll_zone                489\n",
      "Name: count, dtype: int64\n",
      "\n",
      "crash_location_situ\n",
      "road                   713204\n",
      "verge                   48454\n",
      "none                    42734\n",
      "sidewalk                14346\n",
      "emergency_stop_lane      5103\n",
      "bike_path                5095\n",
      "Name: count, dtype: int64\n",
      "\n",
      "day_of_week\n",
      "Friday       138021\n",
      "Wednesday    122206\n",
      "Thursday     122123\n",
      "Tuesday      121170\n",
      "Saturday     116686\n",
      "Monday       113105\n",
      "Sunday        95625\n",
      "Name: count, dtype: int64\n",
      "\n"
     ]
    }
   ],
   "source": [
    "#check for any missed values\n",
    "cat_cols = ['luminosity_lum', 'built_up_agg', 'intersection_type_int', 'weather_atm', 'collision_type_col',\n",
    "            'road_category_catr', 'road_type_circ', 'reserved_lane_type_vosp', 'road_slope_prof', 'road_curvature_plan',\n",
    "            'surface_cond_surf', 'infrastructure_infra', 'crash_location_situ', 'day_of_week']\n",
    "for col in cat_cols:\n",
    "    print(df_main[col].value_counts(dropna=False))\n",
    "    print()"
   ]
  },
  {
   "cell_type": "markdown",
   "id": "2249035c-66af-4828-a5e3-794463a71e57",
   "metadata": {},
   "source": [
    "#### convert to 'category' type"
   ]
  },
  {
   "cell_type": "code",
   "execution_count": 100,
   "id": "20c96284-c7e8-4fed-9094-bee7ad692baf",
   "metadata": {},
   "outputs": [],
   "source": [
    "df_main[cat_cols] = df_main[cat_cols].astype('category')"
   ]
  },
  {
   "cell_type": "code",
   "execution_count": 101,
   "id": "b2f09f95-2626-44de-8a28-c2c0281d5a4a",
   "metadata": {},
   "outputs": [
    {
     "data": {
      "text/plain": [
       "acc_id                               int64\n",
       "luminosity_lum                    category\n",
       "built_up_agg                      category\n",
       "intersection_type_int             category\n",
       "weather_atm                       category\n",
       "collision_type_col                category\n",
       "road_category_catr                category\n",
       "road_type_circ                    category\n",
       "lane_count_nbv                     float64\n",
       "reserved_lane_type_vosp           category\n",
       "road_slope_prof                   category\n",
       "road_curvature_plan               category\n",
       "central_sep_width_lartpc           float64\n",
       "road_width_larrout                 float64\n",
       "surface_cond_surf                 category\n",
       "infrastructure_infra              category\n",
       "crash_location_situ               category\n",
       "ped_present                          int64\n",
       "hour                                 int32\n",
       "date                        datetime64[ns]\n",
       "day_of_week                       category\n",
       "is_weekend                            bool\n",
       "is_weekday                            bool\n",
       "is_holiday                            bool\n",
       "dtype: object"
      ]
     },
     "execution_count": 101,
     "metadata": {},
     "output_type": "execute_result"
    }
   ],
   "source": [
    "df_main.dtypes"
   ]
  },
  {
   "cell_type": "markdown",
   "id": "11b6267d-591d-471e-b4a7-6518f11ef427",
   "metadata": {},
   "source": [
    "____\n",
    "### Numerical Cols"
   ]
  },
  {
   "cell_type": "code",
   "execution_count": 102,
   "id": "b833c298-7906-45bf-8448-307cf969263f",
   "metadata": {},
   "outputs": [],
   "source": [
    "num_cols = ['lane_count_nbv', 'central_sep_width_lartpc', 'road_width_larrout']\n",
    "#Not including any engineered features"
   ]
  },
  {
   "cell_type": "code",
   "execution_count": 103,
   "id": "b4298628-f790-4aca-8590-f40a1f4e8b33",
   "metadata": {},
   "outputs": [
    {
     "data": {
      "text/plain": [
       "lane_count_nbv              float64\n",
       "central_sep_width_lartpc    float64\n",
       "road_width_larrout          float64\n",
       "dtype: object"
      ]
     },
     "execution_count": 103,
     "metadata": {},
     "output_type": "execute_result"
    }
   ],
   "source": [
    "df_main[num_cols].dtypes"
   ]
  },
  {
   "cell_type": "code",
   "execution_count": 104,
   "id": "628c4544-411d-4bd0-a54d-483db70c14a9",
   "metadata": {},
   "outputs": [
    {
     "name": "stdout",
     "output_type": "stream",
     "text": [
      "lane_count_nbv    0\n",
      "dtype: int64\n",
      "\n",
      "central_sep_width_lartpc    0\n",
      "dtype: int64\n",
      "\n",
      "road_width_larrout    0\n",
      "dtype: int64\n",
      "\n"
     ]
    }
   ],
   "source": [
    "#Check for any values that actually use decimals (meaning the col shouldn't be turned into 'int' type)\n",
    "for col in num_cols:\n",
    "    df_floats = df_main[[col]] % 1 != 0\n",
    "    print(df_floats[[col]].sum())\n",
    "    print()"
   ]
  },
  {
   "cell_type": "markdown",
   "id": "889db492-574b-48e4-bb8a-5aa5ff86e15f",
   "metadata": {},
   "source": [
    "Convert to 'int' type"
   ]
  },
  {
   "cell_type": "code",
   "execution_count": 105,
   "id": "95b384b1-20c9-474d-86e4-a7430e8860eb",
   "metadata": {},
   "outputs": [
    {
     "data": {
      "text/plain": [
       "lane_count_nbv              int32\n",
       "central_sep_width_lartpc    int32\n",
       "road_width_larrout          int32\n",
       "dtype: object"
      ]
     },
     "execution_count": 105,
     "metadata": {},
     "output_type": "execute_result"
    }
   ],
   "source": [
    "df_main[num_cols] = df_main[num_cols].astype('int')\n",
    "df_main[num_cols].dtypes"
   ]
  },
  {
   "cell_type": "markdown",
   "id": "2bcfdc0f-1fdc-41b7-8060-1c239df12010",
   "metadata": {},
   "source": [
    "### Convert ped_present to bool"
   ]
  },
  {
   "cell_type": "code",
   "execution_count": 106,
   "id": "984b386f-7f56-4bb4-8c6f-7795deee948b",
   "metadata": {
    "tags": []
   },
   "outputs": [
    {
     "data": {
      "text/plain": [
       "dtype('bool')"
      ]
     },
     "execution_count": 106,
     "metadata": {},
     "output_type": "execute_result"
    }
   ],
   "source": [
    "df_main['ped_present'] = df_main['ped_present'].astype('bool')\n",
    "df_main['ped_present'].dtype"
   ]
  },
  {
   "cell_type": "markdown",
   "id": "ad71ae02-526f-44c5-9145-edc9b20a0766",
   "metadata": {},
   "source": [
    "## Check num_cols for value consistency & expected ranges\n",
    "cat_cols already ensured & checked when I manually replaced the strings for them above."
   ]
  },
  {
   "cell_type": "code",
   "execution_count": 107,
   "id": "a870746d-9d5d-4c46-a65f-8538889657a0",
   "metadata": {},
   "outputs": [
    {
     "name": "stdout",
     "output_type": "stream",
     "text": [
      "<class 'pandas.core.frame.DataFrame'>\n",
      "RangeIndex: 828936 entries, 0 to 828935\n",
      "Data columns (total 3 columns):\n",
      " #   Column                    Non-Null Count   Dtype\n",
      "---  ------                    --------------   -----\n",
      " 0   lane_count_nbv            828936 non-null  int32\n",
      " 1   central_sep_width_lartpc  828936 non-null  int32\n",
      " 2   road_width_larrout        828936 non-null  int32\n",
      "dtypes: int32(3)\n",
      "memory usage: 9.5 MB\n"
     ]
    }
   ],
   "source": [
    "df_main[num_cols].info()"
   ]
  },
  {
   "cell_type": "code",
   "execution_count": 108,
   "id": "cf05146e-5878-4d31-8086-bb7392ebbcf5",
   "metadata": {},
   "outputs": [
    {
     "data": {
      "text/plain": [
       "lane_count_nbv               53\n",
       "central_sep_width_lartpc    369\n",
       "road_width_larrout          536\n",
       "dtype: int64"
      ]
     },
     "execution_count": 108,
     "metadata": {},
     "output_type": "execute_result"
    }
   ],
   "source": [
    "df_main[num_cols].nunique()"
   ]
  },
  {
   "cell_type": "markdown",
   "id": "6e81a896-501b-43f9-8f90-951221c1cd84",
   "metadata": {},
   "source": [
    "AP: that's a suspsiciously high count of unique values for number of road lanes\n",
    "\n",
    "The width cols also seem to have an unexpectedly high count of unique values. It is France and I could just be unfamiliar with their road standards."
   ]
  },
  {
   "cell_type": "markdown",
   "id": "5d21470c-a33b-45bc-8eac-8c47a90c62e4",
   "metadata": {},
   "source": [
    "### lane_count_nbv check"
   ]
  },
  {
   "cell_type": "code",
   "execution_count": 109,
   "id": "cdbb2971-bdc5-4bbc-9b9c-803717880cc3",
   "metadata": {},
   "outputs": [
    {
     "data": {
      "text/plain": [
       "lane_count_nbv\n",
       "0     102490\n",
       "1     100385\n",
       "2     459119\n",
       "3      65955\n",
       "4      75772\n",
       "5       7771\n",
       "6      13377\n",
       "7        824\n",
       "8       2050\n",
       "9        148\n",
       "10       405\n",
       "11        32\n",
       "12        32\n",
       "13        14\n",
       "14         6\n",
       "15         8\n",
       "16         2\n",
       "17         2\n",
       "18         1\n",
       "20       241\n",
       "21        11\n",
       "22         5\n",
       "23         1\n",
       "24         6\n",
       "25        14\n",
       "26         9\n",
       "27         2\n",
       "28         1\n",
       "29         1\n",
       "30        27\n",
       "31         3\n",
       "33         1\n",
       "36         1\n",
       "39         1\n",
       "40        30\n",
       "41         1\n",
       "42         1\n",
       "44         1\n",
       "45         2\n",
       "50       158\n",
       "52         1\n",
       "53         2\n",
       "54         1\n",
       "60         3\n",
       "62         1\n",
       "65         1\n",
       "70         5\n",
       "76         1\n",
       "84         1\n",
       "86         1\n",
       "90         7\n",
       "91         1\n",
       "99         1\n",
       "Name: count, dtype: int64"
      ]
     },
     "execution_count": 109,
     "metadata": {},
     "output_type": "execute_result"
    }
   ],
   "source": [
    "#AP: df.value_counts() since 53 seems manageable for viewing\n",
    "\n",
    "#df_main['lane_count_nbv'].value_counts().sort_values(ascending=False)\n",
    "\n",
    "df_main['lane_count_nbv'].value_counts().sort_index()"
   ]
  },
  {
   "cell_type": "markdown",
   "id": "d80d696b-f007-4cd4-a78b-b143e5ef5164",
   "metadata": {},
   "source": [
    "AP: There **shouldn't be zero lanes for a road** AND the **most lanes I could find for French roads is 8** (from wikipedia & thouroughly exploring google maps)\n",
    "\n",
    "Zero lanes could be for non-road crashes, needs investigation"
   ]
  },
  {
   "cell_type": "code",
   "execution_count": 110,
   "id": "84487906-855d-43eb-934d-777286d962f3",
   "metadata": {},
   "outputs": [
    {
     "data": {
      "text/plain": [
       "828936"
      ]
     },
     "execution_count": 110,
     "metadata": {},
     "output_type": "execute_result"
    }
   ],
   "source": [
    "len(df_main)"
   ]
  },
  {
   "cell_type": "code",
   "execution_count": 111,
   "id": "169c1958-cea0-40f8-8e2d-75b8fd636e99",
   "metadata": {},
   "outputs": [
    {
     "name": "stdout",
     "output_type": "stream",
     "text": [
      "Count of rows with lanes =0 or >8:  103683\n",
      "Percent of total rows:  12.51 %\n"
     ]
    }
   ],
   "source": [
    "#Count of rows with lanes =0 or >8\n",
    "#and percent of total rows\n",
    "print('Count of rows with lanes =0 or >8: ', ((df_main['lane_count_nbv'] == 0) | (df_main['lane_count_nbv'] > 8)).sum())\n",
    "print('Percent of total rows: ', round((((df_main['lane_count_nbv'] == 0) | (df_main['lane_count_nbv'] > 8)).sum() / len(df_main)) * 100, 2), '%')"
   ]
  },
  {
   "cell_type": "code",
   "execution_count": 112,
   "id": "b177e36d-39a9-4b1a-9624-149a2b7f595e",
   "metadata": {},
   "outputs": [
    {
     "name": "stdout",
     "output_type": "stream",
     "text": [
      "count rows of 0 lanes:  102490\n",
      "Percent:  12.36 %\n"
     ]
    }
   ],
   "source": [
    "# count of rows with zero lanes (it's listed in value_counts but I like to see it isolated)\n",
    "print('count rows of 0 lanes: ', (df_main['lane_count_nbv'] == 0).sum())\n",
    "print('Percent: ', round(((df_main['lane_count_nbv'] == 0).sum() / len(df_main)) * 100, 2), '%')"
   ]
  },
  {
   "cell_type": "code",
   "execution_count": 113,
   "id": "e822396c-3eaf-4772-a76f-c6ff0e309939",
   "metadata": {},
   "outputs": [
    {
     "name": "stdout",
     "output_type": "stream",
     "text": [
      "rows with >8 lanes:  1193\n",
      "Percent:  0.14 %\n"
     ]
    }
   ],
   "source": [
    "# count of rows above 8 lanes\n",
    "print('rows with >8 lanes: ', (df_main['lane_count_nbv'] > 8).sum())\n",
    "print('Percent: ', round(((df_main['lane_count_nbv'] > 8).sum() / len(df_main)) * 100, 2), '%')"
   ]
  },
  {
   "cell_type": "markdown",
   "id": "ad2d1960-2861-4d71-a9d1-77fa2802cd29",
   "metadata": {},
   "source": [
    "Is there a specific road type that maybe I can attribute high & 0 lanes too?"
   ]
  },
  {
   "cell_type": "code",
   "execution_count": 114,
   "id": "24d6169e-9608-4dc4-9da6-c872549147a5",
   "metadata": {
    "tags": []
   },
   "outputs": [
    {
     "data": {
      "image/png": "[encoded data removed]",
      "text/plain": [
       "<Figure size 640x480 with 1 Axes>"
      ]
     },
     "metadata": {},
     "output_type": "display_data"
    }
   ],
   "source": [
    "df_main.plot(kind='scatter', x='road_category_catr', y='lane_count_nbv')\n",
    "plt.xticks(rotation=10)\n",
    "plt.axhline(y=0, color='r', linestyle='--')\n",
    "plt.axhline(y=8, color='r', linestyle='--')\n",
    "plt.show()\n",
    "\n",
    "#AP: added horizontal lines for y=0 (min lanes) & y=8 (max lanes I'll allow)"
   ]
  },
  {
   "cell_type": "markdown",
   "id": "457dd44c-862e-459f-ac1b-ef1a493828d7",
   "metadata": {},
   "source": [
    "No specific road type I can inveestigate for high or 0 lane count."
   ]
  },
  {
   "cell_type": "code",
   "execution_count": 115,
   "id": "41466c69-97af-4406-a7c8-cc9a9e9e5441",
   "metadata": {},
   "outputs": [
    {
     "data": {
      "image/png": "[encoded data removed]",
      "text/plain": [
       "<Figure size 640x480 with 1 Axes>"
      ]
     },
     "metadata": {},
     "output_type": "display_data"
    }
   ],
   "source": [
    "sns.scatterplot(data=df_main, x=df_main['date'].dt.year, y=df_main['lane_count_nbv'])\n",
    "plt.axhline(y=0, color='r', linestyle='--')\n",
    "plt.axhline(y=8, color='r', linestyle='--')\n",
    "plt.show()"
   ]
  },
  {
   "cell_type": "markdown",
   "id": "e478c69f-f0e3-44a0-aa1c-25cfa8c1dd4d",
   "metadata": {},
   "source": [
    "~2008 & ealier have the high values. Check to see the range of values for 2009 & later in order to figure out what I could replace the high values with~\n",
    "\n",
    "Will be dropping rows with >8 lanes, accounts for <0.5% of total data"
   ]
  },
  {
   "cell_type": "markdown",
   "id": "e1ae341b-e9d9-4eac-b4b6-7679b49c44be",
   "metadata": {},
   "source": [
    "**AP: Seems that there's a 2017 year, probably just have to drop that single row**\n",
    "#### Drop 2017 row"
   ]
  },
  {
   "cell_type": "code",
   "execution_count": 116,
   "id": "f90d595c-4f9a-4ae3-a987-7dccd0c72b1f",
   "metadata": {
    "tags": []
   },
   "outputs": [
    {
     "data": {
      "text/plain": [
       "Index([19376], dtype='int64')"
      ]
     },
     "execution_count": 116,
     "metadata": {},
     "output_type": "execute_result"
    }
   ],
   "source": [
    "df_main[df_main['date'].dt.year == 2017].index"
   ]
  },
  {
   "cell_type": "code",
   "execution_count": 117,
   "id": "a08b5c9f-bade-47e5-8bce-05f539a238f9",
   "metadata": {
    "tags": []
   },
   "outputs": [],
   "source": [
    "df_main.drop(df_main[df_main['date'].dt.year == 2017].index, inplace=True)"
   ]
  },
  {
   "cell_type": "code",
   "execution_count": 118,
   "id": "152f31e5-d6b1-4d42-b0dc-b3bf6bb29f69",
   "metadata": {
    "tags": []
   },
   "outputs": [
    {
     "data": {
      "text/plain": [
       "Index([], dtype='int64')"
      ]
     },
     "execution_count": 118,
     "metadata": {},
     "output_type": "execute_result"
    }
   ],
   "source": [
    "df_main[df_main['date'].dt.year == 2017].index"
   ]
  },
  {
   "cell_type": "markdown",
   "id": "d454cd0f-eaaf-4604-bfe8-5aadf8649fb1",
   "metadata": {},
   "source": [
    "~AP: Starting at 2009, I want to see what the max value for lane count is~"
   ]
  },
  {
   "cell_type": "markdown",
   "id": "8f4be12a-679b-4ab3-92eb-5295212ec885",
   "metadata": {},
   "source": [
    "#### Drop rows with >8 lanes"
   ]
  },
  {
   "cell_type": "markdown",
   "id": "1c47c845-beb8-431e-a87c-c44a8272f101",
   "metadata": {},
   "source": [
    "converting prior used cells to raw so they don't eecute and I can keep the code for later reference.|"
   ]
  },
  {
   "cell_type": "raw",
   "id": "722c3753-db11-4847-a4bf-0a26136a0068",
   "metadata": {
    "jupyter": {
     "source_hidden": true
    },
    "tags": []
   },
   "source": [
    "#df_main[(df_main['date'].dt.year >= 2009) & (df_main['date'].dt.year <= 2016)][['date', 'lane_count_nbv']].sort_values(ascending=False, by='lane_count_nbv').head(15)\n",
    "\n",
    "df_main[(df_main['date'].dt.year >= 2009) & (df_main['date'].dt.year <= 2016)][['date', 'lane_count_nbv']].groupby(by=df_main['date'].dt.year).describe(include='int')"
   ]
  },
  {
   "cell_type": "raw",
   "id": "da98aaa2-ade7-42d6-96bf-7aad04c810b8",
   "metadata": {
    "jupyter": {
     "source_hidden": true
    },
    "tags": []
   },
   "source": [
    "df_main[df_main['date'].dt.year == 2009][['lane_count_nbv']].value_counts().sort_index(ascending=True)"
   ]
  },
  {
   "cell_type": "markdown",
   "id": "6013fbbb-fe29-4da6-827f-e1d2719cc15e",
   "metadata": {
    "tags": []
   },
   "source": [
    "~What kind of locations are these high number lanes?~"
   ]
  },
  {
   "cell_type": "raw",
   "id": "690f2de8-ee3d-48d6-949b-851b8397ed5d",
   "metadata": {
    "jupyter": {
     "source_hidden": true
    },
    "tags": []
   },
   "source": [
    "df_main[(df_main['date'].dt.year == 2009) & (df_main['lane_count_nbv'] > 6)][[\n",
    "    'lane_count_nbv', 'built_up_agg', 'intersection_type_int', 'road_category_catr', 'road_type_circ','infrastructure_infra']].sort_values(\n",
    "    by='lane_count_nbv', ascending=False)"
   ]
  },
  {
   "cell_type": "raw",
   "id": "f3175fa1-2ced-457c-8412-8efb8b6c5db2",
   "metadata": {
    "jupyter": {
     "source_hidden": true
    },
    "tags": []
   },
   "source": [
    "for col in ['built_up_agg', 'intersection_type_int', 'road_category_catr', 'road_type_circ', 'infrastructure_infra']:\n",
    "    sns.scatterplot(data=df_main, y='lane_count_nbv', x=col)\n",
    "    plt.xticks(rotation=45)\n",
    "    plt.show()"
   ]
  },
  {
   "cell_type": "code",
   "execution_count": 119,
   "id": "70a79c7a-18b9-443a-91cb-f82474cda025",
   "metadata": {},
   "outputs": [],
   "source": [
    "df_main.drop(df_main[df_main['lane_count_nbv'] > 8].index, axis=0, inplace=True)"
   ]
  },
  {
   "cell_type": "code",
   "execution_count": 120,
   "id": "f5ec4e9b-193b-4a38-be86-db90fe4da4a3",
   "metadata": {},
   "outputs": [
    {
     "data": {
      "text/plain": [
       "lane_count_nbv\n",
       "0    102490\n",
       "1    100385\n",
       "2    459119\n",
       "3     65954\n",
       "4     75772\n",
       "5      7771\n",
       "6     13377\n",
       "7       824\n",
       "8      2050\n",
       "Name: count, dtype: int64"
      ]
     },
     "execution_count": 120,
     "metadata": {},
     "output_type": "execute_result"
    }
   ],
   "source": [
    "df_main['lane_count_nbv'].value_counts(dropna=False).sort_index()"
   ]
  },
  {
   "cell_type": "markdown",
   "id": "453b2c71-1019-452c-b0e6-654d35482df6",
   "metadata": {},
   "source": [
    "AP: It is unclear (even from official documentation) whether lanes include ramps for highways. I am deciding to leave this as is."
   ]
  },
  {
   "cell_type": "markdown",
   "id": "de17bb16-2708-4ef7-94a1-49ac78c41c5f",
   "metadata": {},
   "source": [
    "#### Check zero lane roads"
   ]
  },
  {
   "cell_type": "code",
   "execution_count": 121,
   "id": "d13b522d-4bfb-4017-bd17-4e49268e56d2",
   "metadata": {},
   "outputs": [
    {
     "data": {
      "text/html": [
       "<div>\n",
       "<style scoped>\n",
       "    .dataframe tbody tr th:only-of-type {\n",
       "        vertical-align: middle;\n",
       "    }\n",
       "\n",
       "    .dataframe tbody tr th {\n",
       "        vertical-align: top;\n",
       "    }\n",
       "\n",
       "    .dataframe thead th {\n",
       "        text-align: right;\n",
       "    }\n",
       "</style>\n",
       "<table border=\"1\" class=\"dataframe\">\n",
       "  <thead>\n",
       "    <tr style=\"text-align: right;\">\n",
       "      <th></th>\n",
       "      <th>acc_id</th>\n",
       "      <th>luminosity_lum</th>\n",
       "      <th>built_up_agg</th>\n",
       "      <th>intersection_type_int</th>\n",
       "      <th>weather_atm</th>\n",
       "      <th>collision_type_col</th>\n",
       "      <th>road_category_catr</th>\n",
       "      <th>road_type_circ</th>\n",
       "      <th>lane_count_nbv</th>\n",
       "      <th>reserved_lane_type_vosp</th>\n",
       "      <th>road_slope_prof</th>\n",
       "      <th>road_curvature_plan</th>\n",
       "      <th>central_sep_width_lartpc</th>\n",
       "      <th>road_width_larrout</th>\n",
       "      <th>surface_cond_surf</th>\n",
       "      <th>infrastructure_infra</th>\n",
       "      <th>crash_location_situ</th>\n",
       "      <th>ped_present</th>\n",
       "      <th>hour</th>\n",
       "      <th>date</th>\n",
       "      <th>day_of_week</th>\n",
       "      <th>is_weekend</th>\n",
       "      <th>is_weekday</th>\n",
       "      <th>is_holiday</th>\n",
       "    </tr>\n",
       "  </thead>\n",
       "  <tbody>\n",
       "    <tr>\n",
       "      <th>701580</th>\n",
       "      <td>200600042663</td>\n",
       "      <td>lum_full_day</td>\n",
       "      <td>False</td>\n",
       "      <td>x_intersection</td>\n",
       "      <td>normal</td>\n",
       "      <td>two_cars_side</td>\n",
       "      <td>departmental_road</td>\n",
       "      <td>two_way</td>\n",
       "      <td>0</td>\n",
       "      <td>no_reserved_lane</td>\n",
       "      <td>dish</td>\n",
       "      <td>straight</td>\n",
       "      <td>0</td>\n",
       "      <td>47</td>\n",
       "      <td>dry</td>\n",
       "      <td>none</td>\n",
       "      <td>road</td>\n",
       "      <td>False</td>\n",
       "      <td>13</td>\n",
       "      <td>2006-07-17 13:00:00</td>\n",
       "      <td>Monday</td>\n",
       "      <td>False</td>\n",
       "      <td>True</td>\n",
       "      <td>False</td>\n",
       "    </tr>\n",
       "    <tr>\n",
       "      <th>683382</th>\n",
       "      <td>200600024465</td>\n",
       "      <td>lum_full_day</td>\n",
       "      <td>False</td>\n",
       "      <td>out_of_intersection</td>\n",
       "      <td>normal</td>\n",
       "      <td>two_cars_side</td>\n",
       "      <td>departmental_road</td>\n",
       "      <td>seperated_carriageway</td>\n",
       "      <td>0</td>\n",
       "      <td>no_reserved_lane</td>\n",
       "      <td>hill_top</td>\n",
       "      <td>straight</td>\n",
       "      <td>100</td>\n",
       "      <td>0</td>\n",
       "      <td>dry</td>\n",
       "      <td>none</td>\n",
       "      <td>road</td>\n",
       "      <td>False</td>\n",
       "      <td>15</td>\n",
       "      <td>2006-05-21 15:00:00</td>\n",
       "      <td>Sunday</td>\n",
       "      <td>True</td>\n",
       "      <td>False</td>\n",
       "      <td>False</td>\n",
       "    </tr>\n",
       "    <tr>\n",
       "      <th>448504</th>\n",
       "      <td>200900023984</td>\n",
       "      <td>lum_full_day</td>\n",
       "      <td>False</td>\n",
       "      <td>out_of_intersection</td>\n",
       "      <td>normal</td>\n",
       "      <td>two_cars_rear</td>\n",
       "      <td>national_road</td>\n",
       "      <td>two_way</td>\n",
       "      <td>0</td>\n",
       "      <td>no_reserved_lane</td>\n",
       "      <td>dish</td>\n",
       "      <td>straight</td>\n",
       "      <td>90</td>\n",
       "      <td>0</td>\n",
       "      <td>dry</td>\n",
       "      <td>none</td>\n",
       "      <td>road</td>\n",
       "      <td>False</td>\n",
       "      <td>18</td>\n",
       "      <td>2009-08-07 18:00:00</td>\n",
       "      <td>Friday</td>\n",
       "      <td>False</td>\n",
       "      <td>True</td>\n",
       "      <td>False</td>\n",
       "    </tr>\n",
       "    <tr>\n",
       "      <th>81100</th>\n",
       "      <td>201500024352</td>\n",
       "      <td>lum_full_day</td>\n",
       "      <td>True</td>\n",
       "      <td>t_intersection</td>\n",
       "      <td>normal</td>\n",
       "      <td>other</td>\n",
       "      <td>municipal_road</td>\n",
       "      <td>other</td>\n",
       "      <td>0</td>\n",
       "      <td>no_reserved_lane</td>\n",
       "      <td>other</td>\n",
       "      <td>other</td>\n",
       "      <td>0</td>\n",
       "      <td>0</td>\n",
       "      <td>other</td>\n",
       "      <td>none</td>\n",
       "      <td>none</td>\n",
       "      <td>True</td>\n",
       "      <td>8</td>\n",
       "      <td>2015-05-06 08:00:00</td>\n",
       "      <td>Wednesday</td>\n",
       "      <td>False</td>\n",
       "      <td>True</td>\n",
       "      <td>False</td>\n",
       "    </tr>\n",
       "    <tr>\n",
       "      <th>25099</th>\n",
       "      <td>201600025881</td>\n",
       "      <td>lum_night_yes_light</td>\n",
       "      <td>True</td>\n",
       "      <td>out_of_intersection</td>\n",
       "      <td>normal</td>\n",
       "      <td>no_collision</td>\n",
       "      <td>other</td>\n",
       "      <td>other</td>\n",
       "      <td>0</td>\n",
       "      <td>no_reserved_lane</td>\n",
       "      <td>other</td>\n",
       "      <td>other</td>\n",
       "      <td>0</td>\n",
       "      <td>0</td>\n",
       "      <td>other</td>\n",
       "      <td>none</td>\n",
       "      <td>none</td>\n",
       "      <td>False</td>\n",
       "      <td>0</td>\n",
       "      <td>2016-07-10 00:00:00</td>\n",
       "      <td>Sunday</td>\n",
       "      <td>True</td>\n",
       "      <td>False</td>\n",
       "      <td>False</td>\n",
       "    </tr>\n",
       "  </tbody>\n",
       "</table>\n",
       "</div>"
      ],
      "text/plain": [
       "              acc_id       luminosity_lum built_up_agg intersection_type_int  \\\n",
       "701580  200600042663         lum_full_day        False        x_intersection   \n",
       "683382  200600024465         lum_full_day        False   out_of_intersection   \n",
       "448504  200900023984         lum_full_day        False   out_of_intersection   \n",
       "81100   201500024352         lum_full_day         True        t_intersection   \n",
       "25099   201600025881  lum_night_yes_light         True   out_of_intersection   \n",
       "\n",
       "       weather_atm collision_type_col road_category_catr  \\\n",
       "701580      normal      two_cars_side  departmental_road   \n",
       "683382      normal      two_cars_side  departmental_road   \n",
       "448504      normal      two_cars_rear      national_road   \n",
       "81100       normal              other     municipal_road   \n",
       "25099       normal       no_collision              other   \n",
       "\n",
       "               road_type_circ  lane_count_nbv reserved_lane_type_vosp  \\\n",
       "701580                two_way               0        no_reserved_lane   \n",
       "683382  seperated_carriageway               0        no_reserved_lane   \n",
       "448504                two_way               0        no_reserved_lane   \n",
       "81100                   other               0        no_reserved_lane   \n",
       "25099                   other               0        no_reserved_lane   \n",
       "\n",
       "       road_slope_prof road_curvature_plan  central_sep_width_lartpc  \\\n",
       "701580            dish            straight                         0   \n",
       "683382        hill_top            straight                       100   \n",
       "448504            dish            straight                        90   \n",
       "81100            other               other                         0   \n",
       "25099            other               other                         0   \n",
       "\n",
       "        road_width_larrout surface_cond_surf infrastructure_infra  \\\n",
       "701580                  47               dry                 none   \n",
       "683382                   0               dry                 none   \n",
       "448504                   0               dry                 none   \n",
       "81100                    0             other                 none   \n",
       "25099                    0             other                 none   \n",
       "\n",
       "       crash_location_situ  ped_present  hour                date day_of_week  \\\n",
       "701580                road        False    13 2006-07-17 13:00:00      Monday   \n",
       "683382                road        False    15 2006-05-21 15:00:00      Sunday   \n",
       "448504                road        False    18 2009-08-07 18:00:00      Friday   \n",
       "81100                 none         True     8 2015-05-06 08:00:00   Wednesday   \n",
       "25099                 none        False     0 2016-07-10 00:00:00      Sunday   \n",
       "\n",
       "        is_weekend  is_weekday  is_holiday  \n",
       "701580       False        True       False  \n",
       "683382        True       False       False  \n",
       "448504       False        True       False  \n",
       "81100        False        True       False  \n",
       "25099         True       False       False  "
      ]
     },
     "execution_count": 121,
     "metadata": {},
     "output_type": "execute_result"
    }
   ],
   "source": [
    "df_main[df_main['lane_count_nbv'] == 0].sample(5)"
   ]
  },
  {
   "cell_type": "markdown",
   "id": "0627ba37-1a6d-48dd-97a5-99266c24713d",
   "metadata": {},
   "source": [
    "Plot value counts for cols corresponding to road type characteristics for lanes = 0"
   ]
  },
  {
   "cell_type": "code",
   "execution_count": 122,
   "id": "3128063e-19af-4904-a8e3-1843bc46d76f",
   "metadata": {},
   "outputs": [
    {
     "name": "stdout",
     "output_type": "stream",
     "text": [
      "built_up_agg\n",
      "True     60340\n",
      "False    42150\n",
      "Name: count, dtype: int64\n",
      "\n",
      "intersection_type_int\n",
      "out_of_intersection    80722\n",
      "x_intersection          8019\n",
      "t_intersection          5296\n",
      "roundabout              3091\n",
      "other                   2383\n",
      "place                   1123\n",
      "y_intersection           860\n",
      "4+_intersection          845\n",
      "level_crossing           151\n",
      "Name: count, dtype: int64\n",
      "\n",
      "road_category_catr\n",
      "departmental_road     43909\n",
      "municipal_road        39812\n",
      "national_road          7940\n",
      "other                  3705\n",
      "autoroutes             3540\n",
      "parking_lot            3093\n",
      "off_public_network      491\n",
      "Name: count, dtype: int64\n",
      "\n",
      "road_type_circ\n",
      "two_way                  66896\n",
      "other                    16917\n",
      "one_way                  10550\n",
      "seperated_carriageway     7442\n",
      "variable_assignment        685\n",
      "Name: count, dtype: int64\n",
      "\n",
      "reserved_lane_type_vosp\n",
      "no_reserved_lane    98502\n",
      "reserved_lane        1877\n",
      "bike_path            1384\n",
      "bike_parking          727\n",
      "Name: count, dtype: int64\n",
      "\n",
      "central_sep_width_lartpc\n",
      "0      92780\n",
      "10       971\n",
      "20       795\n",
      "15       700\n",
      "30       615\n",
      "       ...  \n",
      "221        1\n",
      "259        1\n",
      "152        1\n",
      "165        1\n",
      "530        1\n",
      "Name: count, Length: 219, dtype: int64\n",
      "\n",
      "road_width_larrout\n",
      "0      51697\n",
      "60      6168\n",
      "70      5308\n",
      "50      2586\n",
      "80      1909\n",
      "       ...  \n",
      "172        1\n",
      "242        1\n",
      "970        1\n",
      "740        1\n",
      "194        1\n",
      "Name: count, Length: 332, dtype: int64\n",
      "\n",
      "infrastructure_infra\n",
      "none                  91809\n",
      "carrefour_arranged     6468\n",
      "bridge                 1237\n",
      "pedestrian_area        1220\n",
      "interchange             896\n",
      "tunnel                  404\n",
      "railway                 327\n",
      "toll_zone               129\n",
      "Name: count, dtype: int64\n",
      "\n"
     ]
    }
   ],
   "source": [
    "for col in ['built_up_agg', 'intersection_type_int', 'road_category_catr', 'road_type_circ', 'reserved_lane_type_vosp', 'central_sep_width_lartpc', 'road_width_larrout', 'infrastructure_infra']:\n",
    "    print(df_main[df_main['lane_count_nbv'] == 0][col].value_counts().sort_values(ascending=False))\n",
    "    print()"
   ]
  },
  {
   "cell_type": "code",
   "execution_count": 123,
   "id": "b8fa6c3b-1e28-490b-8937-2ee81f559156",
   "metadata": {},
   "outputs": [
    {
     "data": {
      "image/png": "[encoded data removed]",
      "text/plain": [
       "<Figure size 1000x1000 with 10 Axes>"
      ]
     },
     "metadata": {},
     "output_type": "display_data"
    }
   ],
   "source": [
    "warnings.filterwarnings('ignore')\n",
    "\n",
    "columns_to_plot = ['built_up_agg', 'intersection_type_int', 'road_category_catr', 'road_type_circ', 'reserved_lane_type_vosp', 'central_sep_width_lartpc', 'road_width_larrout', 'infrastructure_infra', 'crash_location_situ']\n",
    "n_cols = len(columns_to_plot)\n",
    "fig, axes = plt.subplots(nrows=5, ncols=2, figsize=(10, 10), layout=\"constrained\")\n",
    "axes = axes.flatten()\n",
    "\n",
    "for i, col in enumerate(columns_to_plot):\n",
    "    sns.histplot(df_main[col], kde=False, ax=axes[i])\n",
    "    axes[i].set_title(col)\n",
    "    #axes[i].set_xlabel('')  # Remove x-axis labels for clarity if needed\n",
    "    #xes[i].set_ylabel('')\n",
    "    axes[i].tick_params(axis='x', labelrotation=15, labelsize=7)\n",
    "#plt.tight_layout()\n",
    "plt.show()\n",
    "\n",
    "warnings.resetwarnings()"
   ]
  },
  {
   "cell_type": "markdown",
   "id": "dbbe9347-2c4c-412c-bed6-1d7645bde424",
   "metadata": {},
   "source": [
    "Majority characteristics for 0-lane roads:\n",
    "- In built up areas\n",
    "    - (built_up_agg = True)\n",
    "- Out of intersection\n",
    "    - intersection_type_int = out_of_intersection\n",
    "    - Implies either off a road or on stretch of road without intersection\n",
    "- municipal road type & departmental road\n",
    "    - road_category_catr = municipal_road OR departmental_road\n",
    "    - essentially a county road\n",
    "    - departmental road is essentially a toll-free highway\n",
    "- Two way road\n",
    "    - road_type_circ = two_way\n",
    "- No reserved lane\n",
    "    - reserved_lane_type_vosp = no_reserved_lane\n",
    "- no central separator in road\n",
    "    - central_sep_width_lartpc = 0\n",
    "- Majority of roads have a width of 0\n",
    "    - road_width_larrout = 0\n",
    "    - Strongly suggests this feature as the next to investigate for consistent and expected values\n",
    "- No infrastructure\n",
    "    - infrastructure_infra = none"
   ]
  },
  {
   "cell_type": "markdown",
   "id": "64fcc939-185c-4483-8c61-211c372c07ba",
   "metadata": {},
   "source": [
    "**Plan for replacing 0's :**\n",
    "\n",
    "base it off of road_type_circ col\n",
    "\n",
    "2 lanes if road type is two_way, seperated_carrageway, or variable_assignment\n",
    "\n",
    "1 lanes if road type is one_way"
   ]
  },
  {
   "cell_type": "code",
   "execution_count": 124,
   "id": "8ecea15e-c395-438b-8620-2b260bb69456",
   "metadata": {
    "tags": []
   },
   "outputs": [
    {
     "data": {
      "text/plain": [
       "lane_count_nbv\n",
       "0    102490\n",
       "Name: count, dtype: int64"
      ]
     },
     "execution_count": 124,
     "metadata": {},
     "output_type": "execute_result"
    }
   ],
   "source": [
    "df_main[df_main['lane_count_nbv']==0]['lane_count_nbv'].value_counts(dropna=False).sort_index()"
   ]
  },
  {
   "cell_type": "code",
   "execution_count": 149,
   "id": "b550e700-e757-4607-82cf-0fab3e918343",
   "metadata": {
    "tags": []
   },
   "outputs": [],
   "source": [
    "road_desc_cols = ['built_up_agg', 'intersection_type_int', 'road_category_catr', 'road_type_circ', 'reserved_lane_type_vosp', 'infrastructure_infra', 'crash_location_situ']"
   ]
  },
  {
   "cell_type": "code",
   "execution_count": 159,
   "id": "db260a56-618b-48b3-9bab-88a85d5faadd",
   "metadata": {},
   "outputs": [
    {
     "data": {
      "image/png": "[encoded data removed]",
      "text/plain": [
       "<Figure size 640x480 with 1 Axes>"
      ]
     },
     "metadata": {},
     "output_type": "display_data"
    },
    {
     "data": {
      "image/png": "[encoded data removed]",
      "text/plain": [
       "<Figure size 600x300 with 1 Axes>"
      ]
     },
     "metadata": {},
     "output_type": "display_data"
    },
    {
     "data": {
      "image/png": "[encoded data removed]",
      "text/plain": [
       "<Figure size 600x300 with 1 Axes>"
      ]
     },
     "metadata": {},
     "output_type": "display_data"
    },
    {
     "data": {
      "image/png": "[encoded data removed]",
      "text/plain": [
       "<Figure size 600x300 with 1 Axes>"
      ]
     },
     "metadata": {},
     "output_type": "display_data"
    },
    {
     "data": {
      "image/png": "[encoded data removed]",
      "text/plain": [
       "<Figure size 600x300 with 1 Axes>"
      ]
     },
     "metadata": {},
     "output_type": "display_data"
    },
    {
     "data": {
      "image/png": "[encoded data removed]",
      "text/plain": [
       "<Figure size 600x300 with 1 Axes>"
      ]
     },
     "metadata": {},
     "output_type": "display_data"
    },
    {
     "data": {
      "image/png": "[encoded data removed]",
      "text/plain": [
       "<Figure size 600x300 with 1 Axes>"
      ]
     },
     "metadata": {},
     "output_type": "display_data"
    },
    {
     "data": {
      "text/plain": [
       "<Figure size 600x300 with 0 Axes>"
      ]
     },
     "metadata": {},
     "output_type": "display_data"
    }
   ],
   "source": [
    "warnings.filterwarnings('ignore')\n",
    "\n",
    "for col in road_desc_cols:\n",
    "    sns.histplot(data=df_main[df_main['lane_count_nbv']==0][col], x=df_main[col])\n",
    "    plt.title(col)\n",
    "    plt.xticks(rotation=15)\n",
    "    plt.figure(figsize=(6,3))\n",
    "    plt.show\n",
    "    \n",
    "warnings.resetwarnings()\n",
    "\n",
    "#Note: have to use plt.figure(figsize=(...)) or else only the is_holiday col gets plotted."
   ]
  },
  {
   "cell_type": "code",
   "execution_count": 125,
   "id": "7af0fd69-f448-49cc-8292-79da368af834",
   "metadata": {},
   "outputs": [],
   "source": [
    "df_main.loc[\n",
    "    (df_main['road_type_circ'] == 'one_way') & \n",
    "    (df_main['road_category_catr'] == 'municipal_road') &\n",
    "    (df_main['lane_count_nbv'] == 0),\n",
    "    'lane_count_nbv'\n",
    "] = 1"
   ]
  },
  {
   "cell_type": "code",
   "execution_count": 126,
   "id": "f57a0f4e-8376-48bc-8904-47d3ef6d032e",
   "metadata": {
    "tags": []
   },
   "outputs": [
    {
     "data": {
      "text/plain": [
       "lane_count_nbv\n",
       "0    95424\n",
       "Name: count, dtype: int64"
      ]
     },
     "execution_count": 126,
     "metadata": {},
     "output_type": "execute_result"
    }
   ],
   "source": [
    "df_main[df_main['lane_count_nbv']==0]['lane_count_nbv'].value_counts(dropna=False).sort_index()"
   ]
  },
  {
   "cell_type": "code",
   "execution_count": 127,
   "id": "0fdae376-d500-4612-9e9f-8b294473eddc",
   "metadata": {
    "tags": []
   },
   "outputs": [
    {
     "data": {
      "text/html": [
       "<div>\n",
       "<style scoped>\n",
       "    .dataframe tbody tr th:only-of-type {\n",
       "        vertical-align: middle;\n",
       "    }\n",
       "\n",
       "    .dataframe tbody tr th {\n",
       "        vertical-align: top;\n",
       "    }\n",
       "\n",
       "    .dataframe thead th {\n",
       "        text-align: right;\n",
       "    }\n",
       "</style>\n",
       "<table border=\"1\" class=\"dataframe\">\n",
       "  <thead>\n",
       "    <tr style=\"text-align: right;\">\n",
       "      <th></th>\n",
       "      <th>acc_id</th>\n",
       "      <th>luminosity_lum</th>\n",
       "      <th>built_up_agg</th>\n",
       "      <th>intersection_type_int</th>\n",
       "      <th>weather_atm</th>\n",
       "      <th>collision_type_col</th>\n",
       "      <th>road_category_catr</th>\n",
       "      <th>road_type_circ</th>\n",
       "      <th>lane_count_nbv</th>\n",
       "      <th>reserved_lane_type_vosp</th>\n",
       "      <th>road_slope_prof</th>\n",
       "      <th>road_curvature_plan</th>\n",
       "      <th>central_sep_width_lartpc</th>\n",
       "      <th>road_width_larrout</th>\n",
       "      <th>surface_cond_surf</th>\n",
       "      <th>infrastructure_infra</th>\n",
       "      <th>crash_location_situ</th>\n",
       "      <th>ped_present</th>\n",
       "      <th>hour</th>\n",
       "      <th>date</th>\n",
       "      <th>day_of_week</th>\n",
       "      <th>is_weekend</th>\n",
       "      <th>is_weekday</th>\n",
       "      <th>is_holiday</th>\n",
       "    </tr>\n",
       "  </thead>\n",
       "  <tbody>\n",
       "    <tr>\n",
       "      <th>0</th>\n",
       "      <td>201600000001</td>\n",
       "      <td>lum_full_day</td>\n",
       "      <td>True</td>\n",
       "      <td>out_of_intersection</td>\n",
       "      <td>cloudy</td>\n",
       "      <td>two_cars_side</td>\n",
       "      <td>departmental_road</td>\n",
       "      <td>two_way</td>\n",
       "      <td>0</td>\n",
       "      <td>no_reserved_lane</td>\n",
       "      <td>dish</td>\n",
       "      <td>curve_right</td>\n",
       "      <td>0</td>\n",
       "      <td>0</td>\n",
       "      <td>dry</td>\n",
       "      <td>none</td>\n",
       "      <td>road</td>\n",
       "      <td>False</td>\n",
       "      <td>15</td>\n",
       "      <td>2016-02-01 15:00:00</td>\n",
       "      <td>Monday</td>\n",
       "      <td>False</td>\n",
       "      <td>True</td>\n",
       "      <td>False</td>\n",
       "    </tr>\n",
       "  </tbody>\n",
       "</table>\n",
       "</div>"
      ],
      "text/plain": [
       "         acc_id luminosity_lum built_up_agg intersection_type_int weather_atm  \\\n",
       "0  201600000001   lum_full_day         True   out_of_intersection      cloudy   \n",
       "\n",
       "  collision_type_col road_category_catr road_type_circ  lane_count_nbv  \\\n",
       "0      two_cars_side  departmental_road        two_way               0   \n",
       "\n",
       "  reserved_lane_type_vosp road_slope_prof road_curvature_plan  \\\n",
       "0        no_reserved_lane            dish         curve_right   \n",
       "\n",
       "   central_sep_width_lartpc  road_width_larrout surface_cond_surf  \\\n",
       "0                         0                   0               dry   \n",
       "\n",
       "  infrastructure_infra crash_location_situ  ped_present  hour  \\\n",
       "0                 none                road        False    15   \n",
       "\n",
       "                 date day_of_week  is_weekend  is_weekday  is_holiday  \n",
       "0 2016-02-01 15:00:00      Monday       False        True       False  "
      ]
     },
     "execution_count": 127,
     "metadata": {},
     "output_type": "execute_result"
    }
   ],
   "source": [
    "df_main.head(1)"
   ]
  },
  {
   "cell_type": "code",
   "execution_count": 128,
   "id": "d26bb9d7-0c9b-4aa6-8896-ef723d9d0c80",
   "metadata": {
    "tags": []
   },
   "outputs": [],
   "source": [
    "df_main.loc[(df_main['lane_count_nbv'] == 0) &\n",
    "    #(df_main['intersection_type_int'] != 'other') &\n",
    "    (df_main['road_category_catr'].isin(['autoroutes', 'departmental_road', 'national_road'])) &\n",
    "    (df_main['road_type_circ'] == 'seperated_carriageway') &\n",
    "    (df_main['crash_location_situ'] == 'road'),\n",
    "    'lane_count_nbv'\n",
    "    ] = 2"
   ]
  },
  {
   "cell_type": "code",
   "execution_count": 129,
   "id": "495a7902-241e-4d6c-ac61-603cf228d620",
   "metadata": {
    "tags": []
   },
   "outputs": [
    {
     "data": {
      "text/plain": [
       "lane_count_nbv\n",
       "0    92591\n",
       "Name: count, dtype: int64"
      ]
     },
     "execution_count": 129,
     "metadata": {},
     "output_type": "execute_result"
    }
   ],
   "source": [
    "df_main[df_main['lane_count_nbv']==0]['lane_count_nbv'].value_counts(dropna=False).sort_index()"
   ]
  },
  {
   "cell_type": "code",
   "execution_count": 130,
   "id": "54f62da3-3db0-4f3a-a75a-6354a96f9314",
   "metadata": {
    "tags": []
   },
   "outputs": [
    {
     "data": {
      "text/plain": [
       "road_category_catr\n",
       "departmental_road     42308\n",
       "municipal_road        32746\n",
       "national_road          6708\n",
       "other                  3705\n",
       "autoroutes             3540\n",
       "parking_lot            3093\n",
       "off_public_network      491\n",
       "Name: count, dtype: int64"
      ]
     },
     "execution_count": 130,
     "metadata": {},
     "output_type": "execute_result"
    }
   ],
   "source": [
    "df_main[df_main['lane_count_nbv']==0]['road_category_catr'].value_counts(dropna=False)"
   ]
  },
  {
   "cell_type": "markdown",
   "id": "3042fc52-a11a-4f20-9f34-4dc7b607d3bd",
   "metadata": {},
   "source": [
    "# AP: Bookmark\n",
    "\n",
    "There's still near 10k 0 lane rows.\n",
    "\n",
    "I want to make sure their for applicable situations."
   ]
  },
  {
   "cell_type": "code",
   "execution_count": 148,
   "id": "ddab8929-b262-45b9-a51b-3066f2c1b79b",
   "metadata": {
    "tags": []
   },
   "outputs": [
    {
     "data": {
      "text/html": [
       "<div>\n",
       "<style scoped>\n",
       "    .dataframe tbody tr th:only-of-type {\n",
       "        vertical-align: middle;\n",
       "    }\n",
       "\n",
       "    .dataframe tbody tr th {\n",
       "        vertical-align: top;\n",
       "    }\n",
       "\n",
       "    .dataframe thead th {\n",
       "        text-align: right;\n",
       "    }\n",
       "</style>\n",
       "<table border=\"1\" class=\"dataframe\">\n",
       "  <thead>\n",
       "    <tr style=\"text-align: right;\">\n",
       "      <th></th>\n",
       "      <th>acc_id</th>\n",
       "      <th>luminosity_lum</th>\n",
       "      <th>built_up_agg</th>\n",
       "      <th>intersection_type_int</th>\n",
       "      <th>weather_atm</th>\n",
       "      <th>collision_type_col</th>\n",
       "      <th>road_category_catr</th>\n",
       "      <th>road_type_circ</th>\n",
       "      <th>lane_count_nbv</th>\n",
       "      <th>reserved_lane_type_vosp</th>\n",
       "      <th>road_slope_prof</th>\n",
       "      <th>road_curvature_plan</th>\n",
       "      <th>central_sep_width_lartpc</th>\n",
       "      <th>road_width_larrout</th>\n",
       "      <th>surface_cond_surf</th>\n",
       "      <th>infrastructure_infra</th>\n",
       "      <th>crash_location_situ</th>\n",
       "      <th>ped_present</th>\n",
       "      <th>hour</th>\n",
       "      <th>date</th>\n",
       "      <th>day_of_week</th>\n",
       "      <th>is_weekend</th>\n",
       "      <th>is_weekday</th>\n",
       "      <th>is_holiday</th>\n",
       "    </tr>\n",
       "  </thead>\n",
       "  <tbody>\n",
       "    <tr>\n",
       "      <th>0</th>\n",
       "      <td>201600000001</td>\n",
       "      <td>lum_full_day</td>\n",
       "      <td>True</td>\n",
       "      <td>out_of_intersection</td>\n",
       "      <td>cloudy</td>\n",
       "      <td>two_cars_side</td>\n",
       "      <td>departmental_road</td>\n",
       "      <td>two_way</td>\n",
       "      <td>0</td>\n",
       "      <td>no_reserved_lane</td>\n",
       "      <td>dish</td>\n",
       "      <td>curve_right</td>\n",
       "      <td>0</td>\n",
       "      <td>0</td>\n",
       "      <td>dry</td>\n",
       "      <td>none</td>\n",
       "      <td>road</td>\n",
       "      <td>False</td>\n",
       "      <td>15</td>\n",
       "      <td>2016-02-01 15:00:00</td>\n",
       "      <td>Monday</td>\n",
       "      <td>False</td>\n",
       "      <td>True</td>\n",
       "      <td>False</td>\n",
       "    </tr>\n",
       "  </tbody>\n",
       "</table>\n",
       "</div>"
      ],
      "text/plain": [
       "         acc_id luminosity_lum built_up_agg intersection_type_int weather_atm  \\\n",
       "0  201600000001   lum_full_day         True   out_of_intersection      cloudy   \n",
       "\n",
       "  collision_type_col road_category_catr road_type_circ  lane_count_nbv  \\\n",
       "0      two_cars_side  departmental_road        two_way               0   \n",
       "\n",
       "  reserved_lane_type_vosp road_slope_prof road_curvature_plan  \\\n",
       "0        no_reserved_lane            dish         curve_right   \n",
       "\n",
       "   central_sep_width_lartpc  road_width_larrout surface_cond_surf  \\\n",
       "0                         0                   0               dry   \n",
       "\n",
       "  infrastructure_infra crash_location_situ  ped_present  hour  \\\n",
       "0                 none                road        False    15   \n",
       "\n",
       "                 date day_of_week  is_weekend  is_weekday  is_holiday  \n",
       "0 2016-02-01 15:00:00      Monday       False        True       False  "
      ]
     },
     "execution_count": 148,
     "metadata": {},
     "output_type": "execute_result"
    }
   ],
   "source": [
    "df_main.head(1)"
   ]
  },
  {
   "cell_type": "code",
   "execution_count": null,
   "id": "ab89935c-0970-4f99-b26c-5cca8b57b010",
   "metadata": {},
   "outputs": [],
   "source": []
  },
  {
   "cell_type": "code",
   "execution_count": null,
   "id": "1b153bbd-966f-4205-872e-cd91778abbda",
   "metadata": {},
   "outputs": [],
   "source": []
  },
  {
   "cell_type": "code",
   "execution_count": null,
   "id": "c728f6ff-324b-4c4b-bd6f-acee09dca48d",
   "metadata": {},
   "outputs": [],
   "source": []
  },
  {
   "cell_type": "markdown",
   "id": "a347172d-e783-440e-a1c4-1c567237120e",
   "metadata": {},
   "source": [
    "## Drop more columns\n",
    "Note to self to check later if these col drops can be moved earlier in the code without causing errors.\n",
    "\n",
    "- acc_id\n",
    "- collision_type_col\n",
    "    - would be useful if predicting severity of crash. Currently just interested in if specific location or conditions would have high crash probability\n",
    "- crash_location_situ\n",
    "    - post-crash info. would be potentially useful if predicting severity of crash."
   ]
  },
  {
   "cell_type": "code",
   "execution_count": null,
   "id": "32a9cb3e-68dc-4a35-9eed-0a19a1b2306a",
   "metadata": {},
   "outputs": [],
   "source": [
    "df_main.drop(columns=['acc_id', 'collision_type_col', 'crash_location_situ'], inplace=True)"
   ]
  },
  {
   "cell_type": "code",
   "execution_count": null,
   "id": "4d4aa6cb-306d-4640-b647-d8030383c07d",
   "metadata": {},
   "outputs": [],
   "source": [
    "df_main.columns"
   ]
  },
  {
   "cell_type": "code",
   "execution_count": null,
   "id": "67bf52d4-f40d-4fdd-bc36-d98c8d26fcce",
   "metadata": {},
   "outputs": [],
   "source": [
    "##reset index, mostly as a just-in-case. Looks fine from doing df.head(), just want to be sure\n",
    "df_main.reset_index(drop=True, inplace=True)"
   ]
  },
  {
   "cell_type": "code",
   "execution_count": null,
   "id": "272e9e04-888d-492a-ae20-62b126e02e61",
   "metadata": {},
   "outputs": [],
   "source": [
    "df_main.tail()"
   ]
  },
  {
   "cell_type": "markdown",
   "id": "1d311fef-4375-47bf-a1ef-60ae68c874ef",
   "metadata": {},
   "source": [
    "## A check before doing Full EDA"
   ]
  },
  {
   "cell_type": "code",
   "execution_count": null,
   "id": "ce58cce5-bef8-43e0-aecd-97ae0436a7c5",
   "metadata": {},
   "outputs": [],
   "source": [
    "df_main.head()"
   ]
  },
  {
   "cell_type": "code",
   "execution_count": null,
   "id": "5c38daa0-2c3c-46ea-905b-c492bfd74367",
   "metadata": {},
   "outputs": [],
   "source": [
    "df_main.info()"
   ]
  },
  {
   "cell_type": "code",
   "execution_count": null,
   "id": "39f1ab18-77c4-45dc-9dac-92a2cdbc78eb",
   "metadata": {},
   "outputs": [],
   "source": []
  },
  {
   "cell_type": "code",
   "execution_count": null,
   "id": "a7d964ff-c540-46b0-8a34-4e11a8247853",
   "metadata": {},
   "outputs": [],
   "source": []
  },
  {
   "cell_type": "code",
   "execution_count": null,
   "id": "8f8c417d-2452-43d2-86a5-a65d113272de",
   "metadata": {},
   "outputs": [],
   "source": []
  },
  {
   "cell_type": "markdown",
   "id": "eb2cadf2-55ed-46ab-b937-a06d23afcb92",
   "metadata": {},
   "source": [
    "# EDA"
   ]
  },
  {
   "cell_type": "markdown",
   "id": "21533e32-cbe8-4005-84f0-95ddd917e726",
   "metadata": {},
   "source": [
    "Hypotheses:\n",
    "- majority of crashes occur for:\n",
    "    - conditions:\n",
    "        - no light\n",
    "        - bad weather (heavy rain, storm)\n",
    "        - common slippery surface conditions (ice, snowy, wet)\n",
    "    - road types:\n",
    "        - built-up\n",
    "        - out_of_intersection\n",
    "        - Municipal road type\n",
    "        - two-way road\n",
    "        - "
   ]
  },
  {
   "cell_type": "code",
   "execution_count": null,
   "id": "3c754c32-cb2c-44e8-9e86-c00331ac3104",
   "metadata": {},
   "outputs": [],
   "source": []
  },
  {
   "cell_type": "code",
   "execution_count": null,
   "id": "1d117f7b-d4ec-4432-9d05-74aa43f438fd",
   "metadata": {},
   "outputs": [],
   "source": []
  },
  {
   "cell_type": "code",
   "execution_count": null,
   "id": "ebe7d8b8-2a39-4572-966e-7af242761821",
   "metadata": {},
   "outputs": [],
   "source": []
  },
  {
   "cell_type": "code",
   "execution_count": null,
   "id": "116dcbb0-f79a-4bab-b774-3dec5c1c763f",
   "metadata": {},
   "outputs": [],
   "source": []
  },
  {
   "cell_type": "markdown",
   "id": "a969df75-bebd-44c0-95dd-2e44150705bd",
   "metadata": {},
   "source": [
    "Note: Encode categorical features with pd.get_dummies in next notebook. Doing in this NB would make EDA more difficult."
   ]
  },
  {
   "cell_type": "code",
   "execution_count": null,
   "id": "74fa901a-f245-4d0f-9793-b3802a75d6ca",
   "metadata": {},
   "outputs": [],
   "source": []
  }
 ],
 "metadata": {
  "kernelspec": {
   "display_name": "Python 3 (ipykernel)",
   "language": "python",
   "name": "python3"
  },
  "language_info": {
   "codemirror_mode": {
    "name": "ipython",
    "version": 3
   },
   "file_extension": ".py",
   "mimetype": "text/x-python",
   "name": "python",
   "nbconvert_exporter": "python",
   "pygments_lexer": "ipython3",
   "version": "3.11.5"
  }
 },
 "nbformat": 4,
 "nbformat_minor": 5
}
